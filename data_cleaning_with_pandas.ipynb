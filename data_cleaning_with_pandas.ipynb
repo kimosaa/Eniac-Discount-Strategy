{
  "cells": [
    {
      "cell_type": "markdown",
      "metadata": {
        "id": "kYo4UvcCvkUs"
      },
      "source": [
        "# Data Cleaning with Pandas\n"
      ]
    },
    {
      "cell_type": "code",
      "execution_count": 1,
      "metadata": {
        "id": "FgRIdUs1vcZ8"
      },
      "outputs": [],
      "source": [
        "import pandas as pd"
      ]
    },
    {
      "cell_type": "code",
      "execution_count": null,
      "metadata": {
        "id": "_87JoNgVviOG"
      },
      "outputs": [],
      "source": [
        "# orders.csv\n",
        "# url = \"https://drive.google.com/file/d/1Vu0q91qZw6lqhIqbjoXYvYAQTmVHh6uZ/view?usp=sharing\"\n",
        "# path = \"https://drive.google.com/uc?export=download&id=\"+url.split(\"/\")[-2]\n",
        "# orders = pd.read_csv(path)\n",
        "\n",
        "# # orderlines.csv\n",
        "# url = \"https://drive.google.com/file/d/1FYhN_2AzTBFuWcfHaRuKcuCE6CWXsWtG/view?usp=sharing\"\n",
        "# path = \"https://drive.google.com/uc?export=download&id=\"+url.split(\"/\")[-2]\n",
        "# orderlines = pd.read_csv(path)"
      ]
    },
    {
      "cell_type": "code",
      "execution_count": 2,
      "metadata": {},
      "outputs": [],
      "source": [
        "orders = pd.read_csv('3_Data_Cleaning/data/orders.csv', parse_dates=['created_date'])"
      ]
    },
    {
      "cell_type": "code",
      "execution_count": 3,
      "metadata": {},
      "outputs": [],
      "source": [
        "orderlines = pd.read_csv('3_Data_Cleaning/data/orderlines.csv', parse_dates=['date'])"
      ]
    },
    {
      "cell_type": "markdown",
      "metadata": {
        "id": "esw86QhgnPXr"
      },
      "source": [
        "Before we begin, let's create a copy of the `orders` and `orderlines` DataFrames. This way we are sure any of our changes won't affect the original DataFrames"
      ]
    },
    {
      "cell_type": "code",
      "execution_count": 4,
      "metadata": {
        "id": "m7CSWUD4nPXr"
      },
      "outputs": [],
      "source": [
        "orders_df = orders.copy()"
      ]
    },
    {
      "cell_type": "code",
      "execution_count": 5,
      "metadata": {
        "id": "qHu5kTfCKnIk"
      },
      "outputs": [],
      "source": [
        "orderlines_df = orderlines.copy()"
      ]
    },
    {
      "cell_type": "code",
      "execution_count": 6,
      "metadata": {},
      "outputs": [
        {
          "data": {
            "application/vnd.microsoft.datawrangler.viewer.v0+json": {
              "columns": [
                {
                  "name": "index",
                  "rawType": "int64",
                  "type": "integer"
                },
                {
                  "name": "order_id",
                  "rawType": "int64",
                  "type": "integer"
                },
                {
                  "name": "created_date",
                  "rawType": "datetime64[ns]",
                  "type": "datetime"
                },
                {
                  "name": "total_paid",
                  "rawType": "float64",
                  "type": "float"
                },
                {
                  "name": "state",
                  "rawType": "object",
                  "type": "string"
                }
              ],
              "ref": "52684861-5370-4ba6-a4ae-8363ade53d60",
              "rows": [
                [
                  "156937",
                  "457161",
                  "2017-12-07 15:12:24",
                  "158.99",
                  "Completed"
                ],
                [
                  "132105",
                  "431747",
                  "2017-11-22 13:09:07",
                  "0.0",
                  "Shopping Basket"
                ],
                [
                  "74606",
                  "374152",
                  "2017-07-07 11:50:47",
                  "329.99",
                  "Shopping Basket"
                ],
                [
                  "152565",
                  "452768",
                  "2017-11-30 17:53:24",
                  "1123.0",
                  "Place Order"
                ],
                [
                  "116610",
                  "416196",
                  "2017-10-23 12:18:56",
                  "62.79",
                  "Shopping Basket"
                ],
                [
                  "26327",
                  "325807",
                  "2017-02-17 22:05:56",
                  "757.99",
                  "Shopping Basket"
                ],
                [
                  "78807",
                  "378355",
                  "2017-07-17 10:01:11",
                  "74.9",
                  "Place Order"
                ],
                [
                  "46727",
                  "346220",
                  "2017-04-14 21:52:32",
                  "63.99",
                  "Completed"
                ],
                [
                  "203967",
                  "504455",
                  "2018-02-02 14:02:44",
                  "6.99",
                  "Place Order"
                ],
                [
                  "162877",
                  "463164",
                  "2017-12-14 17:51:24",
                  "154.99",
                  "Place Order"
                ],
                [
                  "196995",
                  "497479",
                  "2018-01-24 04:51:18",
                  "2850.57",
                  "Shopping Basket"
                ],
                [
                  "64443",
                  "363988",
                  "2017-06-09 16:06:41",
                  "613.98",
                  "Shopping Basket"
                ],
                [
                  "45667",
                  "345160",
                  "2017-04-10 18:22:24",
                  "97.99",
                  "Place Order"
                ],
                [
                  "131704",
                  "431346",
                  "2017-11-22 09:36:09",
                  "3433.59",
                  "Shopping Basket"
                ],
                [
                  "143382",
                  "443475",
                  "2017-11-25 15:15:19",
                  "224.12",
                  "Shopping Basket"
                ],
                [
                  "18635",
                  "318115",
                  "2017-01-31 11:56:04",
                  "694.43",
                  "Place Order"
                ],
                [
                  "47312",
                  "346805",
                  "2017-04-17 21:10:04",
                  "164.99",
                  "Completed"
                ],
                [
                  "206303",
                  "506793",
                  "2018-02-06 12:53:23",
                  "1124.0",
                  "Shopping Basket"
                ],
                [
                  "100992",
                  "400577",
                  "2017-09-15 22:10:34",
                  "352.45",
                  "Pending"
                ],
                [
                  "174785",
                  "475173",
                  "2017-12-28 17:19:20",
                  "59.99",
                  "Place Order"
                ]
              ],
              "shape": {
                "columns": 4,
                "rows": 20
              }
            },
            "text/html": [
              "<div>\n",
              "<style scoped>\n",
              "    .dataframe tbody tr th:only-of-type {\n",
              "        vertical-align: middle;\n",
              "    }\n",
              "\n",
              "    .dataframe tbody tr th {\n",
              "        vertical-align: top;\n",
              "    }\n",
              "\n",
              "    .dataframe thead th {\n",
              "        text-align: right;\n",
              "    }\n",
              "</style>\n",
              "<table border=\"1\" class=\"dataframe\">\n",
              "  <thead>\n",
              "    <tr style=\"text-align: right;\">\n",
              "      <th></th>\n",
              "      <th>order_id</th>\n",
              "      <th>created_date</th>\n",
              "      <th>total_paid</th>\n",
              "      <th>state</th>\n",
              "    </tr>\n",
              "  </thead>\n",
              "  <tbody>\n",
              "    <tr>\n",
              "      <th>156937</th>\n",
              "      <td>457161</td>\n",
              "      <td>2017-12-07 15:12:24</td>\n",
              "      <td>158.99</td>\n",
              "      <td>Completed</td>\n",
              "    </tr>\n",
              "    <tr>\n",
              "      <th>132105</th>\n",
              "      <td>431747</td>\n",
              "      <td>2017-11-22 13:09:07</td>\n",
              "      <td>0.00</td>\n",
              "      <td>Shopping Basket</td>\n",
              "    </tr>\n",
              "    <tr>\n",
              "      <th>74606</th>\n",
              "      <td>374152</td>\n",
              "      <td>2017-07-07 11:50:47</td>\n",
              "      <td>329.99</td>\n",
              "      <td>Shopping Basket</td>\n",
              "    </tr>\n",
              "    <tr>\n",
              "      <th>152565</th>\n",
              "      <td>452768</td>\n",
              "      <td>2017-11-30 17:53:24</td>\n",
              "      <td>1123.00</td>\n",
              "      <td>Place Order</td>\n",
              "    </tr>\n",
              "    <tr>\n",
              "      <th>116610</th>\n",
              "      <td>416196</td>\n",
              "      <td>2017-10-23 12:18:56</td>\n",
              "      <td>62.79</td>\n",
              "      <td>Shopping Basket</td>\n",
              "    </tr>\n",
              "    <tr>\n",
              "      <th>26327</th>\n",
              "      <td>325807</td>\n",
              "      <td>2017-02-17 22:05:56</td>\n",
              "      <td>757.99</td>\n",
              "      <td>Shopping Basket</td>\n",
              "    </tr>\n",
              "    <tr>\n",
              "      <th>78807</th>\n",
              "      <td>378355</td>\n",
              "      <td>2017-07-17 10:01:11</td>\n",
              "      <td>74.90</td>\n",
              "      <td>Place Order</td>\n",
              "    </tr>\n",
              "    <tr>\n",
              "      <th>46727</th>\n",
              "      <td>346220</td>\n",
              "      <td>2017-04-14 21:52:32</td>\n",
              "      <td>63.99</td>\n",
              "      <td>Completed</td>\n",
              "    </tr>\n",
              "    <tr>\n",
              "      <th>203967</th>\n",
              "      <td>504455</td>\n",
              "      <td>2018-02-02 14:02:44</td>\n",
              "      <td>6.99</td>\n",
              "      <td>Place Order</td>\n",
              "    </tr>\n",
              "    <tr>\n",
              "      <th>162877</th>\n",
              "      <td>463164</td>\n",
              "      <td>2017-12-14 17:51:24</td>\n",
              "      <td>154.99</td>\n",
              "      <td>Place Order</td>\n",
              "    </tr>\n",
              "    <tr>\n",
              "      <th>196995</th>\n",
              "      <td>497479</td>\n",
              "      <td>2018-01-24 04:51:18</td>\n",
              "      <td>2850.57</td>\n",
              "      <td>Shopping Basket</td>\n",
              "    </tr>\n",
              "    <tr>\n",
              "      <th>64443</th>\n",
              "      <td>363988</td>\n",
              "      <td>2017-06-09 16:06:41</td>\n",
              "      <td>613.98</td>\n",
              "      <td>Shopping Basket</td>\n",
              "    </tr>\n",
              "    <tr>\n",
              "      <th>45667</th>\n",
              "      <td>345160</td>\n",
              "      <td>2017-04-10 18:22:24</td>\n",
              "      <td>97.99</td>\n",
              "      <td>Place Order</td>\n",
              "    </tr>\n",
              "    <tr>\n",
              "      <th>131704</th>\n",
              "      <td>431346</td>\n",
              "      <td>2017-11-22 09:36:09</td>\n",
              "      <td>3433.59</td>\n",
              "      <td>Shopping Basket</td>\n",
              "    </tr>\n",
              "    <tr>\n",
              "      <th>143382</th>\n",
              "      <td>443475</td>\n",
              "      <td>2017-11-25 15:15:19</td>\n",
              "      <td>224.12</td>\n",
              "      <td>Shopping Basket</td>\n",
              "    </tr>\n",
              "    <tr>\n",
              "      <th>18635</th>\n",
              "      <td>318115</td>\n",
              "      <td>2017-01-31 11:56:04</td>\n",
              "      <td>694.43</td>\n",
              "      <td>Place Order</td>\n",
              "    </tr>\n",
              "    <tr>\n",
              "      <th>47312</th>\n",
              "      <td>346805</td>\n",
              "      <td>2017-04-17 21:10:04</td>\n",
              "      <td>164.99</td>\n",
              "      <td>Completed</td>\n",
              "    </tr>\n",
              "    <tr>\n",
              "      <th>206303</th>\n",
              "      <td>506793</td>\n",
              "      <td>2018-02-06 12:53:23</td>\n",
              "      <td>1124.00</td>\n",
              "      <td>Shopping Basket</td>\n",
              "    </tr>\n",
              "    <tr>\n",
              "      <th>100992</th>\n",
              "      <td>400577</td>\n",
              "      <td>2017-09-15 22:10:34</td>\n",
              "      <td>352.45</td>\n",
              "      <td>Pending</td>\n",
              "    </tr>\n",
              "    <tr>\n",
              "      <th>174785</th>\n",
              "      <td>475173</td>\n",
              "      <td>2017-12-28 17:19:20</td>\n",
              "      <td>59.99</td>\n",
              "      <td>Place Order</td>\n",
              "    </tr>\n",
              "  </tbody>\n",
              "</table>\n",
              "</div>"
            ],
            "text/plain": [
              "        order_id        created_date  total_paid            state\n",
              "156937    457161 2017-12-07 15:12:24      158.99        Completed\n",
              "132105    431747 2017-11-22 13:09:07        0.00  Shopping Basket\n",
              "74606     374152 2017-07-07 11:50:47      329.99  Shopping Basket\n",
              "152565    452768 2017-11-30 17:53:24     1123.00      Place Order\n",
              "116610    416196 2017-10-23 12:18:56       62.79  Shopping Basket\n",
              "26327     325807 2017-02-17 22:05:56      757.99  Shopping Basket\n",
              "78807     378355 2017-07-17 10:01:11       74.90      Place Order\n",
              "46727     346220 2017-04-14 21:52:32       63.99        Completed\n",
              "203967    504455 2018-02-02 14:02:44        6.99      Place Order\n",
              "162877    463164 2017-12-14 17:51:24      154.99      Place Order\n",
              "196995    497479 2018-01-24 04:51:18     2850.57  Shopping Basket\n",
              "64443     363988 2017-06-09 16:06:41      613.98  Shopping Basket\n",
              "45667     345160 2017-04-10 18:22:24       97.99      Place Order\n",
              "131704    431346 2017-11-22 09:36:09     3433.59  Shopping Basket\n",
              "143382    443475 2017-11-25 15:15:19      224.12  Shopping Basket\n",
              "18635     318115 2017-01-31 11:56:04      694.43      Place Order\n",
              "47312     346805 2017-04-17 21:10:04      164.99        Completed\n",
              "206303    506793 2018-02-06 12:53:23     1124.00  Shopping Basket\n",
              "100992    400577 2017-09-15 22:10:34      352.45          Pending\n",
              "174785    475173 2017-12-28 17:19:20       59.99      Place Order"
            ]
          },
          "execution_count": 6,
          "metadata": {},
          "output_type": "execute_result"
        }
      ],
      "source": [
        "orders_df.sample(20)"
      ]
    },
    {
      "cell_type": "code",
      "execution_count": 7,
      "metadata": {},
      "outputs": [
        {
          "data": {
            "application/vnd.microsoft.datawrangler.viewer.v0+json": {
              "columns": [
                {
                  "name": "index",
                  "rawType": "int64",
                  "type": "integer"
                },
                {
                  "name": "id",
                  "rawType": "int64",
                  "type": "integer"
                },
                {
                  "name": "id_order",
                  "rawType": "int64",
                  "type": "integer"
                },
                {
                  "name": "product_id",
                  "rawType": "int64",
                  "type": "integer"
                },
                {
                  "name": "product_quantity",
                  "rawType": "int64",
                  "type": "integer"
                },
                {
                  "name": "sku",
                  "rawType": "object",
                  "type": "string"
                },
                {
                  "name": "unit_price",
                  "rawType": "object",
                  "type": "string"
                },
                {
                  "name": "date",
                  "rawType": "datetime64[ns]",
                  "type": "datetime"
                }
              ],
              "ref": "488541b2-9aba-44c5-8b57-2e21fefc8810",
              "rows": [
                [
                  "33389",
                  "1190732",
                  "328723",
                  "0",
                  "1",
                  "APP1669",
                  "39.99",
                  "2017-02-24 21:41:15"
                ],
                [
                  "145611",
                  "1404413",
                  "425318",
                  "0",
                  "1",
                  "APP1003",
                  "2.298.59",
                  "2017-11-11 15:47:46"
                ],
                [
                  "168144",
                  "1447683",
                  "443617",
                  "0",
                  "1",
                  "LGE0037",
                  "140.06",
                  "2017-11-25 17:17:06"
                ],
                [
                  "237255",
                  "1559656",
                  "490512",
                  "0",
                  "1",
                  "SEA0099",
                  "99.00",
                  "2018-01-14 14:07:36"
                ],
                [
                  "91258",
                  "1293841",
                  "377927",
                  "0",
                  "1",
                  "STA0021",
                  "6.99",
                  "2017-07-15 20:46:38"
                ],
                [
                  "162068",
                  "1437636",
                  "439308",
                  "0",
                  "1",
                  "APP1922",
                  "154.00",
                  "2017-11-24 14:12:33"
                ],
                [
                  "188217",
                  "1477230",
                  "455458",
                  "0",
                  "1",
                  "PAC2114",
                  "3.019.59",
                  "2017-12-05 05:15:07"
                ],
                [
                  "225976",
                  "1540730",
                  "483297",
                  "0",
                  "1",
                  "APP1937",
                  "1.278.59",
                  "2018-01-06 03:12:24"
                ],
                [
                  "106573",
                  "1321782",
                  "391264",
                  "0",
                  "1",
                  "APP1966",
                  "360.33",
                  "2017-08-21 15:55:58"
                ],
                [
                  "224793",
                  "1538886",
                  "482504",
                  "0",
                  "1",
                  "APP0663",
                  "199.00",
                  "2018-01-04 21:59:06"
                ],
                [
                  "258595",
                  "1594034",
                  "503468",
                  "0",
                  "1",
                  "PAC1942",
                  "4.074.59",
                  "2018-02-01 00:32:11"
                ],
                [
                  "18911",
                  "1162365",
                  "316206",
                  "0",
                  "1",
                  "TRA0034",
                  "29.90",
                  "2017-01-28 07:27:54"
                ],
                [
                  "8080",
                  "1140183",
                  "306934",
                  "0",
                  "1",
                  "ELE0007",
                  "26.90",
                  "2017-01-10 23:27:12"
                ],
                [
                  "22575",
                  "1170273",
                  "319442",
                  "0",
                  "1",
                  "THU0013",
                  "75.99",
                  "2017-02-03 08:41:20"
                ],
                [
                  "150559",
                  "1417665",
                  "429856",
                  "0",
                  "1",
                  "MUJ0033",
                  "32.29",
                  "2017-11-21 01:05:29"
                ],
                [
                  "32514",
                  "1189022",
                  "327932",
                  "0",
                  "1",
                  "MAC0121",
                  "7.99",
                  "2017-02-23 10:14:37"
                ],
                [
                  "132924",
                  "1381536",
                  "414231",
                  "0",
                  "1",
                  "CRU0050",
                  "91.58",
                  "2017-10-18 23:07:40"
                ],
                [
                  "253891",
                  "1586115",
                  "500672",
                  "0",
                  "1",
                  "MIC0036",
                  "64.99",
                  "2018-01-29 06:04:20"
                ],
                [
                  "281409",
                  "1631182",
                  "519281",
                  "0",
                  "1",
                  "APP2486",
                  "1.067.00",
                  "2018-03-01 09:07:23"
                ],
                [
                  "108807",
                  "1325780",
                  "393223",
                  "0",
                  "1",
                  "SSE0007",
                  "25.99",
                  "2017-08-28 00:24:18"
                ]
              ],
              "shape": {
                "columns": 7,
                "rows": 20
              }
            },
            "text/html": [
              "<div>\n",
              "<style scoped>\n",
              "    .dataframe tbody tr th:only-of-type {\n",
              "        vertical-align: middle;\n",
              "    }\n",
              "\n",
              "    .dataframe tbody tr th {\n",
              "        vertical-align: top;\n",
              "    }\n",
              "\n",
              "    .dataframe thead th {\n",
              "        text-align: right;\n",
              "    }\n",
              "</style>\n",
              "<table border=\"1\" class=\"dataframe\">\n",
              "  <thead>\n",
              "    <tr style=\"text-align: right;\">\n",
              "      <th></th>\n",
              "      <th>id</th>\n",
              "      <th>id_order</th>\n",
              "      <th>product_id</th>\n",
              "      <th>product_quantity</th>\n",
              "      <th>sku</th>\n",
              "      <th>unit_price</th>\n",
              "      <th>date</th>\n",
              "    </tr>\n",
              "  </thead>\n",
              "  <tbody>\n",
              "    <tr>\n",
              "      <th>33389</th>\n",
              "      <td>1190732</td>\n",
              "      <td>328723</td>\n",
              "      <td>0</td>\n",
              "      <td>1</td>\n",
              "      <td>APP1669</td>\n",
              "      <td>39.99</td>\n",
              "      <td>2017-02-24 21:41:15</td>\n",
              "    </tr>\n",
              "    <tr>\n",
              "      <th>145611</th>\n",
              "      <td>1404413</td>\n",
              "      <td>425318</td>\n",
              "      <td>0</td>\n",
              "      <td>1</td>\n",
              "      <td>APP1003</td>\n",
              "      <td>2.298.59</td>\n",
              "      <td>2017-11-11 15:47:46</td>\n",
              "    </tr>\n",
              "    <tr>\n",
              "      <th>168144</th>\n",
              "      <td>1447683</td>\n",
              "      <td>443617</td>\n",
              "      <td>0</td>\n",
              "      <td>1</td>\n",
              "      <td>LGE0037</td>\n",
              "      <td>140.06</td>\n",
              "      <td>2017-11-25 17:17:06</td>\n",
              "    </tr>\n",
              "    <tr>\n",
              "      <th>237255</th>\n",
              "      <td>1559656</td>\n",
              "      <td>490512</td>\n",
              "      <td>0</td>\n",
              "      <td>1</td>\n",
              "      <td>SEA0099</td>\n",
              "      <td>99.00</td>\n",
              "      <td>2018-01-14 14:07:36</td>\n",
              "    </tr>\n",
              "    <tr>\n",
              "      <th>91258</th>\n",
              "      <td>1293841</td>\n",
              "      <td>377927</td>\n",
              "      <td>0</td>\n",
              "      <td>1</td>\n",
              "      <td>STA0021</td>\n",
              "      <td>6.99</td>\n",
              "      <td>2017-07-15 20:46:38</td>\n",
              "    </tr>\n",
              "    <tr>\n",
              "      <th>162068</th>\n",
              "      <td>1437636</td>\n",
              "      <td>439308</td>\n",
              "      <td>0</td>\n",
              "      <td>1</td>\n",
              "      <td>APP1922</td>\n",
              "      <td>154.00</td>\n",
              "      <td>2017-11-24 14:12:33</td>\n",
              "    </tr>\n",
              "    <tr>\n",
              "      <th>188217</th>\n",
              "      <td>1477230</td>\n",
              "      <td>455458</td>\n",
              "      <td>0</td>\n",
              "      <td>1</td>\n",
              "      <td>PAC2114</td>\n",
              "      <td>3.019.59</td>\n",
              "      <td>2017-12-05 05:15:07</td>\n",
              "    </tr>\n",
              "    <tr>\n",
              "      <th>225976</th>\n",
              "      <td>1540730</td>\n",
              "      <td>483297</td>\n",
              "      <td>0</td>\n",
              "      <td>1</td>\n",
              "      <td>APP1937</td>\n",
              "      <td>1.278.59</td>\n",
              "      <td>2018-01-06 03:12:24</td>\n",
              "    </tr>\n",
              "    <tr>\n",
              "      <th>106573</th>\n",
              "      <td>1321782</td>\n",
              "      <td>391264</td>\n",
              "      <td>0</td>\n",
              "      <td>1</td>\n",
              "      <td>APP1966</td>\n",
              "      <td>360.33</td>\n",
              "      <td>2017-08-21 15:55:58</td>\n",
              "    </tr>\n",
              "    <tr>\n",
              "      <th>224793</th>\n",
              "      <td>1538886</td>\n",
              "      <td>482504</td>\n",
              "      <td>0</td>\n",
              "      <td>1</td>\n",
              "      <td>APP0663</td>\n",
              "      <td>199.00</td>\n",
              "      <td>2018-01-04 21:59:06</td>\n",
              "    </tr>\n",
              "    <tr>\n",
              "      <th>258595</th>\n",
              "      <td>1594034</td>\n",
              "      <td>503468</td>\n",
              "      <td>0</td>\n",
              "      <td>1</td>\n",
              "      <td>PAC1942</td>\n",
              "      <td>4.074.59</td>\n",
              "      <td>2018-02-01 00:32:11</td>\n",
              "    </tr>\n",
              "    <tr>\n",
              "      <th>18911</th>\n",
              "      <td>1162365</td>\n",
              "      <td>316206</td>\n",
              "      <td>0</td>\n",
              "      <td>1</td>\n",
              "      <td>TRA0034</td>\n",
              "      <td>29.90</td>\n",
              "      <td>2017-01-28 07:27:54</td>\n",
              "    </tr>\n",
              "    <tr>\n",
              "      <th>8080</th>\n",
              "      <td>1140183</td>\n",
              "      <td>306934</td>\n",
              "      <td>0</td>\n",
              "      <td>1</td>\n",
              "      <td>ELE0007</td>\n",
              "      <td>26.90</td>\n",
              "      <td>2017-01-10 23:27:12</td>\n",
              "    </tr>\n",
              "    <tr>\n",
              "      <th>22575</th>\n",
              "      <td>1170273</td>\n",
              "      <td>319442</td>\n",
              "      <td>0</td>\n",
              "      <td>1</td>\n",
              "      <td>THU0013</td>\n",
              "      <td>75.99</td>\n",
              "      <td>2017-02-03 08:41:20</td>\n",
              "    </tr>\n",
              "    <tr>\n",
              "      <th>150559</th>\n",
              "      <td>1417665</td>\n",
              "      <td>429856</td>\n",
              "      <td>0</td>\n",
              "      <td>1</td>\n",
              "      <td>MUJ0033</td>\n",
              "      <td>32.29</td>\n",
              "      <td>2017-11-21 01:05:29</td>\n",
              "    </tr>\n",
              "    <tr>\n",
              "      <th>32514</th>\n",
              "      <td>1189022</td>\n",
              "      <td>327932</td>\n",
              "      <td>0</td>\n",
              "      <td>1</td>\n",
              "      <td>MAC0121</td>\n",
              "      <td>7.99</td>\n",
              "      <td>2017-02-23 10:14:37</td>\n",
              "    </tr>\n",
              "    <tr>\n",
              "      <th>132924</th>\n",
              "      <td>1381536</td>\n",
              "      <td>414231</td>\n",
              "      <td>0</td>\n",
              "      <td>1</td>\n",
              "      <td>CRU0050</td>\n",
              "      <td>91.58</td>\n",
              "      <td>2017-10-18 23:07:40</td>\n",
              "    </tr>\n",
              "    <tr>\n",
              "      <th>253891</th>\n",
              "      <td>1586115</td>\n",
              "      <td>500672</td>\n",
              "      <td>0</td>\n",
              "      <td>1</td>\n",
              "      <td>MIC0036</td>\n",
              "      <td>64.99</td>\n",
              "      <td>2018-01-29 06:04:20</td>\n",
              "    </tr>\n",
              "    <tr>\n",
              "      <th>281409</th>\n",
              "      <td>1631182</td>\n",
              "      <td>519281</td>\n",
              "      <td>0</td>\n",
              "      <td>1</td>\n",
              "      <td>APP2486</td>\n",
              "      <td>1.067.00</td>\n",
              "      <td>2018-03-01 09:07:23</td>\n",
              "    </tr>\n",
              "    <tr>\n",
              "      <th>108807</th>\n",
              "      <td>1325780</td>\n",
              "      <td>393223</td>\n",
              "      <td>0</td>\n",
              "      <td>1</td>\n",
              "      <td>SSE0007</td>\n",
              "      <td>25.99</td>\n",
              "      <td>2017-08-28 00:24:18</td>\n",
              "    </tr>\n",
              "  </tbody>\n",
              "</table>\n",
              "</div>"
            ],
            "text/plain": [
              "             id  id_order  product_id  product_quantity      sku unit_price  \\\n",
              "33389   1190732    328723           0                 1  APP1669      39.99   \n",
              "145611  1404413    425318           0                 1  APP1003   2.298.59   \n",
              "168144  1447683    443617           0                 1  LGE0037     140.06   \n",
              "237255  1559656    490512           0                 1  SEA0099      99.00   \n",
              "91258   1293841    377927           0                 1  STA0021       6.99   \n",
              "162068  1437636    439308           0                 1  APP1922     154.00   \n",
              "188217  1477230    455458           0                 1  PAC2114   3.019.59   \n",
              "225976  1540730    483297           0                 1  APP1937   1.278.59   \n",
              "106573  1321782    391264           0                 1  APP1966     360.33   \n",
              "224793  1538886    482504           0                 1  APP0663     199.00   \n",
              "258595  1594034    503468           0                 1  PAC1942   4.074.59   \n",
              "18911   1162365    316206           0                 1  TRA0034      29.90   \n",
              "8080    1140183    306934           0                 1  ELE0007      26.90   \n",
              "22575   1170273    319442           0                 1  THU0013      75.99   \n",
              "150559  1417665    429856           0                 1  MUJ0033      32.29   \n",
              "32514   1189022    327932           0                 1  MAC0121       7.99   \n",
              "132924  1381536    414231           0                 1  CRU0050      91.58   \n",
              "253891  1586115    500672           0                 1  MIC0036      64.99   \n",
              "281409  1631182    519281           0                 1  APP2486   1.067.00   \n",
              "108807  1325780    393223           0                 1  SSE0007      25.99   \n",
              "\n",
              "                      date  \n",
              "33389  2017-02-24 21:41:15  \n",
              "145611 2017-11-11 15:47:46  \n",
              "168144 2017-11-25 17:17:06  \n",
              "237255 2018-01-14 14:07:36  \n",
              "91258  2017-07-15 20:46:38  \n",
              "162068 2017-11-24 14:12:33  \n",
              "188217 2017-12-05 05:15:07  \n",
              "225976 2018-01-06 03:12:24  \n",
              "106573 2017-08-21 15:55:58  \n",
              "224793 2018-01-04 21:59:06  \n",
              "258595 2018-02-01 00:32:11  \n",
              "18911  2017-01-28 07:27:54  \n",
              "8080   2017-01-10 23:27:12  \n",
              "22575  2017-02-03 08:41:20  \n",
              "150559 2017-11-21 01:05:29  \n",
              "32514  2017-02-23 10:14:37  \n",
              "132924 2017-10-18 23:07:40  \n",
              "253891 2018-01-29 06:04:20  \n",
              "281409 2018-03-01 09:07:23  \n",
              "108807 2017-08-28 00:24:18  "
            ]
          },
          "execution_count": 7,
          "metadata": {},
          "output_type": "execute_result"
        }
      ],
      "source": [
        "orderlines_df.sample(20)"
      ]
    },
    {
      "cell_type": "markdown",
      "metadata": {
        "id": "036ciQ6rwBJm"
      },
      "source": [
        "## 1.&nbsp; Duplicates\n",
        "We can check for duplicates using the pandas [.duplicated()](https://pandas.pydata.org/docs/reference/api/pandas.DataFrame.duplicated.html) method.\n",
        "\n",
        "We can then delete these rows, if we wish, using [.drop_duplicates()](https://pandas.pydata.org/docs/reference/api/pandas.DataFrame.drop_duplicates.html)"
      ]
    },
    {
      "cell_type": "markdown",
      "metadata": {},
      "source": [
        "## 1.1 Orders"
      ]
    },
    {
      "cell_type": "code",
      "execution_count": 8,
      "metadata": {
        "colab": {
          "base_uri": "https://localhost:8080/"
        },
        "id": "6dVkoUu7wC-b",
        "outputId": "d24007d4-ee04-4c3c-c617-df405a78c722"
      },
      "outputs": [
        {
          "data": {
            "text/plain": [
              "np.int64(0)"
            ]
          },
          "execution_count": 8,
          "metadata": {},
          "output_type": "execute_result"
        }
      ],
      "source": [
        "# orders_df\n",
        "orders_df.duplicated().sum()"
      ]
    },
    {
      "cell_type": "code",
      "execution_count": 9,
      "metadata": {},
      "outputs": [
        {
          "data": {
            "text/plain": [
              "np.int64(0)"
            ]
          },
          "execution_count": 9,
          "metadata": {},
          "output_type": "execute_result"
        }
      ],
      "source": [
        "# Checking for duplicates in the key column (('order_id'))\n",
        "orders_df.duplicated(subset='order_id').sum()"
      ]
    },
    {
      "cell_type": "markdown",
      "metadata": {},
      "source": [
        "No duplicated rows or keys found in the \"orders\" dataframe."
      ]
    },
    {
      "cell_type": "markdown",
      "metadata": {},
      "source": [
        "## 1.2 Orderlines"
      ]
    },
    {
      "cell_type": "code",
      "execution_count": 10,
      "metadata": {
        "colab": {
          "base_uri": "https://localhost:8080/"
        },
        "id": "iaeAQB_3whli",
        "outputId": "a108eb84-4f92-41d9-eef5-3759a2f272f7"
      },
      "outputs": [
        {
          "data": {
            "text/plain": [
              "np.int64(0)"
            ]
          },
          "execution_count": 10,
          "metadata": {},
          "output_type": "execute_result"
        }
      ],
      "source": [
        "# orderlines_df\n",
        "orderlines_df.duplicated().sum()"
      ]
    },
    {
      "cell_type": "code",
      "execution_count": 11,
      "metadata": {},
      "outputs": [
        {
          "data": {
            "text/plain": [
              "np.int64(0)"
            ]
          },
          "execution_count": 11,
          "metadata": {},
          "output_type": "execute_result"
        }
      ],
      "source": [
        "# Checking for duplicates in the key column ('id')\n",
        "orderlines_df.duplicated(subset='id').sum()"
      ]
    },
    {
      "cell_type": "code",
      "execution_count": 12,
      "metadata": {},
      "outputs": [
        {
          "data": {
            "text/plain": [
              "np.int64(0)"
            ]
          },
          "execution_count": 12,
          "metadata": {},
          "output_type": "execute_result"
        }
      ],
      "source": [
        "# Checking for duplicates in the key column\n",
        "orderlines_df.duplicated(subset=['id', 'id_order']).sum()"
      ]
    },
    {
      "cell_type": "markdown",
      "metadata": {},
      "source": [
        "No duplicated rows or keys found in the \"orderlines\" dataframe."
      ]
    },
    {
      "cell_type": "code",
      "execution_count": 13,
      "metadata": {},
      "outputs": [
        {
          "data": {
            "text/plain": [
              "np.int64(89128)"
            ]
          },
          "execution_count": 13,
          "metadata": {},
          "output_type": "execute_result"
        }
      ],
      "source": [
        "# Checking for duplicates in the foreign key column ('id_order')\n",
        "orderlines_df.duplicated(subset=['id_order']).sum()"
      ]
    },
    {
      "cell_type": "code",
      "execution_count": 14,
      "metadata": {},
      "outputs": [
        {
          "data": {
            "application/vnd.microsoft.datawrangler.viewer.v0+json": {
              "columns": [
                {
                  "name": "index",
                  "rawType": "int64",
                  "type": "integer"
                },
                {
                  "name": "id",
                  "rawType": "int64",
                  "type": "integer"
                },
                {
                  "name": "id_order",
                  "rawType": "int64",
                  "type": "integer"
                },
                {
                  "name": "product_id",
                  "rawType": "int64",
                  "type": "integer"
                },
                {
                  "name": "product_quantity",
                  "rawType": "int64",
                  "type": "integer"
                },
                {
                  "name": "sku",
                  "rawType": "object",
                  "type": "string"
                },
                {
                  "name": "unit_price",
                  "rawType": "object",
                  "type": "string"
                },
                {
                  "name": "date",
                  "rawType": "datetime64[ns]",
                  "type": "datetime"
                }
              ],
              "ref": "a9145954-cd26-43c5-be3b-4330b99aa784",
              "rows": [
                [
                  "13",
                  "1119129",
                  "299552",
                  "0",
                  "1",
                  "MBI0010",
                  "16.99",
                  "2017-01-01 02:13:51"
                ],
                [
                  "14",
                  "1119130",
                  "299552",
                  "0",
                  "1",
                  "SAT0044",
                  "19.99",
                  "2017-01-01 02:14:36"
                ],
                [
                  "21",
                  "1119140",
                  "299559",
                  "0",
                  "1",
                  "APP0700",
                  "72.19",
                  "2017-01-01 02:32:22"
                ],
                [
                  "22",
                  "1119143",
                  "299559",
                  "0",
                  "1",
                  "APP1214",
                  "84.99",
                  "2017-01-01 02:36:43"
                ],
                [
                  "33",
                  "1119181",
                  "299571",
                  "0",
                  "1",
                  "SYN0139",
                  "166.24",
                  "2017-01-01 04:00:44"
                ],
                [
                  "44",
                  "1119196",
                  "299583",
                  "0",
                  "1",
                  "APP1648",
                  "879.00",
                  "2017-01-01 08:54:20"
                ],
                [
                  "45",
                  "1119198",
                  "299583",
                  "0",
                  "1",
                  "BEL0275",
                  "16.99",
                  "2017-01-01 08:58:33"
                ],
                [
                  "46",
                  "1119199",
                  "299583",
                  "0",
                  "1",
                  "BEL0286",
                  "17.99",
                  "2017-01-01 09:00:26"
                ],
                [
                  "59",
                  "1119214",
                  "299596",
                  "0",
                  "1",
                  "PAC1599",
                  "2.873.99",
                  "2017-01-01 09:53:11"
                ],
                [
                  "61",
                  "1119216",
                  "299596",
                  "0",
                  "1",
                  "PAC1044",
                  "2.780.99",
                  "2017-01-01 09:55:45"
                ],
                [
                  "63",
                  "1119218",
                  "296284",
                  "0",
                  "1",
                  "BNQ0042",
                  "699.00",
                  "2017-01-01 09:58:35"
                ],
                [
                  "64",
                  "1119219",
                  "299596",
                  "0",
                  "1",
                  "PAC1583",
                  "2.316.99",
                  "2017-01-01 10:00:17"
                ],
                [
                  "67",
                  "1119223",
                  "294806",
                  "0",
                  "1",
                  "APP1849",
                  "2.558.99",
                  "2017-01-01 10:09:15"
                ],
                [
                  "69",
                  "1119226",
                  "294806",
                  "0",
                  "1",
                  "APP1864",
                  "2.797.99",
                  "2017-01-01 10:15:14"
                ],
                [
                  "73",
                  "1119244",
                  "299600",
                  "0",
                  "1",
                  "APP0410",
                  "33.25",
                  "2017-01-01 10:28:59"
                ],
                [
                  "74",
                  "1119245",
                  "299600",
                  "0",
                  "1",
                  "LAC0205",
                  "246.99",
                  "2017-01-01 10:29:36"
                ],
                [
                  "75",
                  "1119247",
                  "299600",
                  "0",
                  "1",
                  "DLK0078",
                  "28.41",
                  "2017-01-01 10:38:35"
                ],
                [
                  "77",
                  "1119251",
                  "296284",
                  "0",
                  "2",
                  "OWC0007",
                  "39.99",
                  "2017-01-01 10:41:53"
                ],
                [
                  "81",
                  "1119255",
                  "299610",
                  "0",
                  "1",
                  "APP0023",
                  "55.99",
                  "2017-01-01 10:52:42"
                ],
                [
                  "82",
                  "1119256",
                  "299600",
                  "0",
                  "1",
                  "PAC0492",
                  "4.260.99",
                  "2017-01-01 10:52:44"
                ],
                [
                  "83",
                  "1119257",
                  "299610",
                  "0",
                  "1",
                  "APP1214",
                  "84.99",
                  "2017-01-01 10:53:10"
                ],
                [
                  "86",
                  "1119262",
                  "299600",
                  "0",
                  "2",
                  "BEL0229",
                  "18.99",
                  "2017-01-01 10:55:02"
                ],
                [
                  "88",
                  "1119264",
                  "296284",
                  "0",
                  "1",
                  "OTR0045",
                  "29.99",
                  "2017-01-01 10:57:18"
                ],
                [
                  "90",
                  "1119270",
                  "299615",
                  "0",
                  "1",
                  "APP0698",
                  "14.99",
                  "2017-01-01 10:59:24"
                ],
                [
                  "91",
                  "1119272",
                  "299615",
                  "0",
                  "1",
                  "APP0464",
                  "23.75",
                  "2017-01-01 11:00:18"
                ],
                [
                  "92",
                  "1119274",
                  "299616",
                  "0",
                  "1",
                  "PAC1427",
                  "597.54",
                  "2017-01-01 11:05:15"
                ],
                [
                  "93",
                  "1119275",
                  "299616",
                  "0",
                  "2",
                  "WDT0141",
                  "107.34",
                  "2017-01-01 11:05:56"
                ],
                [
                  "107",
                  "1119296",
                  "298391",
                  "0",
                  "1",
                  "PAC1594",
                  "2.769.99",
                  "2017-01-01 11:41:04"
                ],
                [
                  "109",
                  "1119299",
                  "298391",
                  "0",
                  "1",
                  "APP0662",
                  "149.99",
                  "2017-01-01 11:41:58"
                ],
                [
                  "112",
                  "1119305",
                  "299633",
                  "0",
                  "1",
                  "BEL0192",
                  "9.49",
                  "2017-01-01 11:49:19"
                ],
                [
                  "113",
                  "1119306",
                  "299634",
                  "0",
                  "1",
                  "SYN0146",
                  "369.54",
                  "2017-01-01 11:50:06"
                ],
                [
                  "117",
                  "1119316",
                  "299638",
                  "0",
                  "1",
                  "SYN0127",
                  "223.24",
                  "2017-01-01 11:56:18"
                ],
                [
                  "118",
                  "1119317",
                  "298750",
                  "0",
                  "1",
                  "SYN0098",
                  "86.44",
                  "2017-01-01 11:56:38"
                ],
                [
                  "119",
                  "1119318",
                  "299638",
                  "0",
                  "1",
                  "WDT0183",
                  "151.99",
                  "2017-01-01 11:56:50"
                ],
                [
                  "120",
                  "1119321",
                  "298750",
                  "0",
                  "1",
                  "WDT0140",
                  "87.39",
                  "2017-01-01 11:57:44"
                ],
                [
                  "121",
                  "1119325",
                  "299571",
                  "0",
                  "1",
                  "WDT0183",
                  "151.99",
                  "2017-01-01 12:00:57"
                ],
                [
                  "122",
                  "1119326",
                  "299634",
                  "0",
                  "3",
                  "WDT0183",
                  "151.99",
                  "2017-01-01 12:01:01"
                ],
                [
                  "129",
                  "1119343",
                  "299644",
                  "0",
                  "1",
                  "TRK0011",
                  "54.99",
                  "2017-01-01 12:17:27"
                ],
                [
                  "136",
                  "1119355",
                  "299654",
                  "0",
                  "1",
                  "DLK0029",
                  "146.29",
                  "2017-01-01 12:26:53"
                ],
                [
                  "138",
                  "1119361",
                  "299654",
                  "0",
                  "1",
                  "BEL0266",
                  "23.74",
                  "2017-01-01 12:28:34"
                ],
                [
                  "139",
                  "1119363",
                  "299655",
                  "0",
                  "1",
                  "WAC0191",
                  "161.49",
                  "2017-01-01 12:29:49"
                ],
                [
                  "141",
                  "1119365",
                  "299644",
                  "0",
                  "1",
                  "TRK0010",
                  "29.99",
                  "2017-01-01 12:31:21"
                ],
                [
                  "143",
                  "1119367",
                  "299655",
                  "0",
                  "1",
                  "WAC0040",
                  "35.14",
                  "2017-01-01 12:31:41"
                ],
                [
                  "150",
                  "1119383",
                  "299633",
                  "0",
                  "1",
                  "OTT0139",
                  "21.84",
                  "2017-01-01 12:41:52"
                ],
                [
                  "156",
                  "1119394",
                  "299654",
                  "0",
                  "1",
                  "KIN0137",
                  "5.69",
                  "2017-01-01 12:47:10"
                ],
                [
                  "165",
                  "1119415",
                  "299680",
                  "0",
                  "1",
                  "LAC0184",
                  "161.49",
                  "2017-01-01 13:05:36"
                ],
                [
                  "166",
                  "1119419",
                  "299681",
                  "0",
                  "1",
                  "SPE0161",
                  "35.14",
                  "2017-01-01 13:07:07"
                ],
                [
                  "167",
                  "1119420",
                  "299680",
                  "0",
                  "1",
                  "SAN0099",
                  "42.74",
                  "2017-01-01 13:07:32"
                ],
                [
                  "168",
                  "1119421",
                  "299680",
                  "0",
                  "1",
                  "APP1648",
                  "879.00",
                  "2017-01-01 13:08:50"
                ],
                [
                  "169",
                  "1119422",
                  "299681",
                  "0",
                  "1",
                  "APP0701",
                  "69.34",
                  "2017-01-01 13:09:14"
                ]
              ],
              "shape": {
                "columns": 7,
                "rows": 137842
              }
            },
            "text/html": [
              "<div>\n",
              "<style scoped>\n",
              "    .dataframe tbody tr th:only-of-type {\n",
              "        vertical-align: middle;\n",
              "    }\n",
              "\n",
              "    .dataframe tbody tr th {\n",
              "        vertical-align: top;\n",
              "    }\n",
              "\n",
              "    .dataframe thead th {\n",
              "        text-align: right;\n",
              "    }\n",
              "</style>\n",
              "<table border=\"1\" class=\"dataframe\">\n",
              "  <thead>\n",
              "    <tr style=\"text-align: right;\">\n",
              "      <th></th>\n",
              "      <th>id</th>\n",
              "      <th>id_order</th>\n",
              "      <th>product_id</th>\n",
              "      <th>product_quantity</th>\n",
              "      <th>sku</th>\n",
              "      <th>unit_price</th>\n",
              "      <th>date</th>\n",
              "    </tr>\n",
              "  </thead>\n",
              "  <tbody>\n",
              "    <tr>\n",
              "      <th>13</th>\n",
              "      <td>1119129</td>\n",
              "      <td>299552</td>\n",
              "      <td>0</td>\n",
              "      <td>1</td>\n",
              "      <td>MBI0010</td>\n",
              "      <td>16.99</td>\n",
              "      <td>2017-01-01 02:13:51</td>\n",
              "    </tr>\n",
              "    <tr>\n",
              "      <th>14</th>\n",
              "      <td>1119130</td>\n",
              "      <td>299552</td>\n",
              "      <td>0</td>\n",
              "      <td>1</td>\n",
              "      <td>SAT0044</td>\n",
              "      <td>19.99</td>\n",
              "      <td>2017-01-01 02:14:36</td>\n",
              "    </tr>\n",
              "    <tr>\n",
              "      <th>21</th>\n",
              "      <td>1119140</td>\n",
              "      <td>299559</td>\n",
              "      <td>0</td>\n",
              "      <td>1</td>\n",
              "      <td>APP0700</td>\n",
              "      <td>72.19</td>\n",
              "      <td>2017-01-01 02:32:22</td>\n",
              "    </tr>\n",
              "    <tr>\n",
              "      <th>22</th>\n",
              "      <td>1119143</td>\n",
              "      <td>299559</td>\n",
              "      <td>0</td>\n",
              "      <td>1</td>\n",
              "      <td>APP1214</td>\n",
              "      <td>84.99</td>\n",
              "      <td>2017-01-01 02:36:43</td>\n",
              "    </tr>\n",
              "    <tr>\n",
              "      <th>33</th>\n",
              "      <td>1119181</td>\n",
              "      <td>299571</td>\n",
              "      <td>0</td>\n",
              "      <td>1</td>\n",
              "      <td>SYN0139</td>\n",
              "      <td>166.24</td>\n",
              "      <td>2017-01-01 04:00:44</td>\n",
              "    </tr>\n",
              "    <tr>\n",
              "      <th>...</th>\n",
              "      <td>...</td>\n",
              "      <td>...</td>\n",
              "      <td>...</td>\n",
              "      <td>...</td>\n",
              "      <td>...</td>\n",
              "      <td>...</td>\n",
              "      <td>...</td>\n",
              "    </tr>\n",
              "    <tr>\n",
              "      <th>293954</th>\n",
              "      <td>1650162</td>\n",
              "      <td>527369</td>\n",
              "      <td>0</td>\n",
              "      <td>1</td>\n",
              "      <td>BEL0307</td>\n",
              "      <td>27.99</td>\n",
              "      <td>2018-03-14 13:42:41</td>\n",
              "    </tr>\n",
              "    <tr>\n",
              "      <th>293956</th>\n",
              "      <td>1650166</td>\n",
              "      <td>527377</td>\n",
              "      <td>0</td>\n",
              "      <td>1</td>\n",
              "      <td>APP0698</td>\n",
              "      <td>9.99</td>\n",
              "      <td>2018-03-14 13:43:47</td>\n",
              "    </tr>\n",
              "    <tr>\n",
              "      <th>293957</th>\n",
              "      <td>1650168</td>\n",
              "      <td>527377</td>\n",
              "      <td>0</td>\n",
              "      <td>1</td>\n",
              "      <td>APP2501</td>\n",
              "      <td>391.00</td>\n",
              "      <td>2018-03-14 13:44:27</td>\n",
              "    </tr>\n",
              "    <tr>\n",
              "      <th>293966</th>\n",
              "      <td>1650183</td>\n",
              "      <td>527388</td>\n",
              "      <td>0</td>\n",
              "      <td>1</td>\n",
              "      <td>TPL0025</td>\n",
              "      <td>14.99</td>\n",
              "      <td>2018-03-14 13:51:59</td>\n",
              "    </tr>\n",
              "    <tr>\n",
              "      <th>293981</th>\n",
              "      <td>1650202</td>\n",
              "      <td>527388</td>\n",
              "      <td>0</td>\n",
              "      <td>1</td>\n",
              "      <td>BEZ0204</td>\n",
              "      <td>19.99</td>\n",
              "      <td>2018-03-14 13:58:01</td>\n",
              "    </tr>\n",
              "  </tbody>\n",
              "</table>\n",
              "<p>137842 rows × 7 columns</p>\n",
              "</div>"
            ],
            "text/plain": [
              "             id  id_order  product_id  product_quantity      sku unit_price  \\\n",
              "13      1119129    299552           0                 1  MBI0010      16.99   \n",
              "14      1119130    299552           0                 1  SAT0044      19.99   \n",
              "21      1119140    299559           0                 1  APP0700      72.19   \n",
              "22      1119143    299559           0                 1  APP1214      84.99   \n",
              "33      1119181    299571           0                 1  SYN0139     166.24   \n",
              "...         ...       ...         ...               ...      ...        ...   \n",
              "293954  1650162    527369           0                 1  BEL0307      27.99   \n",
              "293956  1650166    527377           0                 1  APP0698       9.99   \n",
              "293957  1650168    527377           0                 1  APP2501     391.00   \n",
              "293966  1650183    527388           0                 1  TPL0025      14.99   \n",
              "293981  1650202    527388           0                 1  BEZ0204      19.99   \n",
              "\n",
              "                      date  \n",
              "13     2017-01-01 02:13:51  \n",
              "14     2017-01-01 02:14:36  \n",
              "21     2017-01-01 02:32:22  \n",
              "22     2017-01-01 02:36:43  \n",
              "33     2017-01-01 04:00:44  \n",
              "...                    ...  \n",
              "293954 2018-03-14 13:42:41  \n",
              "293956 2018-03-14 13:43:47  \n",
              "293957 2018-03-14 13:44:27  \n",
              "293966 2018-03-14 13:51:59  \n",
              "293981 2018-03-14 13:58:01  \n",
              "\n",
              "[137842 rows x 7 columns]"
            ]
          },
          "execution_count": 14,
          "metadata": {},
          "output_type": "execute_result"
        }
      ],
      "source": [
        "orderlines_df[orderlines_df.duplicated(subset=['id_order'], keep=False)]"
      ]
    },
    {
      "cell_type": "markdown",
      "metadata": {
        "id": "3LbnJquF0vRe"
      },
      "source": [
        "There is a **one to many** relationship between the tables orders and orderlines. The foreign key 'id_order' in the table orderlines is linked to the primary key 'order_id' in the table orders."
      ]
    },
    {
      "cell_type": "markdown",
      "metadata": {
        "id": "9lX7YbHlzoEO"
      },
      "source": [
        "# 2.&nbsp; `.info()`"
      ]
    },
    {
      "cell_type": "code",
      "execution_count": 15,
      "metadata": {
        "colab": {
          "base_uri": "https://localhost:8080/"
        },
        "id": "_AAsMOTS2L9r",
        "outputId": "fd2aafff-79ba-4045-d77d-a9b8e935f6ba"
      },
      "outputs": [
        {
          "name": "stdout",
          "output_type": "stream",
          "text": [
            "<class 'pandas.core.frame.DataFrame'>\n",
            "RangeIndex: 226909 entries, 0 to 226908\n",
            "Data columns (total 4 columns):\n",
            " #   Column        Non-Null Count   Dtype         \n",
            "---  ------        --------------   -----         \n",
            " 0   order_id      226909 non-null  int64         \n",
            " 1   created_date  226909 non-null  datetime64[ns]\n",
            " 2   total_paid    226904 non-null  float64       \n",
            " 3   state         226909 non-null  object        \n",
            "dtypes: datetime64[ns](1), float64(1), int64(1), object(1)\n",
            "memory usage: 6.9+ MB\n"
          ]
        }
      ],
      "source": [
        "orders_df.info()"
      ]
    },
    {
      "cell_type": "markdown",
      "metadata": {
        "id": "Txm3Bv952UCb"
      },
      "source": [
        "* `total_paid` has 5 missing values\n",
        "* `created_date` should become datetime datatype --- DONE! Imported as \"datetime\" datatype."
      ]
    },
    {
      "cell_type": "code",
      "execution_count": 16,
      "metadata": {},
      "outputs": [
        {
          "data": {
            "application/vnd.microsoft.datawrangler.viewer.v0+json": {
              "columns": [
                {
                  "name": "index",
                  "rawType": "object",
                  "type": "string"
                },
                {
                  "name": "0",
                  "rawType": "int64",
                  "type": "integer"
                }
              ],
              "ref": "0d938699-1e96-4ccb-a0fb-051a3ea6aae4",
              "rows": [
                [
                  "order_id",
                  "226909"
                ],
                [
                  "created_date",
                  "224828"
                ],
                [
                  "total_paid",
                  "31236"
                ],
                [
                  "state",
                  "5"
                ]
              ],
              "shape": {
                "columns": 1,
                "rows": 4
              }
            },
            "text/plain": [
              "order_id        226909\n",
              "created_date    224828\n",
              "total_paid       31236\n",
              "state                5\n",
              "dtype: int64"
            ]
          },
          "execution_count": 16,
          "metadata": {},
          "output_type": "execute_result"
        }
      ],
      "source": [
        "orders_df.nunique()"
      ]
    },
    {
      "cell_type": "code",
      "execution_count": 17,
      "metadata": {
        "colab": {
          "base_uri": "https://localhost:8080/"
        },
        "id": "kvDA-z032Rm2",
        "outputId": "ac52b7af-a3c9-4ab4-bae1-9a9116fddfa6"
      },
      "outputs": [
        {
          "name": "stdout",
          "output_type": "stream",
          "text": [
            "<class 'pandas.core.frame.DataFrame'>\n",
            "RangeIndex: 293983 entries, 0 to 293982\n",
            "Data columns (total 7 columns):\n",
            " #   Column            Non-Null Count   Dtype         \n",
            "---  ------            --------------   -----         \n",
            " 0   id                293983 non-null  int64         \n",
            " 1   id_order          293983 non-null  int64         \n",
            " 2   product_id        293983 non-null  int64         \n",
            " 3   product_quantity  293983 non-null  int64         \n",
            " 4   sku               293983 non-null  object        \n",
            " 5   unit_price        293983 non-null  object        \n",
            " 6   date              293983 non-null  datetime64[ns]\n",
            "dtypes: datetime64[ns](1), int64(4), object(2)\n",
            "memory usage: 15.7+ MB\n"
          ]
        }
      ],
      "source": [
        "orderlines_df.info()"
      ]
    },
    {
      "cell_type": "markdown",
      "metadata": {
        "id": "iLSpYm1G2sPD"
      },
      "source": [
        "* `date` should be a datetime datatype  --- DONE! Imported as \"datetime\" datatype.\n",
        "* `unit_price` should be a float datatype"
      ]
    },
    {
      "cell_type": "code",
      "execution_count": 18,
      "metadata": {},
      "outputs": [
        {
          "data": {
            "application/vnd.microsoft.datawrangler.viewer.v0+json": {
              "columns": [
                {
                  "name": "index",
                  "rawType": "object",
                  "type": "string"
                },
                {
                  "name": "0",
                  "rawType": "int64",
                  "type": "integer"
                }
              ],
              "ref": "3dab0fcf-3344-436e-9949-cc29a6ac0f27",
              "rows": [
                [
                  "id",
                  "293983"
                ],
                [
                  "id_order",
                  "204855"
                ],
                [
                  "product_id",
                  "1"
                ],
                [
                  "product_quantity",
                  "67"
                ],
                [
                  "sku",
                  "7951"
                ],
                [
                  "unit_price",
                  "11329"
                ],
                [
                  "date",
                  "251631"
                ]
              ],
              "shape": {
                "columns": 1,
                "rows": 7
              }
            },
            "text/plain": [
              "id                  293983\n",
              "id_order            204855\n",
              "product_id               1\n",
              "product_quantity        67\n",
              "sku                   7951\n",
              "unit_price           11329\n",
              "date                251631\n",
              "dtype: int64"
            ]
          },
          "execution_count": 18,
          "metadata": {},
          "output_type": "execute_result"
        }
      ],
      "source": [
        "orderlines_df.nunique()"
      ]
    },
    {
      "cell_type": "markdown",
      "metadata": {
        "id": "MlwJt5c-wiQh"
      },
      "source": [
        "## 3.&nbsp; Missing values"
      ]
    },
    {
      "cell_type": "markdown",
      "metadata": {
        "id": "63eKHGzJwkuT"
      },
      "source": [
        "### 3.1.&nbsp; Orders\n",
        "* `total_paid` has 5 missing values"
      ]
    },
    {
      "cell_type": "code",
      "execution_count": 19,
      "metadata": {
        "colab": {
          "base_uri": "https://localhost:8080/"
        },
        "id": "Yh81k3ppwl37",
        "outputId": "5d76e0bc-dd15-4262-8499-90e1d6796f2e"
      },
      "outputs": [
        {
          "name": "stdout",
          "output_type": "stream",
          "text": [
            "5 missing values represents 0.00220% of the 226909 rows in our DataFrame\n"
          ]
        }
      ],
      "source": [
        "num_missing = orders_df['total_paid'].isna().sum()\n",
        "total_rows = orders_df.shape[0]\n",
        "percent_missing = (100*num_missing/total_rows)\n",
        "print(f\"{num_missing} missing values represents {percent_missing:.5f}% of the {total_rows} rows in our DataFrame\")"
      ]
    },
    {
      "cell_type": "markdown",
      "metadata": {
        "id": "8B7GYG3ZZWC1"
      },
      "source": [
        "> A quick way to find out a percentage if you don't need to print out a sentence for yourself/colleagues is `.value_count(normalize=True)`"
      ]
    },
    {
      "cell_type": "code",
      "execution_count": 20,
      "metadata": {
        "colab": {
          "base_uri": "https://localhost:8080/",
          "height": 178
        },
        "id": "zjkDrufyZZQi",
        "outputId": "91fad90e-1fbc-4f27-df07-919c09191cb5"
      },
      "outputs": [
        {
          "data": {
            "application/vnd.microsoft.datawrangler.viewer.v0+json": {
              "columns": [
                {
                  "name": "total_paid",
                  "rawType": "bool",
                  "type": "boolean"
                },
                {
                  "name": "proportion",
                  "rawType": "float64",
                  "type": "float"
                }
              ],
              "ref": "650a83e6-5d4a-49c3-a13b-b273132e6877",
              "rows": [
                [
                  "False",
                  "0.9999779647347615"
                ],
                [
                  "True",
                  "2.2035265238487676e-05"
                ]
              ],
              "shape": {
                "columns": 1,
                "rows": 2
              }
            },
            "text/plain": [
              "total_paid\n",
              "False    0.999978\n",
              "True     0.000022\n",
              "Name: proportion, dtype: float64"
            ]
          },
          "execution_count": 20,
          "metadata": {},
          "output_type": "execute_result"
        }
      ],
      "source": [
        "orders_df['total_paid'].isna().value_counts(normalize=True)"
      ]
    },
    {
      "cell_type": "markdown",
      "metadata": {},
      "source": [
        "### Imputing 'total_paid' missing values\n",
        "\n",
        "As the number (percentage) of missing values is very small, we can just delete these rows from our DataFrame.\n",
        "In addition, we will delete the corresponding order_id's in the orderlines dataframe."
      ]
    },
    {
      "cell_type": "code",
      "execution_count": 21,
      "metadata": {},
      "outputs": [
        {
          "data": {
            "application/vnd.microsoft.datawrangler.viewer.v0+json": {
              "columns": [
                {
                  "name": "index",
                  "rawType": "int64",
                  "type": "integer"
                },
                {
                  "name": "order_id",
                  "rawType": "int64",
                  "type": "integer"
                }
              ],
              "ref": "0958e31e-206a-4416-a6f7-d19b147dbe5d",
              "rows": [
                [
                  "127701",
                  "427314"
                ],
                [
                  "132013",
                  "431655"
                ],
                [
                  "147316",
                  "447411"
                ],
                [
                  "148833",
                  "448966"
                ],
                [
                  "149434",
                  "449596"
                ]
              ],
              "shape": {
                "columns": 1,
                "rows": 5
              }
            },
            "text/plain": [
              "127701    427314\n",
              "132013    431655\n",
              "147316    447411\n",
              "148833    448966\n",
              "149434    449596\n",
              "Name: order_id, dtype: int64"
            ]
          },
          "execution_count": 21,
          "metadata": {},
          "output_type": "execute_result"
        }
      ],
      "source": [
        "# order_id's of 'total_paid' missing values\n",
        "order_id_missing_df = orders_df.loc[orders_df['total_paid'].isna(),'order_id']\n",
        "order_id_missing_df"
      ]
    },
    {
      "cell_type": "code",
      "execution_count": 22,
      "metadata": {},
      "outputs": [
        {
          "data": {
            "application/vnd.microsoft.datawrangler.viewer.v0+json": {
              "columns": [
                {
                  "name": "index",
                  "rawType": "int64",
                  "type": "integer"
                },
                {
                  "name": "order_id",
                  "rawType": "int64",
                  "type": "integer"
                },
                {
                  "name": "created_date",
                  "rawType": "datetime64[ns]",
                  "type": "datetime"
                },
                {
                  "name": "total_paid",
                  "rawType": "float64",
                  "type": "float"
                },
                {
                  "name": "state",
                  "rawType": "object",
                  "type": "string"
                }
              ],
              "ref": "46024674-9dd0-4639-8198-feb2bc13849a",
              "rows": [
                [
                  "0",
                  "241319",
                  "2017-01-02 13:35:40",
                  "44.99",
                  "Cancelled"
                ],
                [
                  "1",
                  "241423",
                  "2017-11-06 13:10:02",
                  "136.15",
                  "Completed"
                ],
                [
                  "2",
                  "242832",
                  "2017-12-31 17:40:03",
                  "15.76",
                  "Completed"
                ],
                [
                  "3",
                  "243330",
                  "2017-02-16 10:59:38",
                  "84.98",
                  "Completed"
                ],
                [
                  "4",
                  "243784",
                  "2017-11-24 13:35:19",
                  "157.86",
                  "Cancelled"
                ],
                [
                  "5",
                  "245275",
                  "2017-06-28 11:35:37",
                  "149.0",
                  "Completed"
                ],
                [
                  "6",
                  "245595",
                  "2017-01-21 12:52:47",
                  "112.97",
                  "Completed"
                ],
                [
                  "7",
                  "245851",
                  "2017-04-04 20:58:21",
                  "79.99",
                  "Pending"
                ],
                [
                  "8",
                  "245941",
                  "2017-01-01 10:32:23",
                  "183.52",
                  "Completed"
                ],
                [
                  "9",
                  "246018",
                  "2017-02-13 23:02:57",
                  "211.95",
                  "Completed"
                ],
                [
                  "10",
                  "246405",
                  "2017-11-24 10:01:27",
                  "407.96",
                  "Completed"
                ],
                [
                  "11",
                  "247524",
                  "2018-01-09 14:21:34",
                  "167.98",
                  "Completed"
                ],
                [
                  "12",
                  "247643",
                  "2017-05-26 11:50:35",
                  "153.54",
                  "Completed"
                ],
                [
                  "13",
                  "250275",
                  "2017-11-19 22:34:54",
                  "54.99",
                  "Completed"
                ],
                [
                  "14",
                  "251302",
                  "2017-05-10 12:27:33",
                  "140.99",
                  "Completed"
                ],
                [
                  "15",
                  "251688",
                  "2017-11-24 23:57:07",
                  "505.76",
                  "Completed"
                ],
                [
                  "16",
                  "251969",
                  "2017-11-21 21:04:12",
                  "610.07",
                  "Completed"
                ],
                [
                  "17",
                  "252371",
                  "2017-02-09 12:31:57",
                  "27.98",
                  "Pending"
                ],
                [
                  "18",
                  "253220",
                  "2017-10-04 19:37:10",
                  "1610.0",
                  "Completed"
                ],
                [
                  "19",
                  "253306",
                  "2017-10-04 14:14:45",
                  "497.68",
                  "Completed"
                ],
                [
                  "20",
                  "253307",
                  "2017-09-30 06:11:10",
                  "292.04",
                  "Completed"
                ],
                [
                  "21",
                  "254301",
                  "2017-01-08 13:10:53",
                  "35.91",
                  "Completed"
                ],
                [
                  "22",
                  "254341",
                  "2017-07-31 10:25:35",
                  "34.98",
                  "Completed"
                ],
                [
                  "23",
                  "254441",
                  "2017-05-09 14:00:45",
                  "56.98",
                  "Completed"
                ],
                [
                  "24",
                  "254537",
                  "2017-05-23 19:58:30",
                  "102.97",
                  "Pending"
                ],
                [
                  "25",
                  "254816",
                  "2017-01-12 15:57:20",
                  "283.83",
                  "Completed"
                ],
                [
                  "26",
                  "256158",
                  "2017-08-05 19:51:20",
                  "386.18",
                  "Completed"
                ],
                [
                  "27",
                  "256434",
                  "2018-02-26 07:32:21",
                  "39.99",
                  "Pending"
                ],
                [
                  "28",
                  "256679",
                  "2017-11-26 10:43:04",
                  "20.58",
                  "Completed"
                ],
                [
                  "29",
                  "256799",
                  "2018-02-16 09:44:42",
                  "20.97",
                  "Completed"
                ],
                [
                  "30",
                  "257280",
                  "2017-12-20 14:49:52",
                  "260.0",
                  "Completed"
                ],
                [
                  "31",
                  "257847",
                  "2017-11-23 23:46:54",
                  "1367.11",
                  "Completed"
                ],
                [
                  "32",
                  "258087",
                  "2017-02-28 19:15:24",
                  "84.73",
                  "Pending"
                ],
                [
                  "33",
                  "258155",
                  "2018-01-22 18:51:50",
                  "40.76",
                  "Completed"
                ],
                [
                  "34",
                  "258530",
                  "2017-08-30 10:54:18",
                  "7.78",
                  "Completed"
                ],
                [
                  "35",
                  "258985",
                  "2017-07-31 12:52:38",
                  "2264.6",
                  "Completed"
                ],
                [
                  "36",
                  "259192",
                  "2017-11-09 11:15:51",
                  "195.74",
                  "Completed"
                ],
                [
                  "37",
                  "259283",
                  "2017-12-22 09:19:28",
                  "24.98",
                  "Completed"
                ],
                [
                  "38",
                  "259359",
                  "2017-04-27 17:59:43",
                  "159.99",
                  "Pending"
                ],
                [
                  "39",
                  "259638",
                  "2017-03-02 20:12:59",
                  "387.6",
                  "Pending"
                ],
                [
                  "40",
                  "259668",
                  "2017-10-06 22:06:58",
                  "1132.33",
                  "Completed"
                ],
                [
                  "41",
                  "259672",
                  "2017-02-22 19:09:49",
                  "322.99",
                  "Pending"
                ],
                [
                  "42",
                  "260615",
                  "2017-01-10 18:59:49",
                  "225.16",
                  "Completed"
                ],
                [
                  "43",
                  "261289",
                  "2017-06-21 08:21:20",
                  "192.98",
                  "Completed"
                ],
                [
                  "44",
                  "261656",
                  "2017-08-24 19:28:24",
                  "44.98",
                  "Completed"
                ],
                [
                  "45",
                  "261978",
                  "2017-01-10 00:19:44",
                  "109.98",
                  "Completed"
                ],
                [
                  "46",
                  "262016",
                  "2017-08-18 01:05:38",
                  "3109.57",
                  "Completed"
                ],
                [
                  "47",
                  "262236",
                  "2017-06-05 10:02:29",
                  "122.97",
                  "Completed"
                ],
                [
                  "48",
                  "263733",
                  "2017-02-06 13:06:34",
                  "372.98",
                  "Completed"
                ],
                [
                  "49",
                  "263738",
                  "2017-08-16 17:05:25",
                  "80.96",
                  "Completed"
                ]
              ],
              "shape": {
                "columns": 4,
                "rows": 226904
              }
            },
            "text/html": [
              "<div>\n",
              "<style scoped>\n",
              "    .dataframe tbody tr th:only-of-type {\n",
              "        vertical-align: middle;\n",
              "    }\n",
              "\n",
              "    .dataframe tbody tr th {\n",
              "        vertical-align: top;\n",
              "    }\n",
              "\n",
              "    .dataframe thead th {\n",
              "        text-align: right;\n",
              "    }\n",
              "</style>\n",
              "<table border=\"1\" class=\"dataframe\">\n",
              "  <thead>\n",
              "    <tr style=\"text-align: right;\">\n",
              "      <th></th>\n",
              "      <th>order_id</th>\n",
              "      <th>created_date</th>\n",
              "      <th>total_paid</th>\n",
              "      <th>state</th>\n",
              "    </tr>\n",
              "  </thead>\n",
              "  <tbody>\n",
              "    <tr>\n",
              "      <th>0</th>\n",
              "      <td>241319</td>\n",
              "      <td>2017-01-02 13:35:40</td>\n",
              "      <td>44.99</td>\n",
              "      <td>Cancelled</td>\n",
              "    </tr>\n",
              "    <tr>\n",
              "      <th>1</th>\n",
              "      <td>241423</td>\n",
              "      <td>2017-11-06 13:10:02</td>\n",
              "      <td>136.15</td>\n",
              "      <td>Completed</td>\n",
              "    </tr>\n",
              "    <tr>\n",
              "      <th>2</th>\n",
              "      <td>242832</td>\n",
              "      <td>2017-12-31 17:40:03</td>\n",
              "      <td>15.76</td>\n",
              "      <td>Completed</td>\n",
              "    </tr>\n",
              "    <tr>\n",
              "      <th>3</th>\n",
              "      <td>243330</td>\n",
              "      <td>2017-02-16 10:59:38</td>\n",
              "      <td>84.98</td>\n",
              "      <td>Completed</td>\n",
              "    </tr>\n",
              "    <tr>\n",
              "      <th>4</th>\n",
              "      <td>243784</td>\n",
              "      <td>2017-11-24 13:35:19</td>\n",
              "      <td>157.86</td>\n",
              "      <td>Cancelled</td>\n",
              "    </tr>\n",
              "    <tr>\n",
              "      <th>...</th>\n",
              "      <td>...</td>\n",
              "      <td>...</td>\n",
              "      <td>...</td>\n",
              "      <td>...</td>\n",
              "    </tr>\n",
              "    <tr>\n",
              "      <th>226904</th>\n",
              "      <td>527397</td>\n",
              "      <td>2018-03-14 13:56:38</td>\n",
              "      <td>42.99</td>\n",
              "      <td>Place Order</td>\n",
              "    </tr>\n",
              "    <tr>\n",
              "      <th>226905</th>\n",
              "      <td>527398</td>\n",
              "      <td>2018-03-14 13:57:25</td>\n",
              "      <td>42.99</td>\n",
              "      <td>Shopping Basket</td>\n",
              "    </tr>\n",
              "    <tr>\n",
              "      <th>226906</th>\n",
              "      <td>527399</td>\n",
              "      <td>2018-03-14 13:57:34</td>\n",
              "      <td>141.58</td>\n",
              "      <td>Shopping Basket</td>\n",
              "    </tr>\n",
              "    <tr>\n",
              "      <th>226907</th>\n",
              "      <td>527400</td>\n",
              "      <td>2018-03-14 13:57:41</td>\n",
              "      <td>19.98</td>\n",
              "      <td>Shopping Basket</td>\n",
              "    </tr>\n",
              "    <tr>\n",
              "      <th>226908</th>\n",
              "      <td>527401</td>\n",
              "      <td>2018-03-14 13:58:36</td>\n",
              "      <td>18.98</td>\n",
              "      <td>Place Order</td>\n",
              "    </tr>\n",
              "  </tbody>\n",
              "</table>\n",
              "<p>226904 rows × 4 columns</p>\n",
              "</div>"
            ],
            "text/plain": [
              "        order_id        created_date  total_paid            state\n",
              "0         241319 2017-01-02 13:35:40       44.99        Cancelled\n",
              "1         241423 2017-11-06 13:10:02      136.15        Completed\n",
              "2         242832 2017-12-31 17:40:03       15.76        Completed\n",
              "3         243330 2017-02-16 10:59:38       84.98        Completed\n",
              "4         243784 2017-11-24 13:35:19      157.86        Cancelled\n",
              "...          ...                 ...         ...              ...\n",
              "226904    527397 2018-03-14 13:56:38       42.99      Place Order\n",
              "226905    527398 2018-03-14 13:57:25       42.99  Shopping Basket\n",
              "226906    527399 2018-03-14 13:57:34      141.58  Shopping Basket\n",
              "226907    527400 2018-03-14 13:57:41       19.98  Shopping Basket\n",
              "226908    527401 2018-03-14 13:58:36       18.98      Place Order\n",
              "\n",
              "[226904 rows x 4 columns]"
            ]
          },
          "execution_count": 22,
          "metadata": {},
          "output_type": "execute_result"
        }
      ],
      "source": [
        "# Dropping nan from orders_df\n",
        "orders_df = orders_df.dropna(axis=0)\n",
        "orders_df"
      ]
    },
    {
      "cell_type": "code",
      "execution_count": 23,
      "metadata": {},
      "outputs": [],
      "source": [
        "mask = orderlines_df['id_order'].isin(order_id_missing_df)"
      ]
    },
    {
      "cell_type": "code",
      "execution_count": 24,
      "metadata": {},
      "outputs": [
        {
          "data": {
            "application/vnd.microsoft.datawrangler.viewer.v0+json": {
              "columns": [
                {
                  "name": "index",
                  "rawType": "int64",
                  "type": "integer"
                },
                {
                  "name": "id",
                  "rawType": "int64",
                  "type": "integer"
                },
                {
                  "name": "id_order",
                  "rawType": "int64",
                  "type": "integer"
                },
                {
                  "name": "product_id",
                  "rawType": "int64",
                  "type": "integer"
                },
                {
                  "name": "product_quantity",
                  "rawType": "int64",
                  "type": "integer"
                },
                {
                  "name": "sku",
                  "rawType": "object",
                  "type": "string"
                },
                {
                  "name": "unit_price",
                  "rawType": "object",
                  "type": "string"
                },
                {
                  "name": "date",
                  "rawType": "datetime64[ns]",
                  "type": "datetime"
                }
              ],
              "ref": "f283d9be-fc60-416b-843c-f9eec1c05f72",
              "rows": [
                [
                  "150248",
                  "1416957",
                  "427314",
                  "0",
                  "1",
                  "MUJ0023",
                  "26.99",
                  "2017-11-20 18:40:45"
                ],
                [
                  "150252",
                  "1416966",
                  "427314",
                  "0",
                  "1",
                  "APP1696",
                  "49.00",
                  "2017-11-20 18:44:30"
                ],
                [
                  "152847",
                  "1421402",
                  "431655",
                  "0",
                  "1",
                  "APP1922",
                  "154.00",
                  "2017-11-22 12:12:16"
                ],
                [
                  "173200",
                  "1456182",
                  "447411",
                  "0",
                  "1",
                  "LAC0225",
                  "180.76",
                  "2017-11-27 10:30:28"
                ],
                [
                  "175213",
                  "1459674",
                  "448966",
                  "0",
                  "1",
                  "PAC2266",
                  "961.02",
                  "2017-11-27 18:03:18"
                ],
                [
                  "176040",
                  "1461236",
                  "449596",
                  "0",
                  "1",
                  "APP2191",
                  "1.722.59",
                  "2017-11-27 21:49:21"
                ]
              ],
              "shape": {
                "columns": 7,
                "rows": 6
              }
            },
            "text/html": [
              "<div>\n",
              "<style scoped>\n",
              "    .dataframe tbody tr th:only-of-type {\n",
              "        vertical-align: middle;\n",
              "    }\n",
              "\n",
              "    .dataframe tbody tr th {\n",
              "        vertical-align: top;\n",
              "    }\n",
              "\n",
              "    .dataframe thead th {\n",
              "        text-align: right;\n",
              "    }\n",
              "</style>\n",
              "<table border=\"1\" class=\"dataframe\">\n",
              "  <thead>\n",
              "    <tr style=\"text-align: right;\">\n",
              "      <th></th>\n",
              "      <th>id</th>\n",
              "      <th>id_order</th>\n",
              "      <th>product_id</th>\n",
              "      <th>product_quantity</th>\n",
              "      <th>sku</th>\n",
              "      <th>unit_price</th>\n",
              "      <th>date</th>\n",
              "    </tr>\n",
              "  </thead>\n",
              "  <tbody>\n",
              "    <tr>\n",
              "      <th>150248</th>\n",
              "      <td>1416957</td>\n",
              "      <td>427314</td>\n",
              "      <td>0</td>\n",
              "      <td>1</td>\n",
              "      <td>MUJ0023</td>\n",
              "      <td>26.99</td>\n",
              "      <td>2017-11-20 18:40:45</td>\n",
              "    </tr>\n",
              "    <tr>\n",
              "      <th>150252</th>\n",
              "      <td>1416966</td>\n",
              "      <td>427314</td>\n",
              "      <td>0</td>\n",
              "      <td>1</td>\n",
              "      <td>APP1696</td>\n",
              "      <td>49.00</td>\n",
              "      <td>2017-11-20 18:44:30</td>\n",
              "    </tr>\n",
              "    <tr>\n",
              "      <th>152847</th>\n",
              "      <td>1421402</td>\n",
              "      <td>431655</td>\n",
              "      <td>0</td>\n",
              "      <td>1</td>\n",
              "      <td>APP1922</td>\n",
              "      <td>154.00</td>\n",
              "      <td>2017-11-22 12:12:16</td>\n",
              "    </tr>\n",
              "    <tr>\n",
              "      <th>173200</th>\n",
              "      <td>1456182</td>\n",
              "      <td>447411</td>\n",
              "      <td>0</td>\n",
              "      <td>1</td>\n",
              "      <td>LAC0225</td>\n",
              "      <td>180.76</td>\n",
              "      <td>2017-11-27 10:30:28</td>\n",
              "    </tr>\n",
              "    <tr>\n",
              "      <th>175213</th>\n",
              "      <td>1459674</td>\n",
              "      <td>448966</td>\n",
              "      <td>0</td>\n",
              "      <td>1</td>\n",
              "      <td>PAC2266</td>\n",
              "      <td>961.02</td>\n",
              "      <td>2017-11-27 18:03:18</td>\n",
              "    </tr>\n",
              "    <tr>\n",
              "      <th>176040</th>\n",
              "      <td>1461236</td>\n",
              "      <td>449596</td>\n",
              "      <td>0</td>\n",
              "      <td>1</td>\n",
              "      <td>APP2191</td>\n",
              "      <td>1.722.59</td>\n",
              "      <td>2017-11-27 21:49:21</td>\n",
              "    </tr>\n",
              "  </tbody>\n",
              "</table>\n",
              "</div>"
            ],
            "text/plain": [
              "             id  id_order  product_id  product_quantity      sku unit_price  \\\n",
              "150248  1416957    427314           0                 1  MUJ0023      26.99   \n",
              "150252  1416966    427314           0                 1  APP1696      49.00   \n",
              "152847  1421402    431655           0                 1  APP1922     154.00   \n",
              "173200  1456182    447411           0                 1  LAC0225     180.76   \n",
              "175213  1459674    448966           0                 1  PAC2266     961.02   \n",
              "176040  1461236    449596           0                 1  APP2191   1.722.59   \n",
              "\n",
              "                      date  \n",
              "150248 2017-11-20 18:40:45  \n",
              "150252 2017-11-20 18:44:30  \n",
              "152847 2017-11-22 12:12:16  \n",
              "173200 2017-11-27 10:30:28  \n",
              "175213 2017-11-27 18:03:18  \n",
              "176040 2017-11-27 21:49:21  "
            ]
          },
          "execution_count": 24,
          "metadata": {},
          "output_type": "execute_result"
        }
      ],
      "source": [
        "# Corresponding 'id_order' in orderlines table\n",
        "orderlines_df.loc[mask,:]"
      ]
    },
    {
      "cell_type": "code",
      "execution_count": 25,
      "metadata": {},
      "outputs": [
        {
          "data": {
            "application/vnd.microsoft.datawrangler.viewer.v0+json": {
              "columns": [
                {
                  "name": "index",
                  "rawType": "int64",
                  "type": "integer"
                },
                {
                  "name": "id_order",
                  "rawType": "int64",
                  "type": "integer"
                },
                {
                  "name": "reason",
                  "rawType": "object",
                  "type": "string"
                }
              ],
              "ref": "8ccab659-c698-49a8-a166-021811df624a",
              "rows": [
                [
                  "0",
                  "427314",
                  "Missing column \"total_paid\" in orders_df dataset"
                ],
                [
                  "1",
                  "427314",
                  "Missing column \"total_paid\" in orders_df dataset"
                ],
                [
                  "2",
                  "431655",
                  "Missing column \"total_paid\" in orders_df dataset"
                ],
                [
                  "3",
                  "447411",
                  "Missing column \"total_paid\" in orders_df dataset"
                ],
                [
                  "4",
                  "448966",
                  "Missing column \"total_paid\" in orders_df dataset"
                ],
                [
                  "5",
                  "449596",
                  "Missing column \"total_paid\" in orders_df dataset"
                ]
              ],
              "shape": {
                "columns": 2,
                "rows": 6
              }
            },
            "text/html": [
              "<div>\n",
              "<style scoped>\n",
              "    .dataframe tbody tr th:only-of-type {\n",
              "        vertical-align: middle;\n",
              "    }\n",
              "\n",
              "    .dataframe tbody tr th {\n",
              "        vertical-align: top;\n",
              "    }\n",
              "\n",
              "    .dataframe thead th {\n",
              "        text-align: right;\n",
              "    }\n",
              "</style>\n",
              "<table border=\"1\" class=\"dataframe\">\n",
              "  <thead>\n",
              "    <tr style=\"text-align: right;\">\n",
              "      <th></th>\n",
              "      <th>id_order</th>\n",
              "      <th>reason</th>\n",
              "    </tr>\n",
              "  </thead>\n",
              "  <tbody>\n",
              "    <tr>\n",
              "      <th>0</th>\n",
              "      <td>427314</td>\n",
              "      <td>Missing column \"total_paid\" in orders_df dataset</td>\n",
              "    </tr>\n",
              "    <tr>\n",
              "      <th>1</th>\n",
              "      <td>427314</td>\n",
              "      <td>Missing column \"total_paid\" in orders_df dataset</td>\n",
              "    </tr>\n",
              "    <tr>\n",
              "      <th>2</th>\n",
              "      <td>431655</td>\n",
              "      <td>Missing column \"total_paid\" in orders_df dataset</td>\n",
              "    </tr>\n",
              "    <tr>\n",
              "      <th>3</th>\n",
              "      <td>447411</td>\n",
              "      <td>Missing column \"total_paid\" in orders_df dataset</td>\n",
              "    </tr>\n",
              "    <tr>\n",
              "      <th>4</th>\n",
              "      <td>448966</td>\n",
              "      <td>Missing column \"total_paid\" in orders_df dataset</td>\n",
              "    </tr>\n",
              "    <tr>\n",
              "      <th>5</th>\n",
              "      <td>449596</td>\n",
              "      <td>Missing column \"total_paid\" in orders_df dataset</td>\n",
              "    </tr>\n",
              "  </tbody>\n",
              "</table>\n",
              "</div>"
            ],
            "text/plain": [
              "   id_order                                            reason\n",
              "0    427314  Missing column \"total_paid\" in orders_df dataset\n",
              "1    427314  Missing column \"total_paid\" in orders_df dataset\n",
              "2    431655  Missing column \"total_paid\" in orders_df dataset\n",
              "3    447411  Missing column \"total_paid\" in orders_df dataset\n",
              "4    448966  Missing column \"total_paid\" in orders_df dataset\n",
              "5    449596  Missing column \"total_paid\" in orders_df dataset"
            ]
          },
          "execution_count": 25,
          "metadata": {},
          "output_type": "execute_result"
        }
      ],
      "source": [
        "# Before dropping the rows, we will save the dropped id_orders to a new dataframe\n",
        "dropped_ids_missing_orders_total_paid_df = pd.DataFrame(orderlines_df.loc[mask, 'id_order']).copy().reset_index(drop=True)\n",
        "dropped_ids_missing_orders_total_paid_df['reason'] = 'Missing column \"total_paid\" in orders_df dataset'\n",
        "dropped_ids_missing_orders_total_paid_df"
      ]
    },
    {
      "cell_type": "code",
      "execution_count": 26,
      "metadata": {},
      "outputs": [
        {
          "data": {
            "application/vnd.microsoft.datawrangler.viewer.v0+json": {
              "columns": [
                {
                  "name": "index",
                  "rawType": "int64",
                  "type": "integer"
                },
                {
                  "name": "id",
                  "rawType": "int64",
                  "type": "integer"
                },
                {
                  "name": "id_order",
                  "rawType": "int64",
                  "type": "integer"
                },
                {
                  "name": "product_id",
                  "rawType": "int64",
                  "type": "integer"
                },
                {
                  "name": "product_quantity",
                  "rawType": "int64",
                  "type": "integer"
                },
                {
                  "name": "sku",
                  "rawType": "object",
                  "type": "string"
                },
                {
                  "name": "unit_price",
                  "rawType": "object",
                  "type": "string"
                },
                {
                  "name": "date",
                  "rawType": "datetime64[ns]",
                  "type": "datetime"
                }
              ],
              "ref": "fcd767b1-9a02-46c0-9c1f-a4190146f129",
              "rows": [
                [
                  "0",
                  "1119109",
                  "299539",
                  "0",
                  "1",
                  "OTT0133",
                  "18.99",
                  "2017-01-01 00:07:19"
                ],
                [
                  "1",
                  "1119110",
                  "299540",
                  "0",
                  "1",
                  "LGE0043",
                  "399.00",
                  "2017-01-01 00:19:45"
                ],
                [
                  "2",
                  "1119111",
                  "299541",
                  "0",
                  "1",
                  "PAR0071",
                  "474.05",
                  "2017-01-01 00:20:57"
                ],
                [
                  "3",
                  "1119112",
                  "299542",
                  "0",
                  "1",
                  "WDT0315",
                  "68.39",
                  "2017-01-01 00:51:40"
                ],
                [
                  "4",
                  "1119113",
                  "299543",
                  "0",
                  "1",
                  "JBL0104",
                  "23.74",
                  "2017-01-01 01:06:38"
                ],
                [
                  "5",
                  "1119114",
                  "295310",
                  "0",
                  "10",
                  "WDT0249",
                  "231.79",
                  "2017-01-01 01:14:27"
                ],
                [
                  "6",
                  "1119115",
                  "299544",
                  "0",
                  "1",
                  "APP1582",
                  "1.137.99",
                  "2017-01-01 01:17:21"
                ],
                [
                  "7",
                  "1119116",
                  "299545",
                  "0",
                  "1",
                  "OWC0100",
                  "47.49",
                  "2017-01-01 01:46:16"
                ],
                [
                  "8",
                  "1119119",
                  "299546",
                  "0",
                  "1",
                  "IOT0014",
                  "18.99",
                  "2017-01-01 01:50:34"
                ],
                [
                  "9",
                  "1119120",
                  "295347",
                  "0",
                  "1",
                  "APP0700",
                  "72.19",
                  "2017-01-01 01:54:11"
                ],
                [
                  "10",
                  "1119125",
                  "299548",
                  "0",
                  "5",
                  "SPE0132",
                  "35.14",
                  "2017-01-01 02:02:20"
                ],
                [
                  "11",
                  "1119126",
                  "299549",
                  "0",
                  "1",
                  "PAC0929",
                  "2.565.99",
                  "2017-01-01 02:07:42"
                ],
                [
                  "12",
                  "1119127",
                  "299550",
                  "0",
                  "1",
                  "WDT0309",
                  "149.14",
                  "2017-01-01 02:09:52"
                ],
                [
                  "13",
                  "1119129",
                  "299552",
                  "0",
                  "1",
                  "MBI0010",
                  "16.99",
                  "2017-01-01 02:13:51"
                ],
                [
                  "14",
                  "1119130",
                  "299552",
                  "0",
                  "1",
                  "SAT0044",
                  "19.99",
                  "2017-01-01 02:14:36"
                ],
                [
                  "15",
                  "1119131",
                  "299553",
                  "0",
                  "1",
                  "APP1854",
                  "3.278.99",
                  "2017-01-01 02:14:47"
                ],
                [
                  "16",
                  "1119132",
                  "299554",
                  "0",
                  "1",
                  "WAC0171",
                  "59.84",
                  "2017-01-01 02:15:46"
                ],
                [
                  "17",
                  "1119133",
                  "299555",
                  "0",
                  "1",
                  "BEA0065",
                  "256.49",
                  "2017-01-01 02:18:45"
                ],
                [
                  "18",
                  "1119134",
                  "299556",
                  "0",
                  "1",
                  "CRU0039-A",
                  "60.90",
                  "2017-01-01 02:20:14"
                ],
                [
                  "19",
                  "1119135",
                  "299557",
                  "0",
                  "1",
                  "NTE0082",
                  "37.99",
                  "2017-01-01 02:22:36"
                ],
                [
                  "20",
                  "1119136",
                  "299558",
                  "0",
                  "2",
                  "WDT0141",
                  "112.99",
                  "2017-01-01 02:24:33"
                ],
                [
                  "21",
                  "1119140",
                  "299559",
                  "0",
                  "1",
                  "APP0700",
                  "72.19",
                  "2017-01-01 02:32:22"
                ],
                [
                  "22",
                  "1119143",
                  "299559",
                  "0",
                  "1",
                  "APP1214",
                  "84.99",
                  "2017-01-01 02:36:43"
                ],
                [
                  "23",
                  "1119144",
                  "299560",
                  "0",
                  "1",
                  "OWC0120",
                  "52.24",
                  "2017-01-01 02:37:58"
                ],
                [
                  "24",
                  "1119145",
                  "299561",
                  "0",
                  "1",
                  "PEB0015",
                  "142.49",
                  "2017-01-01 02:38:50"
                ],
                [
                  "25",
                  "1119153",
                  "299562",
                  "0",
                  "1",
                  "APP1045",
                  "9.00",
                  "2017-01-01 02:39:53"
                ],
                [
                  "26",
                  "1119154",
                  "299563",
                  "0",
                  "1",
                  "BEA0065",
                  "256.49",
                  "2017-01-01 02:42:05"
                ],
                [
                  "27",
                  "1119155",
                  "299564",
                  "0",
                  "1",
                  "SAT0010",
                  "18.99",
                  "2017-01-01 02:43:37"
                ],
                [
                  "28",
                  "1119160",
                  "299565",
                  "0",
                  "1",
                  "CRU0052",
                  "179.54",
                  "2017-01-01 02:49:38"
                ],
                [
                  "29",
                  "1119161",
                  "299566",
                  "0",
                  "1",
                  "PAC0701",
                  "219.44",
                  "2017-01-01 03:00:05"
                ],
                [
                  "30",
                  "1119162",
                  "299567",
                  "0",
                  "1",
                  "APP1647",
                  "769.00",
                  "2017-01-01 03:16:51"
                ],
                [
                  "31",
                  "1119163",
                  "299568",
                  "0",
                  "1",
                  "PAR0071",
                  "474.05",
                  "2017-01-01 03:29:20"
                ],
                [
                  "32",
                  "1119180",
                  "299570",
                  "0",
                  "1",
                  "SPE0163",
                  "35.14",
                  "2017-01-01 03:51:38"
                ],
                [
                  "33",
                  "1119181",
                  "299571",
                  "0",
                  "1",
                  "SYN0139",
                  "166.24",
                  "2017-01-01 04:00:44"
                ],
                [
                  "34",
                  "1119182",
                  "299572",
                  "0",
                  "1",
                  "IFX0040",
                  "237.49",
                  "2017-01-01 04:07:28"
                ],
                [
                  "35",
                  "1119183",
                  "299573",
                  "0",
                  "1",
                  "MOP0072",
                  "56.99",
                  "2017-01-01 04:36:46"
                ],
                [
                  "36",
                  "1119184",
                  "299574",
                  "0",
                  "1",
                  "SAT0036",
                  "37.99",
                  "2017-01-01 05:33:29"
                ],
                [
                  "37",
                  "1119185",
                  "299575",
                  "0",
                  "1",
                  "APP1211",
                  "219.00",
                  "2017-01-01 05:37:04"
                ],
                [
                  "38",
                  "1119186",
                  "299576",
                  "0",
                  "1",
                  "SAM0095",
                  "82.64",
                  "2017-01-01 06:51:23"
                ],
                [
                  "39",
                  "1119187",
                  "299577",
                  "0",
                  "1",
                  "GRT0430-A",
                  "10.69",
                  "2017-01-01 07:35:36"
                ],
                [
                  "40",
                  "1119188",
                  "299578",
                  "0",
                  "1",
                  "LOG0191",
                  "142.49",
                  "2017-01-01 08:21:26"
                ],
                [
                  "41",
                  "1119189",
                  "299579",
                  "0",
                  "1",
                  "LGE0031-A",
                  "127.08",
                  "2017-01-01 08:23:14"
                ],
                [
                  "42",
                  "1119190",
                  "299580",
                  "0",
                  "1",
                  "LGE0031-A",
                  "127.08",
                  "2017-01-01 08:27:32"
                ],
                [
                  "43",
                  "1119195",
                  "299582",
                  "0",
                  "1",
                  "PAC0961",
                  "2.616.99",
                  "2017-01-01 08:54:00"
                ],
                [
                  "44",
                  "1119196",
                  "299583",
                  "0",
                  "1",
                  "APP1648",
                  "879.00",
                  "2017-01-01 08:54:20"
                ],
                [
                  "45",
                  "1119198",
                  "299583",
                  "0",
                  "1",
                  "BEL0275",
                  "16.99",
                  "2017-01-01 08:58:33"
                ],
                [
                  "46",
                  "1119199",
                  "299583",
                  "0",
                  "1",
                  "BEL0286",
                  "17.99",
                  "2017-01-01 09:00:26"
                ],
                [
                  "47",
                  "1119200",
                  "299584",
                  "0",
                  "1",
                  "WDT0309",
                  "149.14",
                  "2017-01-01 09:01:40"
                ],
                [
                  "48",
                  "1119201",
                  "299585",
                  "0",
                  "1",
                  "CRU0053",
                  "284.05",
                  "2017-01-01 09:15:32"
                ],
                [
                  "49",
                  "1119202",
                  "299586",
                  "0",
                  "1",
                  "GRT0456",
                  "42.99",
                  "2017-01-01 09:18:52"
                ]
              ],
              "shape": {
                "columns": 7,
                "rows": 293977
              }
            },
            "text/html": [
              "<div>\n",
              "<style scoped>\n",
              "    .dataframe tbody tr th:only-of-type {\n",
              "        vertical-align: middle;\n",
              "    }\n",
              "\n",
              "    .dataframe tbody tr th {\n",
              "        vertical-align: top;\n",
              "    }\n",
              "\n",
              "    .dataframe thead th {\n",
              "        text-align: right;\n",
              "    }\n",
              "</style>\n",
              "<table border=\"1\" class=\"dataframe\">\n",
              "  <thead>\n",
              "    <tr style=\"text-align: right;\">\n",
              "      <th></th>\n",
              "      <th>id</th>\n",
              "      <th>id_order</th>\n",
              "      <th>product_id</th>\n",
              "      <th>product_quantity</th>\n",
              "      <th>sku</th>\n",
              "      <th>unit_price</th>\n",
              "      <th>date</th>\n",
              "    </tr>\n",
              "  </thead>\n",
              "  <tbody>\n",
              "    <tr>\n",
              "      <th>0</th>\n",
              "      <td>1119109</td>\n",
              "      <td>299539</td>\n",
              "      <td>0</td>\n",
              "      <td>1</td>\n",
              "      <td>OTT0133</td>\n",
              "      <td>18.99</td>\n",
              "      <td>2017-01-01 00:07:19</td>\n",
              "    </tr>\n",
              "    <tr>\n",
              "      <th>1</th>\n",
              "      <td>1119110</td>\n",
              "      <td>299540</td>\n",
              "      <td>0</td>\n",
              "      <td>1</td>\n",
              "      <td>LGE0043</td>\n",
              "      <td>399.00</td>\n",
              "      <td>2017-01-01 00:19:45</td>\n",
              "    </tr>\n",
              "    <tr>\n",
              "      <th>2</th>\n",
              "      <td>1119111</td>\n",
              "      <td>299541</td>\n",
              "      <td>0</td>\n",
              "      <td>1</td>\n",
              "      <td>PAR0071</td>\n",
              "      <td>474.05</td>\n",
              "      <td>2017-01-01 00:20:57</td>\n",
              "    </tr>\n",
              "    <tr>\n",
              "      <th>3</th>\n",
              "      <td>1119112</td>\n",
              "      <td>299542</td>\n",
              "      <td>0</td>\n",
              "      <td>1</td>\n",
              "      <td>WDT0315</td>\n",
              "      <td>68.39</td>\n",
              "      <td>2017-01-01 00:51:40</td>\n",
              "    </tr>\n",
              "    <tr>\n",
              "      <th>4</th>\n",
              "      <td>1119113</td>\n",
              "      <td>299543</td>\n",
              "      <td>0</td>\n",
              "      <td>1</td>\n",
              "      <td>JBL0104</td>\n",
              "      <td>23.74</td>\n",
              "      <td>2017-01-01 01:06:38</td>\n",
              "    </tr>\n",
              "    <tr>\n",
              "      <th>...</th>\n",
              "      <td>...</td>\n",
              "      <td>...</td>\n",
              "      <td>...</td>\n",
              "      <td>...</td>\n",
              "      <td>...</td>\n",
              "      <td>...</td>\n",
              "      <td>...</td>\n",
              "    </tr>\n",
              "    <tr>\n",
              "      <th>293972</th>\n",
              "      <td>1650199</td>\n",
              "      <td>527398</td>\n",
              "      <td>0</td>\n",
              "      <td>1</td>\n",
              "      <td>JBL0122</td>\n",
              "      <td>42.99</td>\n",
              "      <td>2018-03-14 13:57:25</td>\n",
              "    </tr>\n",
              "    <tr>\n",
              "      <th>293973</th>\n",
              "      <td>1650200</td>\n",
              "      <td>527399</td>\n",
              "      <td>0</td>\n",
              "      <td>1</td>\n",
              "      <td>PAC0653</td>\n",
              "      <td>141.58</td>\n",
              "      <td>2018-03-14 13:57:34</td>\n",
              "    </tr>\n",
              "    <tr>\n",
              "      <th>293974</th>\n",
              "      <td>1650201</td>\n",
              "      <td>527400</td>\n",
              "      <td>0</td>\n",
              "      <td>2</td>\n",
              "      <td>APP0698</td>\n",
              "      <td>9.99</td>\n",
              "      <td>2018-03-14 13:57:41</td>\n",
              "    </tr>\n",
              "    <tr>\n",
              "      <th>293975</th>\n",
              "      <td>1650202</td>\n",
              "      <td>527388</td>\n",
              "      <td>0</td>\n",
              "      <td>1</td>\n",
              "      <td>BEZ0204</td>\n",
              "      <td>19.99</td>\n",
              "      <td>2018-03-14 13:58:01</td>\n",
              "    </tr>\n",
              "    <tr>\n",
              "      <th>293976</th>\n",
              "      <td>1650203</td>\n",
              "      <td>527401</td>\n",
              "      <td>0</td>\n",
              "      <td>1</td>\n",
              "      <td>APP0927</td>\n",
              "      <td>13.99</td>\n",
              "      <td>2018-03-14 13:58:36</td>\n",
              "    </tr>\n",
              "  </tbody>\n",
              "</table>\n",
              "<p>293977 rows × 7 columns</p>\n",
              "</div>"
            ],
            "text/plain": [
              "             id  id_order  product_id  product_quantity      sku unit_price  \\\n",
              "0       1119109    299539           0                 1  OTT0133      18.99   \n",
              "1       1119110    299540           0                 1  LGE0043     399.00   \n",
              "2       1119111    299541           0                 1  PAR0071     474.05   \n",
              "3       1119112    299542           0                 1  WDT0315      68.39   \n",
              "4       1119113    299543           0                 1  JBL0104      23.74   \n",
              "...         ...       ...         ...               ...      ...        ...   \n",
              "293972  1650199    527398           0                 1  JBL0122      42.99   \n",
              "293973  1650200    527399           0                 1  PAC0653     141.58   \n",
              "293974  1650201    527400           0                 2  APP0698       9.99   \n",
              "293975  1650202    527388           0                 1  BEZ0204      19.99   \n",
              "293976  1650203    527401           0                 1  APP0927      13.99   \n",
              "\n",
              "                      date  \n",
              "0      2017-01-01 00:07:19  \n",
              "1      2017-01-01 00:19:45  \n",
              "2      2017-01-01 00:20:57  \n",
              "3      2017-01-01 00:51:40  \n",
              "4      2017-01-01 01:06:38  \n",
              "...                    ...  \n",
              "293972 2018-03-14 13:57:25  \n",
              "293973 2018-03-14 13:57:34  \n",
              "293974 2018-03-14 13:57:41  \n",
              "293975 2018-03-14 13:58:01  \n",
              "293976 2018-03-14 13:58:36  \n",
              "\n",
              "[293977 rows x 7 columns]"
            ]
          },
          "execution_count": 26,
          "metadata": {},
          "output_type": "execute_result"
        }
      ],
      "source": [
        "# Drop the rows from the orderlines_df\n",
        "orderlines_df = orderlines_df[~mask].reset_index(drop=True)\n",
        "orderlines_df"
      ]
    },
    {
      "cell_type": "code",
      "execution_count": 27,
      "metadata": {},
      "outputs": [
        {
          "name": "stdout",
          "output_type": "stream",
          "text": [
            "<class 'pandas.core.frame.DataFrame'>\n",
            "Index: 226904 entries, 0 to 226908\n",
            "Data columns (total 4 columns):\n",
            " #   Column        Non-Null Count   Dtype         \n",
            "---  ------        --------------   -----         \n",
            " 0   order_id      226904 non-null  int64         \n",
            " 1   created_date  226904 non-null  datetime64[ns]\n",
            " 2   total_paid    226904 non-null  float64       \n",
            " 3   state         226904 non-null  object        \n",
            "dtypes: datetime64[ns](1), float64(1), int64(1), object(1)\n",
            "memory usage: 8.7+ MB\n"
          ]
        }
      ],
      "source": [
        "# Checking for missing values\n",
        "orders_df.info()"
      ]
    },
    {
      "cell_type": "markdown",
      "metadata": {
        "id": "nziIE3hbwmNa"
      },
      "source": [
        "### 3.2.&nbsp; Orderlines\n",
        "There are no missing values in `orderlines_df`"
      ]
    },
    {
      "cell_type": "markdown",
      "metadata": {
        "id": "_feog1aCwosJ"
      },
      "source": [
        "## 4.&nbsp; Datatypes"
      ]
    },
    {
      "cell_type": "markdown",
      "metadata": {
        "id": "wCJyQYkOwrBE"
      },
      "source": [
        "### 4.1.&nbsp; Orders\n",
        "* `created_date` should become datetime datatype. Type conversion was done during csv file import."
      ]
    },
    {
      "cell_type": "code",
      "execution_count": null,
      "metadata": {
        "id": "cF9roGlewr8j"
      },
      "outputs": [],
      "source": [
        "# orders_df[\"created_date\"] = pd.to_datetime(orders_df[\"created_date\"])"
      ]
    },
    {
      "cell_type": "markdown",
      "metadata": {
        "id": "osvynBTNwsin"
      },
      "source": [
        "### 4.1.&nbsp; Orderlines\n",
        "* `date` should be a datetime datatype. Type conversion was done during csv file import.\n",
        "* `unit_price` should be a float datatype"
      ]
    },
    {
      "cell_type": "markdown",
      "metadata": {
        "id": "PJcuKn8K06Yd"
      },
      "source": [
        "#### 4.1.1.&nbsp; `date`"
      ]
    },
    {
      "cell_type": "code",
      "execution_count": null,
      "metadata": {
        "id": "FnXgRKERwtvS"
      },
      "outputs": [],
      "source": [
        "# orderlines_df[\"date\"] = pd.to_datetime(orderlines_df[\"date\"])"
      ]
    },
    {
      "cell_type": "markdown",
      "metadata": {
        "id": "F7i78NDY0-oF"
      },
      "source": [
        "#### 4.1.2.&nbsp;`unit_price`"
      ]
    },
    {
      "cell_type": "code",
      "execution_count": 28,
      "metadata": {
        "colab": {
          "base_uri": "https://localhost:8080/",
          "height": 419
        },
        "id": "iOFBNmuRDuGU",
        "outputId": "a8e0c192-45a5-4726-f783-c051f1d569dc"
      },
      "outputs": [
        {
          "ename": "ValueError",
          "evalue": "Unable to parse string \"1.137.99\" at position 6",
          "output_type": "error",
          "traceback": [
            "\u001b[31m---------------------------------------------------------------------------\u001b[39m",
            "\u001b[31mValueError\u001b[39m                                Traceback (most recent call last)",
            "\u001b[36mFile \u001b[39m\u001b[32mlib.pyx:2391\u001b[39m, in \u001b[36mpandas._libs.lib.maybe_convert_numeric\u001b[39m\u001b[34m()\u001b[39m\n",
            "\u001b[31mValueError\u001b[39m: Unable to parse string \"1.137.99\"",
            "\nDuring handling of the above exception, another exception occurred:\n",
            "\u001b[31mValueError\u001b[39m                                Traceback (most recent call last)",
            "\u001b[36mCell\u001b[39m\u001b[36m \u001b[39m\u001b[32mIn[28]\u001b[39m\u001b[32m, line 1\u001b[39m\n\u001b[32m----> \u001b[39m\u001b[32m1\u001b[39m orderlines_df[\u001b[33m\"\u001b[39m\u001b[33munit_price\u001b[39m\u001b[33m\"\u001b[39m] = \u001b[43mpd\u001b[49m\u001b[43m.\u001b[49m\u001b[43mto_numeric\u001b[49m\u001b[43m(\u001b[49m\u001b[43morderlines_df\u001b[49m\u001b[43m[\u001b[49m\u001b[33;43m\"\u001b[39;49m\u001b[33;43munit_price\u001b[39;49m\u001b[33;43m\"\u001b[39;49m\u001b[43m]\u001b[49m\u001b[43m)\u001b[49m\n",
            "\u001b[36mFile \u001b[39m\u001b[32mc:\\Users\\alexo\\Documents\\dev\\WBS_bootcamp\\.venv\\Lib\\site-packages\\pandas\\core\\tools\\numeric.py:232\u001b[39m, in \u001b[36mto_numeric\u001b[39m\u001b[34m(arg, errors, downcast, dtype_backend)\u001b[39m\n\u001b[32m    230\u001b[39m coerce_numeric = errors \u001b[38;5;129;01mnot\u001b[39;00m \u001b[38;5;129;01min\u001b[39;00m (\u001b[33m\"\u001b[39m\u001b[33mignore\u001b[39m\u001b[33m\"\u001b[39m, \u001b[33m\"\u001b[39m\u001b[33mraise\u001b[39m\u001b[33m\"\u001b[39m)\n\u001b[32m    231\u001b[39m \u001b[38;5;28;01mtry\u001b[39;00m:\n\u001b[32m--> \u001b[39m\u001b[32m232\u001b[39m     values, new_mask = \u001b[43mlib\u001b[49m\u001b[43m.\u001b[49m\u001b[43mmaybe_convert_numeric\u001b[49m\u001b[43m(\u001b[49m\u001b[43m  \u001b[49m\u001b[38;5;66;43;03m# type: ignore[call-overload]\u001b[39;49;00m\n\u001b[32m    233\u001b[39m \u001b[43m        \u001b[49m\u001b[43mvalues\u001b[49m\u001b[43m,\u001b[49m\n\u001b[32m    234\u001b[39m \u001b[43m        \u001b[49m\u001b[38;5;28;43mset\u001b[39;49m\u001b[43m(\u001b[49m\u001b[43m)\u001b[49m\u001b[43m,\u001b[49m\n\u001b[32m    235\u001b[39m \u001b[43m        \u001b[49m\u001b[43mcoerce_numeric\u001b[49m\u001b[43m=\u001b[49m\u001b[43mcoerce_numeric\u001b[49m\u001b[43m,\u001b[49m\n\u001b[32m    236\u001b[39m \u001b[43m        \u001b[49m\u001b[43mconvert_to_masked_nullable\u001b[49m\u001b[43m=\u001b[49m\u001b[43mdtype_backend\u001b[49m\u001b[43m \u001b[49m\u001b[38;5;129;43;01mis\u001b[39;49;00m\u001b[43m \u001b[49m\u001b[38;5;129;43;01mnot\u001b[39;49;00m\u001b[43m \u001b[49m\u001b[43mlib\u001b[49m\u001b[43m.\u001b[49m\u001b[43mno_default\u001b[49m\n\u001b[32m    237\u001b[39m \u001b[43m        \u001b[49m\u001b[38;5;129;43;01mor\u001b[39;49;00m\u001b[43m \u001b[49m\u001b[38;5;28;43misinstance\u001b[39;49m\u001b[43m(\u001b[49m\u001b[43mvalues_dtype\u001b[49m\u001b[43m,\u001b[49m\u001b[43m \u001b[49m\u001b[43mStringDtype\u001b[49m\u001b[43m)\u001b[49m\n\u001b[32m    238\u001b[39m \u001b[43m        \u001b[49m\u001b[38;5;129;43;01mand\u001b[39;49;00m\u001b[43m \u001b[49m\u001b[38;5;129;43;01mnot\u001b[39;49;00m\u001b[43m \u001b[49m\u001b[43mvalues_dtype\u001b[49m\u001b[43m.\u001b[49m\u001b[43mstorage\u001b[49m\u001b[43m \u001b[49m\u001b[43m==\u001b[49m\u001b[43m \u001b[49m\u001b[33;43m\"\u001b[39;49m\u001b[33;43mpyarrow_numpy\u001b[39;49m\u001b[33;43m\"\u001b[39;49m\u001b[43m,\u001b[49m\n\u001b[32m    239\u001b[39m \u001b[43m    \u001b[49m\u001b[43m)\u001b[49m\n\u001b[32m    240\u001b[39m \u001b[38;5;28;01mexcept\u001b[39;00m (\u001b[38;5;167;01mValueError\u001b[39;00m, \u001b[38;5;167;01mTypeError\u001b[39;00m):\n\u001b[32m    241\u001b[39m     \u001b[38;5;28;01mif\u001b[39;00m errors == \u001b[33m\"\u001b[39m\u001b[33mraise\u001b[39m\u001b[33m\"\u001b[39m:\n",
            "\u001b[36mFile \u001b[39m\u001b[32mlib.pyx:2433\u001b[39m, in \u001b[36mpandas._libs.lib.maybe_convert_numeric\u001b[39m\u001b[34m()\u001b[39m\n",
            "\u001b[31mValueError\u001b[39m: Unable to parse string \"1.137.99\" at position 6"
          ]
        }
      ],
      "source": [
        "orderlines_df[\"unit_price\"] = pd.to_numeric(orderlines_df[\"unit_price\"])"
      ]
    },
    {
      "cell_type": "markdown",
      "metadata": {
        "id": "xEqhP5RFSmRi"
      },
      "source": [
        "As you can see when we try to convert `unit_price` to a numerical datatype, we receive a `ValueError` telling us that pandas doesn't understand the number `1.137.99`. This is probably because numbers cannot have multiple decimal points. Let's see if there are any other numbers like this:\n",
        "\n",
        "> `.` is a wildcard in regex, we need the `\\` as an escape"
      ]
    },
    {
      "cell_type": "code",
      "execution_count": 29,
      "metadata": {
        "colab": {
          "base_uri": "https://localhost:8080/",
          "height": 178
        },
        "id": "ONy-oCt0SkrR",
        "outputId": "78c7c86d-25cc-4b67-cf92-502d9bdad00d"
      },
      "outputs": [
        {
          "data": {
            "application/vnd.microsoft.datawrangler.viewer.v0+json": {
              "columns": [
                {
                  "name": "unit_price",
                  "rawType": "int64",
                  "type": "integer"
                },
                {
                  "name": "count",
                  "rawType": "int64",
                  "type": "integer"
                }
              ],
              "ref": "c9499e80-94d9-40ec-8158-e09ae4837b1e",
              "rows": [
                [
                  "1",
                  "257809"
                ],
                [
                  "2",
                  "36168"
                ]
              ],
              "shape": {
                "columns": 1,
                "rows": 2
              }
            },
            "text/plain": [
              "unit_price\n",
              "1    257809\n",
              "2     36168\n",
              "Name: count, dtype: int64"
            ]
          },
          "execution_count": 29,
          "metadata": {},
          "output_type": "execute_result"
        }
      ],
      "source": [
        "# Count the number of decimal points in the unit_price\n",
        "orderlines_df['unit_price'].str.count(\"\\\\.\").value_counts()"
      ]
    },
    {
      "cell_type": "markdown",
      "metadata": {
        "id": "HSUPvFJU6Jv-"
      },
      "source": [
        "Looks like over 36000 rows in `orderlines` are affected by this problem. Let's work out how much that is as a percentage of our total data."
      ]
    },
    {
      "cell_type": "code",
      "execution_count": 30,
      "metadata": {
        "colab": {
          "base_uri": "https://localhost:8080/"
        },
        "id": "r75Rm1EgVjpi",
        "outputId": "2cca06a2-ded0-4600-d5bf-b6de626f2b3d"
      },
      "outputs": [
        {
          "name": "stdout",
          "output_type": "stream",
          "text": [
            "12.30% of the rows in our DataFrame have multiple decimal points in the unit_price\n"
          ]
        }
      ],
      "source": [
        "# Count the rows with more than one `.`\n",
        "mult_decimal_rows = (orderlines_df['unit_price'].str.count(\"\\\\.\")>1).sum()\n",
        "\n",
        "# Find the percentage of corrupted rows\n",
        "percent_corrupted = (100 * mult_decimal_rows / orderlines_df.shape[0])\n",
        "print(f\"{percent_corrupted:.2f}% of the rows in our DataFrame have multiple decimal points in the unit_price\")"
      ]
    },
    {
      "cell_type": "markdown",
      "metadata": {
        "id": "5Kp9_4pqeu5J"
      },
      "source": [
        "This is a bit of a tricky decision as 12.3% is a significant amount of our data... and we might even end up losing a larger portion of our data than this too. For the moment we will delete the rows as we only have 2 weeks for this project and I'd like some quick, accurate results to show. If we have time at the end, we can come back and investigate this problem further, maybe there's a solution?\n",
        "\n",
        "Each row of `orderlines` represents a product in an order. For example, if order number 175 contained 3 seperate products, then order 175 would have 3 rows in `orderlines`, one row for each of the products. If 2 of those products have 'normal' prices (14.99, 15.85) and 1 has a price with 2 decimal points (1.137.99), we need to remove the whole order and not just the affected row. If we only remove the row with 2 decimal places then any later analysis about products and prices could be misleading.\n",
        "\n",
        "We therefore need to find the order numbers associated with the rows that have 2 decimal points, and then remove all the associated rows."
      ]
    },
    {
      "cell_type": "code",
      "execution_count": 31,
      "metadata": {
        "id": "wQnSe-n1WCqv"
      },
      "outputs": [],
      "source": [
        "# Boolean mask to find the orders that contain a price with multiple decimal points\n",
        "multiple_decimal_mask = orderlines_df['unit_price'].str.count(\"\\\\.\") > 1\n",
        "\n",
        "# Apply the boolean mask to the orderlines DataFrame. This way we can find the order_id of all the affected orders.\n",
        "corrupted_order_ids = orderlines_df.loc[multiple_decimal_mask, \"id_order\"]\n",
        "\n",
        "# Keep only the rows that do not have multiple decimal points\n",
        "#orderlines_df = orderlines_df.loc[~orderlines_df['id_order'].isin(corrupted_order_ids)]"
      ]
    },
    {
      "cell_type": "markdown",
      "metadata": {},
      "source": [
        "#### Correcting unit_price data type"
      ]
    },
    {
      "cell_type": "code",
      "execution_count": 32,
      "metadata": {},
      "outputs": [
        {
          "name": "stdout",
          "output_type": "stream",
          "text": [
            "<class 'pandas.core.frame.DataFrame'>\n",
            "RangeIndex: 293977 entries, 0 to 293976\n",
            "Data columns (total 7 columns):\n",
            " #   Column            Non-Null Count   Dtype         \n",
            "---  ------            --------------   -----         \n",
            " 0   id                293977 non-null  int64         \n",
            " 1   id_order          293977 non-null  int64         \n",
            " 2   product_id        293977 non-null  int64         \n",
            " 3   product_quantity  293977 non-null  int64         \n",
            " 4   sku               293977 non-null  object        \n",
            " 5   unit_price        293977 non-null  float64       \n",
            " 6   date              293977 non-null  datetime64[ns]\n",
            "dtypes: datetime64[ns](1), float64(1), int64(4), object(1)\n",
            "memory usage: 15.7+ MB\n"
          ]
        }
      ],
      "source": [
        "orderlines_df.loc[multiple_decimal_mask, 'unit_price'] = orderlines_df.loc[multiple_decimal_mask, 'unit_price'].str.replace(\".\", \"\", 1)\n",
        "\n",
        "# Converting unit_price type to numeric\n",
        "orderlines_df[\"unit_price\"] = pd.to_numeric(orderlines_df[\"unit_price\"])\n",
        "\n",
        "orderlines_df.info()"
      ]
    },
    {
      "cell_type": "markdown",
      "metadata": {
        "id": "sBudIQLm6oJQ"
      },
      "source": [
        "It worked perfectly"
      ]
    },
    {
      "cell_type": "markdown",
      "metadata": {
        "id": "1zGAzgIX8_-D"
      },
      "source": [
        "# Clean the `products` DataFrame"
      ]
    },
    {
      "cell_type": "code",
      "execution_count": null,
      "metadata": {
        "id": "LtYqdFsa9KTS"
      },
      "outputs": [],
      "source": [
        "# # products.csv\n",
        "# url = \"https://drive.google.com/file/d/1afxwDXfl-7cQ_qLwyDitfcCx3u7WMvkU/view?usp=sharing\"\n",
        "# path = \"https://drive.google.com/uc?export=download&id=\"+url.split(\"/\")[-2]\n",
        "# products = pd.read_csv(path)"
      ]
    },
    {
      "cell_type": "code",
      "execution_count": 33,
      "metadata": {
        "id": "UW3zYoni9Vcy"
      },
      "outputs": [],
      "source": [
        "products = pd.read_csv('3_Data_Cleaning/data/products.csv')"
      ]
    },
    {
      "cell_type": "code",
      "execution_count": 34,
      "metadata": {},
      "outputs": [],
      "source": [
        "products_df = products.copy()"
      ]
    },
    {
      "cell_type": "code",
      "execution_count": 35,
      "metadata": {},
      "outputs": [
        {
          "data": {
            "application/vnd.microsoft.datawrangler.viewer.v0+json": {
              "columns": [
                {
                  "name": "index",
                  "rawType": "int64",
                  "type": "integer"
                },
                {
                  "name": "sku",
                  "rawType": "object",
                  "type": "string"
                },
                {
                  "name": "name",
                  "rawType": "object",
                  "type": "string"
                },
                {
                  "name": "desc",
                  "rawType": "object",
                  "type": "string"
                },
                {
                  "name": "price",
                  "rawType": "object",
                  "type": "string"
                },
                {
                  "name": "promo_price",
                  "rawType": "object",
                  "type": "string"
                },
                {
                  "name": "in_stock",
                  "rawType": "int64",
                  "type": "integer"
                },
                {
                  "name": "type",
                  "rawType": "object",
                  "type": "string"
                }
              ],
              "ref": "6ce5e6ee-3601-4b0b-b833-f022654fe213",
              "rows": [
                [
                  "19027",
                  "PAC2503",
                  "OWC ThuderBay RAID Thunderbolt 4 3 | 24TB (4x6TB) Seagate Iron Wolf",
                  "RAID Disk external box 25 inch and 35 inch two connectors Thunderbolt 3",
                  "1724.95",
                  "13.413.685",
                  "0",
                  "11935397"
                ],
                [
                  "14360",
                  "APP1825",
                  "Apple MacBook Pro 13 \"Core i7 24GHz | 8GB RAM | 512GB PCIe SSD Gray Space",
                  "MacBook Pro 13 inch i7 to 24GHz with 8GB RAM and 512GB SSD PCIe (MLL42Y / A)",
                  "2299",
                  "21.055.936",
                  "0",
                  "2158"
                ],
                [
                  "10212",
                  "PAC1594",
                  "Apple iMac 27 \"Core i5 3.2GHz Retina 5K | 32GB RAM | 1TB SSD | AMD Radeon R9 M390",
                  "Desktop computer iMac 27-inch 3.2GHz Core i5 5K Retina | 32GB RAM | 1TB SSD | AMD Radeon R9 M390 (MK472Y / A)",
                  "3889",
                  "28.489.898",
                  "0",
                  "5,74E+15"
                ],
                [
                  "11542",
                  "TWS0095",
                  "Twelve South BookBook MacBook sleeve Rutledge 12 \"brown",
                  "Cover hardcover book design and vintage leather with padded interior for Macbook 12 inches.",
                  "99.99",
                  "929.885",
                  "0",
                  "13835403"
                ],
                [
                  "10154",
                  "PAC1592",
                  "Apple iMac 27 \"Core i5 3.2GHz Retina 5K | 8GB RAM | 1TB SSD | AMD Radeon R9 M390",
                  "Desktop computer iMac 27-inch 3.2GHz Core i5 5K Retina | 8GB RAM | 1TB SSD | AMD Radeon R9 M390 (MK472Y / A)",
                  "3169",
                  "25.979.898",
                  "0",
                  "5,74E+15"
                ],
                [
                  "2684",
                  "QNA0116",
                  "QNAP TVS-863 | 4GB RAM Mac and PC Server Nas",
                  "8-bay NAS Server for Mac and PC.",
                  "1136.19",
                  "11.359.904",
                  "0",
                  "12175397"
                ],
                [
                  "18922",
                  "LIF0114-A",
                  "Open - LifeProof nüüd Submersible iPhone Case 7 Blue",
                  "submersible and resistant to extreme conditions Reconditioned Case for iPhone 7",
                  "89.99",
                  "42.729",
                  "1",
                  "11865403"
                ],
                [
                  "16120",
                  "AKI0019",
                  "Akitio Thunder2 QUAD Case External Thunderbolt 2",
                  "Disk outer box 25 inch and 35 inch Thunderbolt 2 (20 Gbps) connection for Mac and PC",
                  "468",
                  "4.315.114",
                  "0",
                  "12995397"
                ],
                [
                  "6633",
                  "PAC1238",
                  "Apple iMac 27 \"Core i7 Retina 5K 4GHz | 32GB | 1TB SSD | R9 M395X 4GB",
                  "IMac desktop computer 27 inch Retina 5K RAM 32GB SSD 1TB and R9 M395X graphics 4GB (MK482Y / A).",
                  "4669",
                  "37.695.036",
                  "0",
                  "5,74E+15"
                ],
                [
                  "6971",
                  "PAC1610",
                  "Apple iMac 27 \"Core i5 3.3GHz Retina 5K | 8GB RAM | 2TB SSD",
                  "Desktop computer iMac 27-inch 3.3GHz Core i5 5K Retina | 8GB RAM | 2TB SSD | R9 M395X 4GB (MK482Y / A)",
                  "4069",
                  "31.889.901",
                  "0",
                  "5,74E+15"
                ],
                [
                  "3018",
                  "ZAG0021",
                  "Zagg invisibleSHIELD Screen Protector Apple Watch 38mm",
                  "Screen Protector for Apple Watch.",
                  "9.99",
                  "69.902",
                  "1",
                  "2425"
                ],
                [
                  "8306",
                  "PAC1585",
                  "Apple iMac 21.5 \"Core i7 3.3GHz 4K Retina | 16GB RAM | 2TB SSD",
                  "Desktop computer iMac 21.5-inch 3.3GHz Core i7 4K Retina | 16GB RAM | 2TB SSD (MK452Y / A)",
                  "3649",
                  "2749.99",
                  "0",
                  "1282"
                ],
                [
                  "5065",
                  "PAC1045",
                  "Apple iMac 27 \"Core i7 Retina 5K 4GHz | 16GB | 512GB Flash",
                  "IMac desktop computer 27 inch 5K Retina i7 4GHz 512GB Flash RAM 16GB (MK482Y / A).",
                  "3409",
                  "31.019.899",
                  "0",
                  "5,74E+15"
                ],
                [
                  "12283",
                  "APP1468",
                  "Apple Watch Sport Silver 38mm white sports strap",
                  "Apple Watch Sport Silver 38mm white sports belt (MJ2T2TY / A)",
                  "369",
                  "3.690.004",
                  "0",
                  "24885185"
                ],
                [
                  "4828",
                  "PAC1041",
                  "Apple iMac 27 \"Core i7 Retina 5K 4GHz | 16GB | 256GB Flash | AMD Radeon R9 M395",
                  "IMac desktop computer 27 inch 5K Retina i7 4GHz 256GB Flash RAM 16GB (MK482Y / A).",
                  "3169",
                  "28.739.896",
                  "0",
                  "5,74E+15"
                ],
                [
                  "15390",
                  "REP0300",
                  "Full screen repair iPhone 6 Plus",
                  "Repair service including parts and labor for iPhone 6 Plus",
                  "99.99",
                  "999.899",
                  "0",
                  "1,44E+11"
                ],
                [
                  "912",
                  "GRT0312",
                  "Griffin Multidock February 10 bays Cargo Security and iPad",
                  "charging station 10 devices.",
                  "899",
                  "8.989.937",
                  "0",
                  "1216"
                ],
                [
                  "6650",
                  "PAC1237",
                  "Apple iMac 27 \"Core i7 Retina 5K 4GHz | 16GB | 1TB SSD | R9 M395X 4GB",
                  "IMac desktop computer 27 inch Retina 5K RAM 16GB SSD 1TB (MK482Y / A).",
                  "4189",
                  "35.949.899",
                  "0",
                  "5,74E+15"
                ],
                [
                  "13459",
                  "MOS0205",
                  "Moshi iGlaze iPhone Armor Case 7 Black",
                  "protective cover two colors with metallic accents for iPhone 7",
                  "40",
                  "329.894",
                  "0",
                  "11865403"
                ],
                [
                  "17558",
                  "AP20332",
                  "Like new - Apple Smart Cover iPad Mini 4 Charcoal Gray",
                  "Polyurethane Smart Cover for iPad Reconditioned Mini 4.",
                  "45",
                  "219.905",
                  "0",
                  "12635403"
                ]
              ],
              "shape": {
                "columns": 7,
                "rows": 20
              }
            },
            "text/html": [
              "<div>\n",
              "<style scoped>\n",
              "    .dataframe tbody tr th:only-of-type {\n",
              "        vertical-align: middle;\n",
              "    }\n",
              "\n",
              "    .dataframe tbody tr th {\n",
              "        vertical-align: top;\n",
              "    }\n",
              "\n",
              "    .dataframe thead th {\n",
              "        text-align: right;\n",
              "    }\n",
              "</style>\n",
              "<table border=\"1\" class=\"dataframe\">\n",
              "  <thead>\n",
              "    <tr style=\"text-align: right;\">\n",
              "      <th></th>\n",
              "      <th>sku</th>\n",
              "      <th>name</th>\n",
              "      <th>desc</th>\n",
              "      <th>price</th>\n",
              "      <th>promo_price</th>\n",
              "      <th>in_stock</th>\n",
              "      <th>type</th>\n",
              "    </tr>\n",
              "  </thead>\n",
              "  <tbody>\n",
              "    <tr>\n",
              "      <th>19027</th>\n",
              "      <td>PAC2503</td>\n",
              "      <td>OWC ThuderBay RAID Thunderbolt 4 3 | 24TB (4x6...</td>\n",
              "      <td>RAID Disk external box 25 inch and 35 inch two...</td>\n",
              "      <td>1724.95</td>\n",
              "      <td>13.413.685</td>\n",
              "      <td>0</td>\n",
              "      <td>11935397</td>\n",
              "    </tr>\n",
              "    <tr>\n",
              "      <th>14360</th>\n",
              "      <td>APP1825</td>\n",
              "      <td>Apple MacBook Pro 13 \"Core i7 24GHz | 8GB RAM ...</td>\n",
              "      <td>MacBook Pro 13 inch i7 to 24GHz with 8GB RAM a...</td>\n",
              "      <td>2299</td>\n",
              "      <td>21.055.936</td>\n",
              "      <td>0</td>\n",
              "      <td>2158</td>\n",
              "    </tr>\n",
              "    <tr>\n",
              "      <th>10212</th>\n",
              "      <td>PAC1594</td>\n",
              "      <td>Apple iMac 27 \"Core i5 3.2GHz Retina 5K | 32GB...</td>\n",
              "      <td>Desktop computer iMac 27-inch 3.2GHz Core i5 5...</td>\n",
              "      <td>3889</td>\n",
              "      <td>28.489.898</td>\n",
              "      <td>0</td>\n",
              "      <td>5,74E+15</td>\n",
              "    </tr>\n",
              "    <tr>\n",
              "      <th>11542</th>\n",
              "      <td>TWS0095</td>\n",
              "      <td>Twelve South BookBook MacBook sleeve Rutledge ...</td>\n",
              "      <td>Cover hardcover book design and vintage leathe...</td>\n",
              "      <td>99.99</td>\n",
              "      <td>929.885</td>\n",
              "      <td>0</td>\n",
              "      <td>13835403</td>\n",
              "    </tr>\n",
              "    <tr>\n",
              "      <th>10154</th>\n",
              "      <td>PAC1592</td>\n",
              "      <td>Apple iMac 27 \"Core i5 3.2GHz Retina 5K | 8GB ...</td>\n",
              "      <td>Desktop computer iMac 27-inch 3.2GHz Core i5 5...</td>\n",
              "      <td>3169</td>\n",
              "      <td>25.979.898</td>\n",
              "      <td>0</td>\n",
              "      <td>5,74E+15</td>\n",
              "    </tr>\n",
              "    <tr>\n",
              "      <th>2684</th>\n",
              "      <td>QNA0116</td>\n",
              "      <td>QNAP TVS-863 | 4GB RAM Mac and PC Server Nas</td>\n",
              "      <td>8-bay NAS Server for Mac and PC.</td>\n",
              "      <td>1136.19</td>\n",
              "      <td>11.359.904</td>\n",
              "      <td>0</td>\n",
              "      <td>12175397</td>\n",
              "    </tr>\n",
              "    <tr>\n",
              "      <th>18922</th>\n",
              "      <td>LIF0114-A</td>\n",
              "      <td>Open - LifeProof nüüd Submersible iPhone Case ...</td>\n",
              "      <td>submersible and resistant to extreme condition...</td>\n",
              "      <td>89.99</td>\n",
              "      <td>42.729</td>\n",
              "      <td>1</td>\n",
              "      <td>11865403</td>\n",
              "    </tr>\n",
              "    <tr>\n",
              "      <th>16120</th>\n",
              "      <td>AKI0019</td>\n",
              "      <td>Akitio Thunder2 QUAD Case External Thunderbolt 2</td>\n",
              "      <td>Disk outer box 25 inch and 35 inch Thunderbolt...</td>\n",
              "      <td>468</td>\n",
              "      <td>4.315.114</td>\n",
              "      <td>0</td>\n",
              "      <td>12995397</td>\n",
              "    </tr>\n",
              "    <tr>\n",
              "      <th>6633</th>\n",
              "      <td>PAC1238</td>\n",
              "      <td>Apple iMac 27 \"Core i7 Retina 5K 4GHz | 32GB |...</td>\n",
              "      <td>IMac desktop computer 27 inch Retina 5K RAM 32...</td>\n",
              "      <td>4669</td>\n",
              "      <td>37.695.036</td>\n",
              "      <td>0</td>\n",
              "      <td>5,74E+15</td>\n",
              "    </tr>\n",
              "    <tr>\n",
              "      <th>6971</th>\n",
              "      <td>PAC1610</td>\n",
              "      <td>Apple iMac 27 \"Core i5 3.3GHz Retina 5K | 8GB ...</td>\n",
              "      <td>Desktop computer iMac 27-inch 3.3GHz Core i5 5...</td>\n",
              "      <td>4069</td>\n",
              "      <td>31.889.901</td>\n",
              "      <td>0</td>\n",
              "      <td>5,74E+15</td>\n",
              "    </tr>\n",
              "    <tr>\n",
              "      <th>3018</th>\n",
              "      <td>ZAG0021</td>\n",
              "      <td>Zagg invisibleSHIELD Screen Protector Apple Wa...</td>\n",
              "      <td>Screen Protector for Apple Watch.</td>\n",
              "      <td>9.99</td>\n",
              "      <td>69.902</td>\n",
              "      <td>1</td>\n",
              "      <td>2425</td>\n",
              "    </tr>\n",
              "    <tr>\n",
              "      <th>8306</th>\n",
              "      <td>PAC1585</td>\n",
              "      <td>Apple iMac 21.5 \"Core i7 3.3GHz 4K Retina | 16...</td>\n",
              "      <td>Desktop computer iMac 21.5-inch 3.3GHz Core i7...</td>\n",
              "      <td>3649</td>\n",
              "      <td>2749.99</td>\n",
              "      <td>0</td>\n",
              "      <td>1282</td>\n",
              "    </tr>\n",
              "    <tr>\n",
              "      <th>5065</th>\n",
              "      <td>PAC1045</td>\n",
              "      <td>Apple iMac 27 \"Core i7 Retina 5K 4GHz | 16GB |...</td>\n",
              "      <td>IMac desktop computer 27 inch 5K Retina i7 4GH...</td>\n",
              "      <td>3409</td>\n",
              "      <td>31.019.899</td>\n",
              "      <td>0</td>\n",
              "      <td>5,74E+15</td>\n",
              "    </tr>\n",
              "    <tr>\n",
              "      <th>12283</th>\n",
              "      <td>APP1468</td>\n",
              "      <td>Apple Watch Sport Silver 38mm white sports strap</td>\n",
              "      <td>Apple Watch Sport Silver 38mm white sports bel...</td>\n",
              "      <td>369</td>\n",
              "      <td>3.690.004</td>\n",
              "      <td>0</td>\n",
              "      <td>24885185</td>\n",
              "    </tr>\n",
              "    <tr>\n",
              "      <th>4828</th>\n",
              "      <td>PAC1041</td>\n",
              "      <td>Apple iMac 27 \"Core i7 Retina 5K 4GHz | 16GB |...</td>\n",
              "      <td>IMac desktop computer 27 inch 5K Retina i7 4GH...</td>\n",
              "      <td>3169</td>\n",
              "      <td>28.739.896</td>\n",
              "      <td>0</td>\n",
              "      <td>5,74E+15</td>\n",
              "    </tr>\n",
              "    <tr>\n",
              "      <th>15390</th>\n",
              "      <td>REP0300</td>\n",
              "      <td>Full screen repair iPhone 6 Plus</td>\n",
              "      <td>Repair service including parts and labor for i...</td>\n",
              "      <td>99.99</td>\n",
              "      <td>999.899</td>\n",
              "      <td>0</td>\n",
              "      <td>1,44E+11</td>\n",
              "    </tr>\n",
              "    <tr>\n",
              "      <th>912</th>\n",
              "      <td>GRT0312</td>\n",
              "      <td>Griffin Multidock February 10 bays Cargo Secur...</td>\n",
              "      <td>charging station 10 devices.</td>\n",
              "      <td>899</td>\n",
              "      <td>8.989.937</td>\n",
              "      <td>0</td>\n",
              "      <td>1216</td>\n",
              "    </tr>\n",
              "    <tr>\n",
              "      <th>6650</th>\n",
              "      <td>PAC1237</td>\n",
              "      <td>Apple iMac 27 \"Core i7 Retina 5K 4GHz | 16GB |...</td>\n",
              "      <td>IMac desktop computer 27 inch Retina 5K RAM 16...</td>\n",
              "      <td>4189</td>\n",
              "      <td>35.949.899</td>\n",
              "      <td>0</td>\n",
              "      <td>5,74E+15</td>\n",
              "    </tr>\n",
              "    <tr>\n",
              "      <th>13459</th>\n",
              "      <td>MOS0205</td>\n",
              "      <td>Moshi iGlaze iPhone Armor Case 7 Black</td>\n",
              "      <td>protective cover two colors with metallic acce...</td>\n",
              "      <td>40</td>\n",
              "      <td>329.894</td>\n",
              "      <td>0</td>\n",
              "      <td>11865403</td>\n",
              "    </tr>\n",
              "    <tr>\n",
              "      <th>17558</th>\n",
              "      <td>AP20332</td>\n",
              "      <td>Like new - Apple Smart Cover iPad Mini 4 Charc...</td>\n",
              "      <td>Polyurethane Smart Cover for iPad Reconditione...</td>\n",
              "      <td>45</td>\n",
              "      <td>219.905</td>\n",
              "      <td>0</td>\n",
              "      <td>12635403</td>\n",
              "    </tr>\n",
              "  </tbody>\n",
              "</table>\n",
              "</div>"
            ],
            "text/plain": [
              "             sku                                               name  \\\n",
              "19027    PAC2503  OWC ThuderBay RAID Thunderbolt 4 3 | 24TB (4x6...   \n",
              "14360    APP1825  Apple MacBook Pro 13 \"Core i7 24GHz | 8GB RAM ...   \n",
              "10212    PAC1594  Apple iMac 27 \"Core i5 3.2GHz Retina 5K | 32GB...   \n",
              "11542    TWS0095  Twelve South BookBook MacBook sleeve Rutledge ...   \n",
              "10154    PAC1592  Apple iMac 27 \"Core i5 3.2GHz Retina 5K | 8GB ...   \n",
              "2684     QNA0116       QNAP TVS-863 | 4GB RAM Mac and PC Server Nas   \n",
              "18922  LIF0114-A  Open - LifeProof nüüd Submersible iPhone Case ...   \n",
              "16120    AKI0019   Akitio Thunder2 QUAD Case External Thunderbolt 2   \n",
              "6633     PAC1238  Apple iMac 27 \"Core i7 Retina 5K 4GHz | 32GB |...   \n",
              "6971     PAC1610  Apple iMac 27 \"Core i5 3.3GHz Retina 5K | 8GB ...   \n",
              "3018     ZAG0021  Zagg invisibleSHIELD Screen Protector Apple Wa...   \n",
              "8306     PAC1585  Apple iMac 21.5 \"Core i7 3.3GHz 4K Retina | 16...   \n",
              "5065     PAC1045  Apple iMac 27 \"Core i7 Retina 5K 4GHz | 16GB |...   \n",
              "12283    APP1468   Apple Watch Sport Silver 38mm white sports strap   \n",
              "4828     PAC1041  Apple iMac 27 \"Core i7 Retina 5K 4GHz | 16GB |...   \n",
              "15390    REP0300                   Full screen repair iPhone 6 Plus   \n",
              "912      GRT0312  Griffin Multidock February 10 bays Cargo Secur...   \n",
              "6650     PAC1237  Apple iMac 27 \"Core i7 Retina 5K 4GHz | 16GB |...   \n",
              "13459    MOS0205             Moshi iGlaze iPhone Armor Case 7 Black   \n",
              "17558    AP20332  Like new - Apple Smart Cover iPad Mini 4 Charc...   \n",
              "\n",
              "                                                    desc    price promo_price  \\\n",
              "19027  RAID Disk external box 25 inch and 35 inch two...  1724.95  13.413.685   \n",
              "14360  MacBook Pro 13 inch i7 to 24GHz with 8GB RAM a...     2299  21.055.936   \n",
              "10212  Desktop computer iMac 27-inch 3.2GHz Core i5 5...     3889  28.489.898   \n",
              "11542  Cover hardcover book design and vintage leathe...    99.99     929.885   \n",
              "10154  Desktop computer iMac 27-inch 3.2GHz Core i5 5...     3169  25.979.898   \n",
              "2684                    8-bay NAS Server for Mac and PC.  1136.19  11.359.904   \n",
              "18922  submersible and resistant to extreme condition...    89.99      42.729   \n",
              "16120  Disk outer box 25 inch and 35 inch Thunderbolt...      468   4.315.114   \n",
              "6633   IMac desktop computer 27 inch Retina 5K RAM 32...     4669  37.695.036   \n",
              "6971   Desktop computer iMac 27-inch 3.3GHz Core i5 5...     4069  31.889.901   \n",
              "3018                   Screen Protector for Apple Watch.     9.99      69.902   \n",
              "8306   Desktop computer iMac 21.5-inch 3.3GHz Core i7...     3649     2749.99   \n",
              "5065   IMac desktop computer 27 inch 5K Retina i7 4GH...     3409  31.019.899   \n",
              "12283  Apple Watch Sport Silver 38mm white sports bel...      369   3.690.004   \n",
              "4828   IMac desktop computer 27 inch 5K Retina i7 4GH...     3169  28.739.896   \n",
              "15390  Repair service including parts and labor for i...    99.99     999.899   \n",
              "912                         charging station 10 devices.      899   8.989.937   \n",
              "6650   IMac desktop computer 27 inch Retina 5K RAM 16...     4189  35.949.899   \n",
              "13459  protective cover two colors with metallic acce...       40     329.894   \n",
              "17558  Polyurethane Smart Cover for iPad Reconditione...       45     219.905   \n",
              "\n",
              "       in_stock      type  \n",
              "19027         0  11935397  \n",
              "14360         0      2158  \n",
              "10212         0  5,74E+15  \n",
              "11542         0  13835403  \n",
              "10154         0  5,74E+15  \n",
              "2684          0  12175397  \n",
              "18922         1  11865403  \n",
              "16120         0  12995397  \n",
              "6633          0  5,74E+15  \n",
              "6971          0  5,74E+15  \n",
              "3018          1      2425  \n",
              "8306          0      1282  \n",
              "5065          0  5,74E+15  \n",
              "12283         0  24885185  \n",
              "4828          0  5,74E+15  \n",
              "15390         0  1,44E+11  \n",
              "912           0      1216  \n",
              "6650          0  5,74E+15  \n",
              "13459         0  11865403  \n",
              "17558         0  12635403  "
            ]
          },
          "execution_count": 35,
          "metadata": {},
          "output_type": "execute_result"
        }
      ],
      "source": [
        "products_df.sample(20)"
      ]
    },
    {
      "cell_type": "markdown",
      "metadata": {
        "id": "DyTfC-WY-IWe"
      },
      "source": [
        "# 1. Look for Duplicates"
      ]
    },
    {
      "cell_type": "code",
      "execution_count": 36,
      "metadata": {
        "id": "MXZXRvUa_GTW"
      },
      "outputs": [
        {
          "data": {
            "text/plain": [
              "np.int64(8746)"
            ]
          },
          "execution_count": 36,
          "metadata": {},
          "output_type": "execute_result"
        }
      ],
      "source": [
        "products_df.duplicated().sum()"
      ]
    },
    {
      "cell_type": "markdown",
      "metadata": {},
      "source": [
        "There are duplicated rows in the \"products\" DataFrame."
      ]
    },
    {
      "cell_type": "code",
      "execution_count": 37,
      "metadata": {},
      "outputs": [
        {
          "data": {
            "application/vnd.microsoft.datawrangler.viewer.v0+json": {
              "columns": [
                {
                  "name": "index",
                  "rawType": "int64",
                  "type": "integer"
                },
                {
                  "name": "sku",
                  "rawType": "object",
                  "type": "string"
                },
                {
                  "name": "name",
                  "rawType": "object",
                  "type": "string"
                },
                {
                  "name": "desc",
                  "rawType": "object",
                  "type": "string"
                },
                {
                  "name": "price",
                  "rawType": "object",
                  "type": "unknown"
                },
                {
                  "name": "promo_price",
                  "rawType": "object",
                  "type": "string"
                },
                {
                  "name": "in_stock",
                  "rawType": "int64",
                  "type": "integer"
                },
                {
                  "name": "type",
                  "rawType": "object",
                  "type": "string"
                }
              ],
              "ref": "73a12e54-33bf-4dc1-874d-c46ba2b1acf1",
              "rows": [
                [
                  "100",
                  "APP0390",
                  "Apple MacBook Pro 133 \"Core i5 25GHz | 4GB RAM | 500GB HDD",
                  "MacBook Pro laptop 133 inches (MD101Y / A).",
                  "1199",
                  "11.455.917",
                  "0",
                  "1282"
                ],
                [
                  "101",
                  "APP0390",
                  "Apple MacBook Pro 133 \"Core i5 25GHz | 4GB RAM | 500GB HDD",
                  "MacBook Pro laptop 133 inches (MD101Y / A).",
                  "1199",
                  "11.455.917",
                  "0",
                  "1282"
                ],
                [
                  "102",
                  "APP0390",
                  "Apple MacBook Pro 133 \"Core i5 25GHz | 4GB RAM | 500GB HDD",
                  "MacBook Pro laptop 133 inches (MD101Y / A).",
                  "1199",
                  "11.455.917",
                  "0",
                  "1282"
                ],
                [
                  "103",
                  "APP0390",
                  "Apple MacBook Pro 133 \"Core i5 25GHz | 4GB RAM | 500GB HDD",
                  "MacBook Pro laptop 133 inches (MD101Y / A).",
                  "1199",
                  "11.455.917",
                  "0",
                  "1282"
                ],
                [
                  "104",
                  "APP0390",
                  "Apple MacBook Pro 133 \"Core i5 25GHz | 4GB RAM | 500GB HDD",
                  "MacBook Pro laptop 133 inches (MD101Y / A).",
                  "1199",
                  "11.455.917",
                  "0",
                  "1282"
                ],
                [
                  "105",
                  "APP0390",
                  "Apple MacBook Pro 133 \"Core i5 25GHz | 4GB RAM | 500GB HDD",
                  "MacBook Pro laptop 133 inches (MD101Y / A).",
                  "1199",
                  "11.455.917",
                  "0",
                  "1282"
                ],
                [
                  "106",
                  "APP0390",
                  "Apple MacBook Pro 133 \"Core i5 25GHz | 4GB RAM | 500GB HDD",
                  "MacBook Pro laptop 133 inches (MD101Y / A).",
                  "1199",
                  "11.455.917",
                  "0",
                  "1282"
                ],
                [
                  "107",
                  "APP0390",
                  "Apple MacBook Pro 133 \"Core i5 25GHz | 4GB RAM | 500GB HDD",
                  "MacBook Pro laptop 133 inches (MD101Y / A).",
                  "1199",
                  "11.455.917",
                  "0",
                  "1282"
                ],
                [
                  "108",
                  "APP0390",
                  "Apple MacBook Pro 133 \"Core i5 25GHz | 4GB RAM | 500GB HDD",
                  "MacBook Pro laptop 133 inches (MD101Y / A).",
                  "1199",
                  "11.455.917",
                  "0",
                  "1282"
                ],
                [
                  "109",
                  "PAC0508",
                  "Apple MacBook Pro 133 '' 25GHz | 16GB RAM | 1TB Fusion",
                  "Apple MacBook Pro Fusion Drive 16GB 2 internal and external SuperDrive disks.",
                  "1919",
                  "16.999.895",
                  "0",
                  "1282"
                ],
                [
                  "110",
                  "PAC0508",
                  "Apple MacBook Pro 133 '' 25GHz | 16GB RAM | 1TB Fusion",
                  "Apple MacBook Pro Fusion Drive 16GB 2 internal and external SuperDrive disks.",
                  "1919",
                  "16.999.895",
                  "0",
                  "1282"
                ],
                [
                  "111",
                  "PAC0508",
                  "Apple MacBook Pro 133 '' 25GHz | 16GB RAM | 1TB Fusion",
                  "Apple MacBook Pro Fusion Drive 16GB 2 internal and external SuperDrive disks.",
                  "1919",
                  "16.999.895",
                  "0",
                  "1282"
                ],
                [
                  "112",
                  "PAC0508",
                  "Apple MacBook Pro 133 '' 25GHz | 16GB RAM | 1TB Fusion",
                  "Apple MacBook Pro Fusion Drive 16GB 2 internal and external SuperDrive disks.",
                  "1919",
                  "16.999.895",
                  "0",
                  "1282"
                ],
                [
                  "113",
                  "PAC0508",
                  "Apple MacBook Pro 133 '' 25GHz | 16GB RAM | 1TB Fusion",
                  "Apple MacBook Pro Fusion Drive 16GB 2 internal and external SuperDrive disks.",
                  "1919",
                  "16.999.895",
                  "0",
                  "1282"
                ],
                [
                  "114",
                  "PAC0508",
                  "Apple MacBook Pro 133 '' 25GHz | 16GB RAM | 1TB Fusion",
                  "Apple MacBook Pro Fusion Drive 16GB 2 internal and external SuperDrive disks.",
                  "1919",
                  "16.999.895",
                  "0",
                  "1282"
                ],
                [
                  "115",
                  "PAC0508",
                  "Apple MacBook Pro 133 '' 25GHz | 16GB RAM | 1TB Fusion",
                  "Apple MacBook Pro Fusion Drive 16GB 2 internal and external SuperDrive disks.",
                  "1919",
                  "16.999.895",
                  "0",
                  "1282"
                ],
                [
                  "116",
                  "PAC0508",
                  "Apple MacBook Pro 133 '' 25GHz | 16GB RAM | 1TB Fusion",
                  "Apple MacBook Pro Fusion Drive 16GB 2 internal and external SuperDrive disks.",
                  "1919",
                  "16.999.895",
                  "0",
                  "1282"
                ],
                [
                  "117",
                  "PAC0508",
                  "Apple MacBook Pro 133 '' 25GHz | 16GB RAM | 1TB Fusion",
                  "Apple MacBook Pro Fusion Drive 16GB 2 internal and external SuperDrive disks.",
                  "1919",
                  "16.999.895",
                  "0",
                  "1282"
                ],
                [
                  "118",
                  "PAC0507",
                  "Apple MacBook Pro 133 '' 25Ghz | 16GB RAM | Fusion 740GB",
                  "Apple MacBook Pro Fusion Drive 16GB 2 internal and external SuperDrive disks.",
                  "1639",
                  "15.989.896",
                  "0",
                  "1282"
                ],
                [
                  "119",
                  "PAC0507",
                  "Apple MacBook Pro 133 '' 25Ghz | 16GB RAM | Fusion 740GB",
                  "Apple MacBook Pro Fusion Drive 16GB 2 internal and external SuperDrive disks.",
                  "1639",
                  "15.989.896",
                  "0",
                  "1282"
                ],
                [
                  "120",
                  "PAC0507",
                  "Apple MacBook Pro 133 '' 25Ghz | 16GB RAM | Fusion 740GB",
                  "Apple MacBook Pro Fusion Drive 16GB 2 internal and external SuperDrive disks.",
                  "1639",
                  "15.989.896",
                  "0",
                  "1282"
                ],
                [
                  "121",
                  "PAC0507",
                  "Apple MacBook Pro 133 '' 25Ghz | 16GB RAM | Fusion 740GB",
                  "Apple MacBook Pro Fusion Drive 16GB 2 internal and external SuperDrive disks.",
                  "1639",
                  "15.989.896",
                  "0",
                  "1282"
                ],
                [
                  "122",
                  "PAC0507",
                  "Apple MacBook Pro 133 '' 25Ghz | 16GB RAM | Fusion 740GB",
                  "Apple MacBook Pro Fusion Drive 16GB 2 internal and external SuperDrive disks.",
                  "1639",
                  "15.989.896",
                  "0",
                  "1282"
                ],
                [
                  "123",
                  "PAC0507",
                  "Apple MacBook Pro 133 '' 25Ghz | 16GB RAM | Fusion 740GB",
                  "Apple MacBook Pro Fusion Drive 16GB 2 internal and external SuperDrive disks.",
                  "1639",
                  "15.989.896",
                  "0",
                  "1282"
                ],
                [
                  "124",
                  "PAC0507",
                  "Apple MacBook Pro 133 '' 25Ghz | 16GB RAM | Fusion 740GB",
                  "Apple MacBook Pro Fusion Drive 16GB 2 internal and external SuperDrive disks.",
                  "1639",
                  "15.989.896",
                  "0",
                  "1282"
                ],
                [
                  "125",
                  "PAC0507",
                  "Apple MacBook Pro 133 '' 25Ghz | 16GB RAM | Fusion 740GB",
                  "Apple MacBook Pro Fusion Drive 16GB 2 internal and external SuperDrive disks.",
                  "1639",
                  "15.989.896",
                  "0",
                  "1282"
                ],
                [
                  "126",
                  "PAC0507",
                  "Apple MacBook Pro 133 '' 25Ghz | 16GB RAM | Fusion 740GB",
                  "Apple MacBook Pro Fusion Drive 16GB 2 internal and external SuperDrive disks.",
                  "1639",
                  "15.989.896",
                  "0",
                  "1282"
                ],
                [
                  "127",
                  "PAC0515",
                  "Apple MacBook Pro 133 \"i7 29GHz | RAM 16GB | 500GB HDD | SSD 240GB",
                  "Apple MacBook Pro 133 inches (MD101Y / A) and SSD Processor RAM expansion.",
                  "2039",
                  "20.379.897",
                  "0",
                  "1282"
                ],
                [
                  "128",
                  "PAC0515",
                  "Apple MacBook Pro 133 \"i7 29GHz | RAM 16GB | 500GB HDD | SSD 240GB",
                  "Apple MacBook Pro 133 inches (MD101Y / A) and SSD Processor RAM expansion.",
                  "2039",
                  "20.379.897",
                  "0",
                  "1282"
                ],
                [
                  "129",
                  "PAC0515",
                  "Apple MacBook Pro 133 \"i7 29GHz | RAM 16GB | 500GB HDD | SSD 240GB",
                  "Apple MacBook Pro 133 inches (MD101Y / A) and SSD Processor RAM expansion.",
                  "2039",
                  "20.379.897",
                  "0",
                  "1282"
                ],
                [
                  "130",
                  "PAC0515",
                  "Apple MacBook Pro 133 \"i7 29GHz | RAM 16GB | 500GB HDD | SSD 240GB",
                  "Apple MacBook Pro 133 inches (MD101Y / A) and SSD Processor RAM expansion.",
                  "2039",
                  "20.379.897",
                  "0",
                  "1282"
                ],
                [
                  "131",
                  "PAC0515",
                  "Apple MacBook Pro 133 \"i7 29GHz | RAM 16GB | 500GB HDD | SSD 240GB",
                  "Apple MacBook Pro 133 inches (MD101Y / A) and SSD Processor RAM expansion.",
                  "2039",
                  "20.379.897",
                  "0",
                  "1282"
                ],
                [
                  "132",
                  "PAC0515",
                  "Apple MacBook Pro 133 \"i7 29GHz | RAM 16GB | 500GB HDD | SSD 240GB",
                  "Apple MacBook Pro 133 inches (MD101Y / A) and SSD Processor RAM expansion.",
                  "2039",
                  "20.379.897",
                  "0",
                  "1282"
                ],
                [
                  "133",
                  "PAC0515",
                  "Apple MacBook Pro 133 \"i7 29GHz | RAM 16GB | 500GB HDD | SSD 240GB",
                  "Apple MacBook Pro 133 inches (MD101Y / A) and SSD Processor RAM expansion.",
                  "2039",
                  "20.379.897",
                  "0",
                  "1282"
                ],
                [
                  "134",
                  "PAC0515",
                  "Apple MacBook Pro 133 \"i7 29GHz | RAM 16GB | 500GB HDD | SSD 240GB",
                  "Apple MacBook Pro 133 inches (MD101Y / A) and SSD Processor RAM expansion.",
                  "2039",
                  "20.379.897",
                  "0",
                  "1282"
                ],
                [
                  "135",
                  "PAC0515",
                  "Apple MacBook Pro 133 \"i7 29GHz | RAM 16GB | 500GB HDD | SSD 240GB",
                  "Apple MacBook Pro 133 inches (MD101Y / A) and SSD Processor RAM expansion.",
                  "2039",
                  "20.379.897",
                  "0",
                  "1282"
                ],
                [
                  "136",
                  "PAC0510",
                  "Apple MacBook Pro 133 \"i7 29GHz | RAM 16GB | 740GB Fusion",
                  "Apple MacBook Pro Fusion Drive 16GB 2 internal and external SuperDrive disks.",
                  "2039",
                  "20.379.897",
                  "0",
                  "1282"
                ],
                [
                  "137",
                  "PAC0510",
                  "Apple MacBook Pro 133 \"i7 29GHz | RAM 16GB | 740GB Fusion",
                  "Apple MacBook Pro Fusion Drive 16GB 2 internal and external SuperDrive disks.",
                  "2039",
                  "20.379.897",
                  "0",
                  "1282"
                ],
                [
                  "138",
                  "PAC0510",
                  "Apple MacBook Pro 133 \"i7 29GHz | RAM 16GB | 740GB Fusion",
                  "Apple MacBook Pro Fusion Drive 16GB 2 internal and external SuperDrive disks.",
                  "2039",
                  "20.379.897",
                  "0",
                  "1282"
                ],
                [
                  "139",
                  "PAC0510",
                  "Apple MacBook Pro 133 \"i7 29GHz | RAM 16GB | 740GB Fusion",
                  "Apple MacBook Pro Fusion Drive 16GB 2 internal and external SuperDrive disks.",
                  "2039",
                  "20.379.897",
                  "0",
                  "1282"
                ],
                [
                  "140",
                  "PAC0510",
                  "Apple MacBook Pro 133 \"i7 29GHz | RAM 16GB | 740GB Fusion",
                  "Apple MacBook Pro Fusion Drive 16GB 2 internal and external SuperDrive disks.",
                  "2039",
                  "20.379.897",
                  "0",
                  "1282"
                ],
                [
                  "141",
                  "PAC0510",
                  "Apple MacBook Pro 133 \"i7 29GHz | RAM 16GB | 740GB Fusion",
                  "Apple MacBook Pro Fusion Drive 16GB 2 internal and external SuperDrive disks.",
                  "2039",
                  "20.379.897",
                  "0",
                  "1282"
                ],
                [
                  "142",
                  "PAC0510",
                  "Apple MacBook Pro 133 \"i7 29GHz | RAM 16GB | 740GB Fusion",
                  "Apple MacBook Pro Fusion Drive 16GB 2 internal and external SuperDrive disks.",
                  "2039",
                  "20.379.897",
                  "0",
                  "1282"
                ],
                [
                  "143",
                  "PAC0510",
                  "Apple MacBook Pro 133 \"i7 29GHz | RAM 16GB | 740GB Fusion",
                  "Apple MacBook Pro Fusion Drive 16GB 2 internal and external SuperDrive disks.",
                  "2039",
                  "20.379.897",
                  "0",
                  "1282"
                ],
                [
                  "144",
                  "PAC0510",
                  "Apple MacBook Pro 133 \"i7 29GHz | RAM 16GB | 740GB Fusion",
                  "Apple MacBook Pro Fusion Drive 16GB 2 internal and external SuperDrive disks.",
                  "2039",
                  "20.379.897",
                  "0",
                  "1282"
                ],
                [
                  "145",
                  "PAC0185",
                  "Apple MacBook Pro 133 \"i5 25GHz | RAM 16GB | 275GB SSD",
                  "Apple MacBook Pro 133 inches (MD101Y / A) with 275GB SSD.",
                  "1639",
                  "1469",
                  "0",
                  "1282"
                ],
                [
                  "146",
                  "PAC0185",
                  "Apple MacBook Pro 133 \"i5 25GHz | RAM 16GB | 275GB SSD",
                  "Apple MacBook Pro 133 inches (MD101Y / A) with 275GB SSD.",
                  "1639",
                  "1469",
                  "0",
                  "1282"
                ],
                [
                  "147",
                  "PAC0185",
                  "Apple MacBook Pro 133 \"i5 25GHz | RAM 16GB | 275GB SSD",
                  "Apple MacBook Pro 133 inches (MD101Y / A) with 275GB SSD.",
                  "1639",
                  "1469",
                  "0",
                  "1282"
                ],
                [
                  "148",
                  "PAC0185",
                  "Apple MacBook Pro 133 \"i5 25GHz | RAM 16GB | 275GB SSD",
                  "Apple MacBook Pro 133 inches (MD101Y / A) with 275GB SSD.",
                  "1639",
                  "1469",
                  "0",
                  "1282"
                ],
                [
                  "149",
                  "PAC0185",
                  "Apple MacBook Pro 133 \"i5 25GHz | RAM 16GB | 275GB SSD",
                  "Apple MacBook Pro 133 inches (MD101Y / A) with 275GB SSD.",
                  "1639",
                  "1469",
                  "0",
                  "1282"
                ]
              ],
              "shape": {
                "columns": 7,
                "rows": 9504
              }
            },
            "text/html": [
              "<div>\n",
              "<style scoped>\n",
              "    .dataframe tbody tr th:only-of-type {\n",
              "        vertical-align: middle;\n",
              "    }\n",
              "\n",
              "    .dataframe tbody tr th {\n",
              "        vertical-align: top;\n",
              "    }\n",
              "\n",
              "    .dataframe thead th {\n",
              "        text-align: right;\n",
              "    }\n",
              "</style>\n",
              "<table border=\"1\" class=\"dataframe\">\n",
              "  <thead>\n",
              "    <tr style=\"text-align: right;\">\n",
              "      <th></th>\n",
              "      <th>sku</th>\n",
              "      <th>name</th>\n",
              "      <th>desc</th>\n",
              "      <th>price</th>\n",
              "      <th>promo_price</th>\n",
              "      <th>in_stock</th>\n",
              "      <th>type</th>\n",
              "    </tr>\n",
              "  </thead>\n",
              "  <tbody>\n",
              "    <tr>\n",
              "      <th>100</th>\n",
              "      <td>APP0390</td>\n",
              "      <td>Apple MacBook Pro 133 \"Core i5 25GHz | 4GB RAM...</td>\n",
              "      <td>MacBook Pro laptop 133 inches (MD101Y / A).</td>\n",
              "      <td>1199</td>\n",
              "      <td>11.455.917</td>\n",
              "      <td>0</td>\n",
              "      <td>1282</td>\n",
              "    </tr>\n",
              "    <tr>\n",
              "      <th>101</th>\n",
              "      <td>APP0390</td>\n",
              "      <td>Apple MacBook Pro 133 \"Core i5 25GHz | 4GB RAM...</td>\n",
              "      <td>MacBook Pro laptop 133 inches (MD101Y / A).</td>\n",
              "      <td>1199</td>\n",
              "      <td>11.455.917</td>\n",
              "      <td>0</td>\n",
              "      <td>1282</td>\n",
              "    </tr>\n",
              "    <tr>\n",
              "      <th>102</th>\n",
              "      <td>APP0390</td>\n",
              "      <td>Apple MacBook Pro 133 \"Core i5 25GHz | 4GB RAM...</td>\n",
              "      <td>MacBook Pro laptop 133 inches (MD101Y / A).</td>\n",
              "      <td>1199</td>\n",
              "      <td>11.455.917</td>\n",
              "      <td>0</td>\n",
              "      <td>1282</td>\n",
              "    </tr>\n",
              "    <tr>\n",
              "      <th>103</th>\n",
              "      <td>APP0390</td>\n",
              "      <td>Apple MacBook Pro 133 \"Core i5 25GHz | 4GB RAM...</td>\n",
              "      <td>MacBook Pro laptop 133 inches (MD101Y / A).</td>\n",
              "      <td>1199</td>\n",
              "      <td>11.455.917</td>\n",
              "      <td>0</td>\n",
              "      <td>1282</td>\n",
              "    </tr>\n",
              "    <tr>\n",
              "      <th>104</th>\n",
              "      <td>APP0390</td>\n",
              "      <td>Apple MacBook Pro 133 \"Core i5 25GHz | 4GB RAM...</td>\n",
              "      <td>MacBook Pro laptop 133 inches (MD101Y / A).</td>\n",
              "      <td>1199</td>\n",
              "      <td>11.455.917</td>\n",
              "      <td>0</td>\n",
              "      <td>1282</td>\n",
              "    </tr>\n",
              "    <tr>\n",
              "      <th>...</th>\n",
              "      <td>...</td>\n",
              "      <td>...</td>\n",
              "      <td>...</td>\n",
              "      <td>...</td>\n",
              "      <td>...</td>\n",
              "      <td>...</td>\n",
              "      <td>...</td>\n",
              "    </tr>\n",
              "    <tr>\n",
              "      <th>18190</th>\n",
              "      <td>PAR0077</td>\n",
              "      <td>Parrot Bebop Drone 2 Power</td>\n",
              "      <td>Drone cuadricóptero quality camera integrated ...</td>\n",
              "      <td>699.9</td>\n",
              "      <td>6.733.892</td>\n",
              "      <td>0</td>\n",
              "      <td>11905404</td>\n",
              "    </tr>\n",
              "    <tr>\n",
              "      <th>18307</th>\n",
              "      <td>NKI0010</td>\n",
              "      <td>Nokia Wireless sphygmomanometer Plata</td>\n",
              "      <td>Sphygmomanometer for iPhone iPad and iPod App.</td>\n",
              "      <td>129.99</td>\n",
              "      <td>1.149.899</td>\n",
              "      <td>1</td>\n",
              "      <td>11905404</td>\n",
              "    </tr>\n",
              "    <tr>\n",
              "      <th>18308</th>\n",
              "      <td>NKI0010</td>\n",
              "      <td>Nokia Wireless sphygmomanometer Plata</td>\n",
              "      <td>Sphygmomanometer for iPhone iPad and iPod App.</td>\n",
              "      <td>129.99</td>\n",
              "      <td>1.149.899</td>\n",
              "      <td>1</td>\n",
              "      <td>11905404</td>\n",
              "    </tr>\n",
              "    <tr>\n",
              "      <th>18513</th>\n",
              "      <td>PLA0035</td>\n",
              "      <td>Bluetooth Headset Plantronics Explorer 80</td>\n",
              "      <td>egonómico wireless headset design for iPhone i...</td>\n",
              "      <td>39.99</td>\n",
              "      <td>349.896</td>\n",
              "      <td>1</td>\n",
              "      <td>5384</td>\n",
              "    </tr>\n",
              "    <tr>\n",
              "      <th>18514</th>\n",
              "      <td>PLA0035</td>\n",
              "      <td>Bluetooth Headset Plantronics Explorer 80</td>\n",
              "      <td>egonómico wireless headset design for iPhone i...</td>\n",
              "      <td>39.99</td>\n",
              "      <td>349.896</td>\n",
              "      <td>1</td>\n",
              "      <td>5384</td>\n",
              "    </tr>\n",
              "  </tbody>\n",
              "</table>\n",
              "<p>9504 rows × 7 columns</p>\n",
              "</div>"
            ],
            "text/plain": [
              "           sku                                               name  \\\n",
              "100    APP0390  Apple MacBook Pro 133 \"Core i5 25GHz | 4GB RAM...   \n",
              "101    APP0390  Apple MacBook Pro 133 \"Core i5 25GHz | 4GB RAM...   \n",
              "102    APP0390  Apple MacBook Pro 133 \"Core i5 25GHz | 4GB RAM...   \n",
              "103    APP0390  Apple MacBook Pro 133 \"Core i5 25GHz | 4GB RAM...   \n",
              "104    APP0390  Apple MacBook Pro 133 \"Core i5 25GHz | 4GB RAM...   \n",
              "...        ...                                                ...   \n",
              "18190  PAR0077                         Parrot Bebop Drone 2 Power   \n",
              "18307  NKI0010              Nokia Wireless sphygmomanometer Plata   \n",
              "18308  NKI0010              Nokia Wireless sphygmomanometer Plata   \n",
              "18513  PLA0035          Bluetooth Headset Plantronics Explorer 80   \n",
              "18514  PLA0035          Bluetooth Headset Plantronics Explorer 80   \n",
              "\n",
              "                                                    desc   price promo_price  \\\n",
              "100          MacBook Pro laptop 133 inches (MD101Y / A).    1199  11.455.917   \n",
              "101          MacBook Pro laptop 133 inches (MD101Y / A).    1199  11.455.917   \n",
              "102          MacBook Pro laptop 133 inches (MD101Y / A).    1199  11.455.917   \n",
              "103          MacBook Pro laptop 133 inches (MD101Y / A).    1199  11.455.917   \n",
              "104          MacBook Pro laptop 133 inches (MD101Y / A).    1199  11.455.917   \n",
              "...                                                  ...     ...         ...   \n",
              "18190  Drone cuadricóptero quality camera integrated ...   699.9   6.733.892   \n",
              "18307     Sphygmomanometer for iPhone iPad and iPod App.  129.99   1.149.899   \n",
              "18308     Sphygmomanometer for iPhone iPad and iPod App.  129.99   1.149.899   \n",
              "18513  egonómico wireless headset design for iPhone i...   39.99     349.896   \n",
              "18514  egonómico wireless headset design for iPhone i...   39.99     349.896   \n",
              "\n",
              "       in_stock      type  \n",
              "100           0      1282  \n",
              "101           0      1282  \n",
              "102           0      1282  \n",
              "103           0      1282  \n",
              "104           0      1282  \n",
              "...         ...       ...  \n",
              "18190         0  11905404  \n",
              "18307         1  11905404  \n",
              "18308         1  11905404  \n",
              "18513         1      5384  \n",
              "18514         1      5384  \n",
              "\n",
              "[9504 rows x 7 columns]"
            ]
          },
          "execution_count": 37,
          "metadata": {},
          "output_type": "execute_result"
        }
      ],
      "source": [
        "# Checking for duplicates in the key column ('sku')\n",
        "products_df[products_df.duplicated(subset=['sku'], keep=False)]"
      ]
    },
    {
      "cell_type": "code",
      "execution_count": 38,
      "metadata": {},
      "outputs": [
        {
          "name": "stdout",
          "output_type": "stream",
          "text": [
            "8747 duplicated rows represents 45.26027% of the 19326 rows in our DataFrame\n"
          ]
        }
      ],
      "source": [
        "num_duplicates = products_df.duplicated(subset='sku').sum()\n",
        "total_rows = products_df.shape[0]\n",
        "percent_duplicated = (100*num_duplicates/total_rows)\n",
        "print(f\"{num_duplicates} duplicated rows represents {percent_duplicated:.5f}% of the {total_rows} rows in our DataFrame\")"
      ]
    },
    {
      "cell_type": "code",
      "execution_count": 39,
      "metadata": {},
      "outputs": [],
      "source": [
        "# Drop duplicates\n",
        "products_df = products_df.drop_duplicates()"
      ]
    },
    {
      "cell_type": "code",
      "execution_count": 40,
      "metadata": {},
      "outputs": [
        {
          "data": {
            "text/plain": [
              "np.int64(1)"
            ]
          },
          "execution_count": 40,
          "metadata": {},
          "output_type": "execute_result"
        }
      ],
      "source": [
        "# Checking for duplicates in the key column ('sku')\n",
        "products_df.duplicated(subset='sku').sum()"
      ]
    },
    {
      "cell_type": "markdown",
      "metadata": {},
      "source": [
        "There is still one duplicate value in the SKU (key) column."
      ]
    },
    {
      "cell_type": "code",
      "execution_count": 41,
      "metadata": {},
      "outputs": [
        {
          "data": {
            "application/vnd.microsoft.datawrangler.viewer.v0+json": {
              "columns": [
                {
                  "name": "index",
                  "rawType": "int64",
                  "type": "integer"
                },
                {
                  "name": "sku",
                  "rawType": "object",
                  "type": "string"
                },
                {
                  "name": "name",
                  "rawType": "object",
                  "type": "string"
                },
                {
                  "name": "desc",
                  "rawType": "object",
                  "type": "string"
                },
                {
                  "name": "price",
                  "rawType": "object",
                  "type": "unknown"
                },
                {
                  "name": "promo_price",
                  "rawType": "object",
                  "type": "string"
                },
                {
                  "name": "in_stock",
                  "rawType": "int64",
                  "type": "integer"
                },
                {
                  "name": "type",
                  "rawType": "object",
                  "type": "string"
                }
              ],
              "ref": "f1d667b6-31a3-4bc7-9764-78be7d4f75d5",
              "rows": [
                [
                  "7992",
                  "APP1197",
                  "Apple iMac 21.5 \"Core i5 31 GHz Retina display 4K | 8GB | 1TB",
                  "Desktop Apple iMac 21.5 inch i5 31 GHz Retina display 4K RAM 8GB 1TB (MK452Y / A).",
                  "1729",
                  "1305.59",
                  "0",
                  "1282"
                ],
                [
                  "8000",
                  "APP1197",
                  "Apple iMac 21.5 \"Core i5 31 GHz Retina display 4K | 8GB | 1TB",
                  "Desktop Apple iMac 21.5 inch i5 31 GHz Retina display 4K RAM 8GB 1TB (MK452Y / A).",
                  null,
                  "1305.59",
                  "0",
                  "1282"
                ]
              ],
              "shape": {
                "columns": 7,
                "rows": 2
              }
            },
            "text/html": [
              "<div>\n",
              "<style scoped>\n",
              "    .dataframe tbody tr th:only-of-type {\n",
              "        vertical-align: middle;\n",
              "    }\n",
              "\n",
              "    .dataframe tbody tr th {\n",
              "        vertical-align: top;\n",
              "    }\n",
              "\n",
              "    .dataframe thead th {\n",
              "        text-align: right;\n",
              "    }\n",
              "</style>\n",
              "<table border=\"1\" class=\"dataframe\">\n",
              "  <thead>\n",
              "    <tr style=\"text-align: right;\">\n",
              "      <th></th>\n",
              "      <th>sku</th>\n",
              "      <th>name</th>\n",
              "      <th>desc</th>\n",
              "      <th>price</th>\n",
              "      <th>promo_price</th>\n",
              "      <th>in_stock</th>\n",
              "      <th>type</th>\n",
              "    </tr>\n",
              "  </thead>\n",
              "  <tbody>\n",
              "    <tr>\n",
              "      <th>7992</th>\n",
              "      <td>APP1197</td>\n",
              "      <td>Apple iMac 21.5 \"Core i5 31 GHz Retina display...</td>\n",
              "      <td>Desktop Apple iMac 21.5 inch i5 31 GHz Retina ...</td>\n",
              "      <td>1729</td>\n",
              "      <td>1305.59</td>\n",
              "      <td>0</td>\n",
              "      <td>1282</td>\n",
              "    </tr>\n",
              "    <tr>\n",
              "      <th>8000</th>\n",
              "      <td>APP1197</td>\n",
              "      <td>Apple iMac 21.5 \"Core i5 31 GHz Retina display...</td>\n",
              "      <td>Desktop Apple iMac 21.5 inch i5 31 GHz Retina ...</td>\n",
              "      <td>NaN</td>\n",
              "      <td>1305.59</td>\n",
              "      <td>0</td>\n",
              "      <td>1282</td>\n",
              "    </tr>\n",
              "  </tbody>\n",
              "</table>\n",
              "</div>"
            ],
            "text/plain": [
              "          sku                                               name  \\\n",
              "7992  APP1197  Apple iMac 21.5 \"Core i5 31 GHz Retina display...   \n",
              "8000  APP1197  Apple iMac 21.5 \"Core i5 31 GHz Retina display...   \n",
              "\n",
              "                                                   desc price promo_price  \\\n",
              "7992  Desktop Apple iMac 21.5 inch i5 31 GHz Retina ...  1729     1305.59   \n",
              "8000  Desktop Apple iMac 21.5 inch i5 31 GHz Retina ...   NaN     1305.59   \n",
              "\n",
              "      in_stock  type  \n",
              "7992         0  1282  \n",
              "8000         0  1282  "
            ]
          },
          "execution_count": 41,
          "metadata": {},
          "output_type": "execute_result"
        }
      ],
      "source": [
        "# Checking for duplicates in the key column ('sku')\n",
        "products_df[products_df.duplicated(subset=['sku'], keep=False)]"
      ]
    },
    {
      "cell_type": "code",
      "execution_count": 42,
      "metadata": {},
      "outputs": [],
      "source": [
        "# Drop the duplicated entry, we keep the first row of the duplicate group\n",
        "products_df = products_df.drop_duplicates(subset='sku', keep='first')"
      ]
    },
    {
      "cell_type": "code",
      "execution_count": 43,
      "metadata": {},
      "outputs": [
        {
          "data": {
            "text/plain": [
              "np.int64(0)"
            ]
          },
          "execution_count": 43,
          "metadata": {},
          "output_type": "execute_result"
        }
      ],
      "source": [
        "# Checking for duplicates in the key column ('sku')\n",
        "products_df.duplicated(subset='sku').sum()"
      ]
    },
    {
      "cell_type": "markdown",
      "metadata": {
        "id": "XTGqkqtm--ln"
      },
      "source": [
        "# 2. Look for Missing values\n"
      ]
    },
    {
      "cell_type": "code",
      "execution_count": 44,
      "metadata": {
        "id": "_LrT0QGlkKi-"
      },
      "outputs": [
        {
          "name": "stdout",
          "output_type": "stream",
          "text": [
            "<class 'pandas.core.frame.DataFrame'>\n",
            "Index: 10579 entries, 0 to 19325\n",
            "Data columns (total 7 columns):\n",
            " #   Column       Non-Null Count  Dtype \n",
            "---  ------       --------------  ----- \n",
            " 0   sku          10579 non-null  object\n",
            " 1   name         10579 non-null  object\n",
            " 2   desc         10572 non-null  object\n",
            " 3   price        10534 non-null  object\n",
            " 4   promo_price  10579 non-null  object\n",
            " 5   in_stock     10579 non-null  int64 \n",
            " 6   type         10529 non-null  object\n",
            "dtypes: int64(1), object(6)\n",
            "memory usage: 661.2+ KB\n"
          ]
        }
      ],
      "source": [
        "products_df.info()"
      ]
    },
    {
      "cell_type": "markdown",
      "metadata": {},
      "source": [
        "* `desc` has 7 missing values\n",
        "* `price` has 45 missing values\n",
        "* `type` has 50 missing values\n",
        "  \n",
        "* `price` should become a float datatype.\n",
        "* `promo_price` should become a float datatype"
      ]
    },
    {
      "cell_type": "code",
      "execution_count": 45,
      "metadata": {},
      "outputs": [
        {
          "data": {
            "application/vnd.microsoft.datawrangler.viewer.v0+json": {
              "columns": [
                {
                  "name": "index",
                  "rawType": "int64",
                  "type": "integer"
                },
                {
                  "name": "sku",
                  "rawType": "object",
                  "type": "string"
                }
              ],
              "ref": "fdfb8614-6fed-4ac0-b6bb-cbd377b0f431",
              "rows": [
                [
                  "34",
                  "TWS0019"
                ],
                [
                  "1900",
                  "AII0008"
                ],
                [
                  "2039",
                  "CEL0020"
                ],
                [
                  "2042",
                  "CEL0007"
                ],
                [
                  "2043",
                  "CEL0012"
                ],
                [
                  "2044",
                  "CEL0014"
                ],
                [
                  "2049",
                  "CEL0015"
                ],
                [
                  "2051",
                  "CEL0018"
                ],
                [
                  "2052",
                  "CEL0023"
                ],
                [
                  "2053",
                  "CEL0025"
                ],
                [
                  "12052",
                  "CEL0028"
                ],
                [
                  "12053",
                  "CEL0029"
                ],
                [
                  "12054",
                  "CEL0030"
                ],
                [
                  "12055",
                  "CEL0031"
                ],
                [
                  "12059",
                  "CEL0032"
                ],
                [
                  "12060",
                  "CEL0042"
                ],
                [
                  "12061",
                  "CEL0043"
                ],
                [
                  "12062",
                  "CEL0044"
                ],
                [
                  "12064",
                  "CEL0038"
                ],
                [
                  "12067",
                  "CEL0033"
                ],
                [
                  "12068",
                  "CEL0034"
                ],
                [
                  "12069",
                  "CEL0035"
                ],
                [
                  "12070",
                  "CEL0036"
                ],
                [
                  "12071",
                  "CEL0051"
                ],
                [
                  "12072",
                  "CEL0052"
                ],
                [
                  "12073",
                  "CEL0053"
                ],
                [
                  "12074",
                  "CEL0054"
                ],
                [
                  "12075",
                  "CEL0055"
                ],
                [
                  "12076",
                  "CEL0056"
                ],
                [
                  "12077",
                  "CEL0057"
                ],
                [
                  "12078",
                  "CEL0058"
                ],
                [
                  "12079",
                  "CEL0059"
                ],
                [
                  "12080",
                  "CEL0060"
                ],
                [
                  "12088",
                  "CEL0040"
                ],
                [
                  "12089",
                  "CEL0041"
                ],
                [
                  "12092",
                  "CEL0045"
                ],
                [
                  "12093",
                  "CEL0046"
                ],
                [
                  "12095",
                  "CEL0047"
                ],
                [
                  "12096",
                  "CEL0048"
                ],
                [
                  "12097",
                  "CEL0049"
                ],
                [
                  "12098",
                  "CEL0050"
                ],
                [
                  "12100",
                  "CEL0037"
                ],
                [
                  "12238",
                  "CEL0027"
                ],
                [
                  "12242",
                  "CEL0039"
                ],
                [
                  "12947",
                  "CEL0034-A"
                ]
              ],
              "shape": {
                "columns": 1,
                "rows": 45
              }
            },
            "text/plain": [
              "34         TWS0019\n",
              "1900       AII0008\n",
              "2039       CEL0020\n",
              "2042       CEL0007\n",
              "2043       CEL0012\n",
              "2044       CEL0014\n",
              "2049       CEL0015\n",
              "2051       CEL0018\n",
              "2052       CEL0023\n",
              "2053       CEL0025\n",
              "12052      CEL0028\n",
              "12053      CEL0029\n",
              "12054      CEL0030\n",
              "12055      CEL0031\n",
              "12059      CEL0032\n",
              "12060      CEL0042\n",
              "12061      CEL0043\n",
              "12062      CEL0044\n",
              "12064      CEL0038\n",
              "12067      CEL0033\n",
              "12068      CEL0034\n",
              "12069      CEL0035\n",
              "12070      CEL0036\n",
              "12071      CEL0051\n",
              "12072      CEL0052\n",
              "12073      CEL0053\n",
              "12074      CEL0054\n",
              "12075      CEL0055\n",
              "12076      CEL0056\n",
              "12077      CEL0057\n",
              "12078      CEL0058\n",
              "12079      CEL0059\n",
              "12080      CEL0060\n",
              "12088      CEL0040\n",
              "12089      CEL0041\n",
              "12092      CEL0045\n",
              "12093      CEL0046\n",
              "12095      CEL0047\n",
              "12096      CEL0048\n",
              "12097      CEL0049\n",
              "12098      CEL0050\n",
              "12100      CEL0037\n",
              "12238      CEL0027\n",
              "12242      CEL0039\n",
              "12947    CEL0034-A\n",
              "Name: sku, dtype: object"
            ]
          },
          "execution_count": 45,
          "metadata": {},
          "output_type": "execute_result"
        }
      ],
      "source": [
        "# SKU's of 'price' missing values\n",
        "sku_missing_df = products_df.loc[products_df['price'].isna(),'sku']\n",
        "sku_missing_df"
      ]
    },
    {
      "cell_type": "code",
      "execution_count": 46,
      "metadata": {},
      "outputs": [],
      "source": [
        "mask = orderlines_df['sku'].isin(sku_missing_df)"
      ]
    },
    {
      "cell_type": "code",
      "execution_count": 47,
      "metadata": {},
      "outputs": [
        {
          "data": {
            "application/vnd.microsoft.datawrangler.viewer.v0+json": {
              "columns": [
                {
                  "name": "index",
                  "rawType": "int64",
                  "type": "integer"
                },
                {
                  "name": "id",
                  "rawType": "int64",
                  "type": "integer"
                },
                {
                  "name": "id_order",
                  "rawType": "int64",
                  "type": "integer"
                },
                {
                  "name": "product_id",
                  "rawType": "int64",
                  "type": "integer"
                },
                {
                  "name": "product_quantity",
                  "rawType": "int64",
                  "type": "integer"
                },
                {
                  "name": "sku",
                  "rawType": "object",
                  "type": "string"
                },
                {
                  "name": "unit_price",
                  "rawType": "float64",
                  "type": "float"
                },
                {
                  "name": "date",
                  "rawType": "datetime64[ns]",
                  "type": "datetime"
                }
              ],
              "ref": "4dba692c-f6ee-4fc3-af18-193608ab18c4",
              "rows": [
                [
                  "1404",
                  "1122003",
                  "300843",
                  "0",
                  "1",
                  "CEL0044",
                  "9.99",
                  "2017-01-02 18:45:40"
                ],
                [
                  "3646",
                  "1130654",
                  "302872",
                  "0",
                  "1",
                  "CEL0028",
                  "9.99",
                  "2017-01-05 01:44:23"
                ],
                [
                  "4049",
                  "1131495",
                  "303274",
                  "0",
                  "2",
                  "CEL0046",
                  "14.99",
                  "2017-01-05 16:47:42"
                ],
                [
                  "4144",
                  "1131746",
                  "303363",
                  "0",
                  "1",
                  "CEL0036",
                  "8.99",
                  "2017-01-05 20:38:40"
                ],
                [
                  "4362",
                  "1132171",
                  "303577",
                  "0",
                  "1",
                  "TWS0019",
                  "29.99",
                  "2017-01-06 12:33:30"
                ],
                [
                  "4431",
                  "1132310",
                  "298651",
                  "0",
                  "1",
                  "CEL0036",
                  "8.99",
                  "2017-01-06 15:17:46"
                ],
                [
                  "4953",
                  "1133406",
                  "304155",
                  "0",
                  "1",
                  "CEL0036",
                  "8.99",
                  "2017-01-07 11:49:26"
                ],
                [
                  "5174",
                  "1133964",
                  "304358",
                  "0",
                  "1",
                  "CEL0028",
                  "9.99",
                  "2017-01-07 17:53:45"
                ],
                [
                  "7343",
                  "1138590",
                  "306270",
                  "0",
                  "1",
                  "CEL0033",
                  "14.99",
                  "2017-01-10 08:35:13"
                ],
                [
                  "7850",
                  "1139743",
                  "306743",
                  "0",
                  "1",
                  "CEL0037",
                  "9.99",
                  "2017-01-10 19:35:20"
                ],
                [
                  "7898",
                  "1139821",
                  "306780",
                  "0",
                  "1",
                  "TWS0019",
                  "29.99",
                  "2017-01-10 20:17:42"
                ],
                [
                  "8053",
                  "1140127",
                  "306907",
                  "0",
                  "1",
                  "CEL0029",
                  "6.99",
                  "2017-01-10 23:03:13"
                ],
                [
                  "8215",
                  "1140468",
                  "306926",
                  "0",
                  "1",
                  "CEL0037",
                  "9.99",
                  "2017-01-11 09:01:34"
                ],
                [
                  "9251",
                  "1142673",
                  "304691",
                  "0",
                  "1",
                  "CEL0028",
                  "9.99",
                  "2017-01-12 14:10:36"
                ],
                [
                  "10069",
                  "1144377",
                  "308724",
                  "0",
                  "1",
                  "CEL0028",
                  "9.99",
                  "2017-01-13 12:33:12"
                ],
                [
                  "10472",
                  "1145277",
                  "309082",
                  "0",
                  "1",
                  "CEL0052",
                  "24.99",
                  "2017-01-13 20:39:47"
                ],
                [
                  "11475",
                  "1147098",
                  "309932",
                  "0",
                  "1",
                  "CEL0058",
                  "9.99",
                  "2017-01-15 21:27:18"
                ],
                [
                  "12195",
                  "1148612",
                  "310584",
                  "0",
                  "1",
                  "CEL0012",
                  "4.99",
                  "2017-01-16 18:00:52"
                ],
                [
                  "14582",
                  "1153565",
                  "312536",
                  "0",
                  "1",
                  "CEL0059",
                  "9.99",
                  "2017-01-20 13:30:45"
                ],
                [
                  "15840",
                  "1156068",
                  "313589",
                  "0",
                  "1",
                  "CEL0012",
                  "4.99",
                  "2017-01-23 09:12:35"
                ],
                [
                  "16068",
                  "1156531",
                  "313726",
                  "0",
                  "1",
                  "CEL0012",
                  "4.99",
                  "2017-01-23 13:03:55"
                ],
                [
                  "18218",
                  "1161006",
                  "315613",
                  "0",
                  "1",
                  "CEL0037",
                  "9.99",
                  "2017-01-27 10:10:12"
                ],
                [
                  "19650",
                  "1163770",
                  "316249",
                  "0",
                  "1",
                  "CEL0041",
                  "8.54",
                  "2017-01-29 22:21:12"
                ],
                [
                  "19684",
                  "1163910",
                  "316890",
                  "0",
                  "1",
                  "CEL0041",
                  "8.99",
                  "2017-01-29 22:35:49"
                ],
                [
                  "22098",
                  "1169379",
                  "319018",
                  "0",
                  "1",
                  "CEL0051",
                  "24.99",
                  "2017-02-01 23:09:29"
                ],
                [
                  "22439",
                  "1170003",
                  "319335",
                  "0",
                  "1",
                  "TWS0019",
                  "29.99",
                  "2017-02-02 18:51:08"
                ],
                [
                  "22501",
                  "1170115",
                  "319388",
                  "0",
                  "1",
                  "CEL0052",
                  "24.99",
                  "2017-02-02 22:24:34"
                ],
                [
                  "24138",
                  "1173135",
                  "320777",
                  "0",
                  "1",
                  "CEL0037",
                  "9.99",
                  "2017-02-07 08:42:37"
                ],
                [
                  "25107",
                  "1174948",
                  "321622",
                  "0",
                  "1",
                  "CEL0033",
                  "14.99",
                  "2017-02-09 06:40:14"
                ],
                [
                  "25540",
                  "1175766",
                  "321991",
                  "0",
                  "1",
                  "CEL0033",
                  "14.99",
                  "2017-02-09 18:32:13"
                ],
                [
                  "27042",
                  "1178565",
                  "323339",
                  "0",
                  "1",
                  "CEL0037",
                  "9.99",
                  "2017-02-13 09:09:17"
                ],
                [
                  "27632",
                  "1179743",
                  "323823",
                  "0",
                  "1",
                  "CEL0058",
                  "9.99",
                  "2017-02-13 23:03:49"
                ],
                [
                  "28213",
                  "1180962",
                  "324310",
                  "0",
                  "1",
                  "CEL0045",
                  "14.99",
                  "2017-02-14 22:33:38"
                ],
                [
                  "28664",
                  "1181789",
                  "324667",
                  "0",
                  "1",
                  "CEL0044",
                  "9.99",
                  "2017-02-15 16:26:52"
                ],
                [
                  "31283",
                  "1186579",
                  "326872",
                  "0",
                  "1",
                  "CEL0030",
                  "8.99",
                  "2017-02-20 20:00:12"
                ],
                [
                  "31290",
                  "1186589",
                  "326880",
                  "0",
                  "1",
                  "CEL0052",
                  "24.99",
                  "2017-02-20 20:22:36"
                ],
                [
                  "31382",
                  "1186817",
                  "326957",
                  "0",
                  "1",
                  "CEL0059",
                  "11.99",
                  "2017-02-20 23:55:47"
                ],
                [
                  "34821",
                  "1193259",
                  "329937",
                  "0",
                  "1",
                  "CEL0037",
                  "9.49",
                  "2017-02-27 17:20:40"
                ],
                [
                  "36150",
                  "1195955",
                  "331110",
                  "0",
                  "1",
                  "CEL0037",
                  "9.99",
                  "2017-03-01 22:34:00"
                ],
                [
                  "36550",
                  "1196603",
                  "331124",
                  "0",
                  "1",
                  "CEL0030",
                  "8.99",
                  "2017-03-02 20:00:27"
                ],
                [
                  "37987",
                  "1199361",
                  "332671",
                  "0",
                  "1",
                  "CEL0030",
                  "8.99",
                  "2017-03-06 17:52:24"
                ],
                [
                  "38291",
                  "1199994",
                  "332942",
                  "0",
                  "1",
                  "CEL0028",
                  "10.99",
                  "2017-03-07 14:43:36"
                ],
                [
                  "38396",
                  "1200223",
                  "332942",
                  "0",
                  "1",
                  "CEL0030",
                  "8.99",
                  "2017-03-07 19:16:06"
                ],
                [
                  "38710",
                  "1200866",
                  "333300",
                  "0",
                  "1",
                  "CEL0028",
                  "10.99",
                  "2017-03-08 15:10:45"
                ],
                [
                  "39090",
                  "1201596",
                  "333300",
                  "0",
                  "1",
                  "CEL0030",
                  "8.99",
                  "2017-03-09 13:46:11"
                ],
                [
                  "39474",
                  "1202346",
                  "333934",
                  "0",
                  "1",
                  "CEL0044",
                  "9.99",
                  "2017-03-10 14:28:55"
                ],
                [
                  "40240",
                  "1203705",
                  "334586",
                  "0",
                  "1",
                  "CEL0037",
                  "9.99",
                  "2017-03-13 12:28:18"
                ],
                [
                  "42271",
                  "1207387",
                  "336353",
                  "0",
                  "1",
                  "CEL0033",
                  "14.99",
                  "2017-03-17 19:31:41"
                ],
                [
                  "43965",
                  "1210457",
                  "337503",
                  "0",
                  "1",
                  "CEL0058",
                  "8.26",
                  "2017-03-22 12:40:32"
                ],
                [
                  "44256",
                  "1210999",
                  "337989",
                  "0",
                  "1",
                  "CEL0015",
                  "23.03",
                  "2017-03-22 22:33:33"
                ]
              ],
              "shape": {
                "columns": 7,
                "rows": 124
              }
            },
            "text/html": [
              "<div>\n",
              "<style scoped>\n",
              "    .dataframe tbody tr th:only-of-type {\n",
              "        vertical-align: middle;\n",
              "    }\n",
              "\n",
              "    .dataframe tbody tr th {\n",
              "        vertical-align: top;\n",
              "    }\n",
              "\n",
              "    .dataframe thead th {\n",
              "        text-align: right;\n",
              "    }\n",
              "</style>\n",
              "<table border=\"1\" class=\"dataframe\">\n",
              "  <thead>\n",
              "    <tr style=\"text-align: right;\">\n",
              "      <th></th>\n",
              "      <th>id</th>\n",
              "      <th>id_order</th>\n",
              "      <th>product_id</th>\n",
              "      <th>product_quantity</th>\n",
              "      <th>sku</th>\n",
              "      <th>unit_price</th>\n",
              "      <th>date</th>\n",
              "    </tr>\n",
              "  </thead>\n",
              "  <tbody>\n",
              "    <tr>\n",
              "      <th>1404</th>\n",
              "      <td>1122003</td>\n",
              "      <td>300843</td>\n",
              "      <td>0</td>\n",
              "      <td>1</td>\n",
              "      <td>CEL0044</td>\n",
              "      <td>9.99</td>\n",
              "      <td>2017-01-02 18:45:40</td>\n",
              "    </tr>\n",
              "    <tr>\n",
              "      <th>3646</th>\n",
              "      <td>1130654</td>\n",
              "      <td>302872</td>\n",
              "      <td>0</td>\n",
              "      <td>1</td>\n",
              "      <td>CEL0028</td>\n",
              "      <td>9.99</td>\n",
              "      <td>2017-01-05 01:44:23</td>\n",
              "    </tr>\n",
              "    <tr>\n",
              "      <th>4049</th>\n",
              "      <td>1131495</td>\n",
              "      <td>303274</td>\n",
              "      <td>0</td>\n",
              "      <td>2</td>\n",
              "      <td>CEL0046</td>\n",
              "      <td>14.99</td>\n",
              "      <td>2017-01-05 16:47:42</td>\n",
              "    </tr>\n",
              "    <tr>\n",
              "      <th>4144</th>\n",
              "      <td>1131746</td>\n",
              "      <td>303363</td>\n",
              "      <td>0</td>\n",
              "      <td>1</td>\n",
              "      <td>CEL0036</td>\n",
              "      <td>8.99</td>\n",
              "      <td>2017-01-05 20:38:40</td>\n",
              "    </tr>\n",
              "    <tr>\n",
              "      <th>4362</th>\n",
              "      <td>1132171</td>\n",
              "      <td>303577</td>\n",
              "      <td>0</td>\n",
              "      <td>1</td>\n",
              "      <td>TWS0019</td>\n",
              "      <td>29.99</td>\n",
              "      <td>2017-01-06 12:33:30</td>\n",
              "    </tr>\n",
              "    <tr>\n",
              "      <th>...</th>\n",
              "      <td>...</td>\n",
              "      <td>...</td>\n",
              "      <td>...</td>\n",
              "      <td>...</td>\n",
              "      <td>...</td>\n",
              "      <td>...</td>\n",
              "      <td>...</td>\n",
              "    </tr>\n",
              "    <tr>\n",
              "      <th>244780</th>\n",
              "      <td>1571962</td>\n",
              "      <td>495201</td>\n",
              "      <td>0</td>\n",
              "      <td>1</td>\n",
              "      <td>CEL0028</td>\n",
              "      <td>6.99</td>\n",
              "      <td>2018-01-20 19:19:10</td>\n",
              "    </tr>\n",
              "    <tr>\n",
              "      <th>252599</th>\n",
              "      <td>1584351</td>\n",
              "      <td>500011</td>\n",
              "      <td>0</td>\n",
              "      <td>1</td>\n",
              "      <td>CEL0028</td>\n",
              "      <td>6.99</td>\n",
              "      <td>2018-01-28 09:27:04</td>\n",
              "    </tr>\n",
              "    <tr>\n",
              "      <th>266957</th>\n",
              "      <td>1606736</td>\n",
              "      <td>508491</td>\n",
              "      <td>0</td>\n",
              "      <td>1</td>\n",
              "      <td>CEL0028</td>\n",
              "      <td>5.99</td>\n",
              "      <td>2018-02-09 00:24:58</td>\n",
              "    </tr>\n",
              "    <tr>\n",
              "      <th>283897</th>\n",
              "      <td>1635382</td>\n",
              "      <td>521165</td>\n",
              "      <td>0</td>\n",
              "      <td>1</td>\n",
              "      <td>CEL0044</td>\n",
              "      <td>7.99</td>\n",
              "      <td>2018-03-05 07:35:33</td>\n",
              "    </tr>\n",
              "    <tr>\n",
              "      <th>285005</th>\n",
              "      <td>1636732</td>\n",
              "      <td>521667</td>\n",
              "      <td>0</td>\n",
              "      <td>1</td>\n",
              "      <td>CEL0044</td>\n",
              "      <td>7.99</td>\n",
              "      <td>2018-03-05 13:39:35</td>\n",
              "    </tr>\n",
              "  </tbody>\n",
              "</table>\n",
              "<p>124 rows × 7 columns</p>\n",
              "</div>"
            ],
            "text/plain": [
              "             id  id_order  product_id  product_quantity      sku  unit_price  \\\n",
              "1404    1122003    300843           0                 1  CEL0044        9.99   \n",
              "3646    1130654    302872           0                 1  CEL0028        9.99   \n",
              "4049    1131495    303274           0                 2  CEL0046       14.99   \n",
              "4144    1131746    303363           0                 1  CEL0036        8.99   \n",
              "4362    1132171    303577           0                 1  TWS0019       29.99   \n",
              "...         ...       ...         ...               ...      ...         ...   \n",
              "244780  1571962    495201           0                 1  CEL0028        6.99   \n",
              "252599  1584351    500011           0                 1  CEL0028        6.99   \n",
              "266957  1606736    508491           0                 1  CEL0028        5.99   \n",
              "283897  1635382    521165           0                 1  CEL0044        7.99   \n",
              "285005  1636732    521667           0                 1  CEL0044        7.99   \n",
              "\n",
              "                      date  \n",
              "1404   2017-01-02 18:45:40  \n",
              "3646   2017-01-05 01:44:23  \n",
              "4049   2017-01-05 16:47:42  \n",
              "4144   2017-01-05 20:38:40  \n",
              "4362   2017-01-06 12:33:30  \n",
              "...                    ...  \n",
              "244780 2018-01-20 19:19:10  \n",
              "252599 2018-01-28 09:27:04  \n",
              "266957 2018-02-09 00:24:58  \n",
              "283897 2018-03-05 07:35:33  \n",
              "285005 2018-03-05 13:39:35  \n",
              "\n",
              "[124 rows x 7 columns]"
            ]
          },
          "execution_count": 47,
          "metadata": {},
          "output_type": "execute_result"
        }
      ],
      "source": [
        "# Corresponding 'sku' in orderlines table\n",
        "orderlines_df.loc[mask,:]"
      ]
    },
    {
      "cell_type": "markdown",
      "metadata": {},
      "source": [
        "124 orders are affected by prices with missing values (products_df). We will drop these orders to avoid missing values in our analysis. We will also save the dropped id_orders to a new dataframe for reference."
      ]
    },
    {
      "cell_type": "code",
      "execution_count": 48,
      "metadata": {},
      "outputs": [
        {
          "data": {
            "application/vnd.microsoft.datawrangler.viewer.v0+json": {
              "columns": [
                {
                  "name": "index",
                  "rawType": "int64",
                  "type": "integer"
                },
                {
                  "name": "id_order",
                  "rawType": "int64",
                  "type": "integer"
                },
                {
                  "name": "reason",
                  "rawType": "object",
                  "type": "string"
                }
              ],
              "ref": "a3508789-d160-420b-85e4-c2847671ffb5",
              "rows": [
                [
                  "0",
                  "300843",
                  "Missing column 'price' in products_df dataset"
                ],
                [
                  "1",
                  "302872",
                  "Missing column 'price' in products_df dataset"
                ],
                [
                  "2",
                  "303274",
                  "Missing column 'price' in products_df dataset"
                ],
                [
                  "3",
                  "303363",
                  "Missing column 'price' in products_df dataset"
                ],
                [
                  "4",
                  "303577",
                  "Missing column 'price' in products_df dataset"
                ],
                [
                  "5",
                  "298651",
                  "Missing column 'price' in products_df dataset"
                ],
                [
                  "6",
                  "304155",
                  "Missing column 'price' in products_df dataset"
                ],
                [
                  "7",
                  "304358",
                  "Missing column 'price' in products_df dataset"
                ],
                [
                  "8",
                  "306270",
                  "Missing column 'price' in products_df dataset"
                ],
                [
                  "9",
                  "306743",
                  "Missing column 'price' in products_df dataset"
                ],
                [
                  "10",
                  "306780",
                  "Missing column 'price' in products_df dataset"
                ],
                [
                  "11",
                  "306907",
                  "Missing column 'price' in products_df dataset"
                ],
                [
                  "12",
                  "306926",
                  "Missing column 'price' in products_df dataset"
                ],
                [
                  "13",
                  "304691",
                  "Missing column 'price' in products_df dataset"
                ],
                [
                  "14",
                  "308724",
                  "Missing column 'price' in products_df dataset"
                ],
                [
                  "15",
                  "309082",
                  "Missing column 'price' in products_df dataset"
                ],
                [
                  "16",
                  "309932",
                  "Missing column 'price' in products_df dataset"
                ],
                [
                  "17",
                  "310584",
                  "Missing column 'price' in products_df dataset"
                ],
                [
                  "18",
                  "312536",
                  "Missing column 'price' in products_df dataset"
                ],
                [
                  "19",
                  "313589",
                  "Missing column 'price' in products_df dataset"
                ],
                [
                  "20",
                  "313726",
                  "Missing column 'price' in products_df dataset"
                ],
                [
                  "21",
                  "315613",
                  "Missing column 'price' in products_df dataset"
                ],
                [
                  "22",
                  "316249",
                  "Missing column 'price' in products_df dataset"
                ],
                [
                  "23",
                  "316890",
                  "Missing column 'price' in products_df dataset"
                ],
                [
                  "24",
                  "319018",
                  "Missing column 'price' in products_df dataset"
                ],
                [
                  "25",
                  "319335",
                  "Missing column 'price' in products_df dataset"
                ],
                [
                  "26",
                  "319388",
                  "Missing column 'price' in products_df dataset"
                ],
                [
                  "27",
                  "320777",
                  "Missing column 'price' in products_df dataset"
                ],
                [
                  "28",
                  "321622",
                  "Missing column 'price' in products_df dataset"
                ],
                [
                  "29",
                  "321991",
                  "Missing column 'price' in products_df dataset"
                ],
                [
                  "30",
                  "323339",
                  "Missing column 'price' in products_df dataset"
                ],
                [
                  "31",
                  "323823",
                  "Missing column 'price' in products_df dataset"
                ],
                [
                  "32",
                  "324310",
                  "Missing column 'price' in products_df dataset"
                ],
                [
                  "33",
                  "324667",
                  "Missing column 'price' in products_df dataset"
                ],
                [
                  "34",
                  "326872",
                  "Missing column 'price' in products_df dataset"
                ],
                [
                  "35",
                  "326880",
                  "Missing column 'price' in products_df dataset"
                ],
                [
                  "36",
                  "326957",
                  "Missing column 'price' in products_df dataset"
                ],
                [
                  "37",
                  "329937",
                  "Missing column 'price' in products_df dataset"
                ],
                [
                  "38",
                  "331110",
                  "Missing column 'price' in products_df dataset"
                ],
                [
                  "39",
                  "331124",
                  "Missing column 'price' in products_df dataset"
                ],
                [
                  "40",
                  "332671",
                  "Missing column 'price' in products_df dataset"
                ],
                [
                  "41",
                  "332942",
                  "Missing column 'price' in products_df dataset"
                ],
                [
                  "42",
                  "332942",
                  "Missing column 'price' in products_df dataset"
                ],
                [
                  "43",
                  "333300",
                  "Missing column 'price' in products_df dataset"
                ],
                [
                  "44",
                  "333300",
                  "Missing column 'price' in products_df dataset"
                ],
                [
                  "45",
                  "333934",
                  "Missing column 'price' in products_df dataset"
                ],
                [
                  "46",
                  "334586",
                  "Missing column 'price' in products_df dataset"
                ],
                [
                  "47",
                  "336353",
                  "Missing column 'price' in products_df dataset"
                ],
                [
                  "48",
                  "337503",
                  "Missing column 'price' in products_df dataset"
                ],
                [
                  "49",
                  "337989",
                  "Missing column 'price' in products_df dataset"
                ]
              ],
              "shape": {
                "columns": 2,
                "rows": 124
              }
            },
            "text/html": [
              "<div>\n",
              "<style scoped>\n",
              "    .dataframe tbody tr th:only-of-type {\n",
              "        vertical-align: middle;\n",
              "    }\n",
              "\n",
              "    .dataframe tbody tr th {\n",
              "        vertical-align: top;\n",
              "    }\n",
              "\n",
              "    .dataframe thead th {\n",
              "        text-align: right;\n",
              "    }\n",
              "</style>\n",
              "<table border=\"1\" class=\"dataframe\">\n",
              "  <thead>\n",
              "    <tr style=\"text-align: right;\">\n",
              "      <th></th>\n",
              "      <th>id_order</th>\n",
              "      <th>reason</th>\n",
              "    </tr>\n",
              "  </thead>\n",
              "  <tbody>\n",
              "    <tr>\n",
              "      <th>0</th>\n",
              "      <td>300843</td>\n",
              "      <td>Missing column 'price' in products_df dataset</td>\n",
              "    </tr>\n",
              "    <tr>\n",
              "      <th>1</th>\n",
              "      <td>302872</td>\n",
              "      <td>Missing column 'price' in products_df dataset</td>\n",
              "    </tr>\n",
              "    <tr>\n",
              "      <th>2</th>\n",
              "      <td>303274</td>\n",
              "      <td>Missing column 'price' in products_df dataset</td>\n",
              "    </tr>\n",
              "    <tr>\n",
              "      <th>3</th>\n",
              "      <td>303363</td>\n",
              "      <td>Missing column 'price' in products_df dataset</td>\n",
              "    </tr>\n",
              "    <tr>\n",
              "      <th>4</th>\n",
              "      <td>303577</td>\n",
              "      <td>Missing column 'price' in products_df dataset</td>\n",
              "    </tr>\n",
              "    <tr>\n",
              "      <th>...</th>\n",
              "      <td>...</td>\n",
              "      <td>...</td>\n",
              "    </tr>\n",
              "    <tr>\n",
              "      <th>119</th>\n",
              "      <td>495201</td>\n",
              "      <td>Missing column 'price' in products_df dataset</td>\n",
              "    </tr>\n",
              "    <tr>\n",
              "      <th>120</th>\n",
              "      <td>500011</td>\n",
              "      <td>Missing column 'price' in products_df dataset</td>\n",
              "    </tr>\n",
              "    <tr>\n",
              "      <th>121</th>\n",
              "      <td>508491</td>\n",
              "      <td>Missing column 'price' in products_df dataset</td>\n",
              "    </tr>\n",
              "    <tr>\n",
              "      <th>122</th>\n",
              "      <td>521165</td>\n",
              "      <td>Missing column 'price' in products_df dataset</td>\n",
              "    </tr>\n",
              "    <tr>\n",
              "      <th>123</th>\n",
              "      <td>521667</td>\n",
              "      <td>Missing column 'price' in products_df dataset</td>\n",
              "    </tr>\n",
              "  </tbody>\n",
              "</table>\n",
              "<p>124 rows × 2 columns</p>\n",
              "</div>"
            ],
            "text/plain": [
              "     id_order                                         reason\n",
              "0      300843  Missing column 'price' in products_df dataset\n",
              "1      302872  Missing column 'price' in products_df dataset\n",
              "2      303274  Missing column 'price' in products_df dataset\n",
              "3      303363  Missing column 'price' in products_df dataset\n",
              "4      303577  Missing column 'price' in products_df dataset\n",
              "..        ...                                            ...\n",
              "119    495201  Missing column 'price' in products_df dataset\n",
              "120    500011  Missing column 'price' in products_df dataset\n",
              "121    508491  Missing column 'price' in products_df dataset\n",
              "122    521165  Missing column 'price' in products_df dataset\n",
              "123    521667  Missing column 'price' in products_df dataset\n",
              "\n",
              "[124 rows x 2 columns]"
            ]
          },
          "execution_count": 48,
          "metadata": {},
          "output_type": "execute_result"
        }
      ],
      "source": [
        "# Before dropping the rows, we will save the dropped id_orders to a new dataframe\n",
        "dropped_ids_missing_sku_prices_df = pd.DataFrame(orderlines_df.loc[mask, 'id_order']).copy().reset_index(drop=True)\n",
        "dropped_ids_missing_sku_prices_df['reason'] = \"Missing column 'price' in products_df dataset\"\n",
        "dropped_ids_missing_sku_prices_df"
      ]
    },
    {
      "cell_type": "code",
      "execution_count": 49,
      "metadata": {},
      "outputs": [
        {
          "data": {
            "application/vnd.microsoft.datawrangler.viewer.v0+json": {
              "columns": [
                {
                  "name": "index",
                  "rawType": "int64",
                  "type": "integer"
                },
                {
                  "name": "id",
                  "rawType": "int64",
                  "type": "integer"
                },
                {
                  "name": "id_order",
                  "rawType": "int64",
                  "type": "integer"
                },
                {
                  "name": "product_id",
                  "rawType": "int64",
                  "type": "integer"
                },
                {
                  "name": "product_quantity",
                  "rawType": "int64",
                  "type": "integer"
                },
                {
                  "name": "sku",
                  "rawType": "object",
                  "type": "string"
                },
                {
                  "name": "unit_price",
                  "rawType": "float64",
                  "type": "float"
                },
                {
                  "name": "date",
                  "rawType": "datetime64[ns]",
                  "type": "datetime"
                }
              ],
              "ref": "d352c501-a38f-498a-9300-a9f178a4ff4e",
              "rows": [
                [
                  "0",
                  "1119109",
                  "299539",
                  "0",
                  "1",
                  "OTT0133",
                  "18.99",
                  "2017-01-01 00:07:19"
                ],
                [
                  "1",
                  "1119110",
                  "299540",
                  "0",
                  "1",
                  "LGE0043",
                  "399.0",
                  "2017-01-01 00:19:45"
                ],
                [
                  "2",
                  "1119111",
                  "299541",
                  "0",
                  "1",
                  "PAR0071",
                  "474.05",
                  "2017-01-01 00:20:57"
                ],
                [
                  "3",
                  "1119112",
                  "299542",
                  "0",
                  "1",
                  "WDT0315",
                  "68.39",
                  "2017-01-01 00:51:40"
                ],
                [
                  "4",
                  "1119113",
                  "299543",
                  "0",
                  "1",
                  "JBL0104",
                  "23.74",
                  "2017-01-01 01:06:38"
                ],
                [
                  "5",
                  "1119114",
                  "295310",
                  "0",
                  "10",
                  "WDT0249",
                  "231.79",
                  "2017-01-01 01:14:27"
                ],
                [
                  "6",
                  "1119115",
                  "299544",
                  "0",
                  "1",
                  "APP1582",
                  "1137.99",
                  "2017-01-01 01:17:21"
                ],
                [
                  "7",
                  "1119116",
                  "299545",
                  "0",
                  "1",
                  "OWC0100",
                  "47.49",
                  "2017-01-01 01:46:16"
                ],
                [
                  "8",
                  "1119119",
                  "299546",
                  "0",
                  "1",
                  "IOT0014",
                  "18.99",
                  "2017-01-01 01:50:34"
                ],
                [
                  "9",
                  "1119120",
                  "295347",
                  "0",
                  "1",
                  "APP0700",
                  "72.19",
                  "2017-01-01 01:54:11"
                ],
                [
                  "10",
                  "1119125",
                  "299548",
                  "0",
                  "5",
                  "SPE0132",
                  "35.14",
                  "2017-01-01 02:02:20"
                ],
                [
                  "11",
                  "1119126",
                  "299549",
                  "0",
                  "1",
                  "PAC0929",
                  "2565.99",
                  "2017-01-01 02:07:42"
                ],
                [
                  "12",
                  "1119127",
                  "299550",
                  "0",
                  "1",
                  "WDT0309",
                  "149.14",
                  "2017-01-01 02:09:52"
                ],
                [
                  "13",
                  "1119129",
                  "299552",
                  "0",
                  "1",
                  "MBI0010",
                  "16.99",
                  "2017-01-01 02:13:51"
                ],
                [
                  "14",
                  "1119130",
                  "299552",
                  "0",
                  "1",
                  "SAT0044",
                  "19.99",
                  "2017-01-01 02:14:36"
                ],
                [
                  "15",
                  "1119131",
                  "299553",
                  "0",
                  "1",
                  "APP1854",
                  "3278.99",
                  "2017-01-01 02:14:47"
                ],
                [
                  "16",
                  "1119132",
                  "299554",
                  "0",
                  "1",
                  "WAC0171",
                  "59.84",
                  "2017-01-01 02:15:46"
                ],
                [
                  "17",
                  "1119133",
                  "299555",
                  "0",
                  "1",
                  "BEA0065",
                  "256.49",
                  "2017-01-01 02:18:45"
                ],
                [
                  "18",
                  "1119134",
                  "299556",
                  "0",
                  "1",
                  "CRU0039-A",
                  "60.9",
                  "2017-01-01 02:20:14"
                ],
                [
                  "19",
                  "1119135",
                  "299557",
                  "0",
                  "1",
                  "NTE0082",
                  "37.99",
                  "2017-01-01 02:22:36"
                ],
                [
                  "20",
                  "1119136",
                  "299558",
                  "0",
                  "2",
                  "WDT0141",
                  "112.99",
                  "2017-01-01 02:24:33"
                ],
                [
                  "21",
                  "1119140",
                  "299559",
                  "0",
                  "1",
                  "APP0700",
                  "72.19",
                  "2017-01-01 02:32:22"
                ],
                [
                  "22",
                  "1119143",
                  "299559",
                  "0",
                  "1",
                  "APP1214",
                  "84.99",
                  "2017-01-01 02:36:43"
                ],
                [
                  "23",
                  "1119144",
                  "299560",
                  "0",
                  "1",
                  "OWC0120",
                  "52.24",
                  "2017-01-01 02:37:58"
                ],
                [
                  "24",
                  "1119145",
                  "299561",
                  "0",
                  "1",
                  "PEB0015",
                  "142.49",
                  "2017-01-01 02:38:50"
                ],
                [
                  "25",
                  "1119153",
                  "299562",
                  "0",
                  "1",
                  "APP1045",
                  "9.0",
                  "2017-01-01 02:39:53"
                ],
                [
                  "26",
                  "1119154",
                  "299563",
                  "0",
                  "1",
                  "BEA0065",
                  "256.49",
                  "2017-01-01 02:42:05"
                ],
                [
                  "27",
                  "1119155",
                  "299564",
                  "0",
                  "1",
                  "SAT0010",
                  "18.99",
                  "2017-01-01 02:43:37"
                ],
                [
                  "28",
                  "1119160",
                  "299565",
                  "0",
                  "1",
                  "CRU0052",
                  "179.54",
                  "2017-01-01 02:49:38"
                ],
                [
                  "29",
                  "1119161",
                  "299566",
                  "0",
                  "1",
                  "PAC0701",
                  "219.44",
                  "2017-01-01 03:00:05"
                ],
                [
                  "30",
                  "1119162",
                  "299567",
                  "0",
                  "1",
                  "APP1647",
                  "769.0",
                  "2017-01-01 03:16:51"
                ],
                [
                  "31",
                  "1119163",
                  "299568",
                  "0",
                  "1",
                  "PAR0071",
                  "474.05",
                  "2017-01-01 03:29:20"
                ],
                [
                  "32",
                  "1119180",
                  "299570",
                  "0",
                  "1",
                  "SPE0163",
                  "35.14",
                  "2017-01-01 03:51:38"
                ],
                [
                  "33",
                  "1119181",
                  "299571",
                  "0",
                  "1",
                  "SYN0139",
                  "166.24",
                  "2017-01-01 04:00:44"
                ],
                [
                  "34",
                  "1119182",
                  "299572",
                  "0",
                  "1",
                  "IFX0040",
                  "237.49",
                  "2017-01-01 04:07:28"
                ],
                [
                  "35",
                  "1119183",
                  "299573",
                  "0",
                  "1",
                  "MOP0072",
                  "56.99",
                  "2017-01-01 04:36:46"
                ],
                [
                  "36",
                  "1119184",
                  "299574",
                  "0",
                  "1",
                  "SAT0036",
                  "37.99",
                  "2017-01-01 05:33:29"
                ],
                [
                  "37",
                  "1119185",
                  "299575",
                  "0",
                  "1",
                  "APP1211",
                  "219.0",
                  "2017-01-01 05:37:04"
                ],
                [
                  "38",
                  "1119186",
                  "299576",
                  "0",
                  "1",
                  "SAM0095",
                  "82.64",
                  "2017-01-01 06:51:23"
                ],
                [
                  "39",
                  "1119187",
                  "299577",
                  "0",
                  "1",
                  "GRT0430-A",
                  "10.69",
                  "2017-01-01 07:35:36"
                ],
                [
                  "40",
                  "1119188",
                  "299578",
                  "0",
                  "1",
                  "LOG0191",
                  "142.49",
                  "2017-01-01 08:21:26"
                ],
                [
                  "41",
                  "1119189",
                  "299579",
                  "0",
                  "1",
                  "LGE0031-A",
                  "127.08",
                  "2017-01-01 08:23:14"
                ],
                [
                  "42",
                  "1119190",
                  "299580",
                  "0",
                  "1",
                  "LGE0031-A",
                  "127.08",
                  "2017-01-01 08:27:32"
                ],
                [
                  "43",
                  "1119195",
                  "299582",
                  "0",
                  "1",
                  "PAC0961",
                  "2616.99",
                  "2017-01-01 08:54:00"
                ],
                [
                  "44",
                  "1119196",
                  "299583",
                  "0",
                  "1",
                  "APP1648",
                  "879.0",
                  "2017-01-01 08:54:20"
                ],
                [
                  "45",
                  "1119198",
                  "299583",
                  "0",
                  "1",
                  "BEL0275",
                  "16.99",
                  "2017-01-01 08:58:33"
                ],
                [
                  "46",
                  "1119199",
                  "299583",
                  "0",
                  "1",
                  "BEL0286",
                  "17.99",
                  "2017-01-01 09:00:26"
                ],
                [
                  "47",
                  "1119200",
                  "299584",
                  "0",
                  "1",
                  "WDT0309",
                  "149.14",
                  "2017-01-01 09:01:40"
                ],
                [
                  "48",
                  "1119201",
                  "299585",
                  "0",
                  "1",
                  "CRU0053",
                  "284.05",
                  "2017-01-01 09:15:32"
                ],
                [
                  "49",
                  "1119202",
                  "299586",
                  "0",
                  "1",
                  "GRT0456",
                  "42.99",
                  "2017-01-01 09:18:52"
                ]
              ],
              "shape": {
                "columns": 7,
                "rows": 293853
              }
            },
            "text/html": [
              "<div>\n",
              "<style scoped>\n",
              "    .dataframe tbody tr th:only-of-type {\n",
              "        vertical-align: middle;\n",
              "    }\n",
              "\n",
              "    .dataframe tbody tr th {\n",
              "        vertical-align: top;\n",
              "    }\n",
              "\n",
              "    .dataframe thead th {\n",
              "        text-align: right;\n",
              "    }\n",
              "</style>\n",
              "<table border=\"1\" class=\"dataframe\">\n",
              "  <thead>\n",
              "    <tr style=\"text-align: right;\">\n",
              "      <th></th>\n",
              "      <th>id</th>\n",
              "      <th>id_order</th>\n",
              "      <th>product_id</th>\n",
              "      <th>product_quantity</th>\n",
              "      <th>sku</th>\n",
              "      <th>unit_price</th>\n",
              "      <th>date</th>\n",
              "    </tr>\n",
              "  </thead>\n",
              "  <tbody>\n",
              "    <tr>\n",
              "      <th>0</th>\n",
              "      <td>1119109</td>\n",
              "      <td>299539</td>\n",
              "      <td>0</td>\n",
              "      <td>1</td>\n",
              "      <td>OTT0133</td>\n",
              "      <td>18.99</td>\n",
              "      <td>2017-01-01 00:07:19</td>\n",
              "    </tr>\n",
              "    <tr>\n",
              "      <th>1</th>\n",
              "      <td>1119110</td>\n",
              "      <td>299540</td>\n",
              "      <td>0</td>\n",
              "      <td>1</td>\n",
              "      <td>LGE0043</td>\n",
              "      <td>399.00</td>\n",
              "      <td>2017-01-01 00:19:45</td>\n",
              "    </tr>\n",
              "    <tr>\n",
              "      <th>2</th>\n",
              "      <td>1119111</td>\n",
              "      <td>299541</td>\n",
              "      <td>0</td>\n",
              "      <td>1</td>\n",
              "      <td>PAR0071</td>\n",
              "      <td>474.05</td>\n",
              "      <td>2017-01-01 00:20:57</td>\n",
              "    </tr>\n",
              "    <tr>\n",
              "      <th>3</th>\n",
              "      <td>1119112</td>\n",
              "      <td>299542</td>\n",
              "      <td>0</td>\n",
              "      <td>1</td>\n",
              "      <td>WDT0315</td>\n",
              "      <td>68.39</td>\n",
              "      <td>2017-01-01 00:51:40</td>\n",
              "    </tr>\n",
              "    <tr>\n",
              "      <th>4</th>\n",
              "      <td>1119113</td>\n",
              "      <td>299543</td>\n",
              "      <td>0</td>\n",
              "      <td>1</td>\n",
              "      <td>JBL0104</td>\n",
              "      <td>23.74</td>\n",
              "      <td>2017-01-01 01:06:38</td>\n",
              "    </tr>\n",
              "    <tr>\n",
              "      <th>...</th>\n",
              "      <td>...</td>\n",
              "      <td>...</td>\n",
              "      <td>...</td>\n",
              "      <td>...</td>\n",
              "      <td>...</td>\n",
              "      <td>...</td>\n",
              "      <td>...</td>\n",
              "    </tr>\n",
              "    <tr>\n",
              "      <th>293848</th>\n",
              "      <td>1650199</td>\n",
              "      <td>527398</td>\n",
              "      <td>0</td>\n",
              "      <td>1</td>\n",
              "      <td>JBL0122</td>\n",
              "      <td>42.99</td>\n",
              "      <td>2018-03-14 13:57:25</td>\n",
              "    </tr>\n",
              "    <tr>\n",
              "      <th>293849</th>\n",
              "      <td>1650200</td>\n",
              "      <td>527399</td>\n",
              "      <td>0</td>\n",
              "      <td>1</td>\n",
              "      <td>PAC0653</td>\n",
              "      <td>141.58</td>\n",
              "      <td>2018-03-14 13:57:34</td>\n",
              "    </tr>\n",
              "    <tr>\n",
              "      <th>293850</th>\n",
              "      <td>1650201</td>\n",
              "      <td>527400</td>\n",
              "      <td>0</td>\n",
              "      <td>2</td>\n",
              "      <td>APP0698</td>\n",
              "      <td>9.99</td>\n",
              "      <td>2018-03-14 13:57:41</td>\n",
              "    </tr>\n",
              "    <tr>\n",
              "      <th>293851</th>\n",
              "      <td>1650202</td>\n",
              "      <td>527388</td>\n",
              "      <td>0</td>\n",
              "      <td>1</td>\n",
              "      <td>BEZ0204</td>\n",
              "      <td>19.99</td>\n",
              "      <td>2018-03-14 13:58:01</td>\n",
              "    </tr>\n",
              "    <tr>\n",
              "      <th>293852</th>\n",
              "      <td>1650203</td>\n",
              "      <td>527401</td>\n",
              "      <td>0</td>\n",
              "      <td>1</td>\n",
              "      <td>APP0927</td>\n",
              "      <td>13.99</td>\n",
              "      <td>2018-03-14 13:58:36</td>\n",
              "    </tr>\n",
              "  </tbody>\n",
              "</table>\n",
              "<p>293853 rows × 7 columns</p>\n",
              "</div>"
            ],
            "text/plain": [
              "             id  id_order  product_id  product_quantity      sku  unit_price  \\\n",
              "0       1119109    299539           0                 1  OTT0133       18.99   \n",
              "1       1119110    299540           0                 1  LGE0043      399.00   \n",
              "2       1119111    299541           0                 1  PAR0071      474.05   \n",
              "3       1119112    299542           0                 1  WDT0315       68.39   \n",
              "4       1119113    299543           0                 1  JBL0104       23.74   \n",
              "...         ...       ...         ...               ...      ...         ...   \n",
              "293848  1650199    527398           0                 1  JBL0122       42.99   \n",
              "293849  1650200    527399           0                 1  PAC0653      141.58   \n",
              "293850  1650201    527400           0                 2  APP0698        9.99   \n",
              "293851  1650202    527388           0                 1  BEZ0204       19.99   \n",
              "293852  1650203    527401           0                 1  APP0927       13.99   \n",
              "\n",
              "                      date  \n",
              "0      2017-01-01 00:07:19  \n",
              "1      2017-01-01 00:19:45  \n",
              "2      2017-01-01 00:20:57  \n",
              "3      2017-01-01 00:51:40  \n",
              "4      2017-01-01 01:06:38  \n",
              "...                    ...  \n",
              "293848 2018-03-14 13:57:25  \n",
              "293849 2018-03-14 13:57:34  \n",
              "293850 2018-03-14 13:57:41  \n",
              "293851 2018-03-14 13:58:01  \n",
              "293852 2018-03-14 13:58:36  \n",
              "\n",
              "[293853 rows x 7 columns]"
            ]
          },
          "execution_count": 49,
          "metadata": {},
          "output_type": "execute_result"
        }
      ],
      "source": [
        "# Drop the rows from the orderlines_df\n",
        "orderlines_df = orderlines_df[~mask].reset_index(drop=True)\n",
        "orderlines_df"
      ]
    },
    {
      "cell_type": "code",
      "execution_count": 50,
      "metadata": {},
      "outputs": [],
      "source": [
        "# Dropping rows with missing values in the 'price' column\n",
        "products_df = products_df.dropna(subset=['price'])"
      ]
    },
    {
      "cell_type": "code",
      "execution_count": 51,
      "metadata": {},
      "outputs": [
        {
          "name": "stdout",
          "output_type": "stream",
          "text": [
            "<class 'pandas.core.frame.DataFrame'>\n",
            "Index: 10534 entries, 0 to 19325\n",
            "Data columns (total 7 columns):\n",
            " #   Column       Non-Null Count  Dtype \n",
            "---  ------       --------------  ----- \n",
            " 0   sku          10534 non-null  object\n",
            " 1   name         10534 non-null  object\n",
            " 2   desc         10527 non-null  object\n",
            " 3   price        10534 non-null  object\n",
            " 4   promo_price  10534 non-null  object\n",
            " 5   in_stock     10534 non-null  int64 \n",
            " 6   type         10484 non-null  object\n",
            "dtypes: int64(1), object(6)\n",
            "memory usage: 658.4+ KB\n"
          ]
        }
      ],
      "source": [
        "products_df.info()"
      ]
    },
    {
      "cell_type": "markdown",
      "metadata": {},
      "source": [
        "No more missing values in the 'price' column. Since the columns 'desc' and 'type' have low relevance for the current analysis, we leave the missing values for these columns in the dataset."
      ]
    },
    {
      "cell_type": "markdown",
      "metadata": {
        "id": "4x6xeGDu_B0N"
      },
      "source": [
        "# 3. Check / Change Data types"
      ]
    },
    {
      "cell_type": "markdown",
      "metadata": {},
      "source": [
        "### 3.1 &nbsp;`price`\n",
        "\n",
        "* `price` should be a float datatype"
      ]
    },
    {
      "cell_type": "code",
      "execution_count": 52,
      "metadata": {},
      "outputs": [
        {
          "ename": "ValueError",
          "evalue": "Unable to parse string \"1.639.792\" at position 504",
          "output_type": "error",
          "traceback": [
            "\u001b[31m---------------------------------------------------------------------------\u001b[39m",
            "\u001b[31mValueError\u001b[39m                                Traceback (most recent call last)",
            "\u001b[36mFile \u001b[39m\u001b[32mlib.pyx:2391\u001b[39m, in \u001b[36mpandas._libs.lib.maybe_convert_numeric\u001b[39m\u001b[34m()\u001b[39m\n",
            "\u001b[31mValueError\u001b[39m: Unable to parse string \"1.639.792\"",
            "\nDuring handling of the above exception, another exception occurred:\n",
            "\u001b[31mValueError\u001b[39m                                Traceback (most recent call last)",
            "\u001b[36mCell\u001b[39m\u001b[36m \u001b[39m\u001b[32mIn[52]\u001b[39m\u001b[32m, line 2\u001b[39m\n\u001b[32m      1\u001b[39m \u001b[38;5;66;03m# This does not work because format problems with the price\u001b[39;00m\n\u001b[32m----> \u001b[39m\u001b[32m2\u001b[39m products_df[\u001b[33m\"\u001b[39m\u001b[33mprice\u001b[39m\u001b[33m\"\u001b[39m] = \u001b[43mpd\u001b[49m\u001b[43m.\u001b[49m\u001b[43mto_numeric\u001b[49m\u001b[43m(\u001b[49m\u001b[43mproducts_df\u001b[49m\u001b[43m[\u001b[49m\u001b[33;43m\"\u001b[39;49m\u001b[33;43mprice\u001b[39;49m\u001b[33;43m\"\u001b[39;49m\u001b[43m]\u001b[49m\u001b[43m)\u001b[49m\n",
            "\u001b[36mFile \u001b[39m\u001b[32mc:\\Users\\alexo\\Documents\\dev\\WBS_bootcamp\\.venv\\Lib\\site-packages\\pandas\\core\\tools\\numeric.py:232\u001b[39m, in \u001b[36mto_numeric\u001b[39m\u001b[34m(arg, errors, downcast, dtype_backend)\u001b[39m\n\u001b[32m    230\u001b[39m coerce_numeric = errors \u001b[38;5;129;01mnot\u001b[39;00m \u001b[38;5;129;01min\u001b[39;00m (\u001b[33m\"\u001b[39m\u001b[33mignore\u001b[39m\u001b[33m\"\u001b[39m, \u001b[33m\"\u001b[39m\u001b[33mraise\u001b[39m\u001b[33m\"\u001b[39m)\n\u001b[32m    231\u001b[39m \u001b[38;5;28;01mtry\u001b[39;00m:\n\u001b[32m--> \u001b[39m\u001b[32m232\u001b[39m     values, new_mask = \u001b[43mlib\u001b[49m\u001b[43m.\u001b[49m\u001b[43mmaybe_convert_numeric\u001b[49m\u001b[43m(\u001b[49m\u001b[43m  \u001b[49m\u001b[38;5;66;43;03m# type: ignore[call-overload]\u001b[39;49;00m\n\u001b[32m    233\u001b[39m \u001b[43m        \u001b[49m\u001b[43mvalues\u001b[49m\u001b[43m,\u001b[49m\n\u001b[32m    234\u001b[39m \u001b[43m        \u001b[49m\u001b[38;5;28;43mset\u001b[39;49m\u001b[43m(\u001b[49m\u001b[43m)\u001b[49m\u001b[43m,\u001b[49m\n\u001b[32m    235\u001b[39m \u001b[43m        \u001b[49m\u001b[43mcoerce_numeric\u001b[49m\u001b[43m=\u001b[49m\u001b[43mcoerce_numeric\u001b[49m\u001b[43m,\u001b[49m\n\u001b[32m    236\u001b[39m \u001b[43m        \u001b[49m\u001b[43mconvert_to_masked_nullable\u001b[49m\u001b[43m=\u001b[49m\u001b[43mdtype_backend\u001b[49m\u001b[43m \u001b[49m\u001b[38;5;129;43;01mis\u001b[39;49;00m\u001b[43m \u001b[49m\u001b[38;5;129;43;01mnot\u001b[39;49;00m\u001b[43m \u001b[49m\u001b[43mlib\u001b[49m\u001b[43m.\u001b[49m\u001b[43mno_default\u001b[49m\n\u001b[32m    237\u001b[39m \u001b[43m        \u001b[49m\u001b[38;5;129;43;01mor\u001b[39;49;00m\u001b[43m \u001b[49m\u001b[38;5;28;43misinstance\u001b[39;49m\u001b[43m(\u001b[49m\u001b[43mvalues_dtype\u001b[49m\u001b[43m,\u001b[49m\u001b[43m \u001b[49m\u001b[43mStringDtype\u001b[49m\u001b[43m)\u001b[49m\n\u001b[32m    238\u001b[39m \u001b[43m        \u001b[49m\u001b[38;5;129;43;01mand\u001b[39;49;00m\u001b[43m \u001b[49m\u001b[38;5;129;43;01mnot\u001b[39;49;00m\u001b[43m \u001b[49m\u001b[43mvalues_dtype\u001b[49m\u001b[43m.\u001b[49m\u001b[43mstorage\u001b[49m\u001b[43m \u001b[49m\u001b[43m==\u001b[49m\u001b[43m \u001b[49m\u001b[33;43m\"\u001b[39;49m\u001b[33;43mpyarrow_numpy\u001b[39;49m\u001b[33;43m\"\u001b[39;49m\u001b[43m,\u001b[49m\n\u001b[32m    239\u001b[39m \u001b[43m    \u001b[49m\u001b[43m)\u001b[49m\n\u001b[32m    240\u001b[39m \u001b[38;5;28;01mexcept\u001b[39;00m (\u001b[38;5;167;01mValueError\u001b[39;00m, \u001b[38;5;167;01mTypeError\u001b[39;00m):\n\u001b[32m    241\u001b[39m     \u001b[38;5;28;01mif\u001b[39;00m errors == \u001b[33m\"\u001b[39m\u001b[33mraise\u001b[39m\u001b[33m\"\u001b[39m:\n",
            "\u001b[36mFile \u001b[39m\u001b[32mlib.pyx:2433\u001b[39m, in \u001b[36mpandas._libs.lib.maybe_convert_numeric\u001b[39m\u001b[34m()\u001b[39m\n",
            "\u001b[31mValueError\u001b[39m: Unable to parse string \"1.639.792\" at position 504"
          ]
        }
      ],
      "source": [
        "# This does not work because format problems with the price\n",
        "products_df[\"price\"] = pd.to_numeric(products_df[\"price\"])"
      ]
    },
    {
      "cell_type": "markdown",
      "metadata": {},
      "source": [
        "As you can see when we try to convert `price` to a numerical datatype, we receive a `ValueError` telling us that pandas doesn't understand the number `1.639.792`. This is probably because numbers cannot have multiple decimal points. Let's see if there are any other numbers like this:"
      ]
    },
    {
      "cell_type": "code",
      "execution_count": 53,
      "metadata": {},
      "outputs": [
        {
          "data": {
            "application/vnd.microsoft.datawrangler.viewer.v0+json": {
              "columns": [
                {
                  "name": "price",
                  "rawType": "int64",
                  "type": "integer"
                },
                {
                  "name": "count",
                  "rawType": "int64",
                  "type": "integer"
                }
              ],
              "ref": "7530631e-80f9-44a0-add7-be13c42bebaf",
              "rows": [
                [
                  "1",
                  "6942"
                ],
                [
                  "0",
                  "3215"
                ],
                [
                  "2",
                  "377"
                ]
              ],
              "shape": {
                "columns": 1,
                "rows": 3
              }
            },
            "text/plain": [
              "price\n",
              "1    6942\n",
              "0    3215\n",
              "2     377\n",
              "Name: count, dtype: int64"
            ]
          },
          "execution_count": 53,
          "metadata": {},
          "output_type": "execute_result"
        }
      ],
      "source": [
        "# Count the number of decimal points in the unit_price\n",
        "products_df['price'].str.count(\"\\\\.\").value_counts()"
      ]
    },
    {
      "cell_type": "markdown",
      "metadata": {},
      "source": [
        "Prices with zero decimal points are fine for the analysis.\n",
        "\n",
        "However, 377 rows in `products` have 2 or more decimal points. Let's work out how much that is as a percentage of our total data."
      ]
    },
    {
      "cell_type": "code",
      "execution_count": 54,
      "metadata": {},
      "outputs": [
        {
          "name": "stdout",
          "output_type": "stream",
          "text": [
            "3.58% of the rows in our DataFrame have multiple decimal points in the price\n"
          ]
        }
      ],
      "source": [
        "# Count the rows with more than one `.`\n",
        "mult_decimal_rows = (products_df['price'].str.count(\"\\\\.\")>1).sum()\n",
        "\n",
        "# Find the percentage of corrupted rows\n",
        "percent_corrupted = (100 * mult_decimal_rows / products_df.shape[0])\n",
        "print(f\"{percent_corrupted:.2f}% of the rows in our DataFrame have multiple decimal points in the price\")"
      ]
    },
    {
      "cell_type": "markdown",
      "metadata": {},
      "source": [
        "### Handling of products with two dots in the price\n",
        "Let's see if all prices that look like this have been corrupted with a rule that we can reverse-engineer, and fix the prices."
      ]
    },
    {
      "cell_type": "code",
      "execution_count": 55,
      "metadata": {},
      "outputs": [],
      "source": [
        "# Boolean mask to find the orders that contain a price with multiple decimal points\n",
        "multiple_decimal_mask = products_df['price'].str.count(\"\\\\.\") > 1\n",
        "\n",
        "# Apply the boolean mask to the products DataFrame. This way we can find the sku's of all the affected products.\n",
        "corrupted_sku = products_df.loc[multiple_decimal_mask, [\"sku\",'price']]"
      ]
    },
    {
      "cell_type": "code",
      "execution_count": 56,
      "metadata": {},
      "outputs": [
        {
          "data": {
            "application/vnd.microsoft.datawrangler.viewer.v0+json": {
              "columns": [
                {
                  "name": "index",
                  "rawType": "int64",
                  "type": "integer"
                },
                {
                  "name": "sku",
                  "rawType": "object",
                  "type": "string"
                },
                {
                  "name": "price",
                  "rawType": "object",
                  "type": "string"
                }
              ],
              "ref": "27c29bd4-3023-4b96-b130-a3d1a20670cc",
              "rows": [
                [
                  "665",
                  "CRU0015-2",
                  "1.639.792"
                ],
                [
                  "792",
                  "APP0672",
                  "4.694.994"
                ],
                [
                  "797",
                  "APP0673",
                  "4.090.042"
                ],
                [
                  "827",
                  "PAC0339",
                  "2.199.791"
                ],
                [
                  "885",
                  "PAC0376",
                  "5.609.698"
                ],
                [
                  "898",
                  "REP0156",
                  "69.989.909"
                ],
                [
                  "941",
                  "REP0185",
                  "69.989.909"
                ],
                [
                  "943",
                  "REP0188",
                  "2.099.895"
                ],
                [
                  "1057",
                  "MOP0057",
                  "1.329.911"
                ],
                [
                  "1058",
                  "MOP0058",
                  "1.599.862"
                ],
                [
                  "1059",
                  "MOP0059",
                  "1.599.862"
                ],
                [
                  "1132",
                  "LAN0012",
                  "2.399.914"
                ],
                [
                  "1137",
                  "WDT0240",
                  "2.199.901"
                ],
                [
                  "1387",
                  "APP0869",
                  "5.428.121"
                ],
                [
                  "1389",
                  "APP0870",
                  "5.428.121"
                ],
                [
                  "1391",
                  "APP0871",
                  "5.428.121"
                ],
                [
                  "1392",
                  "APP0880",
                  "6.628.138"
                ],
                [
                  "1393",
                  "APP0879",
                  "6.628.114"
                ],
                [
                  "1446",
                  "PAC0549",
                  "1.699.795"
                ],
                [
                  "1450",
                  "PAC0554",
                  "2.599.575"
                ],
                [
                  "1453",
                  "PAC0557",
                  "4.119.592"
                ],
                [
                  "1459",
                  "PAC0562",
                  "1.169.795"
                ],
                [
                  "1461",
                  "PAC0565",
                  "3.589.592"
                ],
                [
                  "1574",
                  "PAC0584",
                  "10.869.458"
                ],
                [
                  "1809",
                  "SAN0071",
                  "29.658.431"
                ],
                [
                  "1931",
                  "PAC0677",
                  "2.989.607"
                ],
                [
                  "1933",
                  "PAC0790",
                  "6.619.592"
                ],
                [
                  "1940",
                  "PAC0686",
                  "5.809.588"
                ],
                [
                  "1952",
                  "PAC0693",
                  "3.799.592"
                ],
                [
                  "1955",
                  "PAC0784",
                  "4.519.592"
                ],
                [
                  "1956",
                  "PAC0785",
                  "5.219.592"
                ],
                [
                  "1959",
                  "PAC0789",
                  "7.519.592"
                ],
                [
                  "2003",
                  "PAC0716",
                  "7.629.597"
                ],
                [
                  "2007",
                  "PAC0740",
                  "3.269.592"
                ],
                [
                  "2009",
                  "PAC0745",
                  "3.989.592"
                ],
                [
                  "2010",
                  "PAC0746",
                  "4.689.592"
                ],
                [
                  "2073",
                  "PAC0802",
                  "5.108.693"
                ],
                [
                  "2279",
                  "TRA0011",
                  "4.528.062"
                ],
                [
                  "2306",
                  "TRA0039",
                  "4.528.062"
                ],
                [
                  "2683",
                  "QNA0110",
                  "9.669.897"
                ],
                [
                  "2819",
                  "SMA0007",
                  "2.699.873"
                ],
                [
                  "2826",
                  "SMA0008",
                  "1.999.888"
                ],
                [
                  "2827",
                  "SMA0009",
                  "1.899.942"
                ],
                [
                  "2906",
                  "SNN0051",
                  "9.990.002"
                ],
                [
                  "10640",
                  "IOT0018",
                  "2.499.013"
                ],
                [
                  "10887",
                  "PAC1201",
                  "2.659.607"
                ],
                [
                  "10900",
                  "PAC1202",
                  "2.979.652"
                ],
                [
                  "11102",
                  "KAN0022-A",
                  "1.199.897"
                ],
                [
                  "11182",
                  "PAC1647",
                  "5.280.782"
                ],
                [
                  "11184",
                  "PAC1653",
                  "17.280.582"
                ]
              ],
              "shape": {
                "columns": 2,
                "rows": 377
              }
            },
            "text/html": [
              "<div>\n",
              "<style scoped>\n",
              "    .dataframe tbody tr th:only-of-type {\n",
              "        vertical-align: middle;\n",
              "    }\n",
              "\n",
              "    .dataframe tbody tr th {\n",
              "        vertical-align: top;\n",
              "    }\n",
              "\n",
              "    .dataframe thead th {\n",
              "        text-align: right;\n",
              "    }\n",
              "</style>\n",
              "<table border=\"1\" class=\"dataframe\">\n",
              "  <thead>\n",
              "    <tr style=\"text-align: right;\">\n",
              "      <th></th>\n",
              "      <th>sku</th>\n",
              "      <th>price</th>\n",
              "    </tr>\n",
              "  </thead>\n",
              "  <tbody>\n",
              "    <tr>\n",
              "      <th>665</th>\n",
              "      <td>CRU0015-2</td>\n",
              "      <td>1.639.792</td>\n",
              "    </tr>\n",
              "    <tr>\n",
              "      <th>792</th>\n",
              "      <td>APP0672</td>\n",
              "      <td>4.694.994</td>\n",
              "    </tr>\n",
              "    <tr>\n",
              "      <th>797</th>\n",
              "      <td>APP0673</td>\n",
              "      <td>4.090.042</td>\n",
              "    </tr>\n",
              "    <tr>\n",
              "      <th>827</th>\n",
              "      <td>PAC0339</td>\n",
              "      <td>2.199.791</td>\n",
              "    </tr>\n",
              "    <tr>\n",
              "      <th>885</th>\n",
              "      <td>PAC0376</td>\n",
              "      <td>5.609.698</td>\n",
              "    </tr>\n",
              "    <tr>\n",
              "      <th>...</th>\n",
              "      <td>...</td>\n",
              "      <td>...</td>\n",
              "    </tr>\n",
              "    <tr>\n",
              "      <th>19312</th>\n",
              "      <td>REP0424</td>\n",
              "      <td>6.999.003</td>\n",
              "    </tr>\n",
              "    <tr>\n",
              "      <th>19313</th>\n",
              "      <td>REP0421</td>\n",
              "      <td>6.999.003</td>\n",
              "    </tr>\n",
              "    <tr>\n",
              "      <th>19314</th>\n",
              "      <td>REP0416</td>\n",
              "      <td>6.999.003</td>\n",
              "    </tr>\n",
              "    <tr>\n",
              "      <th>19315</th>\n",
              "      <td>REP0413</td>\n",
              "      <td>6.999.003</td>\n",
              "    </tr>\n",
              "    <tr>\n",
              "      <th>19316</th>\n",
              "      <td>REP0407</td>\n",
              "      <td>6.999.003</td>\n",
              "    </tr>\n",
              "  </tbody>\n",
              "</table>\n",
              "<p>377 rows × 2 columns</p>\n",
              "</div>"
            ],
            "text/plain": [
              "             sku      price\n",
              "665    CRU0015-2  1.639.792\n",
              "792      APP0672  4.694.994\n",
              "797      APP0673  4.090.042\n",
              "827      PAC0339  2.199.791\n",
              "885      PAC0376  5.609.698\n",
              "...          ...        ...\n",
              "19312    REP0424  6.999.003\n",
              "19313    REP0421  6.999.003\n",
              "19314    REP0416  6.999.003\n",
              "19315    REP0413  6.999.003\n",
              "19316    REP0407  6.999.003\n",
              "\n",
              "[377 rows x 2 columns]"
            ]
          },
          "execution_count": 56,
          "metadata": {},
          "output_type": "execute_result"
        }
      ],
      "source": [
        "# Dataframe with sku's that have more than 1 decimal point\n",
        "corrupted_sku"
      ]
    },
    {
      "cell_type": "code",
      "execution_count": 57,
      "metadata": {},
      "outputs": [],
      "source": [
        "mask = orderlines_df['sku'].isin(corrupted_sku['sku'])"
      ]
    },
    {
      "cell_type": "code",
      "execution_count": 58,
      "metadata": {},
      "outputs": [
        {
          "data": {
            "application/vnd.microsoft.datawrangler.viewer.v0+json": {
              "columns": [
                {
                  "name": "index",
                  "rawType": "int64",
                  "type": "integer"
                },
                {
                  "name": "id",
                  "rawType": "int64",
                  "type": "integer"
                },
                {
                  "name": "id_order",
                  "rawType": "int64",
                  "type": "integer"
                },
                {
                  "name": "product_id",
                  "rawType": "int64",
                  "type": "integer"
                },
                {
                  "name": "product_quantity",
                  "rawType": "int64",
                  "type": "integer"
                },
                {
                  "name": "sku",
                  "rawType": "object",
                  "type": "string"
                },
                {
                  "name": "unit_price",
                  "rawType": "float64",
                  "type": "float"
                },
                {
                  "name": "date",
                  "rawType": "datetime64[ns]",
                  "type": "datetime"
                }
              ],
              "ref": "65b99661-5c4e-47ac-9b4c-844d8e6e642e",
              "rows": [
                [
                  "341",
                  "1119745",
                  "299860",
                  "0",
                  "1",
                  "PAC1516",
                  "457.89",
                  "2017-01-01 18:40:38"
                ],
                [
                  "387",
                  "1119837",
                  "299902",
                  "0",
                  "1",
                  "IOT0018",
                  "23.74",
                  "2017-01-01 19:32:46"
                ],
                [
                  "706",
                  "1120440",
                  "300202",
                  "0",
                  "1",
                  "KIN0150",
                  "10.99",
                  "2017-01-02 01:31:40"
                ],
                [
                  "1103",
                  "1121367",
                  "300564",
                  "0",
                  "1",
                  "APP0870",
                  "519.99",
                  "2017-01-02 13:50:49"
                ],
                [
                  "1162",
                  "1121501",
                  "300621",
                  "0",
                  "1",
                  "IOT0018",
                  "24.99",
                  "2017-01-02 15:02:38"
                ],
                [
                  "1266",
                  "1121670",
                  "300710",
                  "0",
                  "1",
                  "PAC0549",
                  "115.99",
                  "2017-01-02 16:33:12"
                ],
                [
                  "1457",
                  "1122107",
                  "300894",
                  "0",
                  "1",
                  "KIN0150",
                  "10.99",
                  "2017-01-02 19:21:25"
                ],
                [
                  "1862",
                  "1122936",
                  "301279",
                  "0",
                  "1",
                  "APP0880",
                  "629.99",
                  "2017-01-03 06:09:45"
                ],
                [
                  "2072",
                  "1123344",
                  "301480",
                  "0",
                  "1",
                  "CRU0015-2",
                  "124.99",
                  "2017-01-03 11:58:12"
                ],
                [
                  "2280",
                  "1123787",
                  "301692",
                  "0",
                  "1",
                  "APP0880",
                  "629.99",
                  "2017-01-03 14:57:15"
                ],
                [
                  "2425",
                  "1124112",
                  "301836",
                  "0",
                  "1",
                  "KIN0150",
                  "10.99",
                  "2017-01-03 17:25:40"
                ],
                [
                  "2459",
                  "1124180",
                  "301872",
                  "0",
                  "1",
                  "PAC1552",
                  "232.99",
                  "2017-01-03 18:13:03"
                ],
                [
                  "2806",
                  "1127416",
                  "302082",
                  "0",
                  "1",
                  "APP0870",
                  "539.0",
                  "2017-01-03 22:28:04"
                ],
                [
                  "2818",
                  "1127696",
                  "302095",
                  "0",
                  "1",
                  "TRA0039",
                  "42.99",
                  "2017-01-03 22:39:28"
                ],
                [
                  "2853",
                  "1128403",
                  "302130",
                  "0",
                  "1",
                  "PAC1482",
                  "557.99",
                  "2017-01-03 23:09:57"
                ],
                [
                  "2943",
                  "1129330",
                  "302213",
                  "0",
                  "1",
                  "PAC1558",
                  "464.99",
                  "2017-01-04 01:15:03"
                ],
                [
                  "2974",
                  "1129384",
                  "302247",
                  "0",
                  "1",
                  "PAC1483",
                  "650.99",
                  "2017-01-04 04:13:41"
                ],
                [
                  "2992",
                  "1129413",
                  "302265",
                  "0",
                  "1",
                  "IOT0018",
                  "24.99",
                  "2017-01-04 08:18:54"
                ],
                [
                  "3380",
                  "1130228",
                  "302635",
                  "0",
                  "1",
                  "KIN0150",
                  "10.99",
                  "2017-01-04 17:50:03"
                ],
                [
                  "3409",
                  "1130269",
                  "302665",
                  "0",
                  "1",
                  "CRU0015-2",
                  "124.99",
                  "2017-01-04 18:36:53"
                ],
                [
                  "3415",
                  "1130277",
                  "302665",
                  "0",
                  "1",
                  "PAC1512",
                  "605.99",
                  "2017-01-04 18:44:34"
                ],
                [
                  "3436",
                  "1130307",
                  "302689",
                  "0",
                  "1",
                  "CRU0015-2",
                  "124.99",
                  "2017-01-04 19:06:28"
                ],
                [
                  "3458",
                  "1130347",
                  "302712",
                  "0",
                  "1",
                  "APP1751",
                  "527.99",
                  "2017-01-04 19:48:31"
                ],
                [
                  "3522",
                  "1130456",
                  "302769",
                  "0",
                  "1",
                  "CRU0015-2",
                  "124.99",
                  "2017-01-04 21:34:12"
                ],
                [
                  "3752",
                  "1130878",
                  "302992",
                  "0",
                  "1",
                  "REP0188",
                  "209.9",
                  "2017-01-05 09:46:22"
                ],
                [
                  "3972",
                  "1131349",
                  "303211",
                  "0",
                  "1",
                  "TRA0039",
                  "42.99",
                  "2017-01-05 14:38:24"
                ],
                [
                  "3999",
                  "1131399",
                  "303234",
                  "0",
                  "2",
                  "APP0871",
                  "539.0",
                  "2017-01-05 15:30:23"
                ],
                [
                  "4253",
                  "1131979",
                  "303475",
                  "0",
                  "1",
                  "PAC1552",
                  "216.99",
                  "2017-01-06 04:30:14"
                ],
                [
                  "4254",
                  "1131981",
                  "303476",
                  "0",
                  "1",
                  "PAC1552",
                  "216.99",
                  "2017-01-06 04:39:04"
                ],
                [
                  "4255",
                  "1131983",
                  "303477",
                  "0",
                  "1",
                  "PAC1552",
                  "216.99",
                  "2017-01-06 04:41:19"
                ],
                [
                  "4256",
                  "1131985",
                  "303478",
                  "0",
                  "1",
                  "PAC1552",
                  "216.99",
                  "2017-01-06 04:42:29"
                ],
                [
                  "4616",
                  "1132634",
                  "303836",
                  "0",
                  "1",
                  "KIN0150",
                  "7.99",
                  "2017-01-06 21:28:02"
                ],
                [
                  "4635",
                  "1132676",
                  "303851",
                  "0",
                  "1",
                  "CRU0015-2",
                  "124.99",
                  "2017-01-06 21:55:18"
                ],
                [
                  "4650",
                  "1132714",
                  "303853",
                  "0",
                  "1",
                  "KIN0150",
                  "7.99",
                  "2017-01-06 22:13:12"
                ],
                [
                  "4911",
                  "1133326",
                  "304117",
                  "0",
                  "1",
                  "PAC1482",
                  "557.99",
                  "2017-01-07 10:55:06"
                ],
                [
                  "4957",
                  "1133426",
                  "304161",
                  "0",
                  "1",
                  "CRU0015-2",
                  "124.99",
                  "2017-01-07 12:01:11"
                ],
                [
                  "5044",
                  "1133620",
                  "304241",
                  "0",
                  "1",
                  "QNA0184",
                  "4716.99",
                  "2017-01-07 14:24:51"
                ],
                [
                  "5118",
                  "1133851",
                  "304309",
                  "0",
                  "1",
                  "APP1477",
                  "489.0",
                  "2017-01-07 16:30:01"
                ],
                [
                  "5142",
                  "1133905",
                  "304334",
                  "0",
                  "1",
                  "APP1477",
                  "489.0",
                  "2017-01-07 17:06:56"
                ],
                [
                  "5149",
                  "1133923",
                  "304341",
                  "0",
                  "1",
                  "APP1477",
                  "489.0",
                  "2017-01-07 17:21:52"
                ],
                [
                  "5173",
                  "1134002",
                  "304366",
                  "0",
                  "1",
                  "APP1477",
                  "489.0",
                  "2017-01-07 18:13:28"
                ],
                [
                  "5176",
                  "1134006",
                  "304368",
                  "0",
                  "1",
                  "APP1477",
                  "489.0",
                  "2017-01-07 18:19:37"
                ],
                [
                  "5191",
                  "1134035",
                  "304350",
                  "0",
                  "2",
                  "KIN0150",
                  "7.99",
                  "2017-01-07 18:43:44"
                ],
                [
                  "5294",
                  "1134284",
                  "303845",
                  "0",
                  "1",
                  "APP0880",
                  "629.99",
                  "2017-01-07 21:24:57"
                ],
                [
                  "5335",
                  "1134375",
                  "304521",
                  "0",
                  "1",
                  "APP1477",
                  "489.0",
                  "2017-01-07 22:21:36"
                ],
                [
                  "5431",
                  "1134586",
                  "304593",
                  "0",
                  "1",
                  "PAC1559",
                  "706.99",
                  "2017-01-08 01:13:00"
                ],
                [
                  "5432",
                  "1134588",
                  "304593",
                  "0",
                  "1",
                  "APP0879",
                  "632.99",
                  "2017-01-08 01:13:59"
                ],
                [
                  "5451",
                  "1134615",
                  "304607",
                  "0",
                  "1",
                  "CRU0015-2",
                  "124.99",
                  "2017-01-08 02:11:39"
                ],
                [
                  "5458",
                  "1134630",
                  "304613",
                  "0",
                  "1",
                  "APP0869",
                  "518.99",
                  "2017-01-08 02:40:54"
                ],
                [
                  "5506",
                  "1134740",
                  "302991",
                  "0",
                  "1",
                  "PAC1525",
                  "1458.99",
                  "2017-01-08 10:10:02"
                ]
              ],
              "shape": {
                "columns": 7,
                "rows": 4150
              }
            },
            "text/html": [
              "<div>\n",
              "<style scoped>\n",
              "    .dataframe tbody tr th:only-of-type {\n",
              "        vertical-align: middle;\n",
              "    }\n",
              "\n",
              "    .dataframe tbody tr th {\n",
              "        vertical-align: top;\n",
              "    }\n",
              "\n",
              "    .dataframe thead th {\n",
              "        text-align: right;\n",
              "    }\n",
              "</style>\n",
              "<table border=\"1\" class=\"dataframe\">\n",
              "  <thead>\n",
              "    <tr style=\"text-align: right;\">\n",
              "      <th></th>\n",
              "      <th>id</th>\n",
              "      <th>id_order</th>\n",
              "      <th>product_id</th>\n",
              "      <th>product_quantity</th>\n",
              "      <th>sku</th>\n",
              "      <th>unit_price</th>\n",
              "      <th>date</th>\n",
              "    </tr>\n",
              "  </thead>\n",
              "  <tbody>\n",
              "    <tr>\n",
              "      <th>341</th>\n",
              "      <td>1119745</td>\n",
              "      <td>299860</td>\n",
              "      <td>0</td>\n",
              "      <td>1</td>\n",
              "      <td>PAC1516</td>\n",
              "      <td>457.89</td>\n",
              "      <td>2017-01-01 18:40:38</td>\n",
              "    </tr>\n",
              "    <tr>\n",
              "      <th>387</th>\n",
              "      <td>1119837</td>\n",
              "      <td>299902</td>\n",
              "      <td>0</td>\n",
              "      <td>1</td>\n",
              "      <td>IOT0018</td>\n",
              "      <td>23.74</td>\n",
              "      <td>2017-01-01 19:32:46</td>\n",
              "    </tr>\n",
              "    <tr>\n",
              "      <th>706</th>\n",
              "      <td>1120440</td>\n",
              "      <td>300202</td>\n",
              "      <td>0</td>\n",
              "      <td>1</td>\n",
              "      <td>KIN0150</td>\n",
              "      <td>10.99</td>\n",
              "      <td>2017-01-02 01:31:40</td>\n",
              "    </tr>\n",
              "    <tr>\n",
              "      <th>1103</th>\n",
              "      <td>1121367</td>\n",
              "      <td>300564</td>\n",
              "      <td>0</td>\n",
              "      <td>1</td>\n",
              "      <td>APP0870</td>\n",
              "      <td>519.99</td>\n",
              "      <td>2017-01-02 13:50:49</td>\n",
              "    </tr>\n",
              "    <tr>\n",
              "      <th>1162</th>\n",
              "      <td>1121501</td>\n",
              "      <td>300621</td>\n",
              "      <td>0</td>\n",
              "      <td>1</td>\n",
              "      <td>IOT0018</td>\n",
              "      <td>24.99</td>\n",
              "      <td>2017-01-02 15:02:38</td>\n",
              "    </tr>\n",
              "    <tr>\n",
              "      <th>...</th>\n",
              "      <td>...</td>\n",
              "      <td>...</td>\n",
              "      <td>...</td>\n",
              "      <td>...</td>\n",
              "      <td>...</td>\n",
              "      <td>...</td>\n",
              "      <td>...</td>\n",
              "    </tr>\n",
              "    <tr>\n",
              "      <th>293279</th>\n",
              "      <td>1649114</td>\n",
              "      <td>526844</td>\n",
              "      <td>0</td>\n",
              "      <td>1</td>\n",
              "      <td>APP2494</td>\n",
              "      <td>219.00</td>\n",
              "      <td>2018-03-14 10:43:52</td>\n",
              "    </tr>\n",
              "    <tr>\n",
              "      <th>293518</th>\n",
              "      <td>1649570</td>\n",
              "      <td>527099</td>\n",
              "      <td>0</td>\n",
              "      <td>2</td>\n",
              "      <td>CAL0010</td>\n",
              "      <td>299.99</td>\n",
              "      <td>2018-03-14 11:54:58</td>\n",
              "    </tr>\n",
              "    <tr>\n",
              "      <th>293708</th>\n",
              "      <td>1649954</td>\n",
              "      <td>527286</td>\n",
              "      <td>0</td>\n",
              "      <td>1</td>\n",
              "      <td>APP2490</td>\n",
              "      <td>1159.00</td>\n",
              "      <td>2018-03-14 12:55:14</td>\n",
              "    </tr>\n",
              "    <tr>\n",
              "      <th>293781</th>\n",
              "      <td>1650088</td>\n",
              "      <td>527342</td>\n",
              "      <td>0</td>\n",
              "      <td>1</td>\n",
              "      <td>APP2492</td>\n",
              "      <td>1329.00</td>\n",
              "      <td>2018-03-14 13:24:51</td>\n",
              "    </tr>\n",
              "    <tr>\n",
              "      <th>293806</th>\n",
              "      <td>1650135</td>\n",
              "      <td>527364</td>\n",
              "      <td>0</td>\n",
              "      <td>1</td>\n",
              "      <td>APP2491</td>\n",
              "      <td>1329.00</td>\n",
              "      <td>2018-03-14 13:36:13</td>\n",
              "    </tr>\n",
              "  </tbody>\n",
              "</table>\n",
              "<p>4150 rows × 7 columns</p>\n",
              "</div>"
            ],
            "text/plain": [
              "             id  id_order  product_id  product_quantity      sku  unit_price  \\\n",
              "341     1119745    299860           0                 1  PAC1516      457.89   \n",
              "387     1119837    299902           0                 1  IOT0018       23.74   \n",
              "706     1120440    300202           0                 1  KIN0150       10.99   \n",
              "1103    1121367    300564           0                 1  APP0870      519.99   \n",
              "1162    1121501    300621           0                 1  IOT0018       24.99   \n",
              "...         ...       ...         ...               ...      ...         ...   \n",
              "293279  1649114    526844           0                 1  APP2494      219.00   \n",
              "293518  1649570    527099           0                 2  CAL0010      299.99   \n",
              "293708  1649954    527286           0                 1  APP2490     1159.00   \n",
              "293781  1650088    527342           0                 1  APP2492     1329.00   \n",
              "293806  1650135    527364           0                 1  APP2491     1329.00   \n",
              "\n",
              "                      date  \n",
              "341    2017-01-01 18:40:38  \n",
              "387    2017-01-01 19:32:46  \n",
              "706    2017-01-02 01:31:40  \n",
              "1103   2017-01-02 13:50:49  \n",
              "1162   2017-01-02 15:02:38  \n",
              "...                    ...  \n",
              "293279 2018-03-14 10:43:52  \n",
              "293518 2018-03-14 11:54:58  \n",
              "293708 2018-03-14 12:55:14  \n",
              "293781 2018-03-14 13:24:51  \n",
              "293806 2018-03-14 13:36:13  \n",
              "\n",
              "[4150 rows x 7 columns]"
            ]
          },
          "execution_count": 58,
          "metadata": {},
          "output_type": "execute_result"
        }
      ],
      "source": [
        "# Corresponding 'sku' in orderlines table\n",
        "orderlines_df.loc[mask,:]"
      ]
    },
    {
      "cell_type": "markdown",
      "metadata": {},
      "source": [
        "4150 orders are affected by prices with 2 or more decimal points (products_df). We will drop these orders to avoid erroneous prices in our analysis. We will also save the dropped id_orders to a new dataframe for reference."
      ]
    },
    {
      "cell_type": "code",
      "execution_count": 59,
      "metadata": {},
      "outputs": [
        {
          "data": {
            "application/vnd.microsoft.datawrangler.viewer.v0+json": {
              "columns": [
                {
                  "name": "index",
                  "rawType": "int64",
                  "type": "integer"
                },
                {
                  "name": "id_order",
                  "rawType": "int64",
                  "type": "integer"
                },
                {
                  "name": "reason",
                  "rawType": "object",
                  "type": "string"
                }
              ],
              "ref": "7d67e4e8-eb5e-4d79-877b-2cf779bdd91e",
              "rows": [
                [
                  "0",
                  "299860",
                  "Multiple decimal points in column 'price' in products_df dataset"
                ],
                [
                  "1",
                  "299902",
                  "Multiple decimal points in column 'price' in products_df dataset"
                ],
                [
                  "2",
                  "300202",
                  "Multiple decimal points in column 'price' in products_df dataset"
                ],
                [
                  "3",
                  "300564",
                  "Multiple decimal points in column 'price' in products_df dataset"
                ],
                [
                  "4",
                  "300621",
                  "Multiple decimal points in column 'price' in products_df dataset"
                ],
                [
                  "5",
                  "300710",
                  "Multiple decimal points in column 'price' in products_df dataset"
                ],
                [
                  "6",
                  "300894",
                  "Multiple decimal points in column 'price' in products_df dataset"
                ],
                [
                  "7",
                  "301279",
                  "Multiple decimal points in column 'price' in products_df dataset"
                ],
                [
                  "8",
                  "301480",
                  "Multiple decimal points in column 'price' in products_df dataset"
                ],
                [
                  "9",
                  "301692",
                  "Multiple decimal points in column 'price' in products_df dataset"
                ],
                [
                  "10",
                  "301836",
                  "Multiple decimal points in column 'price' in products_df dataset"
                ],
                [
                  "11",
                  "301872",
                  "Multiple decimal points in column 'price' in products_df dataset"
                ],
                [
                  "12",
                  "302082",
                  "Multiple decimal points in column 'price' in products_df dataset"
                ],
                [
                  "13",
                  "302095",
                  "Multiple decimal points in column 'price' in products_df dataset"
                ],
                [
                  "14",
                  "302130",
                  "Multiple decimal points in column 'price' in products_df dataset"
                ],
                [
                  "15",
                  "302213",
                  "Multiple decimal points in column 'price' in products_df dataset"
                ],
                [
                  "16",
                  "302247",
                  "Multiple decimal points in column 'price' in products_df dataset"
                ],
                [
                  "17",
                  "302265",
                  "Multiple decimal points in column 'price' in products_df dataset"
                ],
                [
                  "18",
                  "302635",
                  "Multiple decimal points in column 'price' in products_df dataset"
                ],
                [
                  "19",
                  "302665",
                  "Multiple decimal points in column 'price' in products_df dataset"
                ],
                [
                  "20",
                  "302665",
                  "Multiple decimal points in column 'price' in products_df dataset"
                ],
                [
                  "21",
                  "302689",
                  "Multiple decimal points in column 'price' in products_df dataset"
                ],
                [
                  "22",
                  "302712",
                  "Multiple decimal points in column 'price' in products_df dataset"
                ],
                [
                  "23",
                  "302769",
                  "Multiple decimal points in column 'price' in products_df dataset"
                ],
                [
                  "24",
                  "302992",
                  "Multiple decimal points in column 'price' in products_df dataset"
                ],
                [
                  "25",
                  "303211",
                  "Multiple decimal points in column 'price' in products_df dataset"
                ],
                [
                  "26",
                  "303234",
                  "Multiple decimal points in column 'price' in products_df dataset"
                ],
                [
                  "27",
                  "303475",
                  "Multiple decimal points in column 'price' in products_df dataset"
                ],
                [
                  "28",
                  "303476",
                  "Multiple decimal points in column 'price' in products_df dataset"
                ],
                [
                  "29",
                  "303477",
                  "Multiple decimal points in column 'price' in products_df dataset"
                ],
                [
                  "30",
                  "303478",
                  "Multiple decimal points in column 'price' in products_df dataset"
                ],
                [
                  "31",
                  "303836",
                  "Multiple decimal points in column 'price' in products_df dataset"
                ],
                [
                  "32",
                  "303851",
                  "Multiple decimal points in column 'price' in products_df dataset"
                ],
                [
                  "33",
                  "303853",
                  "Multiple decimal points in column 'price' in products_df dataset"
                ],
                [
                  "34",
                  "304117",
                  "Multiple decimal points in column 'price' in products_df dataset"
                ],
                [
                  "35",
                  "304161",
                  "Multiple decimal points in column 'price' in products_df dataset"
                ],
                [
                  "36",
                  "304241",
                  "Multiple decimal points in column 'price' in products_df dataset"
                ],
                [
                  "37",
                  "304309",
                  "Multiple decimal points in column 'price' in products_df dataset"
                ],
                [
                  "38",
                  "304334",
                  "Multiple decimal points in column 'price' in products_df dataset"
                ],
                [
                  "39",
                  "304341",
                  "Multiple decimal points in column 'price' in products_df dataset"
                ],
                [
                  "40",
                  "304366",
                  "Multiple decimal points in column 'price' in products_df dataset"
                ],
                [
                  "41",
                  "304368",
                  "Multiple decimal points in column 'price' in products_df dataset"
                ],
                [
                  "42",
                  "304350",
                  "Multiple decimal points in column 'price' in products_df dataset"
                ],
                [
                  "43",
                  "303845",
                  "Multiple decimal points in column 'price' in products_df dataset"
                ],
                [
                  "44",
                  "304521",
                  "Multiple decimal points in column 'price' in products_df dataset"
                ],
                [
                  "45",
                  "304593",
                  "Multiple decimal points in column 'price' in products_df dataset"
                ],
                [
                  "46",
                  "304593",
                  "Multiple decimal points in column 'price' in products_df dataset"
                ],
                [
                  "47",
                  "304607",
                  "Multiple decimal points in column 'price' in products_df dataset"
                ],
                [
                  "48",
                  "304613",
                  "Multiple decimal points in column 'price' in products_df dataset"
                ],
                [
                  "49",
                  "302991",
                  "Multiple decimal points in column 'price' in products_df dataset"
                ]
              ],
              "shape": {
                "columns": 2,
                "rows": 4150
              }
            },
            "text/html": [
              "<div>\n",
              "<style scoped>\n",
              "    .dataframe tbody tr th:only-of-type {\n",
              "        vertical-align: middle;\n",
              "    }\n",
              "\n",
              "    .dataframe tbody tr th {\n",
              "        vertical-align: top;\n",
              "    }\n",
              "\n",
              "    .dataframe thead th {\n",
              "        text-align: right;\n",
              "    }\n",
              "</style>\n",
              "<table border=\"1\" class=\"dataframe\">\n",
              "  <thead>\n",
              "    <tr style=\"text-align: right;\">\n",
              "      <th></th>\n",
              "      <th>id_order</th>\n",
              "      <th>reason</th>\n",
              "    </tr>\n",
              "  </thead>\n",
              "  <tbody>\n",
              "    <tr>\n",
              "      <th>0</th>\n",
              "      <td>299860</td>\n",
              "      <td>Multiple decimal points in column 'price' in p...</td>\n",
              "    </tr>\n",
              "    <tr>\n",
              "      <th>1</th>\n",
              "      <td>299902</td>\n",
              "      <td>Multiple decimal points in column 'price' in p...</td>\n",
              "    </tr>\n",
              "    <tr>\n",
              "      <th>2</th>\n",
              "      <td>300202</td>\n",
              "      <td>Multiple decimal points in column 'price' in p...</td>\n",
              "    </tr>\n",
              "    <tr>\n",
              "      <th>3</th>\n",
              "      <td>300564</td>\n",
              "      <td>Multiple decimal points in column 'price' in p...</td>\n",
              "    </tr>\n",
              "    <tr>\n",
              "      <th>4</th>\n",
              "      <td>300621</td>\n",
              "      <td>Multiple decimal points in column 'price' in p...</td>\n",
              "    </tr>\n",
              "    <tr>\n",
              "      <th>...</th>\n",
              "      <td>...</td>\n",
              "      <td>...</td>\n",
              "    </tr>\n",
              "    <tr>\n",
              "      <th>4145</th>\n",
              "      <td>526844</td>\n",
              "      <td>Multiple decimal points in column 'price' in p...</td>\n",
              "    </tr>\n",
              "    <tr>\n",
              "      <th>4146</th>\n",
              "      <td>527099</td>\n",
              "      <td>Multiple decimal points in column 'price' in p...</td>\n",
              "    </tr>\n",
              "    <tr>\n",
              "      <th>4147</th>\n",
              "      <td>527286</td>\n",
              "      <td>Multiple decimal points in column 'price' in p...</td>\n",
              "    </tr>\n",
              "    <tr>\n",
              "      <th>4148</th>\n",
              "      <td>527342</td>\n",
              "      <td>Multiple decimal points in column 'price' in p...</td>\n",
              "    </tr>\n",
              "    <tr>\n",
              "      <th>4149</th>\n",
              "      <td>527364</td>\n",
              "      <td>Multiple decimal points in column 'price' in p...</td>\n",
              "    </tr>\n",
              "  </tbody>\n",
              "</table>\n",
              "<p>4150 rows × 2 columns</p>\n",
              "</div>"
            ],
            "text/plain": [
              "      id_order                                             reason\n",
              "0       299860  Multiple decimal points in column 'price' in p...\n",
              "1       299902  Multiple decimal points in column 'price' in p...\n",
              "2       300202  Multiple decimal points in column 'price' in p...\n",
              "3       300564  Multiple decimal points in column 'price' in p...\n",
              "4       300621  Multiple decimal points in column 'price' in p...\n",
              "...        ...                                                ...\n",
              "4145    526844  Multiple decimal points in column 'price' in p...\n",
              "4146    527099  Multiple decimal points in column 'price' in p...\n",
              "4147    527286  Multiple decimal points in column 'price' in p...\n",
              "4148    527342  Multiple decimal points in column 'price' in p...\n",
              "4149    527364  Multiple decimal points in column 'price' in p...\n",
              "\n",
              "[4150 rows x 2 columns]"
            ]
          },
          "execution_count": 59,
          "metadata": {},
          "output_type": "execute_result"
        }
      ],
      "source": [
        "# Before dropping the rows, we will save the dropped id_orders to a new dataframe\n",
        "dropped_ids_mult_dots_sku_prices_df = pd.DataFrame(orderlines_df.loc[mask, 'id_order']).copy().reset_index(drop=True)\n",
        "dropped_ids_mult_dots_sku_prices_df['reason'] = \"Multiple decimal points in column 'price' in products_df dataset\"\n",
        "dropped_ids_mult_dots_sku_prices_df"
      ]
    },
    {
      "cell_type": "code",
      "execution_count": 60,
      "metadata": {},
      "outputs": [
        {
          "data": {
            "application/vnd.microsoft.datawrangler.viewer.v0+json": {
              "columns": [
                {
                  "name": "index",
                  "rawType": "int64",
                  "type": "integer"
                },
                {
                  "name": "id",
                  "rawType": "int64",
                  "type": "integer"
                },
                {
                  "name": "id_order",
                  "rawType": "int64",
                  "type": "integer"
                },
                {
                  "name": "product_id",
                  "rawType": "int64",
                  "type": "integer"
                },
                {
                  "name": "product_quantity",
                  "rawType": "int64",
                  "type": "integer"
                },
                {
                  "name": "sku",
                  "rawType": "object",
                  "type": "string"
                },
                {
                  "name": "unit_price",
                  "rawType": "float64",
                  "type": "float"
                },
                {
                  "name": "date",
                  "rawType": "datetime64[ns]",
                  "type": "datetime"
                }
              ],
              "ref": "cd58d7f3-a35b-4329-9ba7-2098229f91d5",
              "rows": [
                [
                  "0",
                  "1119109",
                  "299539",
                  "0",
                  "1",
                  "OTT0133",
                  "18.99",
                  "2017-01-01 00:07:19"
                ],
                [
                  "1",
                  "1119110",
                  "299540",
                  "0",
                  "1",
                  "LGE0043",
                  "399.0",
                  "2017-01-01 00:19:45"
                ],
                [
                  "2",
                  "1119111",
                  "299541",
                  "0",
                  "1",
                  "PAR0071",
                  "474.05",
                  "2017-01-01 00:20:57"
                ],
                [
                  "3",
                  "1119112",
                  "299542",
                  "0",
                  "1",
                  "WDT0315",
                  "68.39",
                  "2017-01-01 00:51:40"
                ],
                [
                  "4",
                  "1119113",
                  "299543",
                  "0",
                  "1",
                  "JBL0104",
                  "23.74",
                  "2017-01-01 01:06:38"
                ],
                [
                  "5",
                  "1119114",
                  "295310",
                  "0",
                  "10",
                  "WDT0249",
                  "231.79",
                  "2017-01-01 01:14:27"
                ],
                [
                  "6",
                  "1119115",
                  "299544",
                  "0",
                  "1",
                  "APP1582",
                  "1137.99",
                  "2017-01-01 01:17:21"
                ],
                [
                  "7",
                  "1119116",
                  "299545",
                  "0",
                  "1",
                  "OWC0100",
                  "47.49",
                  "2017-01-01 01:46:16"
                ],
                [
                  "8",
                  "1119119",
                  "299546",
                  "0",
                  "1",
                  "IOT0014",
                  "18.99",
                  "2017-01-01 01:50:34"
                ],
                [
                  "9",
                  "1119120",
                  "295347",
                  "0",
                  "1",
                  "APP0700",
                  "72.19",
                  "2017-01-01 01:54:11"
                ],
                [
                  "10",
                  "1119125",
                  "299548",
                  "0",
                  "5",
                  "SPE0132",
                  "35.14",
                  "2017-01-01 02:02:20"
                ],
                [
                  "11",
                  "1119126",
                  "299549",
                  "0",
                  "1",
                  "PAC0929",
                  "2565.99",
                  "2017-01-01 02:07:42"
                ],
                [
                  "12",
                  "1119127",
                  "299550",
                  "0",
                  "1",
                  "WDT0309",
                  "149.14",
                  "2017-01-01 02:09:52"
                ],
                [
                  "13",
                  "1119129",
                  "299552",
                  "0",
                  "1",
                  "MBI0010",
                  "16.99",
                  "2017-01-01 02:13:51"
                ],
                [
                  "14",
                  "1119130",
                  "299552",
                  "0",
                  "1",
                  "SAT0044",
                  "19.99",
                  "2017-01-01 02:14:36"
                ],
                [
                  "15",
                  "1119131",
                  "299553",
                  "0",
                  "1",
                  "APP1854",
                  "3278.99",
                  "2017-01-01 02:14:47"
                ],
                [
                  "16",
                  "1119132",
                  "299554",
                  "0",
                  "1",
                  "WAC0171",
                  "59.84",
                  "2017-01-01 02:15:46"
                ],
                [
                  "17",
                  "1119133",
                  "299555",
                  "0",
                  "1",
                  "BEA0065",
                  "256.49",
                  "2017-01-01 02:18:45"
                ],
                [
                  "18",
                  "1119134",
                  "299556",
                  "0",
                  "1",
                  "CRU0039-A",
                  "60.9",
                  "2017-01-01 02:20:14"
                ],
                [
                  "19",
                  "1119135",
                  "299557",
                  "0",
                  "1",
                  "NTE0082",
                  "37.99",
                  "2017-01-01 02:22:36"
                ],
                [
                  "20",
                  "1119136",
                  "299558",
                  "0",
                  "2",
                  "WDT0141",
                  "112.99",
                  "2017-01-01 02:24:33"
                ],
                [
                  "21",
                  "1119140",
                  "299559",
                  "0",
                  "1",
                  "APP0700",
                  "72.19",
                  "2017-01-01 02:32:22"
                ],
                [
                  "22",
                  "1119143",
                  "299559",
                  "0",
                  "1",
                  "APP1214",
                  "84.99",
                  "2017-01-01 02:36:43"
                ],
                [
                  "23",
                  "1119144",
                  "299560",
                  "0",
                  "1",
                  "OWC0120",
                  "52.24",
                  "2017-01-01 02:37:58"
                ],
                [
                  "24",
                  "1119145",
                  "299561",
                  "0",
                  "1",
                  "PEB0015",
                  "142.49",
                  "2017-01-01 02:38:50"
                ],
                [
                  "25",
                  "1119153",
                  "299562",
                  "0",
                  "1",
                  "APP1045",
                  "9.0",
                  "2017-01-01 02:39:53"
                ],
                [
                  "26",
                  "1119154",
                  "299563",
                  "0",
                  "1",
                  "BEA0065",
                  "256.49",
                  "2017-01-01 02:42:05"
                ],
                [
                  "27",
                  "1119155",
                  "299564",
                  "0",
                  "1",
                  "SAT0010",
                  "18.99",
                  "2017-01-01 02:43:37"
                ],
                [
                  "28",
                  "1119160",
                  "299565",
                  "0",
                  "1",
                  "CRU0052",
                  "179.54",
                  "2017-01-01 02:49:38"
                ],
                [
                  "29",
                  "1119161",
                  "299566",
                  "0",
                  "1",
                  "PAC0701",
                  "219.44",
                  "2017-01-01 03:00:05"
                ],
                [
                  "30",
                  "1119162",
                  "299567",
                  "0",
                  "1",
                  "APP1647",
                  "769.0",
                  "2017-01-01 03:16:51"
                ],
                [
                  "31",
                  "1119163",
                  "299568",
                  "0",
                  "1",
                  "PAR0071",
                  "474.05",
                  "2017-01-01 03:29:20"
                ],
                [
                  "32",
                  "1119180",
                  "299570",
                  "0",
                  "1",
                  "SPE0163",
                  "35.14",
                  "2017-01-01 03:51:38"
                ],
                [
                  "33",
                  "1119181",
                  "299571",
                  "0",
                  "1",
                  "SYN0139",
                  "166.24",
                  "2017-01-01 04:00:44"
                ],
                [
                  "34",
                  "1119182",
                  "299572",
                  "0",
                  "1",
                  "IFX0040",
                  "237.49",
                  "2017-01-01 04:07:28"
                ],
                [
                  "35",
                  "1119183",
                  "299573",
                  "0",
                  "1",
                  "MOP0072",
                  "56.99",
                  "2017-01-01 04:36:46"
                ],
                [
                  "36",
                  "1119184",
                  "299574",
                  "0",
                  "1",
                  "SAT0036",
                  "37.99",
                  "2017-01-01 05:33:29"
                ],
                [
                  "37",
                  "1119185",
                  "299575",
                  "0",
                  "1",
                  "APP1211",
                  "219.0",
                  "2017-01-01 05:37:04"
                ],
                [
                  "38",
                  "1119186",
                  "299576",
                  "0",
                  "1",
                  "SAM0095",
                  "82.64",
                  "2017-01-01 06:51:23"
                ],
                [
                  "39",
                  "1119187",
                  "299577",
                  "0",
                  "1",
                  "GRT0430-A",
                  "10.69",
                  "2017-01-01 07:35:36"
                ],
                [
                  "40",
                  "1119188",
                  "299578",
                  "0",
                  "1",
                  "LOG0191",
                  "142.49",
                  "2017-01-01 08:21:26"
                ],
                [
                  "41",
                  "1119189",
                  "299579",
                  "0",
                  "1",
                  "LGE0031-A",
                  "127.08",
                  "2017-01-01 08:23:14"
                ],
                [
                  "42",
                  "1119190",
                  "299580",
                  "0",
                  "1",
                  "LGE0031-A",
                  "127.08",
                  "2017-01-01 08:27:32"
                ],
                [
                  "43",
                  "1119195",
                  "299582",
                  "0",
                  "1",
                  "PAC0961",
                  "2616.99",
                  "2017-01-01 08:54:00"
                ],
                [
                  "44",
                  "1119196",
                  "299583",
                  "0",
                  "1",
                  "APP1648",
                  "879.0",
                  "2017-01-01 08:54:20"
                ],
                [
                  "45",
                  "1119198",
                  "299583",
                  "0",
                  "1",
                  "BEL0275",
                  "16.99",
                  "2017-01-01 08:58:33"
                ],
                [
                  "46",
                  "1119199",
                  "299583",
                  "0",
                  "1",
                  "BEL0286",
                  "17.99",
                  "2017-01-01 09:00:26"
                ],
                [
                  "47",
                  "1119200",
                  "299584",
                  "0",
                  "1",
                  "WDT0309",
                  "149.14",
                  "2017-01-01 09:01:40"
                ],
                [
                  "48",
                  "1119201",
                  "299585",
                  "0",
                  "1",
                  "CRU0053",
                  "284.05",
                  "2017-01-01 09:15:32"
                ],
                [
                  "49",
                  "1119202",
                  "299586",
                  "0",
                  "1",
                  "GRT0456",
                  "42.99",
                  "2017-01-01 09:18:52"
                ]
              ],
              "shape": {
                "columns": 7,
                "rows": 289703
              }
            },
            "text/html": [
              "<div>\n",
              "<style scoped>\n",
              "    .dataframe tbody tr th:only-of-type {\n",
              "        vertical-align: middle;\n",
              "    }\n",
              "\n",
              "    .dataframe tbody tr th {\n",
              "        vertical-align: top;\n",
              "    }\n",
              "\n",
              "    .dataframe thead th {\n",
              "        text-align: right;\n",
              "    }\n",
              "</style>\n",
              "<table border=\"1\" class=\"dataframe\">\n",
              "  <thead>\n",
              "    <tr style=\"text-align: right;\">\n",
              "      <th></th>\n",
              "      <th>id</th>\n",
              "      <th>id_order</th>\n",
              "      <th>product_id</th>\n",
              "      <th>product_quantity</th>\n",
              "      <th>sku</th>\n",
              "      <th>unit_price</th>\n",
              "      <th>date</th>\n",
              "    </tr>\n",
              "  </thead>\n",
              "  <tbody>\n",
              "    <tr>\n",
              "      <th>0</th>\n",
              "      <td>1119109</td>\n",
              "      <td>299539</td>\n",
              "      <td>0</td>\n",
              "      <td>1</td>\n",
              "      <td>OTT0133</td>\n",
              "      <td>18.99</td>\n",
              "      <td>2017-01-01 00:07:19</td>\n",
              "    </tr>\n",
              "    <tr>\n",
              "      <th>1</th>\n",
              "      <td>1119110</td>\n",
              "      <td>299540</td>\n",
              "      <td>0</td>\n",
              "      <td>1</td>\n",
              "      <td>LGE0043</td>\n",
              "      <td>399.00</td>\n",
              "      <td>2017-01-01 00:19:45</td>\n",
              "    </tr>\n",
              "    <tr>\n",
              "      <th>2</th>\n",
              "      <td>1119111</td>\n",
              "      <td>299541</td>\n",
              "      <td>0</td>\n",
              "      <td>1</td>\n",
              "      <td>PAR0071</td>\n",
              "      <td>474.05</td>\n",
              "      <td>2017-01-01 00:20:57</td>\n",
              "    </tr>\n",
              "    <tr>\n",
              "      <th>3</th>\n",
              "      <td>1119112</td>\n",
              "      <td>299542</td>\n",
              "      <td>0</td>\n",
              "      <td>1</td>\n",
              "      <td>WDT0315</td>\n",
              "      <td>68.39</td>\n",
              "      <td>2017-01-01 00:51:40</td>\n",
              "    </tr>\n",
              "    <tr>\n",
              "      <th>4</th>\n",
              "      <td>1119113</td>\n",
              "      <td>299543</td>\n",
              "      <td>0</td>\n",
              "      <td>1</td>\n",
              "      <td>JBL0104</td>\n",
              "      <td>23.74</td>\n",
              "      <td>2017-01-01 01:06:38</td>\n",
              "    </tr>\n",
              "    <tr>\n",
              "      <th>...</th>\n",
              "      <td>...</td>\n",
              "      <td>...</td>\n",
              "      <td>...</td>\n",
              "      <td>...</td>\n",
              "      <td>...</td>\n",
              "      <td>...</td>\n",
              "      <td>...</td>\n",
              "    </tr>\n",
              "    <tr>\n",
              "      <th>289698</th>\n",
              "      <td>1650199</td>\n",
              "      <td>527398</td>\n",
              "      <td>0</td>\n",
              "      <td>1</td>\n",
              "      <td>JBL0122</td>\n",
              "      <td>42.99</td>\n",
              "      <td>2018-03-14 13:57:25</td>\n",
              "    </tr>\n",
              "    <tr>\n",
              "      <th>289699</th>\n",
              "      <td>1650200</td>\n",
              "      <td>527399</td>\n",
              "      <td>0</td>\n",
              "      <td>1</td>\n",
              "      <td>PAC0653</td>\n",
              "      <td>141.58</td>\n",
              "      <td>2018-03-14 13:57:34</td>\n",
              "    </tr>\n",
              "    <tr>\n",
              "      <th>289700</th>\n",
              "      <td>1650201</td>\n",
              "      <td>527400</td>\n",
              "      <td>0</td>\n",
              "      <td>2</td>\n",
              "      <td>APP0698</td>\n",
              "      <td>9.99</td>\n",
              "      <td>2018-03-14 13:57:41</td>\n",
              "    </tr>\n",
              "    <tr>\n",
              "      <th>289701</th>\n",
              "      <td>1650202</td>\n",
              "      <td>527388</td>\n",
              "      <td>0</td>\n",
              "      <td>1</td>\n",
              "      <td>BEZ0204</td>\n",
              "      <td>19.99</td>\n",
              "      <td>2018-03-14 13:58:01</td>\n",
              "    </tr>\n",
              "    <tr>\n",
              "      <th>289702</th>\n",
              "      <td>1650203</td>\n",
              "      <td>527401</td>\n",
              "      <td>0</td>\n",
              "      <td>1</td>\n",
              "      <td>APP0927</td>\n",
              "      <td>13.99</td>\n",
              "      <td>2018-03-14 13:58:36</td>\n",
              "    </tr>\n",
              "  </tbody>\n",
              "</table>\n",
              "<p>289703 rows × 7 columns</p>\n",
              "</div>"
            ],
            "text/plain": [
              "             id  id_order  product_id  product_quantity      sku  unit_price  \\\n",
              "0       1119109    299539           0                 1  OTT0133       18.99   \n",
              "1       1119110    299540           0                 1  LGE0043      399.00   \n",
              "2       1119111    299541           0                 1  PAR0071      474.05   \n",
              "3       1119112    299542           0                 1  WDT0315       68.39   \n",
              "4       1119113    299543           0                 1  JBL0104       23.74   \n",
              "...         ...       ...         ...               ...      ...         ...   \n",
              "289698  1650199    527398           0                 1  JBL0122       42.99   \n",
              "289699  1650200    527399           0                 1  PAC0653      141.58   \n",
              "289700  1650201    527400           0                 2  APP0698        9.99   \n",
              "289701  1650202    527388           0                 1  BEZ0204       19.99   \n",
              "289702  1650203    527401           0                 1  APP0927       13.99   \n",
              "\n",
              "                      date  \n",
              "0      2017-01-01 00:07:19  \n",
              "1      2017-01-01 00:19:45  \n",
              "2      2017-01-01 00:20:57  \n",
              "3      2017-01-01 00:51:40  \n",
              "4      2017-01-01 01:06:38  \n",
              "...                    ...  \n",
              "289698 2018-03-14 13:57:25  \n",
              "289699 2018-03-14 13:57:34  \n",
              "289700 2018-03-14 13:57:41  \n",
              "289701 2018-03-14 13:58:01  \n",
              "289702 2018-03-14 13:58:36  \n",
              "\n",
              "[289703 rows x 7 columns]"
            ]
          },
          "execution_count": 60,
          "metadata": {},
          "output_type": "execute_result"
        }
      ],
      "source": [
        "# Drop the rows from the orderlines_df\n",
        "orderlines_df = orderlines_df[~mask].reset_index(drop=True)\n",
        "orderlines_df"
      ]
    },
    {
      "cell_type": "code",
      "execution_count": 61,
      "metadata": {},
      "outputs": [
        {
          "data": {
            "application/vnd.microsoft.datawrangler.viewer.v0+json": {
              "columns": [
                {
                  "name": "index",
                  "rawType": "int64",
                  "type": "integer"
                },
                {
                  "name": "sku",
                  "rawType": "object",
                  "type": "string"
                },
                {
                  "name": "name",
                  "rawType": "object",
                  "type": "string"
                },
                {
                  "name": "desc",
                  "rawType": "object",
                  "type": "unknown"
                },
                {
                  "name": "price",
                  "rawType": "object",
                  "type": "string"
                },
                {
                  "name": "promo_price",
                  "rawType": "object",
                  "type": "string"
                },
                {
                  "name": "in_stock",
                  "rawType": "int64",
                  "type": "integer"
                },
                {
                  "name": "type",
                  "rawType": "object",
                  "type": "unknown"
                }
              ],
              "ref": "6f07c00c-9d95-42d5-9953-e331f58177d6",
              "rows": [
                [
                  "0",
                  "RAI0007",
                  "Silver Rain Design mStand Support",
                  "Aluminum support compatible with all MacBook",
                  "59.99",
                  "499.899",
                  "1",
                  "8696"
                ],
                [
                  "1",
                  "APP0023",
                  "Apple Mac Keyboard Keypad Spanish",
                  "USB ultrathin keyboard Apple Mac Spanish.",
                  "59",
                  "589.996",
                  "0",
                  "13855401"
                ],
                [
                  "2",
                  "APP0025",
                  "Mighty Mouse Apple Mouse for Mac",
                  "mouse Apple USB cable.",
                  "59",
                  "569.898",
                  "0",
                  "1387"
                ],
                [
                  "3",
                  "APP0072",
                  "Apple Dock to USB Cable iPhone and iPod white",
                  "IPhone dock and USB Cable Apple iPod.",
                  "25",
                  "229.997",
                  "0",
                  "1230"
                ],
                [
                  "4",
                  "KIN0007",
                  "Mac Memory Kingston 2GB 667MHz DDR2 SO-DIMM",
                  "2GB RAM Mac mini and iMac (2006/07) MacBook Pro (2006/07/08).",
                  "34.99",
                  "31.99",
                  "1",
                  "1364"
                ],
                [
                  "5",
                  "APP0073",
                  "Apple Composite AV Cable iPhone and iPod white",
                  "IPhone and iPod AV Cable Dock to Composite Video.",
                  "45",
                  "420.003",
                  "0",
                  "1230"
                ],
                [
                  "6",
                  "KIN0008",
                  "Mac Memory Kingston 1GB 667MHz DDR2 SO-DIMM",
                  "1GB RAM Mac mini and iMac (2006/07) MacBook Pro (2006/07/08).",
                  "18.99",
                  "146.471",
                  "0",
                  "1364"
                ],
                [
                  "7",
                  "KIN0009",
                  "Mac Memory Kingston 2GB 800MHz DDR2 SO-DIMM",
                  "2GB RAM iMac with Intel Core 2 Duo (Penryn).",
                  "36.99",
                  "274.694",
                  "0",
                  "1364"
                ],
                [
                  "8",
                  "KIN0001-2",
                  "Mac memory Kingston 4GB (2x2GB) 667MHz DDR2 SO-DIMM",
                  "RAM 4GB (2x2GB) Mac mini and iMac (2006/07) MacBook Pro (2006/07/08).",
                  "74",
                  "669.904",
                  "0",
                  "1364"
                ],
                [
                  "9",
                  "APP0100",
                  "Apple Adapter Mini Display Port to VGA",
                  "Adapter Mini Display Port to VGA MacBook and MacBook Pro (unibody).",
                  "35",
                  "330.003",
                  "0",
                  "1325"
                ],
                [
                  "10",
                  "APP0101",
                  "Apple Mini DisplayPort to DVI Adapter",
                  "Adapter mini DisplayPort to DVI MacBook and MacBook Pro (unibody).",
                  "35",
                  "330.003",
                  "0",
                  "1325"
                ],
                [
                  "11",
                  "SEN0021",
                  "Sennheiser CX 300-II Precision headphones iPhone iPad and iPod black",
                  "Headphones iPhone iPad iPad 2 iPad 3 and iPod.",
                  "49.99",
                  "449.878",
                  "0",
                  "5384"
                ],
                [
                  "12",
                  "APP0111",
                  "Apple USB Ethernet Adapter Mac",
                  "USB to Ethernet adapter Mac.",
                  "35",
                  "330.003",
                  "0",
                  "1334"
                ],
                [
                  "13",
                  "APP0156",
                  "45W MagSafe charger Apple MacBook Air",
                  "Charger MacBook Air MagSafe 45 W (MC747Z / A).",
                  "89",
                  "849.904",
                  "0",
                  "13005399"
                ],
                [
                  "14",
                  "MOS0013",
                  "Adapter Moshi FireWire 400 to FireWire 800",
                  "FireWire 400 adapter cable FireWire 800.",
                  "20",
                  "179.891",
                  "0",
                  "1325"
                ],
                [
                  "15",
                  "MOS0021",
                  "Clearguard Moshi MacBook Pro and Air",
                  "Keyboard Protector MacBook Pro 13-inch Retina 15 inches 17 inches 13 inches 15 inches and 13-inch Air.",
                  "24.95",
                  "249.889",
                  "0",
                  "13835403"
                ],
                [
                  "16",
                  "APP0206",
                  "60W MagSafe charger Apple MacBook and MacBook Pro 13 \"",
                  "Charger MacBook and 13 inch MacBook MagSafe 60 W (MC461Z / A).",
                  "89",
                  "849.904",
                  "1",
                  "13005399"
                ],
                [
                  "17",
                  "HGD0007",
                  "Henge Docks Docking Station MacBook Pro 13 \"",
                  "Dock and support with multiple connections for MacBook Pro 13-inch.",
                  "69.99",
                  "699.864",
                  "0",
                  "12995397"
                ],
                [
                  "18",
                  "MUV0009",
                  "Muvit Back Clear Case iPhone 4 / 4S Transparent",
                  "Case iPhone 4 / 4S polycarbonate.",
                  "9.99",
                  "7.986",
                  "0",
                  "11865403"
                ],
                [
                  "19",
                  "APP0234",
                  "Apple Dock Connector to VGA",
                  "Dock Connector to VGA IOS.",
                  "35",
                  "350.005",
                  "0",
                  "13955395"
                ],
                [
                  "20",
                  "APP0247",
                  "85W MagSafe charger Apple MacBook Pro 15 \"/ 17\"",
                  "Charger MacBook Pro MagSafe 85 W (MC556Z / A).",
                  "89",
                  "849.904",
                  "1",
                  "13005399"
                ],
                [
                  "21",
                  "APP0233",
                  "Apple iPad Camera Connection connector",
                  "IPad connector for digital cameras and SD cards.",
                  "35",
                  "349.896",
                  "0",
                  "13955395"
                ],
                [
                  "22",
                  "JMO0014",
                  "Just Mobile Upstand iPad support",
                  "Support Retina iPad and iPad mini aluminum.",
                  "49.95",
                  "399.905",
                  "0",
                  "1216"
                ],
                [
                  "23",
                  "MOB0007",
                  "Mobee Magic Charger Charger Magic Mouse",
                  "Wireless Charger for Magic Mouse",
                  "49.99",
                  "499.851",
                  "0",
                  "12355400"
                ],
                [
                  "24",
                  "APP0277",
                  "Apple Wireless Keyboard Keyboard (OEM) Mac",
                  "Ultrathin keyboard Apple Bluetooth Spanish (unboxed).",
                  "79",
                  "759.904",
                  "0",
                  "13855401"
                ],
                [
                  "25",
                  "MOP0011",
                  "Mophie Juice Pack Air Battery Case iPhone 4 / 4S black",
                  "Battery Case iPhone 4 / 4S rigid polymer.",
                  "69.99",
                  "56.991",
                  "0",
                  "5,49E+11"
                ],
                [
                  "26",
                  "APP0280",
                  "Apple HDMI to HDMI Cable 1.8m",
                  "HMDI to HDMI Cable 1.8m.",
                  "25",
                  "240.004",
                  "0",
                  "1325"
                ],
                [
                  "27",
                  "OND0069",
                  "Adapter mini DVI to HDMI",
                  "Adapter mini DVI to HDMI for Mac and PC",
                  "16.49",
                  "149.895",
                  "0",
                  "1325"
                ],
                [
                  "28",
                  "SNN0007",
                  "Sonnet Tempo SATA PCIe Mac and PC E2P",
                  "PCIe Card with 2 Serial ATA ports Mac and PC.",
                  "59.99",
                  "502.102",
                  "0",
                  "1276"
                ],
                [
                  "29",
                  "KIN0025",
                  "Mac memory DIMM DDR3 2GB 1333MHz Kingston",
                  "2GB RAM Mac Pro (July 2010).",
                  "29.99",
                  "179.903",
                  "0",
                  "1364"
                ],
                [
                  "30",
                  "OND0073",
                  "Mini DisplayPort to HDMI Cable 18m",
                  "Cable with Mini DisplayPort to HDMI (audio + video)",
                  "22.99",
                  "169.896",
                  "0",
                  "1325"
                ],
                [
                  "31",
                  "MOS0042",
                  "Adapter Moshi Mini Display Port to VGA",
                  "Cable Adapter Mini Display Port to VGA.",
                  "34.99",
                  "269.903",
                  "0",
                  "1325"
                ],
                [
                  "32",
                  "BEL0070",
                  "Music Receiver Belkin iPhone music receiver",
                  "Music Receiver iPhone iPad and iPod Touch for stereos via Bluetooth",
                  "49.99",
                  "299.899",
                  "0",
                  "11905404"
                ],
                [
                  "33",
                  "LMP0007",
                  "KeyPad LMP Bluetooth Keypad Mac",
                  "expansion keypad Mac with bluetooth connection.",
                  "54.99",
                  "399.905",
                  "1",
                  "13855401"
                ],
                [
                  "34",
                  "BEL0072",
                  "Belkin PRO Series USB 2.0 Cable 18M",
                  "USB Cable USB type A and type B 18m in length for Mac and PC",
                  "3.99",
                  "29.899",
                  "1",
                  "1325"
                ],
                [
                  "35",
                  "APP0308",
                  "AV Cable Adapter Apple iPhone iPad and iPod white",
                  "IPhone iPad iPod adapter and AV cable.",
                  "45",
                  "359.999",
                  "0",
                  "1230"
                ],
                [
                  "36",
                  "GRT0196",
                  "Griffin Survivor Extreme-Duty Case iPad 2 3 and 4 black",
                  "IPad 2 Case 3 and 4 for extreme ultra resistant.",
                  "64.99",
                  "499.899",
                  "0",
                  "12635403"
                ],
                [
                  "37",
                  "MUV0023",
                  "Extreme Muvit iPhone and iPod BikeMount sleeve black Touch",
                  "IPhone and iPod support sleeve waterproof App Touch and bicycle.",
                  "35.9",
                  "169.896",
                  "0",
                  "11865403"
                ],
                [
                  "38",
                  "JMO0026",
                  "Just Mobile Lazy Couch Support Mac and iPad",
                  "Mac and iPad small lift stand.",
                  "19.95",
                  "199.892",
                  "0",
                  "8696"
                ],
                [
                  "39",
                  "OWC0007",
                  "OWC Data Doubler Optical Bay adapter Macbook / Macbook Pro",
                  "Tray SuperDrive replacement hard disk or SSD.",
                  "72.99",
                  "399.905",
                  "1",
                  "12755395"
                ],
                [
                  "40",
                  "KEN0028",
                  "Kensington ClickSafe lock Mac and PC",
                  "Mac and PC padlock with keys.",
                  "54.99",
                  "499.899",
                  "0",
                  "1325"
                ],
                [
                  "41",
                  "APP0343",
                  "Apple Thunderbolt Cable 2m White",
                  "Cable Mac Apple Thunderbolt 2m.",
                  "45",
                  "429.998",
                  "1",
                  "1325"
                ],
                [
                  "42",
                  "MOS0044",
                  "Moshi FireWire 800 Cable",
                  "FireWire 800 Cable 18 m.",
                  "34.99",
                  "269.903",
                  "0",
                  "1325"
                ],
                [
                  "43",
                  "MOS0062",
                  "Moshi USB Ethernet Adapter",
                  "USB to Ethernet adapter.",
                  "29",
                  "249.865",
                  "0",
                  "1325"
                ],
                [
                  "44",
                  "MOB0009",
                  "Mobee Magic Numpad for the Magic Trackpad",
                  "3 Numeric for Magic Trackpad stickers.",
                  "29.49",
                  "279.873",
                  "0",
                  "12355400"
                ],
                [
                  "45",
                  "TWS0026",
                  "Twelve South BookBook MacBook Air sleeve 11 \"brown",
                  "Case Macbook 11 inches vintage skin with soft padding.",
                  "79.99",
                  "749.958",
                  "0",
                  "13835403"
                ],
                [
                  "46",
                  "MOB0010",
                  "Additional Battery Pack Mobee Magic Bar",
                  "Pack extra battery Mobee Magic Bar.",
                  "29.99",
                  "169.884",
                  "0",
                  "12355400"
                ],
                [
                  "47",
                  "IST0009",
                  "iStabilizer iPhone Tripod Mount",
                  "IPhone Tripod Adapter for photo and video.",
                  "19.99",
                  "199.892",
                  "0",
                  "1216"
                ],
                [
                  "48",
                  "TWS0027",
                  "Twelve South BookBook Case MacBook Air / Pro 13 \"brown",
                  "Funda Macbook Air / Pro 13 inch vintage leather with padded interior.",
                  "79.99",
                  "749.898",
                  "0",
                  "13835403"
                ],
                [
                  "49",
                  "APP0367",
                  "Apple Mini DisplayPort to DVI Adapter Mac dual channel",
                  "Adapter Mini Display Port to DVI dual channel MacBook MacBook Pro and MacBook Air.",
                  "119",
                  "1.119.976",
                  "0",
                  "1325"
                ]
              ],
              "shape": {
                "columns": 7,
                "rows": 10157
              }
            },
            "text/html": [
              "<div>\n",
              "<style scoped>\n",
              "    .dataframe tbody tr th:only-of-type {\n",
              "        vertical-align: middle;\n",
              "    }\n",
              "\n",
              "    .dataframe tbody tr th {\n",
              "        vertical-align: top;\n",
              "    }\n",
              "\n",
              "    .dataframe thead th {\n",
              "        text-align: right;\n",
              "    }\n",
              "</style>\n",
              "<table border=\"1\" class=\"dataframe\">\n",
              "  <thead>\n",
              "    <tr style=\"text-align: right;\">\n",
              "      <th></th>\n",
              "      <th>sku</th>\n",
              "      <th>name</th>\n",
              "      <th>desc</th>\n",
              "      <th>price</th>\n",
              "      <th>promo_price</th>\n",
              "      <th>in_stock</th>\n",
              "      <th>type</th>\n",
              "    </tr>\n",
              "  </thead>\n",
              "  <tbody>\n",
              "    <tr>\n",
              "      <th>0</th>\n",
              "      <td>RAI0007</td>\n",
              "      <td>Silver Rain Design mStand Support</td>\n",
              "      <td>Aluminum support compatible with all MacBook</td>\n",
              "      <td>59.99</td>\n",
              "      <td>499.899</td>\n",
              "      <td>1</td>\n",
              "      <td>8696</td>\n",
              "    </tr>\n",
              "    <tr>\n",
              "      <th>1</th>\n",
              "      <td>APP0023</td>\n",
              "      <td>Apple Mac Keyboard Keypad Spanish</td>\n",
              "      <td>USB ultrathin keyboard Apple Mac Spanish.</td>\n",
              "      <td>59</td>\n",
              "      <td>589.996</td>\n",
              "      <td>0</td>\n",
              "      <td>13855401</td>\n",
              "    </tr>\n",
              "    <tr>\n",
              "      <th>2</th>\n",
              "      <td>APP0025</td>\n",
              "      <td>Mighty Mouse Apple Mouse for Mac</td>\n",
              "      <td>mouse Apple USB cable.</td>\n",
              "      <td>59</td>\n",
              "      <td>569.898</td>\n",
              "      <td>0</td>\n",
              "      <td>1387</td>\n",
              "    </tr>\n",
              "    <tr>\n",
              "      <th>3</th>\n",
              "      <td>APP0072</td>\n",
              "      <td>Apple Dock to USB Cable iPhone and iPod white</td>\n",
              "      <td>IPhone dock and USB Cable Apple iPod.</td>\n",
              "      <td>25</td>\n",
              "      <td>229.997</td>\n",
              "      <td>0</td>\n",
              "      <td>1230</td>\n",
              "    </tr>\n",
              "    <tr>\n",
              "      <th>4</th>\n",
              "      <td>KIN0007</td>\n",
              "      <td>Mac Memory Kingston 2GB 667MHz DDR2 SO-DIMM</td>\n",
              "      <td>2GB RAM Mac mini and iMac (2006/07) MacBook Pr...</td>\n",
              "      <td>34.99</td>\n",
              "      <td>31.99</td>\n",
              "      <td>1</td>\n",
              "      <td>1364</td>\n",
              "    </tr>\n",
              "    <tr>\n",
              "      <th>...</th>\n",
              "      <td>...</td>\n",
              "      <td>...</td>\n",
              "      <td>...</td>\n",
              "      <td>...</td>\n",
              "      <td>...</td>\n",
              "      <td>...</td>\n",
              "      <td>...</td>\n",
              "    </tr>\n",
              "    <tr>\n",
              "      <th>10152</th>\n",
              "      <td>BEL0376</td>\n",
              "      <td>Belkin Travel Support Apple Watch Black</td>\n",
              "      <td>compact and portable stand vertically or horiz...</td>\n",
              "      <td>29.99</td>\n",
              "      <td>269.903</td>\n",
              "      <td>1</td>\n",
              "      <td>12282</td>\n",
              "    </tr>\n",
              "    <tr>\n",
              "      <th>10153</th>\n",
              "      <td>THU0060</td>\n",
              "      <td>Enroute Thule 14L Backpack MacBook 13 \"Black</td>\n",
              "      <td>Backpack with capacity of 14 liter compartment...</td>\n",
              "      <td>69.95</td>\n",
              "      <td>649.903</td>\n",
              "      <td>1</td>\n",
              "      <td>1392</td>\n",
              "    </tr>\n",
              "    <tr>\n",
              "      <th>10154</th>\n",
              "      <td>THU0061</td>\n",
              "      <td>Enroute Thule 14L Backpack MacBook 13 \"Blue</td>\n",
              "      <td>Backpack with capacity of 14 liter compartment...</td>\n",
              "      <td>69.95</td>\n",
              "      <td>649.903</td>\n",
              "      <td>1</td>\n",
              "      <td>1392</td>\n",
              "    </tr>\n",
              "    <tr>\n",
              "      <th>10155</th>\n",
              "      <td>THU0062</td>\n",
              "      <td>Enroute Thule 14L Backpack MacBook 13 \"Red</td>\n",
              "      <td>Backpack with capacity of 14 liter compartment...</td>\n",
              "      <td>69.95</td>\n",
              "      <td>649.903</td>\n",
              "      <td>0</td>\n",
              "      <td>1392</td>\n",
              "    </tr>\n",
              "    <tr>\n",
              "      <th>10156</th>\n",
              "      <td>THU0063</td>\n",
              "      <td>Enroute Thule 14L Backpack MacBook 13 \"Green</td>\n",
              "      <td>Backpack with capacity of 14 liter compartment...</td>\n",
              "      <td>69.95</td>\n",
              "      <td>649.903</td>\n",
              "      <td>1</td>\n",
              "      <td>1392</td>\n",
              "    </tr>\n",
              "  </tbody>\n",
              "</table>\n",
              "<p>10157 rows × 7 columns</p>\n",
              "</div>"
            ],
            "text/plain": [
              "           sku                                           name  \\\n",
              "0      RAI0007              Silver Rain Design mStand Support   \n",
              "1      APP0023              Apple Mac Keyboard Keypad Spanish   \n",
              "2      APP0025               Mighty Mouse Apple Mouse for Mac   \n",
              "3      APP0072  Apple Dock to USB Cable iPhone and iPod white   \n",
              "4      KIN0007    Mac Memory Kingston 2GB 667MHz DDR2 SO-DIMM   \n",
              "...        ...                                            ...   \n",
              "10152  BEL0376        Belkin Travel Support Apple Watch Black   \n",
              "10153  THU0060   Enroute Thule 14L Backpack MacBook 13 \"Black   \n",
              "10154  THU0061    Enroute Thule 14L Backpack MacBook 13 \"Blue   \n",
              "10155  THU0062     Enroute Thule 14L Backpack MacBook 13 \"Red   \n",
              "10156  THU0063   Enroute Thule 14L Backpack MacBook 13 \"Green   \n",
              "\n",
              "                                                    desc  price promo_price  \\\n",
              "0           Aluminum support compatible with all MacBook  59.99     499.899   \n",
              "1              USB ultrathin keyboard Apple Mac Spanish.     59     589.996   \n",
              "2                                 mouse Apple USB cable.     59     569.898   \n",
              "3                  IPhone dock and USB Cable Apple iPod.     25     229.997   \n",
              "4      2GB RAM Mac mini and iMac (2006/07) MacBook Pr...  34.99       31.99   \n",
              "...                                                  ...    ...         ...   \n",
              "10152  compact and portable stand vertically or horiz...  29.99     269.903   \n",
              "10153  Backpack with capacity of 14 liter compartment...  69.95     649.903   \n",
              "10154  Backpack with capacity of 14 liter compartment...  69.95     649.903   \n",
              "10155  Backpack with capacity of 14 liter compartment...  69.95     649.903   \n",
              "10156  Backpack with capacity of 14 liter compartment...  69.95     649.903   \n",
              "\n",
              "       in_stock      type  \n",
              "0             1      8696  \n",
              "1             0  13855401  \n",
              "2             0      1387  \n",
              "3             0      1230  \n",
              "4             1      1364  \n",
              "...         ...       ...  \n",
              "10152         1     12282  \n",
              "10153         1      1392  \n",
              "10154         1      1392  \n",
              "10155         0      1392  \n",
              "10156         1      1392  \n",
              "\n",
              "[10157 rows x 7 columns]"
            ]
          },
          "execution_count": 61,
          "metadata": {},
          "output_type": "execute_result"
        }
      ],
      "source": [
        "# Dropping rows with multiple dots in the 'price' column\n",
        "products_df = products_df[~multiple_decimal_mask].reset_index(drop=True)\n",
        "products_df"
      ]
    },
    {
      "cell_type": "code",
      "execution_count": 62,
      "metadata": {},
      "outputs": [
        {
          "data": {
            "application/vnd.microsoft.datawrangler.viewer.v0+json": {
              "columns": [
                {
                  "name": "price",
                  "rawType": "int64",
                  "type": "integer"
                },
                {
                  "name": "count",
                  "rawType": "int64",
                  "type": "integer"
                }
              ],
              "ref": "9174f869-c7ec-45bd-8886-d8e1dd3c1d47",
              "rows": [
                [
                  "1",
                  "6942"
                ],
                [
                  "0",
                  "3215"
                ]
              ],
              "shape": {
                "columns": 1,
                "rows": 2
              }
            },
            "text/plain": [
              "price\n",
              "1    6942\n",
              "0    3215\n",
              "Name: count, dtype: int64"
            ]
          },
          "execution_count": 62,
          "metadata": {},
          "output_type": "execute_result"
        }
      ],
      "source": [
        "# CHECK: Count the number of decimal points in the price\n",
        "products_df['price'].str.count(\"\\\\.\").value_counts()"
      ]
    },
    {
      "cell_type": "markdown",
      "metadata": {},
      "source": [
        "### Checking of prices with more than 2 decimal numbers (and only one decimal mark)"
      ]
    },
    {
      "cell_type": "markdown",
      "metadata": {},
      "source": [
        "Some prices have only one decimal mark, but more than two decimal places (e.g. 99.004). Some of these are erroneous and can result in incorrect discount calculations. We will drop them from our analysis."
      ]
    },
    {
      "cell_type": "code",
      "execution_count": 63,
      "metadata": {},
      "outputs": [
        {
          "data": {
            "application/vnd.microsoft.datawrangler.viewer.v0+json": {
              "columns": [
                {
                  "name": "index",
                  "rawType": "int64",
                  "type": "integer"
                },
                {
                  "name": "sku",
                  "rawType": "object",
                  "type": "string"
                },
                {
                  "name": "name",
                  "rawType": "object",
                  "type": "string"
                },
                {
                  "name": "desc",
                  "rawType": "object",
                  "type": "string"
                },
                {
                  "name": "price",
                  "rawType": "object",
                  "type": "string"
                },
                {
                  "name": "promo_price",
                  "rawType": "object",
                  "type": "string"
                },
                {
                  "name": "in_stock",
                  "rawType": "int64",
                  "type": "integer"
                },
                {
                  "name": "type",
                  "rawType": "object",
                  "type": "string"
                }
              ],
              "ref": "f45b71f8-9dfe-4652-ac94-86e3a7b015b0",
              "rows": [
                [
                  "3418",
                  "QNA0156",
                  "QNAP TS-653A | 4GB RAM Mac and PC Server NAS",
                  "NAS server 4 bays and 4 GB RAM for small businesses.",
                  "845.79",
                  "8.449.902",
                  "0",
                  "12175397"
                ],
                [
                  "153",
                  "OWC0024",
                  "OWC Mount Adapter 25-35 Pro Mac Pro (2009-2012)",
                  "SSD hard drive adapter or 2.5 for Mac Pro.",
                  "35.99",
                  "259.896",
                  "1",
                  "12755395"
                ],
                [
                  "6294",
                  "SAT0002-A",
                  "Open - Satechi USB Hub Slim-C to USB-A / HDMI 4K / USB-C Space Gray",
                  "Aluminum adapter with USB Type-C 4K HDMI port and two USB Type-A ports for Mac and PC",
                  "79.99",
                  "305.128",
                  "0",
                  "1298"
                ],
                [
                  "7585",
                  "APP2135",
                  "Apple iPad Pro 12.9 \"Wi-Fi 512GB Space Gray",
                  "New iPad Pro 12.9 inch Wi-Fi 512GB",
                  "1289",
                  "12.520.015",
                  "1",
                  "51861714"
                ],
                [
                  "6882",
                  "APP2006",
                  "Watch Apple Nike + 38mm aluminum case in silver and Nike Sport Strap Pure Platinum / White",
                  "Apple Watch 38 mm GPS processor with dual core Submersible 50mts strap exclusive Nike +",
                  "439",
                  "4.390.001",
                  "0",
                  "24885185"
                ],
                [
                  "10092",
                  "APP1973-A",
                  "Open - Apple iPad Wi-Fi 128GB Space Gray",
                  "Apple iPad Wi-Fi 128GB Space Gray (MP2H2TY / A)",
                  "502.81",
                  "457.95",
                  "0",
                  "113851714"
                ],
                [
                  "6384",
                  "APP1039-A",
                  "Open - USB-C Apple USB Adapter",
                  "Reconditioned adapter USB-C to USB for MacBook",
                  "25",
                  "213.645",
                  "0",
                  "12585395"
                ],
                [
                  "6422",
                  "BEL0133",
                  "Belkin MIXIT Silver Lightning iPhone Support",
                  "Loading dock + support synchronization with Lightning connection and USB cable for iPhone 7 / SE / 6s / 6 / 5c / 5s and iPhone 5",
                  "34.99",
                  "299.899",
                  "1",
                  "13615399"
                ],
                [
                  "1620",
                  "MOS0141",
                  "Moshi iGlaze iPhone 6 / 6S Plus Black",
                  "Rigid shell shock protection and rasguÌ ± os for iPhone 6 / 6S Plus.",
                  "35",
                  "249.901",
                  "0",
                  "11865403"
                ],
                [
                  "1703",
                  "QNA0081",
                  "QNAP TS-251 | 4GB RAM Mac and PC Server Nas",
                  "2-bay NAS server for Mac and PC.",
                  "398",
                  "2.998.997",
                  "0",
                  "12175397"
                ],
                [
                  "8188",
                  "CRU0059",
                  "Crucial Mac Memory 16GB DDR4 2400MHz SO-DIMM",
                  "Crucial memory Mac SO-DIMM 16GB 2400MHz DDR4 iMac 5K Retina 27 inches (Mid 2017).",
                  "211.99",
                  "2.119.896",
                  "1",
                  "1364"
                ],
                [
                  "5131",
                  "PAC1520",
                  "Pack QNAP TS-451A NAS 2GB RAM l l 24TB (4x6TB) WD Red",
                  "NAS with 2GB of RAM and 4 HDDs 6TB for Mac and PC",
                  "1466.99",
                  "11.773.675",
                  "1",
                  "12175397"
                ],
                [
                  "8179",
                  "TPL0032-A",
                  "Open - TP-LINK Cable 1m White Lightning IFM",
                  "USB charging cable and Lightning 1 meter long with MFi certified for iPhone iPad and iPod",
                  "12.99",
                  "77.995",
                  "0",
                  "1298"
                ],
                [
                  "1605",
                  "PAC0758",
                  "Samsung SSD 850 expansion kit EVO 250GB iMac 27 \"2010",
                  "SSD upgrade kit 250GB iMac 27-inch Mid 2010 with tools",
                  "168.98",
                  "1.255.847",
                  "1",
                  "1433"
                ],
                [
                  "3097",
                  "TUC0237",
                  "Housing Sottile Tucano iPhone 6 / 6S Gray",
                  "Cover for iPhone 6 / 6S.",
                  "7.9",
                  "69.902",
                  "0",
                  "11865403"
                ],
                [
                  "5348",
                  "TUC0296",
                  "CHANGE Tucano iPhone 8/7 Transparent Case",
                  "ultra thin and transparent with 15 cards of different themes for iPhone 8 or 7 Case",
                  "12.9",
                  "89.903",
                  "1",
                  "11865403"
                ],
                [
                  "5606",
                  "BEA0067",
                  "Powerbeats3 Beats Wireless Headphones Red Siren",
                  "AcÌ¼stico headphones and waterproof design for iPhone iPad and iPod",
                  "199.95",
                  "1.799.899",
                  "0",
                  "5384"
                ],
                [
                  "8213",
                  "SYN0175",
                  "Synology M2D17 to M.2 PCIe Adapter Card SATA SSD",
                  "Adapter Card Dual M.2 SSD SSD cache to improve",
                  "148.99",
                  "1.489.897",
                  "0",
                  "1404"
                ],
                [
                  "9620",
                  "GTE0096-A",
                  "Open - G-Technology G-DRIVE HDD 10TB 7200rpm Thunderbolt 3 and USB-C",
                  "Refurbished Hard Drive 10TB with 2 USB 3 and Thunderbolt connections-C for Mac and PC",
                  "683.99",
                  "4.463.934",
                  "0",
                  "11935397"
                ],
                [
                  "8959",
                  "PAC2455",
                  "DS218J Synology NAS Server | 4TB (2x2TB) Seagate Iron Wolf",
                  "2-bay NAS server entry-level to back domestic security and stream media files",
                  "405.97",
                  "3.371.786",
                  "0",
                  "12175397"
                ]
              ],
              "shape": {
                "columns": 7,
                "rows": 20
              }
            },
            "text/html": [
              "<div>\n",
              "<style scoped>\n",
              "    .dataframe tbody tr th:only-of-type {\n",
              "        vertical-align: middle;\n",
              "    }\n",
              "\n",
              "    .dataframe tbody tr th {\n",
              "        vertical-align: top;\n",
              "    }\n",
              "\n",
              "    .dataframe thead th {\n",
              "        text-align: right;\n",
              "    }\n",
              "</style>\n",
              "<table border=\"1\" class=\"dataframe\">\n",
              "  <thead>\n",
              "    <tr style=\"text-align: right;\">\n",
              "      <th></th>\n",
              "      <th>sku</th>\n",
              "      <th>name</th>\n",
              "      <th>desc</th>\n",
              "      <th>price</th>\n",
              "      <th>promo_price</th>\n",
              "      <th>in_stock</th>\n",
              "      <th>type</th>\n",
              "    </tr>\n",
              "  </thead>\n",
              "  <tbody>\n",
              "    <tr>\n",
              "      <th>3418</th>\n",
              "      <td>QNA0156</td>\n",
              "      <td>QNAP TS-653A | 4GB RAM Mac and PC Server NAS</td>\n",
              "      <td>NAS server 4 bays and 4 GB RAM for small busin...</td>\n",
              "      <td>845.79</td>\n",
              "      <td>8.449.902</td>\n",
              "      <td>0</td>\n",
              "      <td>12175397</td>\n",
              "    </tr>\n",
              "    <tr>\n",
              "      <th>153</th>\n",
              "      <td>OWC0024</td>\n",
              "      <td>OWC Mount Adapter 25-35 Pro Mac Pro (2009-2012)</td>\n",
              "      <td>SSD hard drive adapter or 2.5 for Mac Pro.</td>\n",
              "      <td>35.99</td>\n",
              "      <td>259.896</td>\n",
              "      <td>1</td>\n",
              "      <td>12755395</td>\n",
              "    </tr>\n",
              "    <tr>\n",
              "      <th>6294</th>\n",
              "      <td>SAT0002-A</td>\n",
              "      <td>Open - Satechi USB Hub Slim-C to USB-A / HDMI ...</td>\n",
              "      <td>Aluminum adapter with USB Type-C 4K HDMI port ...</td>\n",
              "      <td>79.99</td>\n",
              "      <td>305.128</td>\n",
              "      <td>0</td>\n",
              "      <td>1298</td>\n",
              "    </tr>\n",
              "    <tr>\n",
              "      <th>7585</th>\n",
              "      <td>APP2135</td>\n",
              "      <td>Apple iPad Pro 12.9 \"Wi-Fi 512GB Space Gray</td>\n",
              "      <td>New iPad Pro 12.9 inch Wi-Fi 512GB</td>\n",
              "      <td>1289</td>\n",
              "      <td>12.520.015</td>\n",
              "      <td>1</td>\n",
              "      <td>51861714</td>\n",
              "    </tr>\n",
              "    <tr>\n",
              "      <th>6882</th>\n",
              "      <td>APP2006</td>\n",
              "      <td>Watch Apple Nike + 38mm aluminum case in silve...</td>\n",
              "      <td>Apple Watch 38 mm GPS processor with dual core...</td>\n",
              "      <td>439</td>\n",
              "      <td>4.390.001</td>\n",
              "      <td>0</td>\n",
              "      <td>24885185</td>\n",
              "    </tr>\n",
              "    <tr>\n",
              "      <th>10092</th>\n",
              "      <td>APP1973-A</td>\n",
              "      <td>Open - Apple iPad Wi-Fi 128GB Space Gray</td>\n",
              "      <td>Apple iPad Wi-Fi 128GB Space Gray (MP2H2TY / A)</td>\n",
              "      <td>502.81</td>\n",
              "      <td>457.95</td>\n",
              "      <td>0</td>\n",
              "      <td>113851714</td>\n",
              "    </tr>\n",
              "    <tr>\n",
              "      <th>6384</th>\n",
              "      <td>APP1039-A</td>\n",
              "      <td>Open - USB-C Apple USB Adapter</td>\n",
              "      <td>Reconditioned adapter USB-C to USB for MacBook</td>\n",
              "      <td>25</td>\n",
              "      <td>213.645</td>\n",
              "      <td>0</td>\n",
              "      <td>12585395</td>\n",
              "    </tr>\n",
              "    <tr>\n",
              "      <th>6422</th>\n",
              "      <td>BEL0133</td>\n",
              "      <td>Belkin MIXIT Silver Lightning iPhone Support</td>\n",
              "      <td>Loading dock + support synchronization with Li...</td>\n",
              "      <td>34.99</td>\n",
              "      <td>299.899</td>\n",
              "      <td>1</td>\n",
              "      <td>13615399</td>\n",
              "    </tr>\n",
              "    <tr>\n",
              "      <th>1620</th>\n",
              "      <td>MOS0141</td>\n",
              "      <td>Moshi iGlaze iPhone 6 / 6S Plus Black</td>\n",
              "      <td>Rigid shell shock protection and rasguÌ ± os f...</td>\n",
              "      <td>35</td>\n",
              "      <td>249.901</td>\n",
              "      <td>0</td>\n",
              "      <td>11865403</td>\n",
              "    </tr>\n",
              "    <tr>\n",
              "      <th>1703</th>\n",
              "      <td>QNA0081</td>\n",
              "      <td>QNAP TS-251 | 4GB RAM Mac and PC Server Nas</td>\n",
              "      <td>2-bay NAS server for Mac and PC.</td>\n",
              "      <td>398</td>\n",
              "      <td>2.998.997</td>\n",
              "      <td>0</td>\n",
              "      <td>12175397</td>\n",
              "    </tr>\n",
              "    <tr>\n",
              "      <th>8188</th>\n",
              "      <td>CRU0059</td>\n",
              "      <td>Crucial Mac Memory 16GB DDR4 2400MHz SO-DIMM</td>\n",
              "      <td>Crucial memory Mac SO-DIMM 16GB 2400MHz DDR4 i...</td>\n",
              "      <td>211.99</td>\n",
              "      <td>2.119.896</td>\n",
              "      <td>1</td>\n",
              "      <td>1364</td>\n",
              "    </tr>\n",
              "    <tr>\n",
              "      <th>5131</th>\n",
              "      <td>PAC1520</td>\n",
              "      <td>Pack QNAP TS-451A NAS 2GB RAM l l 24TB (4x6TB)...</td>\n",
              "      <td>NAS with 2GB of RAM and 4 HDDs 6TB for Mac and PC</td>\n",
              "      <td>1466.99</td>\n",
              "      <td>11.773.675</td>\n",
              "      <td>1</td>\n",
              "      <td>12175397</td>\n",
              "    </tr>\n",
              "    <tr>\n",
              "      <th>8179</th>\n",
              "      <td>TPL0032-A</td>\n",
              "      <td>Open - TP-LINK Cable 1m White Lightning IFM</td>\n",
              "      <td>USB charging cable and Lightning 1 meter long ...</td>\n",
              "      <td>12.99</td>\n",
              "      <td>77.995</td>\n",
              "      <td>0</td>\n",
              "      <td>1298</td>\n",
              "    </tr>\n",
              "    <tr>\n",
              "      <th>1605</th>\n",
              "      <td>PAC0758</td>\n",
              "      <td>Samsung SSD 850 expansion kit EVO 250GB iMac 2...</td>\n",
              "      <td>SSD upgrade kit 250GB iMac 27-inch Mid 2010 wi...</td>\n",
              "      <td>168.98</td>\n",
              "      <td>1.255.847</td>\n",
              "      <td>1</td>\n",
              "      <td>1433</td>\n",
              "    </tr>\n",
              "    <tr>\n",
              "      <th>3097</th>\n",
              "      <td>TUC0237</td>\n",
              "      <td>Housing Sottile Tucano iPhone 6 / 6S Gray</td>\n",
              "      <td>Cover for iPhone 6 / 6S.</td>\n",
              "      <td>7.9</td>\n",
              "      <td>69.902</td>\n",
              "      <td>0</td>\n",
              "      <td>11865403</td>\n",
              "    </tr>\n",
              "    <tr>\n",
              "      <th>5348</th>\n",
              "      <td>TUC0296</td>\n",
              "      <td>CHANGE Tucano iPhone 8/7 Transparent Case</td>\n",
              "      <td>ultra thin and transparent with 15 cards of di...</td>\n",
              "      <td>12.9</td>\n",
              "      <td>89.903</td>\n",
              "      <td>1</td>\n",
              "      <td>11865403</td>\n",
              "    </tr>\n",
              "    <tr>\n",
              "      <th>5606</th>\n",
              "      <td>BEA0067</td>\n",
              "      <td>Powerbeats3 Beats Wireless Headphones Red Siren</td>\n",
              "      <td>AcÌ¼stico headphones and waterproof design for...</td>\n",
              "      <td>199.95</td>\n",
              "      <td>1.799.899</td>\n",
              "      <td>0</td>\n",
              "      <td>5384</td>\n",
              "    </tr>\n",
              "    <tr>\n",
              "      <th>8213</th>\n",
              "      <td>SYN0175</td>\n",
              "      <td>Synology M2D17 to M.2 PCIe Adapter Card SATA SSD</td>\n",
              "      <td>Adapter Card Dual M.2 SSD SSD cache to improve</td>\n",
              "      <td>148.99</td>\n",
              "      <td>1.489.897</td>\n",
              "      <td>0</td>\n",
              "      <td>1404</td>\n",
              "    </tr>\n",
              "    <tr>\n",
              "      <th>9620</th>\n",
              "      <td>GTE0096-A</td>\n",
              "      <td>Open - G-Technology G-DRIVE HDD 10TB 7200rpm T...</td>\n",
              "      <td>Refurbished Hard Drive 10TB with 2 USB 3 and T...</td>\n",
              "      <td>683.99</td>\n",
              "      <td>4.463.934</td>\n",
              "      <td>0</td>\n",
              "      <td>11935397</td>\n",
              "    </tr>\n",
              "    <tr>\n",
              "      <th>8959</th>\n",
              "      <td>PAC2455</td>\n",
              "      <td>DS218J Synology NAS Server | 4TB (2x2TB) Seaga...</td>\n",
              "      <td>2-bay NAS server entry-level to back domestic ...</td>\n",
              "      <td>405.97</td>\n",
              "      <td>3.371.786</td>\n",
              "      <td>0</td>\n",
              "      <td>12175397</td>\n",
              "    </tr>\n",
              "  </tbody>\n",
              "</table>\n",
              "</div>"
            ],
            "text/plain": [
              "             sku                                               name  \\\n",
              "3418     QNA0156       QNAP TS-653A | 4GB RAM Mac and PC Server NAS   \n",
              "153      OWC0024    OWC Mount Adapter 25-35 Pro Mac Pro (2009-2012)   \n",
              "6294   SAT0002-A  Open - Satechi USB Hub Slim-C to USB-A / HDMI ...   \n",
              "7585     APP2135        Apple iPad Pro 12.9 \"Wi-Fi 512GB Space Gray   \n",
              "6882     APP2006  Watch Apple Nike + 38mm aluminum case in silve...   \n",
              "10092  APP1973-A           Open - Apple iPad Wi-Fi 128GB Space Gray   \n",
              "6384   APP1039-A                     Open - USB-C Apple USB Adapter   \n",
              "6422     BEL0133       Belkin MIXIT Silver Lightning iPhone Support   \n",
              "1620     MOS0141              Moshi iGlaze iPhone 6 / 6S Plus Black   \n",
              "1703     QNA0081        QNAP TS-251 | 4GB RAM Mac and PC Server Nas   \n",
              "8188     CRU0059       Crucial Mac Memory 16GB DDR4 2400MHz SO-DIMM   \n",
              "5131     PAC1520  Pack QNAP TS-451A NAS 2GB RAM l l 24TB (4x6TB)...   \n",
              "8179   TPL0032-A        Open - TP-LINK Cable 1m White Lightning IFM   \n",
              "1605     PAC0758  Samsung SSD 850 expansion kit EVO 250GB iMac 2...   \n",
              "3097     TUC0237          Housing Sottile Tucano iPhone 6 / 6S Gray   \n",
              "5348     TUC0296          CHANGE Tucano iPhone 8/7 Transparent Case   \n",
              "5606     BEA0067    Powerbeats3 Beats Wireless Headphones Red Siren   \n",
              "8213     SYN0175   Synology M2D17 to M.2 PCIe Adapter Card SATA SSD   \n",
              "9620   GTE0096-A  Open - G-Technology G-DRIVE HDD 10TB 7200rpm T...   \n",
              "8959     PAC2455  DS218J Synology NAS Server | 4TB (2x2TB) Seaga...   \n",
              "\n",
              "                                                    desc    price promo_price  \\\n",
              "3418   NAS server 4 bays and 4 GB RAM for small busin...   845.79   8.449.902   \n",
              "153           SSD hard drive adapter or 2.5 for Mac Pro.    35.99     259.896   \n",
              "6294   Aluminum adapter with USB Type-C 4K HDMI port ...    79.99     305.128   \n",
              "7585                  New iPad Pro 12.9 inch Wi-Fi 512GB     1289  12.520.015   \n",
              "6882   Apple Watch 38 mm GPS processor with dual core...      439   4.390.001   \n",
              "10092    Apple iPad Wi-Fi 128GB Space Gray (MP2H2TY / A)   502.81      457.95   \n",
              "6384      Reconditioned adapter USB-C to USB for MacBook       25     213.645   \n",
              "6422   Loading dock + support synchronization with Li...    34.99     299.899   \n",
              "1620   Rigid shell shock protection and rasguÌ ± os f...       35     249.901   \n",
              "1703                    2-bay NAS server for Mac and PC.      398   2.998.997   \n",
              "8188   Crucial memory Mac SO-DIMM 16GB 2400MHz DDR4 i...   211.99   2.119.896   \n",
              "5131   NAS with 2GB of RAM and 4 HDDs 6TB for Mac and PC  1466.99  11.773.675   \n",
              "8179   USB charging cable and Lightning 1 meter long ...    12.99      77.995   \n",
              "1605   SSD upgrade kit 250GB iMac 27-inch Mid 2010 wi...   168.98   1.255.847   \n",
              "3097                            Cover for iPhone 6 / 6S.      7.9      69.902   \n",
              "5348   ultra thin and transparent with 15 cards of di...     12.9      89.903   \n",
              "5606   AcÌ¼stico headphones and waterproof design for...   199.95   1.799.899   \n",
              "8213      Adapter Card Dual M.2 SSD SSD cache to improve   148.99   1.489.897   \n",
              "9620   Refurbished Hard Drive 10TB with 2 USB 3 and T...   683.99   4.463.934   \n",
              "8959   2-bay NAS server entry-level to back domestic ...   405.97   3.371.786   \n",
              "\n",
              "       in_stock       type  \n",
              "3418          0   12175397  \n",
              "153           1   12755395  \n",
              "6294          0       1298  \n",
              "7585          1   51861714  \n",
              "6882          0   24885185  \n",
              "10092         0  113851714  \n",
              "6384          0   12585395  \n",
              "6422          1   13615399  \n",
              "1620          0   11865403  \n",
              "1703          0   12175397  \n",
              "8188          1       1364  \n",
              "5131          1   12175397  \n",
              "8179          0       1298  \n",
              "1605          1       1433  \n",
              "3097          0   11865403  \n",
              "5348          1   11865403  \n",
              "5606          0       5384  \n",
              "8213          0       1404  \n",
              "9620          0   11935397  \n",
              "8959          0   12175397  "
            ]
          },
          "execution_count": 63,
          "metadata": {},
          "output_type": "execute_result"
        }
      ],
      "source": [
        "products_df.sample(20)"
      ]
    },
    {
      "cell_type": "code",
      "execution_count": 64,
      "metadata": {},
      "outputs": [
        {
          "data": {
            "application/vnd.microsoft.datawrangler.viewer.v0+json": {
              "columns": [
                {
                  "name": "index",
                  "rawType": "int64",
                  "type": "integer"
                },
                {
                  "name": "sku",
                  "rawType": "object",
                  "type": "string"
                },
                {
                  "name": "name",
                  "rawType": "object",
                  "type": "string"
                },
                {
                  "name": "desc",
                  "rawType": "object",
                  "type": "unknown"
                },
                {
                  "name": "price",
                  "rawType": "object",
                  "type": "string"
                },
                {
                  "name": "promo_price",
                  "rawType": "object",
                  "type": "string"
                },
                {
                  "name": "in_stock",
                  "rawType": "int64",
                  "type": "integer"
                },
                {
                  "name": "type",
                  "rawType": "object",
                  "type": "unknown"
                },
                {
                  "name": "decimal_count",
                  "rawType": "int64",
                  "type": "integer"
                }
              ],
              "ref": "954443b2-c601-42ae-b3ad-ae4f1195c243",
              "rows": [
                [
                  "0",
                  "RAI0007",
                  "Silver Rain Design mStand Support",
                  "Aluminum support compatible with all MacBook",
                  "59.99",
                  "499.899",
                  "1",
                  "8696",
                  "2"
                ],
                [
                  "1",
                  "APP0023",
                  "Apple Mac Keyboard Keypad Spanish",
                  "USB ultrathin keyboard Apple Mac Spanish.",
                  "59",
                  "589.996",
                  "0",
                  "13855401",
                  "0"
                ],
                [
                  "2",
                  "APP0025",
                  "Mighty Mouse Apple Mouse for Mac",
                  "mouse Apple USB cable.",
                  "59",
                  "569.898",
                  "0",
                  "1387",
                  "0"
                ],
                [
                  "3",
                  "APP0072",
                  "Apple Dock to USB Cable iPhone and iPod white",
                  "IPhone dock and USB Cable Apple iPod.",
                  "25",
                  "229.997",
                  "0",
                  "1230",
                  "0"
                ],
                [
                  "4",
                  "KIN0007",
                  "Mac Memory Kingston 2GB 667MHz DDR2 SO-DIMM",
                  "2GB RAM Mac mini and iMac (2006/07) MacBook Pro (2006/07/08).",
                  "34.99",
                  "31.99",
                  "1",
                  "1364",
                  "2"
                ],
                [
                  "5",
                  "APP0073",
                  "Apple Composite AV Cable iPhone and iPod white",
                  "IPhone and iPod AV Cable Dock to Composite Video.",
                  "45",
                  "420.003",
                  "0",
                  "1230",
                  "0"
                ],
                [
                  "6",
                  "KIN0008",
                  "Mac Memory Kingston 1GB 667MHz DDR2 SO-DIMM",
                  "1GB RAM Mac mini and iMac (2006/07) MacBook Pro (2006/07/08).",
                  "18.99",
                  "146.471",
                  "0",
                  "1364",
                  "2"
                ],
                [
                  "7",
                  "KIN0009",
                  "Mac Memory Kingston 2GB 800MHz DDR2 SO-DIMM",
                  "2GB RAM iMac with Intel Core 2 Duo (Penryn).",
                  "36.99",
                  "274.694",
                  "0",
                  "1364",
                  "2"
                ],
                [
                  "8",
                  "KIN0001-2",
                  "Mac memory Kingston 4GB (2x2GB) 667MHz DDR2 SO-DIMM",
                  "RAM 4GB (2x2GB) Mac mini and iMac (2006/07) MacBook Pro (2006/07/08).",
                  "74",
                  "669.904",
                  "0",
                  "1364",
                  "0"
                ],
                [
                  "9",
                  "APP0100",
                  "Apple Adapter Mini Display Port to VGA",
                  "Adapter Mini Display Port to VGA MacBook and MacBook Pro (unibody).",
                  "35",
                  "330.003",
                  "0",
                  "1325",
                  "0"
                ],
                [
                  "10",
                  "APP0101",
                  "Apple Mini DisplayPort to DVI Adapter",
                  "Adapter mini DisplayPort to DVI MacBook and MacBook Pro (unibody).",
                  "35",
                  "330.003",
                  "0",
                  "1325",
                  "0"
                ],
                [
                  "11",
                  "SEN0021",
                  "Sennheiser CX 300-II Precision headphones iPhone iPad and iPod black",
                  "Headphones iPhone iPad iPad 2 iPad 3 and iPod.",
                  "49.99",
                  "449.878",
                  "0",
                  "5384",
                  "2"
                ],
                [
                  "12",
                  "APP0111",
                  "Apple USB Ethernet Adapter Mac",
                  "USB to Ethernet adapter Mac.",
                  "35",
                  "330.003",
                  "0",
                  "1334",
                  "0"
                ],
                [
                  "13",
                  "APP0156",
                  "45W MagSafe charger Apple MacBook Air",
                  "Charger MacBook Air MagSafe 45 W (MC747Z / A).",
                  "89",
                  "849.904",
                  "0",
                  "13005399",
                  "0"
                ],
                [
                  "14",
                  "MOS0013",
                  "Adapter Moshi FireWire 400 to FireWire 800",
                  "FireWire 400 adapter cable FireWire 800.",
                  "20",
                  "179.891",
                  "0",
                  "1325",
                  "0"
                ],
                [
                  "15",
                  "MOS0021",
                  "Clearguard Moshi MacBook Pro and Air",
                  "Keyboard Protector MacBook Pro 13-inch Retina 15 inches 17 inches 13 inches 15 inches and 13-inch Air.",
                  "24.95",
                  "249.889",
                  "0",
                  "13835403",
                  "2"
                ],
                [
                  "16",
                  "APP0206",
                  "60W MagSafe charger Apple MacBook and MacBook Pro 13 \"",
                  "Charger MacBook and 13 inch MacBook MagSafe 60 W (MC461Z / A).",
                  "89",
                  "849.904",
                  "1",
                  "13005399",
                  "0"
                ],
                [
                  "17",
                  "HGD0007",
                  "Henge Docks Docking Station MacBook Pro 13 \"",
                  "Dock and support with multiple connections for MacBook Pro 13-inch.",
                  "69.99",
                  "699.864",
                  "0",
                  "12995397",
                  "2"
                ],
                [
                  "18",
                  "MUV0009",
                  "Muvit Back Clear Case iPhone 4 / 4S Transparent",
                  "Case iPhone 4 / 4S polycarbonate.",
                  "9.99",
                  "7.986",
                  "0",
                  "11865403",
                  "2"
                ],
                [
                  "19",
                  "APP0234",
                  "Apple Dock Connector to VGA",
                  "Dock Connector to VGA IOS.",
                  "35",
                  "350.005",
                  "0",
                  "13955395",
                  "0"
                ],
                [
                  "20",
                  "APP0247",
                  "85W MagSafe charger Apple MacBook Pro 15 \"/ 17\"",
                  "Charger MacBook Pro MagSafe 85 W (MC556Z / A).",
                  "89",
                  "849.904",
                  "1",
                  "13005399",
                  "0"
                ],
                [
                  "21",
                  "APP0233",
                  "Apple iPad Camera Connection connector",
                  "IPad connector for digital cameras and SD cards.",
                  "35",
                  "349.896",
                  "0",
                  "13955395",
                  "0"
                ],
                [
                  "22",
                  "JMO0014",
                  "Just Mobile Upstand iPad support",
                  "Support Retina iPad and iPad mini aluminum.",
                  "49.95",
                  "399.905",
                  "0",
                  "1216",
                  "2"
                ],
                [
                  "23",
                  "MOB0007",
                  "Mobee Magic Charger Charger Magic Mouse",
                  "Wireless Charger for Magic Mouse",
                  "49.99",
                  "499.851",
                  "0",
                  "12355400",
                  "2"
                ],
                [
                  "24",
                  "APP0277",
                  "Apple Wireless Keyboard Keyboard (OEM) Mac",
                  "Ultrathin keyboard Apple Bluetooth Spanish (unboxed).",
                  "79",
                  "759.904",
                  "0",
                  "13855401",
                  "0"
                ],
                [
                  "25",
                  "MOP0011",
                  "Mophie Juice Pack Air Battery Case iPhone 4 / 4S black",
                  "Battery Case iPhone 4 / 4S rigid polymer.",
                  "69.99",
                  "56.991",
                  "0",
                  "5,49E+11",
                  "2"
                ],
                [
                  "26",
                  "APP0280",
                  "Apple HDMI to HDMI Cable 1.8m",
                  "HMDI to HDMI Cable 1.8m.",
                  "25",
                  "240.004",
                  "0",
                  "1325",
                  "0"
                ],
                [
                  "27",
                  "OND0069",
                  "Adapter mini DVI to HDMI",
                  "Adapter mini DVI to HDMI for Mac and PC",
                  "16.49",
                  "149.895",
                  "0",
                  "1325",
                  "2"
                ],
                [
                  "28",
                  "SNN0007",
                  "Sonnet Tempo SATA PCIe Mac and PC E2P",
                  "PCIe Card with 2 Serial ATA ports Mac and PC.",
                  "59.99",
                  "502.102",
                  "0",
                  "1276",
                  "2"
                ],
                [
                  "29",
                  "KIN0025",
                  "Mac memory DIMM DDR3 2GB 1333MHz Kingston",
                  "2GB RAM Mac Pro (July 2010).",
                  "29.99",
                  "179.903",
                  "0",
                  "1364",
                  "2"
                ],
                [
                  "30",
                  "OND0073",
                  "Mini DisplayPort to HDMI Cable 18m",
                  "Cable with Mini DisplayPort to HDMI (audio + video)",
                  "22.99",
                  "169.896",
                  "0",
                  "1325",
                  "2"
                ],
                [
                  "31",
                  "MOS0042",
                  "Adapter Moshi Mini Display Port to VGA",
                  "Cable Adapter Mini Display Port to VGA.",
                  "34.99",
                  "269.903",
                  "0",
                  "1325",
                  "2"
                ],
                [
                  "32",
                  "BEL0070",
                  "Music Receiver Belkin iPhone music receiver",
                  "Music Receiver iPhone iPad and iPod Touch for stereos via Bluetooth",
                  "49.99",
                  "299.899",
                  "0",
                  "11905404",
                  "2"
                ],
                [
                  "33",
                  "LMP0007",
                  "KeyPad LMP Bluetooth Keypad Mac",
                  "expansion keypad Mac with bluetooth connection.",
                  "54.99",
                  "399.905",
                  "1",
                  "13855401",
                  "2"
                ],
                [
                  "34",
                  "BEL0072",
                  "Belkin PRO Series USB 2.0 Cable 18M",
                  "USB Cable USB type A and type B 18m in length for Mac and PC",
                  "3.99",
                  "29.899",
                  "1",
                  "1325",
                  "2"
                ],
                [
                  "35",
                  "APP0308",
                  "AV Cable Adapter Apple iPhone iPad and iPod white",
                  "IPhone iPad iPod adapter and AV cable.",
                  "45",
                  "359.999",
                  "0",
                  "1230",
                  "0"
                ],
                [
                  "36",
                  "GRT0196",
                  "Griffin Survivor Extreme-Duty Case iPad 2 3 and 4 black",
                  "IPad 2 Case 3 and 4 for extreme ultra resistant.",
                  "64.99",
                  "499.899",
                  "0",
                  "12635403",
                  "2"
                ],
                [
                  "37",
                  "MUV0023",
                  "Extreme Muvit iPhone and iPod BikeMount sleeve black Touch",
                  "IPhone and iPod support sleeve waterproof App Touch and bicycle.",
                  "35.9",
                  "169.896",
                  "0",
                  "11865403",
                  "1"
                ],
                [
                  "38",
                  "JMO0026",
                  "Just Mobile Lazy Couch Support Mac and iPad",
                  "Mac and iPad small lift stand.",
                  "19.95",
                  "199.892",
                  "0",
                  "8696",
                  "2"
                ],
                [
                  "39",
                  "OWC0007",
                  "OWC Data Doubler Optical Bay adapter Macbook / Macbook Pro",
                  "Tray SuperDrive replacement hard disk or SSD.",
                  "72.99",
                  "399.905",
                  "1",
                  "12755395",
                  "2"
                ],
                [
                  "40",
                  "KEN0028",
                  "Kensington ClickSafe lock Mac and PC",
                  "Mac and PC padlock with keys.",
                  "54.99",
                  "499.899",
                  "0",
                  "1325",
                  "2"
                ],
                [
                  "41",
                  "APP0343",
                  "Apple Thunderbolt Cable 2m White",
                  "Cable Mac Apple Thunderbolt 2m.",
                  "45",
                  "429.998",
                  "1",
                  "1325",
                  "0"
                ],
                [
                  "42",
                  "MOS0044",
                  "Moshi FireWire 800 Cable",
                  "FireWire 800 Cable 18 m.",
                  "34.99",
                  "269.903",
                  "0",
                  "1325",
                  "2"
                ],
                [
                  "43",
                  "MOS0062",
                  "Moshi USB Ethernet Adapter",
                  "USB to Ethernet adapter.",
                  "29",
                  "249.865",
                  "0",
                  "1325",
                  "0"
                ],
                [
                  "44",
                  "MOB0009",
                  "Mobee Magic Numpad for the Magic Trackpad",
                  "3 Numeric for Magic Trackpad stickers.",
                  "29.49",
                  "279.873",
                  "0",
                  "12355400",
                  "2"
                ],
                [
                  "45",
                  "TWS0026",
                  "Twelve South BookBook MacBook Air sleeve 11 \"brown",
                  "Case Macbook 11 inches vintage skin with soft padding.",
                  "79.99",
                  "749.958",
                  "0",
                  "13835403",
                  "2"
                ],
                [
                  "46",
                  "MOB0010",
                  "Additional Battery Pack Mobee Magic Bar",
                  "Pack extra battery Mobee Magic Bar.",
                  "29.99",
                  "169.884",
                  "0",
                  "12355400",
                  "2"
                ],
                [
                  "47",
                  "IST0009",
                  "iStabilizer iPhone Tripod Mount",
                  "IPhone Tripod Adapter for photo and video.",
                  "19.99",
                  "199.892",
                  "0",
                  "1216",
                  "2"
                ],
                [
                  "48",
                  "TWS0027",
                  "Twelve South BookBook Case MacBook Air / Pro 13 \"brown",
                  "Funda Macbook Air / Pro 13 inch vintage leather with padded interior.",
                  "79.99",
                  "749.898",
                  "0",
                  "13835403",
                  "2"
                ],
                [
                  "49",
                  "APP0367",
                  "Apple Mini DisplayPort to DVI Adapter Mac dual channel",
                  "Adapter Mini Display Port to DVI dual channel MacBook MacBook Pro and MacBook Air.",
                  "119",
                  "1.119.976",
                  "0",
                  "1325",
                  "0"
                ]
              ],
              "shape": {
                "columns": 8,
                "rows": 10157
              }
            },
            "text/html": [
              "<div>\n",
              "<style scoped>\n",
              "    .dataframe tbody tr th:only-of-type {\n",
              "        vertical-align: middle;\n",
              "    }\n",
              "\n",
              "    .dataframe tbody tr th {\n",
              "        vertical-align: top;\n",
              "    }\n",
              "\n",
              "    .dataframe thead th {\n",
              "        text-align: right;\n",
              "    }\n",
              "</style>\n",
              "<table border=\"1\" class=\"dataframe\">\n",
              "  <thead>\n",
              "    <tr style=\"text-align: right;\">\n",
              "      <th></th>\n",
              "      <th>sku</th>\n",
              "      <th>name</th>\n",
              "      <th>desc</th>\n",
              "      <th>price</th>\n",
              "      <th>promo_price</th>\n",
              "      <th>in_stock</th>\n",
              "      <th>type</th>\n",
              "      <th>decimal_count</th>\n",
              "    </tr>\n",
              "  </thead>\n",
              "  <tbody>\n",
              "    <tr>\n",
              "      <th>0</th>\n",
              "      <td>RAI0007</td>\n",
              "      <td>Silver Rain Design mStand Support</td>\n",
              "      <td>Aluminum support compatible with all MacBook</td>\n",
              "      <td>59.99</td>\n",
              "      <td>499.899</td>\n",
              "      <td>1</td>\n",
              "      <td>8696</td>\n",
              "      <td>2</td>\n",
              "    </tr>\n",
              "    <tr>\n",
              "      <th>1</th>\n",
              "      <td>APP0023</td>\n",
              "      <td>Apple Mac Keyboard Keypad Spanish</td>\n",
              "      <td>USB ultrathin keyboard Apple Mac Spanish.</td>\n",
              "      <td>59</td>\n",
              "      <td>589.996</td>\n",
              "      <td>0</td>\n",
              "      <td>13855401</td>\n",
              "      <td>0</td>\n",
              "    </tr>\n",
              "    <tr>\n",
              "      <th>2</th>\n",
              "      <td>APP0025</td>\n",
              "      <td>Mighty Mouse Apple Mouse for Mac</td>\n",
              "      <td>mouse Apple USB cable.</td>\n",
              "      <td>59</td>\n",
              "      <td>569.898</td>\n",
              "      <td>0</td>\n",
              "      <td>1387</td>\n",
              "      <td>0</td>\n",
              "    </tr>\n",
              "    <tr>\n",
              "      <th>3</th>\n",
              "      <td>APP0072</td>\n",
              "      <td>Apple Dock to USB Cable iPhone and iPod white</td>\n",
              "      <td>IPhone dock and USB Cable Apple iPod.</td>\n",
              "      <td>25</td>\n",
              "      <td>229.997</td>\n",
              "      <td>0</td>\n",
              "      <td>1230</td>\n",
              "      <td>0</td>\n",
              "    </tr>\n",
              "    <tr>\n",
              "      <th>4</th>\n",
              "      <td>KIN0007</td>\n",
              "      <td>Mac Memory Kingston 2GB 667MHz DDR2 SO-DIMM</td>\n",
              "      <td>2GB RAM Mac mini and iMac (2006/07) MacBook Pr...</td>\n",
              "      <td>34.99</td>\n",
              "      <td>31.99</td>\n",
              "      <td>1</td>\n",
              "      <td>1364</td>\n",
              "      <td>2</td>\n",
              "    </tr>\n",
              "    <tr>\n",
              "      <th>...</th>\n",
              "      <td>...</td>\n",
              "      <td>...</td>\n",
              "      <td>...</td>\n",
              "      <td>...</td>\n",
              "      <td>...</td>\n",
              "      <td>...</td>\n",
              "      <td>...</td>\n",
              "      <td>...</td>\n",
              "    </tr>\n",
              "    <tr>\n",
              "      <th>10152</th>\n",
              "      <td>BEL0376</td>\n",
              "      <td>Belkin Travel Support Apple Watch Black</td>\n",
              "      <td>compact and portable stand vertically or horiz...</td>\n",
              "      <td>29.99</td>\n",
              "      <td>269.903</td>\n",
              "      <td>1</td>\n",
              "      <td>12282</td>\n",
              "      <td>2</td>\n",
              "    </tr>\n",
              "    <tr>\n",
              "      <th>10153</th>\n",
              "      <td>THU0060</td>\n",
              "      <td>Enroute Thule 14L Backpack MacBook 13 \"Black</td>\n",
              "      <td>Backpack with capacity of 14 liter compartment...</td>\n",
              "      <td>69.95</td>\n",
              "      <td>649.903</td>\n",
              "      <td>1</td>\n",
              "      <td>1392</td>\n",
              "      <td>2</td>\n",
              "    </tr>\n",
              "    <tr>\n",
              "      <th>10154</th>\n",
              "      <td>THU0061</td>\n",
              "      <td>Enroute Thule 14L Backpack MacBook 13 \"Blue</td>\n",
              "      <td>Backpack with capacity of 14 liter compartment...</td>\n",
              "      <td>69.95</td>\n",
              "      <td>649.903</td>\n",
              "      <td>1</td>\n",
              "      <td>1392</td>\n",
              "      <td>2</td>\n",
              "    </tr>\n",
              "    <tr>\n",
              "      <th>10155</th>\n",
              "      <td>THU0062</td>\n",
              "      <td>Enroute Thule 14L Backpack MacBook 13 \"Red</td>\n",
              "      <td>Backpack with capacity of 14 liter compartment...</td>\n",
              "      <td>69.95</td>\n",
              "      <td>649.903</td>\n",
              "      <td>0</td>\n",
              "      <td>1392</td>\n",
              "      <td>2</td>\n",
              "    </tr>\n",
              "    <tr>\n",
              "      <th>10156</th>\n",
              "      <td>THU0063</td>\n",
              "      <td>Enroute Thule 14L Backpack MacBook 13 \"Green</td>\n",
              "      <td>Backpack with capacity of 14 liter compartment...</td>\n",
              "      <td>69.95</td>\n",
              "      <td>649.903</td>\n",
              "      <td>1</td>\n",
              "      <td>1392</td>\n",
              "      <td>2</td>\n",
              "    </tr>\n",
              "  </tbody>\n",
              "</table>\n",
              "<p>10157 rows × 8 columns</p>\n",
              "</div>"
            ],
            "text/plain": [
              "           sku                                           name  \\\n",
              "0      RAI0007              Silver Rain Design mStand Support   \n",
              "1      APP0023              Apple Mac Keyboard Keypad Spanish   \n",
              "2      APP0025               Mighty Mouse Apple Mouse for Mac   \n",
              "3      APP0072  Apple Dock to USB Cable iPhone and iPod white   \n",
              "4      KIN0007    Mac Memory Kingston 2GB 667MHz DDR2 SO-DIMM   \n",
              "...        ...                                            ...   \n",
              "10152  BEL0376        Belkin Travel Support Apple Watch Black   \n",
              "10153  THU0060   Enroute Thule 14L Backpack MacBook 13 \"Black   \n",
              "10154  THU0061    Enroute Thule 14L Backpack MacBook 13 \"Blue   \n",
              "10155  THU0062     Enroute Thule 14L Backpack MacBook 13 \"Red   \n",
              "10156  THU0063   Enroute Thule 14L Backpack MacBook 13 \"Green   \n",
              "\n",
              "                                                    desc  price promo_price  \\\n",
              "0           Aluminum support compatible with all MacBook  59.99     499.899   \n",
              "1              USB ultrathin keyboard Apple Mac Spanish.     59     589.996   \n",
              "2                                 mouse Apple USB cable.     59     569.898   \n",
              "3                  IPhone dock and USB Cable Apple iPod.     25     229.997   \n",
              "4      2GB RAM Mac mini and iMac (2006/07) MacBook Pr...  34.99       31.99   \n",
              "...                                                  ...    ...         ...   \n",
              "10152  compact and portable stand vertically or horiz...  29.99     269.903   \n",
              "10153  Backpack with capacity of 14 liter compartment...  69.95     649.903   \n",
              "10154  Backpack with capacity of 14 liter compartment...  69.95     649.903   \n",
              "10155  Backpack with capacity of 14 liter compartment...  69.95     649.903   \n",
              "10156  Backpack with capacity of 14 liter compartment...  69.95     649.903   \n",
              "\n",
              "       in_stock      type  decimal_count  \n",
              "0             1      8696              2  \n",
              "1             0  13855401              0  \n",
              "2             0      1387              0  \n",
              "3             0      1230              0  \n",
              "4             1      1364              2  \n",
              "...         ...       ...            ...  \n",
              "10152         1     12282              2  \n",
              "10153         1      1392              2  \n",
              "10154         1      1392              2  \n",
              "10155         0      1392              2  \n",
              "10156         1      1392              2  \n",
              "\n",
              "[10157 rows x 8 columns]"
            ]
          },
          "execution_count": 64,
          "metadata": {},
          "output_type": "execute_result"
        }
      ],
      "source": [
        "# New column to count decimal numbers\n",
        "s = products_df['price'].str.strip()\n",
        "products_df['decimal_count'] = s.str.extract(r'\\.(\\d+)$')[0].str.len().fillna(0).astype(int)\n",
        "products_df"
      ]
    },
    {
      "cell_type": "code",
      "execution_count": 65,
      "metadata": {},
      "outputs": [
        {
          "data": {
            "application/vnd.microsoft.datawrangler.viewer.v0+json": {
              "columns": [
                {
                  "name": "decimal_count",
                  "rawType": "int64",
                  "type": "integer"
                },
                {
                  "name": "count",
                  "rawType": "int64",
                  "type": "integer"
                }
              ],
              "ref": "4d500508-578c-48e4-9457-2697c35625ea",
              "rows": [
                [
                  "2",
                  "6271"
                ],
                [
                  "0",
                  "3215"
                ],
                [
                  "1",
                  "506"
                ],
                [
                  "3",
                  "165"
                ]
              ],
              "shape": {
                "columns": 1,
                "rows": 4
              }
            },
            "text/plain": [
              "decimal_count\n",
              "2    6271\n",
              "0    3215\n",
              "1     506\n",
              "3     165\n",
              "Name: count, dtype: int64"
            ]
          },
          "execution_count": 65,
          "metadata": {},
          "output_type": "execute_result"
        }
      ],
      "source": [
        "# CHECK: Count the number of decimal places in the unit_price\n",
        "products_df['decimal_count'].value_counts()"
      ]
    },
    {
      "cell_type": "markdown",
      "metadata": {},
      "source": [
        "165 rows have more than 2 decimal places."
      ]
    },
    {
      "cell_type": "code",
      "execution_count": 66,
      "metadata": {},
      "outputs": [],
      "source": [
        "mask_3_decimal_count = products_df['decimal_count']==3"
      ]
    },
    {
      "cell_type": "code",
      "execution_count": 67,
      "metadata": {},
      "outputs": [
        {
          "data": {
            "application/vnd.microsoft.datawrangler.viewer.v0+json": {
              "columns": [
                {
                  "name": "index",
                  "rawType": "int64",
                  "type": "integer"
                },
                {
                  "name": "sku",
                  "rawType": "object",
                  "type": "string"
                },
                {
                  "name": "price",
                  "rawType": "object",
                  "type": "string"
                }
              ],
              "ref": "8909e8a2-bef9-4d24-a37b-012946391cd1",
              "rows": [
                [
                  "201",
                  "REP0043",
                  "499.004"
                ],
                [
                  "319",
                  "PIE0011",
                  "98.978"
                ],
                [
                  "354",
                  "SEN0061",
                  "649.891"
                ],
                [
                  "357",
                  "SEV0026",
                  "599.918"
                ],
                [
                  "364",
                  "SEV0024",
                  "599.918"
                ],
                [
                  "365",
                  "SEV0025",
                  "599.918"
                ],
                [
                  "367",
                  "SEV0027",
                  "199.892"
                ],
                [
                  "371",
                  "PAC0362",
                  "199.795"
                ],
                [
                  "375",
                  "SEV0028",
                  "199.892"
                ],
                [
                  "376",
                  "SEV0029",
                  "199.892"
                ],
                [
                  "377",
                  "SEV0030",
                  "199.892"
                ],
                [
                  "378",
                  "SEV0031",
                  "199.892"
                ],
                [
                  "379",
                  "SEV0032",
                  "199.892"
                ],
                [
                  "391",
                  "TRI0007",
                  "199.904"
                ],
                [
                  "409",
                  "OND0084",
                  "99.946"
                ],
                [
                  "456",
                  "SYN0058",
                  "399.905"
                ],
                [
                  "483",
                  "WDT0185",
                  "639.896"
                ],
                [
                  "507",
                  "SAN0044",
                  "8.257"
                ],
                [
                  "584",
                  "KIN0090",
                  "57.802"
                ],
                [
                  "704",
                  "KAN0016",
                  "599.894"
                ],
                [
                  "720",
                  "DLK0059",
                  "529.012"
                ],
                [
                  "739",
                  "REP0189",
                  "159.999"
                ],
                [
                  "740",
                  "REP0193",
                  "69.999"
                ],
                [
                  "748",
                  "PAC0399",
                  "197.969"
                ],
                [
                  "756",
                  "MAK0026",
                  "799.931"
                ],
                [
                  "794",
                  "STA0015",
                  "109.868"
                ],
                [
                  "985",
                  "DLK0077",
                  "25.999"
                ],
                [
                  "1227",
                  "BEA0026",
                  "349.932"
                ],
                [
                  "1245",
                  "PAC0570",
                  "979.795"
                ],
                [
                  "1282",
                  "CRU0025-2",
                  "979.785"
                ],
                [
                  "1403",
                  "PAC0607",
                  "366.934"
                ],
                [
                  "1519",
                  "WAC0142",
                  "349.932"
                ],
                [
                  "1547",
                  "NTE0058-A",
                  "109.989"
                ],
                [
                  "1575",
                  "PAC0661",
                  "292.958"
                ],
                [
                  "1578",
                  "PAC0665",
                  "370.958"
                ],
                [
                  "1597",
                  "PAC0703",
                  "292.958"
                ],
                [
                  "1644",
                  "PAC0708",
                  "370.958"
                ],
                [
                  "1883",
                  "IFX0020",
                  "9.082"
                ],
                [
                  "1915",
                  "REP0243",
                  "699.017"
                ],
                [
                  "1918",
                  "DEV0011",
                  "399.905"
                ],
                [
                  "1930",
                  "REP0250",
                  "699.017"
                ],
                [
                  "2184",
                  "SNN0041",
                  "999.944"
                ],
                [
                  "2300",
                  "SEN0066",
                  "799.931"
                ],
                [
                  "2355",
                  "KIN0123",
                  "302.803"
                ],
                [
                  "2458",
                  "WDT0284",
                  "78.794"
                ],
                [
                  "3028",
                  "ADN0023-A",
                  "199.904"
                ],
                [
                  "3031",
                  "BEL0145-A",
                  "999.944"
                ],
                [
                  "3047",
                  "PIE0003-A",
                  "149.919"
                ],
                [
                  "3162",
                  "ELG0033-2",
                  "999.896"
                ],
                [
                  "3205",
                  "SAN0102",
                  "9.091"
                ]
              ],
              "shape": {
                "columns": 2,
                "rows": 165
              }
            },
            "text/html": [
              "<div>\n",
              "<style scoped>\n",
              "    .dataframe tbody tr th:only-of-type {\n",
              "        vertical-align: middle;\n",
              "    }\n",
              "\n",
              "    .dataframe tbody tr th {\n",
              "        vertical-align: top;\n",
              "    }\n",
              "\n",
              "    .dataframe thead th {\n",
              "        text-align: right;\n",
              "    }\n",
              "</style>\n",
              "<table border=\"1\" class=\"dataframe\">\n",
              "  <thead>\n",
              "    <tr style=\"text-align: right;\">\n",
              "      <th></th>\n",
              "      <th>sku</th>\n",
              "      <th>price</th>\n",
              "    </tr>\n",
              "  </thead>\n",
              "  <tbody>\n",
              "    <tr>\n",
              "      <th>201</th>\n",
              "      <td>REP0043</td>\n",
              "      <td>499.004</td>\n",
              "    </tr>\n",
              "    <tr>\n",
              "      <th>319</th>\n",
              "      <td>PIE0011</td>\n",
              "      <td>98.978</td>\n",
              "    </tr>\n",
              "    <tr>\n",
              "      <th>354</th>\n",
              "      <td>SEN0061</td>\n",
              "      <td>649.891</td>\n",
              "    </tr>\n",
              "    <tr>\n",
              "      <th>357</th>\n",
              "      <td>SEV0026</td>\n",
              "      <td>599.918</td>\n",
              "    </tr>\n",
              "    <tr>\n",
              "      <th>364</th>\n",
              "      <td>SEV0024</td>\n",
              "      <td>599.918</td>\n",
              "    </tr>\n",
              "    <tr>\n",
              "      <th>...</th>\n",
              "      <td>...</td>\n",
              "      <td>...</td>\n",
              "    </tr>\n",
              "    <tr>\n",
              "      <th>10022</th>\n",
              "      <td>FIB0002-A</td>\n",
              "      <td>599.918</td>\n",
              "    </tr>\n",
              "    <tr>\n",
              "      <th>10040</th>\n",
              "      <td>RIN0017</td>\n",
              "      <td>350.005</td>\n",
              "    </tr>\n",
              "    <tr>\n",
              "      <th>10108</th>\n",
              "      <td>TPL0030-A</td>\n",
              "      <td>54.329</td>\n",
              "    </tr>\n",
              "    <tr>\n",
              "      <th>10141</th>\n",
              "      <td>REP0428</td>\n",
              "      <td>599.906</td>\n",
              "    </tr>\n",
              "    <tr>\n",
              "      <th>10145</th>\n",
              "      <td>REP0429</td>\n",
              "      <td>599.906</td>\n",
              "    </tr>\n",
              "  </tbody>\n",
              "</table>\n",
              "<p>165 rows × 2 columns</p>\n",
              "</div>"
            ],
            "text/plain": [
              "             sku    price\n",
              "201      REP0043  499.004\n",
              "319      PIE0011   98.978\n",
              "354      SEN0061  649.891\n",
              "357      SEV0026  599.918\n",
              "364      SEV0024  599.918\n",
              "...          ...      ...\n",
              "10022  FIB0002-A  599.918\n",
              "10040    RIN0017  350.005\n",
              "10108  TPL0030-A   54.329\n",
              "10141    REP0428  599.906\n",
              "10145    REP0429  599.906\n",
              "\n",
              "[165 rows x 2 columns]"
            ]
          },
          "execution_count": 67,
          "metadata": {},
          "output_type": "execute_result"
        }
      ],
      "source": [
        "# Extract 'sku' of weird, 3-decimal count prices \n",
        "decimal_3_count_df =products_df.loc[mask_3_decimal_count,['sku','price']]\n",
        "decimal_3_count_df"
      ]
    },
    {
      "cell_type": "code",
      "execution_count": 68,
      "metadata": {},
      "outputs": [],
      "source": [
        "mask = orderlines_df['sku'].isin(decimal_3_count_df['sku'])"
      ]
    },
    {
      "cell_type": "code",
      "execution_count": 69,
      "metadata": {},
      "outputs": [
        {
          "data": {
            "application/vnd.microsoft.datawrangler.viewer.v0+json": {
              "columns": [
                {
                  "name": "index",
                  "rawType": "int64",
                  "type": "integer"
                },
                {
                  "name": "id",
                  "rawType": "int64",
                  "type": "integer"
                },
                {
                  "name": "id_order",
                  "rawType": "int64",
                  "type": "integer"
                },
                {
                  "name": "product_id",
                  "rawType": "int64",
                  "type": "integer"
                },
                {
                  "name": "product_quantity",
                  "rawType": "int64",
                  "type": "integer"
                },
                {
                  "name": "sku",
                  "rawType": "object",
                  "type": "string"
                },
                {
                  "name": "unit_price",
                  "rawType": "float64",
                  "type": "float"
                },
                {
                  "name": "date",
                  "rawType": "datetime64[ns]",
                  "type": "datetime"
                }
              ],
              "ref": "3e4ce7f1-0e72-4766-a898-472ba0b193f3",
              "rows": [
                [
                  "38",
                  "1119186",
                  "299576",
                  "0",
                  "1",
                  "SAM0095",
                  "82.64",
                  "2017-01-01 06:51:23"
                ],
                [
                  "183",
                  "1119447",
                  "299695",
                  "0",
                  "1",
                  "PAC1400",
                  "90.99",
                  "2017-01-01 13:27:15"
                ],
                [
                  "366",
                  "1119800",
                  "299881",
                  "0",
                  "1",
                  "SAN0137",
                  "49.39",
                  "2017-01-01 19:13:45"
                ],
                [
                  "411",
                  "1119886",
                  "299925",
                  "0",
                  "1",
                  "IFX0020",
                  "7.99",
                  "2017-01-01 20:03:56"
                ],
                [
                  "567",
                  "1120198",
                  "300079",
                  "0",
                  "1",
                  "KIN0149-A",
                  "59.03",
                  "2017-01-01 22:57:29"
                ],
                [
                  "658",
                  "1120368",
                  "300166",
                  "0",
                  "1",
                  "PUR0142",
                  "12.99",
                  "2017-01-02 00:36:58"
                ],
                [
                  "757",
                  "1120561",
                  "300259",
                  "0",
                  "1",
                  "SEV0025",
                  "59.99",
                  "2017-01-02 08:22:31"
                ],
                [
                  "795",
                  "1120636",
                  "300283",
                  "0",
                  "1",
                  "PAC1400",
                  "96.99",
                  "2017-01-02 09:21:38"
                ],
                [
                  "873",
                  "1120782",
                  "300357",
                  "0",
                  "1",
                  "PAC1400",
                  "96.99",
                  "2017-01-02 10:51:26"
                ],
                [
                  "918",
                  "1120876",
                  "300393",
                  "0",
                  "1",
                  "KIN0123",
                  "23.99",
                  "2017-01-02 11:21:17"
                ],
                [
                  "1169",
                  "1121516",
                  "300631",
                  "0",
                  "1",
                  "APP1748",
                  "429.0",
                  "2017-01-02 15:11:57"
                ],
                [
                  "1215",
                  "1121585",
                  "300668",
                  "0",
                  "1",
                  "PUR0136-A",
                  "8.9",
                  "2017-01-02 15:53:43"
                ],
                [
                  "1229",
                  "1121611",
                  "300679",
                  "0",
                  "1",
                  "SEV0024",
                  "59.99",
                  "2017-01-02 16:07:50"
                ],
                [
                  "1594",
                  "1122416",
                  "301035",
                  "0",
                  "1",
                  "WDT0185",
                  "49.99",
                  "2017-01-02 21:43:05"
                ],
                [
                  "1602",
                  "1122427",
                  "301043",
                  "0",
                  "1",
                  "SAM0095",
                  "86.99",
                  "2017-01-02 21:46:01"
                ],
                [
                  "1666",
                  "1122556",
                  "301109",
                  "0",
                  "1",
                  "KIN0138",
                  "12.99",
                  "2017-01-02 22:49:44"
                ],
                [
                  "1702",
                  "1122625",
                  "301142",
                  "0",
                  "1",
                  "SEV0030",
                  "19.99",
                  "2017-01-02 23:19:35"
                ],
                [
                  "1719",
                  "1122660",
                  "301156",
                  "0",
                  "1",
                  "IHE0023",
                  "19.99",
                  "2017-01-02 23:35:23"
                ],
                [
                  "1790",
                  "1122788",
                  "301221",
                  "0",
                  "2",
                  "PUR0142",
                  "12.99",
                  "2017-01-03 00:30:20"
                ],
                [
                  "1866",
                  "1122954",
                  "301290",
                  "0",
                  "1",
                  "SEV0030",
                  "19.99",
                  "2017-01-03 07:59:29"
                ],
                [
                  "1879",
                  "1122981",
                  "301307",
                  "0",
                  "1",
                  "IFX0020",
                  "7.99",
                  "2017-01-03 08:53:27"
                ],
                [
                  "1989",
                  "1123185",
                  "301410",
                  "0",
                  "2",
                  "KIN0138",
                  "12.99",
                  "2017-01-03 11:03:44"
                ],
                [
                  "2005",
                  "1123223",
                  "301395",
                  "0",
                  "1",
                  "IHE0023",
                  "19.99",
                  "2017-01-03 11:19:00"
                ],
                [
                  "2111",
                  "1123450",
                  "301528",
                  "0",
                  "1",
                  "PAC1400",
                  "96.99",
                  "2017-01-03 12:40:06"
                ],
                [
                  "2180",
                  "1123600",
                  "301598",
                  "0",
                  "1",
                  "KIN0138",
                  "12.99",
                  "2017-01-03 13:36:20"
                ],
                [
                  "2252",
                  "1123744",
                  "301673",
                  "0",
                  "1",
                  "SEV0026",
                  "59.99",
                  "2017-01-03 14:33:43"
                ],
                [
                  "2285",
                  "1123833",
                  "301708",
                  "0",
                  "1",
                  "TPL0036",
                  "42.99",
                  "2017-01-03 15:09:06"
                ],
                [
                  "2475",
                  "1124223",
                  "301898",
                  "0",
                  "1",
                  "SEV0026",
                  "59.99",
                  "2017-01-03 18:44:46"
                ],
                [
                  "2498",
                  "1124255",
                  "301919",
                  "0",
                  "1",
                  "TPL0026",
                  "26.99",
                  "2017-01-03 19:14:46"
                ],
                [
                  "2526",
                  "1124293",
                  "301950",
                  "0",
                  "1",
                  "KIN0123",
                  "23.99",
                  "2017-01-03 19:41:37"
                ],
                [
                  "2529",
                  "1124299",
                  "301938",
                  "0",
                  "4",
                  "TPL0026",
                  "26.99",
                  "2017-01-03 19:45:54"
                ],
                [
                  "2784",
                  "1127175",
                  "302071",
                  "0",
                  "1",
                  "SAM0095",
                  "86.99",
                  "2017-01-03 22:18:08"
                ],
                [
                  "2870",
                  "1128916",
                  "302158",
                  "0",
                  "1",
                  "TPL0036",
                  "42.99",
                  "2017-01-03 23:37:16"
                ],
                [
                  "2988",
                  "1129436",
                  "302275",
                  "0",
                  "1",
                  "SAM0095",
                  "86.99",
                  "2017-01-04 08:56:02"
                ],
                [
                  "3068",
                  "1129621",
                  "302358",
                  "0",
                  "1",
                  "SEV0025",
                  "59.99",
                  "2017-01-04 11:27:57"
                ],
                [
                  "3075",
                  "1129638",
                  "302358",
                  "0",
                  "1",
                  "SAM0095",
                  "86.99",
                  "2017-01-04 11:32:19"
                ],
                [
                  "3139",
                  "1129758",
                  "302428",
                  "0",
                  "1",
                  "IFX0020",
                  "7.99",
                  "2017-01-04 12:48:39"
                ],
                [
                  "3172",
                  "1129821",
                  "302460",
                  "0",
                  "1",
                  "KIN0123",
                  "23.99",
                  "2017-01-04 13:29:56"
                ],
                [
                  "3247",
                  "1129970",
                  "302529",
                  "0",
                  "1",
                  "PAC0661",
                  "238.99",
                  "2017-01-04 14:59:52"
                ],
                [
                  "3369",
                  "1130239",
                  "302642",
                  "0",
                  "1",
                  "SEV0030",
                  "19.99",
                  "2017-01-04 18:01:23"
                ],
                [
                  "3379",
                  "1130251",
                  "302652",
                  "0",
                  "1",
                  "TPL0036",
                  "42.99",
                  "2017-01-04 18:14:31"
                ],
                [
                  "3381",
                  "1130254",
                  "302656",
                  "0",
                  "1",
                  "KIN0138",
                  "12.99",
                  "2017-01-04 18:20:49"
                ],
                [
                  "3407",
                  "1130297",
                  "302682",
                  "0",
                  "1",
                  "KIN0138",
                  "12.99",
                  "2017-01-04 18:55:23"
                ],
                [
                  "3798",
                  "1131004",
                  "303055",
                  "0",
                  "1",
                  "SEV0025",
                  "59.99",
                  "2017-01-05 11:03:03"
                ],
                [
                  "3875",
                  "1131193",
                  "301102",
                  "0",
                  "1",
                  "CRU0025-2",
                  "136.87",
                  "2017-01-05 12:48:03"
                ],
                [
                  "4152",
                  "1131829",
                  "303400",
                  "0",
                  "1",
                  "SEV0026",
                  "59.99",
                  "2017-01-05 22:59:24"
                ],
                [
                  "4153",
                  "1131833",
                  "303401",
                  "0",
                  "1",
                  "KIN0123",
                  "23.99",
                  "2017-01-05 23:06:32"
                ],
                [
                  "4166",
                  "1131855",
                  "303411",
                  "0",
                  "1",
                  "SEV0025",
                  "59.99",
                  "2017-01-05 23:44:48"
                ],
                [
                  "4176",
                  "1131877",
                  "300191",
                  "0",
                  "1",
                  "CRU0025-2",
                  "72.99",
                  "2017-01-06 00:15:28"
                ],
                [
                  "4235",
                  "1132005",
                  "300311",
                  "0",
                  "1",
                  "IFX0020",
                  "7.99",
                  "2017-01-06 08:44:30"
                ]
              ],
              "shape": {
                "columns": 7,
                "rows": 3060
              }
            },
            "text/html": [
              "<div>\n",
              "<style scoped>\n",
              "    .dataframe tbody tr th:only-of-type {\n",
              "        vertical-align: middle;\n",
              "    }\n",
              "\n",
              "    .dataframe tbody tr th {\n",
              "        vertical-align: top;\n",
              "    }\n",
              "\n",
              "    .dataframe thead th {\n",
              "        text-align: right;\n",
              "    }\n",
              "</style>\n",
              "<table border=\"1\" class=\"dataframe\">\n",
              "  <thead>\n",
              "    <tr style=\"text-align: right;\">\n",
              "      <th></th>\n",
              "      <th>id</th>\n",
              "      <th>id_order</th>\n",
              "      <th>product_id</th>\n",
              "      <th>product_quantity</th>\n",
              "      <th>sku</th>\n",
              "      <th>unit_price</th>\n",
              "      <th>date</th>\n",
              "    </tr>\n",
              "  </thead>\n",
              "  <tbody>\n",
              "    <tr>\n",
              "      <th>38</th>\n",
              "      <td>1119186</td>\n",
              "      <td>299576</td>\n",
              "      <td>0</td>\n",
              "      <td>1</td>\n",
              "      <td>SAM0095</td>\n",
              "      <td>82.64</td>\n",
              "      <td>2017-01-01 06:51:23</td>\n",
              "    </tr>\n",
              "    <tr>\n",
              "      <th>183</th>\n",
              "      <td>1119447</td>\n",
              "      <td>299695</td>\n",
              "      <td>0</td>\n",
              "      <td>1</td>\n",
              "      <td>PAC1400</td>\n",
              "      <td>90.99</td>\n",
              "      <td>2017-01-01 13:27:15</td>\n",
              "    </tr>\n",
              "    <tr>\n",
              "      <th>366</th>\n",
              "      <td>1119800</td>\n",
              "      <td>299881</td>\n",
              "      <td>0</td>\n",
              "      <td>1</td>\n",
              "      <td>SAN0137</td>\n",
              "      <td>49.39</td>\n",
              "      <td>2017-01-01 19:13:45</td>\n",
              "    </tr>\n",
              "    <tr>\n",
              "      <th>411</th>\n",
              "      <td>1119886</td>\n",
              "      <td>299925</td>\n",
              "      <td>0</td>\n",
              "      <td>1</td>\n",
              "      <td>IFX0020</td>\n",
              "      <td>7.99</td>\n",
              "      <td>2017-01-01 20:03:56</td>\n",
              "    </tr>\n",
              "    <tr>\n",
              "      <th>567</th>\n",
              "      <td>1120198</td>\n",
              "      <td>300079</td>\n",
              "      <td>0</td>\n",
              "      <td>1</td>\n",
              "      <td>KIN0149-A</td>\n",
              "      <td>59.03</td>\n",
              "      <td>2017-01-01 22:57:29</td>\n",
              "    </tr>\n",
              "    <tr>\n",
              "      <th>...</th>\n",
              "      <td>...</td>\n",
              "      <td>...</td>\n",
              "      <td>...</td>\n",
              "      <td>...</td>\n",
              "      <td>...</td>\n",
              "      <td>...</td>\n",
              "      <td>...</td>\n",
              "    </tr>\n",
              "    <tr>\n",
              "      <th>289411</th>\n",
              "      <td>1649659</td>\n",
              "      <td>527147</td>\n",
              "      <td>0</td>\n",
              "      <td>1</td>\n",
              "      <td>SEV0024</td>\n",
              "      <td>59.99</td>\n",
              "      <td>2018-03-14 12:05:02</td>\n",
              "    </tr>\n",
              "    <tr>\n",
              "      <th>289446</th>\n",
              "      <td>1649720</td>\n",
              "      <td>527170</td>\n",
              "      <td>0</td>\n",
              "      <td>1</td>\n",
              "      <td>SEV0024</td>\n",
              "      <td>59.99</td>\n",
              "      <td>2018-03-14 12:16:05</td>\n",
              "    </tr>\n",
              "    <tr>\n",
              "      <th>289462</th>\n",
              "      <td>1649748</td>\n",
              "      <td>527191</td>\n",
              "      <td>0</td>\n",
              "      <td>1</td>\n",
              "      <td>FIB0007</td>\n",
              "      <td>99.99</td>\n",
              "      <td>2018-03-14 12:19:19</td>\n",
              "    </tr>\n",
              "    <tr>\n",
              "      <th>289662</th>\n",
              "      <td>1650146</td>\n",
              "      <td>527367</td>\n",
              "      <td>0</td>\n",
              "      <td>1</td>\n",
              "      <td>REP0250</td>\n",
              "      <td>69.90</td>\n",
              "      <td>2018-03-14 13:39:34</td>\n",
              "    </tr>\n",
              "    <tr>\n",
              "      <th>289664</th>\n",
              "      <td>1650149</td>\n",
              "      <td>527367</td>\n",
              "      <td>0</td>\n",
              "      <td>1</td>\n",
              "      <td>REP0299</td>\n",
              "      <td>59.99</td>\n",
              "      <td>2018-03-14 13:40:04</td>\n",
              "    </tr>\n",
              "  </tbody>\n",
              "</table>\n",
              "<p>3060 rows × 7 columns</p>\n",
              "</div>"
            ],
            "text/plain": [
              "             id  id_order  product_id  product_quantity        sku  \\\n",
              "38      1119186    299576           0                 1    SAM0095   \n",
              "183     1119447    299695           0                 1    PAC1400   \n",
              "366     1119800    299881           0                 1    SAN0137   \n",
              "411     1119886    299925           0                 1    IFX0020   \n",
              "567     1120198    300079           0                 1  KIN0149-A   \n",
              "...         ...       ...         ...               ...        ...   \n",
              "289411  1649659    527147           0                 1    SEV0024   \n",
              "289446  1649720    527170           0                 1    SEV0024   \n",
              "289462  1649748    527191           0                 1    FIB0007   \n",
              "289662  1650146    527367           0                 1    REP0250   \n",
              "289664  1650149    527367           0                 1    REP0299   \n",
              "\n",
              "        unit_price                date  \n",
              "38           82.64 2017-01-01 06:51:23  \n",
              "183          90.99 2017-01-01 13:27:15  \n",
              "366          49.39 2017-01-01 19:13:45  \n",
              "411           7.99 2017-01-01 20:03:56  \n",
              "567          59.03 2017-01-01 22:57:29  \n",
              "...            ...                 ...  \n",
              "289411       59.99 2018-03-14 12:05:02  \n",
              "289446       59.99 2018-03-14 12:16:05  \n",
              "289462       99.99 2018-03-14 12:19:19  \n",
              "289662       69.90 2018-03-14 13:39:34  \n",
              "289664       59.99 2018-03-14 13:40:04  \n",
              "\n",
              "[3060 rows x 7 columns]"
            ]
          },
          "execution_count": 69,
          "metadata": {},
          "output_type": "execute_result"
        }
      ],
      "source": [
        "# Corresponding 'sku' in orderlines table\n",
        "orderlines_df.loc[mask,:]"
      ]
    },
    {
      "cell_type": "markdown",
      "metadata": {},
      "source": [
        "3060 orders are affected by prices with 3 decimal numbers (products_df). We will drop these orders to avoid erroneous prices in our analysis. We will also save the dropped id_orders to a new dataframe for reference."
      ]
    },
    {
      "cell_type": "code",
      "execution_count": 70,
      "metadata": {},
      "outputs": [
        {
          "data": {
            "application/vnd.microsoft.datawrangler.viewer.v0+json": {
              "columns": [
                {
                  "name": "index",
                  "rawType": "int64",
                  "type": "integer"
                },
                {
                  "name": "id_order",
                  "rawType": "int64",
                  "type": "integer"
                },
                {
                  "name": "reason",
                  "rawType": "object",
                  "type": "string"
                }
              ],
              "ref": "96d3ac55-b49d-4f19-a883-db24ad777985",
              "rows": [
                [
                  "0",
                  "299576",
                  "Corrupted decimal places in column 'price' in products_df dataset"
                ],
                [
                  "1",
                  "299695",
                  "Corrupted decimal places in column 'price' in products_df dataset"
                ],
                [
                  "2",
                  "299881",
                  "Corrupted decimal places in column 'price' in products_df dataset"
                ],
                [
                  "3",
                  "299925",
                  "Corrupted decimal places in column 'price' in products_df dataset"
                ],
                [
                  "4",
                  "300079",
                  "Corrupted decimal places in column 'price' in products_df dataset"
                ],
                [
                  "5",
                  "300166",
                  "Corrupted decimal places in column 'price' in products_df dataset"
                ],
                [
                  "6",
                  "300259",
                  "Corrupted decimal places in column 'price' in products_df dataset"
                ],
                [
                  "7",
                  "300283",
                  "Corrupted decimal places in column 'price' in products_df dataset"
                ],
                [
                  "8",
                  "300357",
                  "Corrupted decimal places in column 'price' in products_df dataset"
                ],
                [
                  "9",
                  "300393",
                  "Corrupted decimal places in column 'price' in products_df dataset"
                ],
                [
                  "10",
                  "300631",
                  "Corrupted decimal places in column 'price' in products_df dataset"
                ],
                [
                  "11",
                  "300668",
                  "Corrupted decimal places in column 'price' in products_df dataset"
                ],
                [
                  "12",
                  "300679",
                  "Corrupted decimal places in column 'price' in products_df dataset"
                ],
                [
                  "13",
                  "301035",
                  "Corrupted decimal places in column 'price' in products_df dataset"
                ],
                [
                  "14",
                  "301043",
                  "Corrupted decimal places in column 'price' in products_df dataset"
                ],
                [
                  "15",
                  "301109",
                  "Corrupted decimal places in column 'price' in products_df dataset"
                ],
                [
                  "16",
                  "301142",
                  "Corrupted decimal places in column 'price' in products_df dataset"
                ],
                [
                  "17",
                  "301156",
                  "Corrupted decimal places in column 'price' in products_df dataset"
                ],
                [
                  "18",
                  "301221",
                  "Corrupted decimal places in column 'price' in products_df dataset"
                ],
                [
                  "19",
                  "301290",
                  "Corrupted decimal places in column 'price' in products_df dataset"
                ],
                [
                  "20",
                  "301307",
                  "Corrupted decimal places in column 'price' in products_df dataset"
                ],
                [
                  "21",
                  "301410",
                  "Corrupted decimal places in column 'price' in products_df dataset"
                ],
                [
                  "22",
                  "301395",
                  "Corrupted decimal places in column 'price' in products_df dataset"
                ],
                [
                  "23",
                  "301528",
                  "Corrupted decimal places in column 'price' in products_df dataset"
                ],
                [
                  "24",
                  "301598",
                  "Corrupted decimal places in column 'price' in products_df dataset"
                ],
                [
                  "25",
                  "301673",
                  "Corrupted decimal places in column 'price' in products_df dataset"
                ],
                [
                  "26",
                  "301708",
                  "Corrupted decimal places in column 'price' in products_df dataset"
                ],
                [
                  "27",
                  "301898",
                  "Corrupted decimal places in column 'price' in products_df dataset"
                ],
                [
                  "28",
                  "301919",
                  "Corrupted decimal places in column 'price' in products_df dataset"
                ],
                [
                  "29",
                  "301950",
                  "Corrupted decimal places in column 'price' in products_df dataset"
                ],
                [
                  "30",
                  "301938",
                  "Corrupted decimal places in column 'price' in products_df dataset"
                ],
                [
                  "31",
                  "302071",
                  "Corrupted decimal places in column 'price' in products_df dataset"
                ],
                [
                  "32",
                  "302158",
                  "Corrupted decimal places in column 'price' in products_df dataset"
                ],
                [
                  "33",
                  "302275",
                  "Corrupted decimal places in column 'price' in products_df dataset"
                ],
                [
                  "34",
                  "302358",
                  "Corrupted decimal places in column 'price' in products_df dataset"
                ],
                [
                  "35",
                  "302358",
                  "Corrupted decimal places in column 'price' in products_df dataset"
                ],
                [
                  "36",
                  "302428",
                  "Corrupted decimal places in column 'price' in products_df dataset"
                ],
                [
                  "37",
                  "302460",
                  "Corrupted decimal places in column 'price' in products_df dataset"
                ],
                [
                  "38",
                  "302529",
                  "Corrupted decimal places in column 'price' in products_df dataset"
                ],
                [
                  "39",
                  "302642",
                  "Corrupted decimal places in column 'price' in products_df dataset"
                ],
                [
                  "40",
                  "302652",
                  "Corrupted decimal places in column 'price' in products_df dataset"
                ],
                [
                  "41",
                  "302656",
                  "Corrupted decimal places in column 'price' in products_df dataset"
                ],
                [
                  "42",
                  "302682",
                  "Corrupted decimal places in column 'price' in products_df dataset"
                ],
                [
                  "43",
                  "303055",
                  "Corrupted decimal places in column 'price' in products_df dataset"
                ],
                [
                  "44",
                  "301102",
                  "Corrupted decimal places in column 'price' in products_df dataset"
                ],
                [
                  "45",
                  "303400",
                  "Corrupted decimal places in column 'price' in products_df dataset"
                ],
                [
                  "46",
                  "303401",
                  "Corrupted decimal places in column 'price' in products_df dataset"
                ],
                [
                  "47",
                  "303411",
                  "Corrupted decimal places in column 'price' in products_df dataset"
                ],
                [
                  "48",
                  "300191",
                  "Corrupted decimal places in column 'price' in products_df dataset"
                ],
                [
                  "49",
                  "300311",
                  "Corrupted decimal places in column 'price' in products_df dataset"
                ]
              ],
              "shape": {
                "columns": 2,
                "rows": 3060
              }
            },
            "text/html": [
              "<div>\n",
              "<style scoped>\n",
              "    .dataframe tbody tr th:only-of-type {\n",
              "        vertical-align: middle;\n",
              "    }\n",
              "\n",
              "    .dataframe tbody tr th {\n",
              "        vertical-align: top;\n",
              "    }\n",
              "\n",
              "    .dataframe thead th {\n",
              "        text-align: right;\n",
              "    }\n",
              "</style>\n",
              "<table border=\"1\" class=\"dataframe\">\n",
              "  <thead>\n",
              "    <tr style=\"text-align: right;\">\n",
              "      <th></th>\n",
              "      <th>id_order</th>\n",
              "      <th>reason</th>\n",
              "    </tr>\n",
              "  </thead>\n",
              "  <tbody>\n",
              "    <tr>\n",
              "      <th>0</th>\n",
              "      <td>299576</td>\n",
              "      <td>Corrupted decimal places in column 'price' in ...</td>\n",
              "    </tr>\n",
              "    <tr>\n",
              "      <th>1</th>\n",
              "      <td>299695</td>\n",
              "      <td>Corrupted decimal places in column 'price' in ...</td>\n",
              "    </tr>\n",
              "    <tr>\n",
              "      <th>2</th>\n",
              "      <td>299881</td>\n",
              "      <td>Corrupted decimal places in column 'price' in ...</td>\n",
              "    </tr>\n",
              "    <tr>\n",
              "      <th>3</th>\n",
              "      <td>299925</td>\n",
              "      <td>Corrupted decimal places in column 'price' in ...</td>\n",
              "    </tr>\n",
              "    <tr>\n",
              "      <th>4</th>\n",
              "      <td>300079</td>\n",
              "      <td>Corrupted decimal places in column 'price' in ...</td>\n",
              "    </tr>\n",
              "    <tr>\n",
              "      <th>...</th>\n",
              "      <td>...</td>\n",
              "      <td>...</td>\n",
              "    </tr>\n",
              "    <tr>\n",
              "      <th>3055</th>\n",
              "      <td>527147</td>\n",
              "      <td>Corrupted decimal places in column 'price' in ...</td>\n",
              "    </tr>\n",
              "    <tr>\n",
              "      <th>3056</th>\n",
              "      <td>527170</td>\n",
              "      <td>Corrupted decimal places in column 'price' in ...</td>\n",
              "    </tr>\n",
              "    <tr>\n",
              "      <th>3057</th>\n",
              "      <td>527191</td>\n",
              "      <td>Corrupted decimal places in column 'price' in ...</td>\n",
              "    </tr>\n",
              "    <tr>\n",
              "      <th>3058</th>\n",
              "      <td>527367</td>\n",
              "      <td>Corrupted decimal places in column 'price' in ...</td>\n",
              "    </tr>\n",
              "    <tr>\n",
              "      <th>3059</th>\n",
              "      <td>527367</td>\n",
              "      <td>Corrupted decimal places in column 'price' in ...</td>\n",
              "    </tr>\n",
              "  </tbody>\n",
              "</table>\n",
              "<p>3060 rows × 2 columns</p>\n",
              "</div>"
            ],
            "text/plain": [
              "      id_order                                             reason\n",
              "0       299576  Corrupted decimal places in column 'price' in ...\n",
              "1       299695  Corrupted decimal places in column 'price' in ...\n",
              "2       299881  Corrupted decimal places in column 'price' in ...\n",
              "3       299925  Corrupted decimal places in column 'price' in ...\n",
              "4       300079  Corrupted decimal places in column 'price' in ...\n",
              "...        ...                                                ...\n",
              "3055    527147  Corrupted decimal places in column 'price' in ...\n",
              "3056    527170  Corrupted decimal places in column 'price' in ...\n",
              "3057    527191  Corrupted decimal places in column 'price' in ...\n",
              "3058    527367  Corrupted decimal places in column 'price' in ...\n",
              "3059    527367  Corrupted decimal places in column 'price' in ...\n",
              "\n",
              "[3060 rows x 2 columns]"
            ]
          },
          "execution_count": 70,
          "metadata": {},
          "output_type": "execute_result"
        }
      ],
      "source": [
        "# Before dropping the rows, we will save the dropped id_orders to a new dataframe\n",
        "dropped_ids_3_decimal_sku_prices_df = pd.DataFrame(orderlines_df.loc[mask, 'id_order']).copy().reset_index(drop=True)\n",
        "dropped_ids_3_decimal_sku_prices_df['reason'] = \"Corrupted decimal places in column 'price' in products_df dataset\" \n",
        "dropped_ids_3_decimal_sku_prices_df"
      ]
    },
    {
      "cell_type": "code",
      "execution_count": 71,
      "metadata": {},
      "outputs": [
        {
          "data": {
            "application/vnd.microsoft.datawrangler.viewer.v0+json": {
              "columns": [
                {
                  "name": "index",
                  "rawType": "int64",
                  "type": "integer"
                },
                {
                  "name": "id",
                  "rawType": "int64",
                  "type": "integer"
                },
                {
                  "name": "id_order",
                  "rawType": "int64",
                  "type": "integer"
                },
                {
                  "name": "product_id",
                  "rawType": "int64",
                  "type": "integer"
                },
                {
                  "name": "product_quantity",
                  "rawType": "int64",
                  "type": "integer"
                },
                {
                  "name": "sku",
                  "rawType": "object",
                  "type": "string"
                },
                {
                  "name": "unit_price",
                  "rawType": "float64",
                  "type": "float"
                },
                {
                  "name": "date",
                  "rawType": "datetime64[ns]",
                  "type": "datetime"
                }
              ],
              "ref": "aa239669-d40c-444f-99b5-058c560d6671",
              "rows": [
                [
                  "0",
                  "1119109",
                  "299539",
                  "0",
                  "1",
                  "OTT0133",
                  "18.99",
                  "2017-01-01 00:07:19"
                ],
                [
                  "1",
                  "1119110",
                  "299540",
                  "0",
                  "1",
                  "LGE0043",
                  "399.0",
                  "2017-01-01 00:19:45"
                ],
                [
                  "2",
                  "1119111",
                  "299541",
                  "0",
                  "1",
                  "PAR0071",
                  "474.05",
                  "2017-01-01 00:20:57"
                ],
                [
                  "3",
                  "1119112",
                  "299542",
                  "0",
                  "1",
                  "WDT0315",
                  "68.39",
                  "2017-01-01 00:51:40"
                ],
                [
                  "4",
                  "1119113",
                  "299543",
                  "0",
                  "1",
                  "JBL0104",
                  "23.74",
                  "2017-01-01 01:06:38"
                ],
                [
                  "5",
                  "1119114",
                  "295310",
                  "0",
                  "10",
                  "WDT0249",
                  "231.79",
                  "2017-01-01 01:14:27"
                ],
                [
                  "6",
                  "1119115",
                  "299544",
                  "0",
                  "1",
                  "APP1582",
                  "1137.99",
                  "2017-01-01 01:17:21"
                ],
                [
                  "7",
                  "1119116",
                  "299545",
                  "0",
                  "1",
                  "OWC0100",
                  "47.49",
                  "2017-01-01 01:46:16"
                ],
                [
                  "8",
                  "1119119",
                  "299546",
                  "0",
                  "1",
                  "IOT0014",
                  "18.99",
                  "2017-01-01 01:50:34"
                ],
                [
                  "9",
                  "1119120",
                  "295347",
                  "0",
                  "1",
                  "APP0700",
                  "72.19",
                  "2017-01-01 01:54:11"
                ],
                [
                  "10",
                  "1119125",
                  "299548",
                  "0",
                  "5",
                  "SPE0132",
                  "35.14",
                  "2017-01-01 02:02:20"
                ],
                [
                  "11",
                  "1119126",
                  "299549",
                  "0",
                  "1",
                  "PAC0929",
                  "2565.99",
                  "2017-01-01 02:07:42"
                ],
                [
                  "12",
                  "1119127",
                  "299550",
                  "0",
                  "1",
                  "WDT0309",
                  "149.14",
                  "2017-01-01 02:09:52"
                ],
                [
                  "13",
                  "1119129",
                  "299552",
                  "0",
                  "1",
                  "MBI0010",
                  "16.99",
                  "2017-01-01 02:13:51"
                ],
                [
                  "14",
                  "1119130",
                  "299552",
                  "0",
                  "1",
                  "SAT0044",
                  "19.99",
                  "2017-01-01 02:14:36"
                ],
                [
                  "15",
                  "1119131",
                  "299553",
                  "0",
                  "1",
                  "APP1854",
                  "3278.99",
                  "2017-01-01 02:14:47"
                ],
                [
                  "16",
                  "1119132",
                  "299554",
                  "0",
                  "1",
                  "WAC0171",
                  "59.84",
                  "2017-01-01 02:15:46"
                ],
                [
                  "17",
                  "1119133",
                  "299555",
                  "0",
                  "1",
                  "BEA0065",
                  "256.49",
                  "2017-01-01 02:18:45"
                ],
                [
                  "18",
                  "1119134",
                  "299556",
                  "0",
                  "1",
                  "CRU0039-A",
                  "60.9",
                  "2017-01-01 02:20:14"
                ],
                [
                  "19",
                  "1119135",
                  "299557",
                  "0",
                  "1",
                  "NTE0082",
                  "37.99",
                  "2017-01-01 02:22:36"
                ],
                [
                  "20",
                  "1119136",
                  "299558",
                  "0",
                  "2",
                  "WDT0141",
                  "112.99",
                  "2017-01-01 02:24:33"
                ],
                [
                  "21",
                  "1119140",
                  "299559",
                  "0",
                  "1",
                  "APP0700",
                  "72.19",
                  "2017-01-01 02:32:22"
                ],
                [
                  "22",
                  "1119143",
                  "299559",
                  "0",
                  "1",
                  "APP1214",
                  "84.99",
                  "2017-01-01 02:36:43"
                ],
                [
                  "23",
                  "1119144",
                  "299560",
                  "0",
                  "1",
                  "OWC0120",
                  "52.24",
                  "2017-01-01 02:37:58"
                ],
                [
                  "24",
                  "1119145",
                  "299561",
                  "0",
                  "1",
                  "PEB0015",
                  "142.49",
                  "2017-01-01 02:38:50"
                ],
                [
                  "25",
                  "1119153",
                  "299562",
                  "0",
                  "1",
                  "APP1045",
                  "9.0",
                  "2017-01-01 02:39:53"
                ],
                [
                  "26",
                  "1119154",
                  "299563",
                  "0",
                  "1",
                  "BEA0065",
                  "256.49",
                  "2017-01-01 02:42:05"
                ],
                [
                  "27",
                  "1119155",
                  "299564",
                  "0",
                  "1",
                  "SAT0010",
                  "18.99",
                  "2017-01-01 02:43:37"
                ],
                [
                  "28",
                  "1119160",
                  "299565",
                  "0",
                  "1",
                  "CRU0052",
                  "179.54",
                  "2017-01-01 02:49:38"
                ],
                [
                  "29",
                  "1119161",
                  "299566",
                  "0",
                  "1",
                  "PAC0701",
                  "219.44",
                  "2017-01-01 03:00:05"
                ],
                [
                  "30",
                  "1119162",
                  "299567",
                  "0",
                  "1",
                  "APP1647",
                  "769.0",
                  "2017-01-01 03:16:51"
                ],
                [
                  "31",
                  "1119163",
                  "299568",
                  "0",
                  "1",
                  "PAR0071",
                  "474.05",
                  "2017-01-01 03:29:20"
                ],
                [
                  "32",
                  "1119180",
                  "299570",
                  "0",
                  "1",
                  "SPE0163",
                  "35.14",
                  "2017-01-01 03:51:38"
                ],
                [
                  "33",
                  "1119181",
                  "299571",
                  "0",
                  "1",
                  "SYN0139",
                  "166.24",
                  "2017-01-01 04:00:44"
                ],
                [
                  "34",
                  "1119182",
                  "299572",
                  "0",
                  "1",
                  "IFX0040",
                  "237.49",
                  "2017-01-01 04:07:28"
                ],
                [
                  "35",
                  "1119183",
                  "299573",
                  "0",
                  "1",
                  "MOP0072",
                  "56.99",
                  "2017-01-01 04:36:46"
                ],
                [
                  "36",
                  "1119184",
                  "299574",
                  "0",
                  "1",
                  "SAT0036",
                  "37.99",
                  "2017-01-01 05:33:29"
                ],
                [
                  "37",
                  "1119185",
                  "299575",
                  "0",
                  "1",
                  "APP1211",
                  "219.0",
                  "2017-01-01 05:37:04"
                ],
                [
                  "38",
                  "1119187",
                  "299577",
                  "0",
                  "1",
                  "GRT0430-A",
                  "10.69",
                  "2017-01-01 07:35:36"
                ],
                [
                  "39",
                  "1119188",
                  "299578",
                  "0",
                  "1",
                  "LOG0191",
                  "142.49",
                  "2017-01-01 08:21:26"
                ],
                [
                  "40",
                  "1119189",
                  "299579",
                  "0",
                  "1",
                  "LGE0031-A",
                  "127.08",
                  "2017-01-01 08:23:14"
                ],
                [
                  "41",
                  "1119190",
                  "299580",
                  "0",
                  "1",
                  "LGE0031-A",
                  "127.08",
                  "2017-01-01 08:27:32"
                ],
                [
                  "42",
                  "1119195",
                  "299582",
                  "0",
                  "1",
                  "PAC0961",
                  "2616.99",
                  "2017-01-01 08:54:00"
                ],
                [
                  "43",
                  "1119196",
                  "299583",
                  "0",
                  "1",
                  "APP1648",
                  "879.0",
                  "2017-01-01 08:54:20"
                ],
                [
                  "44",
                  "1119198",
                  "299583",
                  "0",
                  "1",
                  "BEL0275",
                  "16.99",
                  "2017-01-01 08:58:33"
                ],
                [
                  "45",
                  "1119199",
                  "299583",
                  "0",
                  "1",
                  "BEL0286",
                  "17.99",
                  "2017-01-01 09:00:26"
                ],
                [
                  "46",
                  "1119200",
                  "299584",
                  "0",
                  "1",
                  "WDT0309",
                  "149.14",
                  "2017-01-01 09:01:40"
                ],
                [
                  "47",
                  "1119201",
                  "299585",
                  "0",
                  "1",
                  "CRU0053",
                  "284.05",
                  "2017-01-01 09:15:32"
                ],
                [
                  "48",
                  "1119202",
                  "299586",
                  "0",
                  "1",
                  "GRT0456",
                  "42.99",
                  "2017-01-01 09:18:52"
                ],
                [
                  "49",
                  "1119204",
                  "299587",
                  "0",
                  "1",
                  "LGE0046",
                  "309.99",
                  "2017-01-01 09:21:08"
                ]
              ],
              "shape": {
                "columns": 7,
                "rows": 286643
              }
            },
            "text/html": [
              "<div>\n",
              "<style scoped>\n",
              "    .dataframe tbody tr th:only-of-type {\n",
              "        vertical-align: middle;\n",
              "    }\n",
              "\n",
              "    .dataframe tbody tr th {\n",
              "        vertical-align: top;\n",
              "    }\n",
              "\n",
              "    .dataframe thead th {\n",
              "        text-align: right;\n",
              "    }\n",
              "</style>\n",
              "<table border=\"1\" class=\"dataframe\">\n",
              "  <thead>\n",
              "    <tr style=\"text-align: right;\">\n",
              "      <th></th>\n",
              "      <th>id</th>\n",
              "      <th>id_order</th>\n",
              "      <th>product_id</th>\n",
              "      <th>product_quantity</th>\n",
              "      <th>sku</th>\n",
              "      <th>unit_price</th>\n",
              "      <th>date</th>\n",
              "    </tr>\n",
              "  </thead>\n",
              "  <tbody>\n",
              "    <tr>\n",
              "      <th>0</th>\n",
              "      <td>1119109</td>\n",
              "      <td>299539</td>\n",
              "      <td>0</td>\n",
              "      <td>1</td>\n",
              "      <td>OTT0133</td>\n",
              "      <td>18.99</td>\n",
              "      <td>2017-01-01 00:07:19</td>\n",
              "    </tr>\n",
              "    <tr>\n",
              "      <th>1</th>\n",
              "      <td>1119110</td>\n",
              "      <td>299540</td>\n",
              "      <td>0</td>\n",
              "      <td>1</td>\n",
              "      <td>LGE0043</td>\n",
              "      <td>399.00</td>\n",
              "      <td>2017-01-01 00:19:45</td>\n",
              "    </tr>\n",
              "    <tr>\n",
              "      <th>2</th>\n",
              "      <td>1119111</td>\n",
              "      <td>299541</td>\n",
              "      <td>0</td>\n",
              "      <td>1</td>\n",
              "      <td>PAR0071</td>\n",
              "      <td>474.05</td>\n",
              "      <td>2017-01-01 00:20:57</td>\n",
              "    </tr>\n",
              "    <tr>\n",
              "      <th>3</th>\n",
              "      <td>1119112</td>\n",
              "      <td>299542</td>\n",
              "      <td>0</td>\n",
              "      <td>1</td>\n",
              "      <td>WDT0315</td>\n",
              "      <td>68.39</td>\n",
              "      <td>2017-01-01 00:51:40</td>\n",
              "    </tr>\n",
              "    <tr>\n",
              "      <th>4</th>\n",
              "      <td>1119113</td>\n",
              "      <td>299543</td>\n",
              "      <td>0</td>\n",
              "      <td>1</td>\n",
              "      <td>JBL0104</td>\n",
              "      <td>23.74</td>\n",
              "      <td>2017-01-01 01:06:38</td>\n",
              "    </tr>\n",
              "    <tr>\n",
              "      <th>...</th>\n",
              "      <td>...</td>\n",
              "      <td>...</td>\n",
              "      <td>...</td>\n",
              "      <td>...</td>\n",
              "      <td>...</td>\n",
              "      <td>...</td>\n",
              "      <td>...</td>\n",
              "    </tr>\n",
              "    <tr>\n",
              "      <th>286638</th>\n",
              "      <td>1650199</td>\n",
              "      <td>527398</td>\n",
              "      <td>0</td>\n",
              "      <td>1</td>\n",
              "      <td>JBL0122</td>\n",
              "      <td>42.99</td>\n",
              "      <td>2018-03-14 13:57:25</td>\n",
              "    </tr>\n",
              "    <tr>\n",
              "      <th>286639</th>\n",
              "      <td>1650200</td>\n",
              "      <td>527399</td>\n",
              "      <td>0</td>\n",
              "      <td>1</td>\n",
              "      <td>PAC0653</td>\n",
              "      <td>141.58</td>\n",
              "      <td>2018-03-14 13:57:34</td>\n",
              "    </tr>\n",
              "    <tr>\n",
              "      <th>286640</th>\n",
              "      <td>1650201</td>\n",
              "      <td>527400</td>\n",
              "      <td>0</td>\n",
              "      <td>2</td>\n",
              "      <td>APP0698</td>\n",
              "      <td>9.99</td>\n",
              "      <td>2018-03-14 13:57:41</td>\n",
              "    </tr>\n",
              "    <tr>\n",
              "      <th>286641</th>\n",
              "      <td>1650202</td>\n",
              "      <td>527388</td>\n",
              "      <td>0</td>\n",
              "      <td>1</td>\n",
              "      <td>BEZ0204</td>\n",
              "      <td>19.99</td>\n",
              "      <td>2018-03-14 13:58:01</td>\n",
              "    </tr>\n",
              "    <tr>\n",
              "      <th>286642</th>\n",
              "      <td>1650203</td>\n",
              "      <td>527401</td>\n",
              "      <td>0</td>\n",
              "      <td>1</td>\n",
              "      <td>APP0927</td>\n",
              "      <td>13.99</td>\n",
              "      <td>2018-03-14 13:58:36</td>\n",
              "    </tr>\n",
              "  </tbody>\n",
              "</table>\n",
              "<p>286643 rows × 7 columns</p>\n",
              "</div>"
            ],
            "text/plain": [
              "             id  id_order  product_id  product_quantity      sku  unit_price  \\\n",
              "0       1119109    299539           0                 1  OTT0133       18.99   \n",
              "1       1119110    299540           0                 1  LGE0043      399.00   \n",
              "2       1119111    299541           0                 1  PAR0071      474.05   \n",
              "3       1119112    299542           0                 1  WDT0315       68.39   \n",
              "4       1119113    299543           0                 1  JBL0104       23.74   \n",
              "...         ...       ...         ...               ...      ...         ...   \n",
              "286638  1650199    527398           0                 1  JBL0122       42.99   \n",
              "286639  1650200    527399           0                 1  PAC0653      141.58   \n",
              "286640  1650201    527400           0                 2  APP0698        9.99   \n",
              "286641  1650202    527388           0                 1  BEZ0204       19.99   \n",
              "286642  1650203    527401           0                 1  APP0927       13.99   \n",
              "\n",
              "                      date  \n",
              "0      2017-01-01 00:07:19  \n",
              "1      2017-01-01 00:19:45  \n",
              "2      2017-01-01 00:20:57  \n",
              "3      2017-01-01 00:51:40  \n",
              "4      2017-01-01 01:06:38  \n",
              "...                    ...  \n",
              "286638 2018-03-14 13:57:25  \n",
              "286639 2018-03-14 13:57:34  \n",
              "286640 2018-03-14 13:57:41  \n",
              "286641 2018-03-14 13:58:01  \n",
              "286642 2018-03-14 13:58:36  \n",
              "\n",
              "[286643 rows x 7 columns]"
            ]
          },
          "execution_count": 71,
          "metadata": {},
          "output_type": "execute_result"
        }
      ],
      "source": [
        "# Drop the rows from the orderlines_df\n",
        "orderlines_df = orderlines_df[~mask].reset_index(drop=True)\n",
        "orderlines_df"
      ]
    },
    {
      "cell_type": "code",
      "execution_count": 72,
      "metadata": {},
      "outputs": [
        {
          "data": {
            "application/vnd.microsoft.datawrangler.viewer.v0+json": {
              "columns": [
                {
                  "name": "index",
                  "rawType": "int64",
                  "type": "integer"
                },
                {
                  "name": "sku",
                  "rawType": "object",
                  "type": "string"
                },
                {
                  "name": "name",
                  "rawType": "object",
                  "type": "string"
                },
                {
                  "name": "desc",
                  "rawType": "object",
                  "type": "unknown"
                },
                {
                  "name": "price",
                  "rawType": "object",
                  "type": "string"
                },
                {
                  "name": "promo_price",
                  "rawType": "object",
                  "type": "string"
                },
                {
                  "name": "in_stock",
                  "rawType": "int64",
                  "type": "integer"
                },
                {
                  "name": "type",
                  "rawType": "object",
                  "type": "unknown"
                },
                {
                  "name": "decimal_count",
                  "rawType": "int64",
                  "type": "integer"
                }
              ],
              "ref": "a646536e-f751-4f27-a0e9-39e398abf3c5",
              "rows": [
                [
                  "0",
                  "RAI0007",
                  "Silver Rain Design mStand Support",
                  "Aluminum support compatible with all MacBook",
                  "59.99",
                  "499.899",
                  "1",
                  "8696",
                  "2"
                ],
                [
                  "1",
                  "APP0023",
                  "Apple Mac Keyboard Keypad Spanish",
                  "USB ultrathin keyboard Apple Mac Spanish.",
                  "59",
                  "589.996",
                  "0",
                  "13855401",
                  "0"
                ],
                [
                  "2",
                  "APP0025",
                  "Mighty Mouse Apple Mouse for Mac",
                  "mouse Apple USB cable.",
                  "59",
                  "569.898",
                  "0",
                  "1387",
                  "0"
                ],
                [
                  "3",
                  "APP0072",
                  "Apple Dock to USB Cable iPhone and iPod white",
                  "IPhone dock and USB Cable Apple iPod.",
                  "25",
                  "229.997",
                  "0",
                  "1230",
                  "0"
                ],
                [
                  "4",
                  "KIN0007",
                  "Mac Memory Kingston 2GB 667MHz DDR2 SO-DIMM",
                  "2GB RAM Mac mini and iMac (2006/07) MacBook Pro (2006/07/08).",
                  "34.99",
                  "31.99",
                  "1",
                  "1364",
                  "2"
                ],
                [
                  "5",
                  "APP0073",
                  "Apple Composite AV Cable iPhone and iPod white",
                  "IPhone and iPod AV Cable Dock to Composite Video.",
                  "45",
                  "420.003",
                  "0",
                  "1230",
                  "0"
                ],
                [
                  "6",
                  "KIN0008",
                  "Mac Memory Kingston 1GB 667MHz DDR2 SO-DIMM",
                  "1GB RAM Mac mini and iMac (2006/07) MacBook Pro (2006/07/08).",
                  "18.99",
                  "146.471",
                  "0",
                  "1364",
                  "2"
                ],
                [
                  "7",
                  "KIN0009",
                  "Mac Memory Kingston 2GB 800MHz DDR2 SO-DIMM",
                  "2GB RAM iMac with Intel Core 2 Duo (Penryn).",
                  "36.99",
                  "274.694",
                  "0",
                  "1364",
                  "2"
                ],
                [
                  "8",
                  "KIN0001-2",
                  "Mac memory Kingston 4GB (2x2GB) 667MHz DDR2 SO-DIMM",
                  "RAM 4GB (2x2GB) Mac mini and iMac (2006/07) MacBook Pro (2006/07/08).",
                  "74",
                  "669.904",
                  "0",
                  "1364",
                  "0"
                ],
                [
                  "9",
                  "APP0100",
                  "Apple Adapter Mini Display Port to VGA",
                  "Adapter Mini Display Port to VGA MacBook and MacBook Pro (unibody).",
                  "35",
                  "330.003",
                  "0",
                  "1325",
                  "0"
                ],
                [
                  "10",
                  "APP0101",
                  "Apple Mini DisplayPort to DVI Adapter",
                  "Adapter mini DisplayPort to DVI MacBook and MacBook Pro (unibody).",
                  "35",
                  "330.003",
                  "0",
                  "1325",
                  "0"
                ],
                [
                  "11",
                  "SEN0021",
                  "Sennheiser CX 300-II Precision headphones iPhone iPad and iPod black",
                  "Headphones iPhone iPad iPad 2 iPad 3 and iPod.",
                  "49.99",
                  "449.878",
                  "0",
                  "5384",
                  "2"
                ],
                [
                  "12",
                  "APP0111",
                  "Apple USB Ethernet Adapter Mac",
                  "USB to Ethernet adapter Mac.",
                  "35",
                  "330.003",
                  "0",
                  "1334",
                  "0"
                ],
                [
                  "13",
                  "APP0156",
                  "45W MagSafe charger Apple MacBook Air",
                  "Charger MacBook Air MagSafe 45 W (MC747Z / A).",
                  "89",
                  "849.904",
                  "0",
                  "13005399",
                  "0"
                ],
                [
                  "14",
                  "MOS0013",
                  "Adapter Moshi FireWire 400 to FireWire 800",
                  "FireWire 400 adapter cable FireWire 800.",
                  "20",
                  "179.891",
                  "0",
                  "1325",
                  "0"
                ],
                [
                  "15",
                  "MOS0021",
                  "Clearguard Moshi MacBook Pro and Air",
                  "Keyboard Protector MacBook Pro 13-inch Retina 15 inches 17 inches 13 inches 15 inches and 13-inch Air.",
                  "24.95",
                  "249.889",
                  "0",
                  "13835403",
                  "2"
                ],
                [
                  "16",
                  "APP0206",
                  "60W MagSafe charger Apple MacBook and MacBook Pro 13 \"",
                  "Charger MacBook and 13 inch MacBook MagSafe 60 W (MC461Z / A).",
                  "89",
                  "849.904",
                  "1",
                  "13005399",
                  "0"
                ],
                [
                  "17",
                  "HGD0007",
                  "Henge Docks Docking Station MacBook Pro 13 \"",
                  "Dock and support with multiple connections for MacBook Pro 13-inch.",
                  "69.99",
                  "699.864",
                  "0",
                  "12995397",
                  "2"
                ],
                [
                  "18",
                  "MUV0009",
                  "Muvit Back Clear Case iPhone 4 / 4S Transparent",
                  "Case iPhone 4 / 4S polycarbonate.",
                  "9.99",
                  "7.986",
                  "0",
                  "11865403",
                  "2"
                ],
                [
                  "19",
                  "APP0234",
                  "Apple Dock Connector to VGA",
                  "Dock Connector to VGA IOS.",
                  "35",
                  "350.005",
                  "0",
                  "13955395",
                  "0"
                ],
                [
                  "20",
                  "APP0247",
                  "85W MagSafe charger Apple MacBook Pro 15 \"/ 17\"",
                  "Charger MacBook Pro MagSafe 85 W (MC556Z / A).",
                  "89",
                  "849.904",
                  "1",
                  "13005399",
                  "0"
                ],
                [
                  "21",
                  "APP0233",
                  "Apple iPad Camera Connection connector",
                  "IPad connector for digital cameras and SD cards.",
                  "35",
                  "349.896",
                  "0",
                  "13955395",
                  "0"
                ],
                [
                  "22",
                  "JMO0014",
                  "Just Mobile Upstand iPad support",
                  "Support Retina iPad and iPad mini aluminum.",
                  "49.95",
                  "399.905",
                  "0",
                  "1216",
                  "2"
                ],
                [
                  "23",
                  "MOB0007",
                  "Mobee Magic Charger Charger Magic Mouse",
                  "Wireless Charger for Magic Mouse",
                  "49.99",
                  "499.851",
                  "0",
                  "12355400",
                  "2"
                ],
                [
                  "24",
                  "APP0277",
                  "Apple Wireless Keyboard Keyboard (OEM) Mac",
                  "Ultrathin keyboard Apple Bluetooth Spanish (unboxed).",
                  "79",
                  "759.904",
                  "0",
                  "13855401",
                  "0"
                ],
                [
                  "25",
                  "MOP0011",
                  "Mophie Juice Pack Air Battery Case iPhone 4 / 4S black",
                  "Battery Case iPhone 4 / 4S rigid polymer.",
                  "69.99",
                  "56.991",
                  "0",
                  "5,49E+11",
                  "2"
                ],
                [
                  "26",
                  "APP0280",
                  "Apple HDMI to HDMI Cable 1.8m",
                  "HMDI to HDMI Cable 1.8m.",
                  "25",
                  "240.004",
                  "0",
                  "1325",
                  "0"
                ],
                [
                  "27",
                  "OND0069",
                  "Adapter mini DVI to HDMI",
                  "Adapter mini DVI to HDMI for Mac and PC",
                  "16.49",
                  "149.895",
                  "0",
                  "1325",
                  "2"
                ],
                [
                  "28",
                  "SNN0007",
                  "Sonnet Tempo SATA PCIe Mac and PC E2P",
                  "PCIe Card with 2 Serial ATA ports Mac and PC.",
                  "59.99",
                  "502.102",
                  "0",
                  "1276",
                  "2"
                ],
                [
                  "29",
                  "KIN0025",
                  "Mac memory DIMM DDR3 2GB 1333MHz Kingston",
                  "2GB RAM Mac Pro (July 2010).",
                  "29.99",
                  "179.903",
                  "0",
                  "1364",
                  "2"
                ],
                [
                  "30",
                  "OND0073",
                  "Mini DisplayPort to HDMI Cable 18m",
                  "Cable with Mini DisplayPort to HDMI (audio + video)",
                  "22.99",
                  "169.896",
                  "0",
                  "1325",
                  "2"
                ],
                [
                  "31",
                  "MOS0042",
                  "Adapter Moshi Mini Display Port to VGA",
                  "Cable Adapter Mini Display Port to VGA.",
                  "34.99",
                  "269.903",
                  "0",
                  "1325",
                  "2"
                ],
                [
                  "32",
                  "BEL0070",
                  "Music Receiver Belkin iPhone music receiver",
                  "Music Receiver iPhone iPad and iPod Touch for stereos via Bluetooth",
                  "49.99",
                  "299.899",
                  "0",
                  "11905404",
                  "2"
                ],
                [
                  "33",
                  "LMP0007",
                  "KeyPad LMP Bluetooth Keypad Mac",
                  "expansion keypad Mac with bluetooth connection.",
                  "54.99",
                  "399.905",
                  "1",
                  "13855401",
                  "2"
                ],
                [
                  "34",
                  "BEL0072",
                  "Belkin PRO Series USB 2.0 Cable 18M",
                  "USB Cable USB type A and type B 18m in length for Mac and PC",
                  "3.99",
                  "29.899",
                  "1",
                  "1325",
                  "2"
                ],
                [
                  "35",
                  "APP0308",
                  "AV Cable Adapter Apple iPhone iPad and iPod white",
                  "IPhone iPad iPod adapter and AV cable.",
                  "45",
                  "359.999",
                  "0",
                  "1230",
                  "0"
                ],
                [
                  "36",
                  "GRT0196",
                  "Griffin Survivor Extreme-Duty Case iPad 2 3 and 4 black",
                  "IPad 2 Case 3 and 4 for extreme ultra resistant.",
                  "64.99",
                  "499.899",
                  "0",
                  "12635403",
                  "2"
                ],
                [
                  "37",
                  "MUV0023",
                  "Extreme Muvit iPhone and iPod BikeMount sleeve black Touch",
                  "IPhone and iPod support sleeve waterproof App Touch and bicycle.",
                  "35.9",
                  "169.896",
                  "0",
                  "11865403",
                  "1"
                ],
                [
                  "38",
                  "JMO0026",
                  "Just Mobile Lazy Couch Support Mac and iPad",
                  "Mac and iPad small lift stand.",
                  "19.95",
                  "199.892",
                  "0",
                  "8696",
                  "2"
                ],
                [
                  "39",
                  "OWC0007",
                  "OWC Data Doubler Optical Bay adapter Macbook / Macbook Pro",
                  "Tray SuperDrive replacement hard disk or SSD.",
                  "72.99",
                  "399.905",
                  "1",
                  "12755395",
                  "2"
                ],
                [
                  "40",
                  "KEN0028",
                  "Kensington ClickSafe lock Mac and PC",
                  "Mac and PC padlock with keys.",
                  "54.99",
                  "499.899",
                  "0",
                  "1325",
                  "2"
                ],
                [
                  "41",
                  "APP0343",
                  "Apple Thunderbolt Cable 2m White",
                  "Cable Mac Apple Thunderbolt 2m.",
                  "45",
                  "429.998",
                  "1",
                  "1325",
                  "0"
                ],
                [
                  "42",
                  "MOS0044",
                  "Moshi FireWire 800 Cable",
                  "FireWire 800 Cable 18 m.",
                  "34.99",
                  "269.903",
                  "0",
                  "1325",
                  "2"
                ],
                [
                  "43",
                  "MOS0062",
                  "Moshi USB Ethernet Adapter",
                  "USB to Ethernet adapter.",
                  "29",
                  "249.865",
                  "0",
                  "1325",
                  "0"
                ],
                [
                  "44",
                  "MOB0009",
                  "Mobee Magic Numpad for the Magic Trackpad",
                  "3 Numeric for Magic Trackpad stickers.",
                  "29.49",
                  "279.873",
                  "0",
                  "12355400",
                  "2"
                ],
                [
                  "45",
                  "TWS0026",
                  "Twelve South BookBook MacBook Air sleeve 11 \"brown",
                  "Case Macbook 11 inches vintage skin with soft padding.",
                  "79.99",
                  "749.958",
                  "0",
                  "13835403",
                  "2"
                ],
                [
                  "46",
                  "MOB0010",
                  "Additional Battery Pack Mobee Magic Bar",
                  "Pack extra battery Mobee Magic Bar.",
                  "29.99",
                  "169.884",
                  "0",
                  "12355400",
                  "2"
                ],
                [
                  "47",
                  "IST0009",
                  "iStabilizer iPhone Tripod Mount",
                  "IPhone Tripod Adapter for photo and video.",
                  "19.99",
                  "199.892",
                  "0",
                  "1216",
                  "2"
                ],
                [
                  "48",
                  "TWS0027",
                  "Twelve South BookBook Case MacBook Air / Pro 13 \"brown",
                  "Funda Macbook Air / Pro 13 inch vintage leather with padded interior.",
                  "79.99",
                  "749.898",
                  "0",
                  "13835403",
                  "2"
                ],
                [
                  "49",
                  "APP0367",
                  "Apple Mini DisplayPort to DVI Adapter Mac dual channel",
                  "Adapter Mini Display Port to DVI dual channel MacBook MacBook Pro and MacBook Air.",
                  "119",
                  "1.119.976",
                  "0",
                  "1325",
                  "0"
                ]
              ],
              "shape": {
                "columns": 8,
                "rows": 9992
              }
            },
            "text/html": [
              "<div>\n",
              "<style scoped>\n",
              "    .dataframe tbody tr th:only-of-type {\n",
              "        vertical-align: middle;\n",
              "    }\n",
              "\n",
              "    .dataframe tbody tr th {\n",
              "        vertical-align: top;\n",
              "    }\n",
              "\n",
              "    .dataframe thead th {\n",
              "        text-align: right;\n",
              "    }\n",
              "</style>\n",
              "<table border=\"1\" class=\"dataframe\">\n",
              "  <thead>\n",
              "    <tr style=\"text-align: right;\">\n",
              "      <th></th>\n",
              "      <th>sku</th>\n",
              "      <th>name</th>\n",
              "      <th>desc</th>\n",
              "      <th>price</th>\n",
              "      <th>promo_price</th>\n",
              "      <th>in_stock</th>\n",
              "      <th>type</th>\n",
              "      <th>decimal_count</th>\n",
              "    </tr>\n",
              "  </thead>\n",
              "  <tbody>\n",
              "    <tr>\n",
              "      <th>0</th>\n",
              "      <td>RAI0007</td>\n",
              "      <td>Silver Rain Design mStand Support</td>\n",
              "      <td>Aluminum support compatible with all MacBook</td>\n",
              "      <td>59.99</td>\n",
              "      <td>499.899</td>\n",
              "      <td>1</td>\n",
              "      <td>8696</td>\n",
              "      <td>2</td>\n",
              "    </tr>\n",
              "    <tr>\n",
              "      <th>1</th>\n",
              "      <td>APP0023</td>\n",
              "      <td>Apple Mac Keyboard Keypad Spanish</td>\n",
              "      <td>USB ultrathin keyboard Apple Mac Spanish.</td>\n",
              "      <td>59</td>\n",
              "      <td>589.996</td>\n",
              "      <td>0</td>\n",
              "      <td>13855401</td>\n",
              "      <td>0</td>\n",
              "    </tr>\n",
              "    <tr>\n",
              "      <th>2</th>\n",
              "      <td>APP0025</td>\n",
              "      <td>Mighty Mouse Apple Mouse for Mac</td>\n",
              "      <td>mouse Apple USB cable.</td>\n",
              "      <td>59</td>\n",
              "      <td>569.898</td>\n",
              "      <td>0</td>\n",
              "      <td>1387</td>\n",
              "      <td>0</td>\n",
              "    </tr>\n",
              "    <tr>\n",
              "      <th>3</th>\n",
              "      <td>APP0072</td>\n",
              "      <td>Apple Dock to USB Cable iPhone and iPod white</td>\n",
              "      <td>IPhone dock and USB Cable Apple iPod.</td>\n",
              "      <td>25</td>\n",
              "      <td>229.997</td>\n",
              "      <td>0</td>\n",
              "      <td>1230</td>\n",
              "      <td>0</td>\n",
              "    </tr>\n",
              "    <tr>\n",
              "      <th>4</th>\n",
              "      <td>KIN0007</td>\n",
              "      <td>Mac Memory Kingston 2GB 667MHz DDR2 SO-DIMM</td>\n",
              "      <td>2GB RAM Mac mini and iMac (2006/07) MacBook Pr...</td>\n",
              "      <td>34.99</td>\n",
              "      <td>31.99</td>\n",
              "      <td>1</td>\n",
              "      <td>1364</td>\n",
              "      <td>2</td>\n",
              "    </tr>\n",
              "    <tr>\n",
              "      <th>...</th>\n",
              "      <td>...</td>\n",
              "      <td>...</td>\n",
              "      <td>...</td>\n",
              "      <td>...</td>\n",
              "      <td>...</td>\n",
              "      <td>...</td>\n",
              "      <td>...</td>\n",
              "      <td>...</td>\n",
              "    </tr>\n",
              "    <tr>\n",
              "      <th>9987</th>\n",
              "      <td>BEL0376</td>\n",
              "      <td>Belkin Travel Support Apple Watch Black</td>\n",
              "      <td>compact and portable stand vertically or horiz...</td>\n",
              "      <td>29.99</td>\n",
              "      <td>269.903</td>\n",
              "      <td>1</td>\n",
              "      <td>12282</td>\n",
              "      <td>2</td>\n",
              "    </tr>\n",
              "    <tr>\n",
              "      <th>9988</th>\n",
              "      <td>THU0060</td>\n",
              "      <td>Enroute Thule 14L Backpack MacBook 13 \"Black</td>\n",
              "      <td>Backpack with capacity of 14 liter compartment...</td>\n",
              "      <td>69.95</td>\n",
              "      <td>649.903</td>\n",
              "      <td>1</td>\n",
              "      <td>1392</td>\n",
              "      <td>2</td>\n",
              "    </tr>\n",
              "    <tr>\n",
              "      <th>9989</th>\n",
              "      <td>THU0061</td>\n",
              "      <td>Enroute Thule 14L Backpack MacBook 13 \"Blue</td>\n",
              "      <td>Backpack with capacity of 14 liter compartment...</td>\n",
              "      <td>69.95</td>\n",
              "      <td>649.903</td>\n",
              "      <td>1</td>\n",
              "      <td>1392</td>\n",
              "      <td>2</td>\n",
              "    </tr>\n",
              "    <tr>\n",
              "      <th>9990</th>\n",
              "      <td>THU0062</td>\n",
              "      <td>Enroute Thule 14L Backpack MacBook 13 \"Red</td>\n",
              "      <td>Backpack with capacity of 14 liter compartment...</td>\n",
              "      <td>69.95</td>\n",
              "      <td>649.903</td>\n",
              "      <td>0</td>\n",
              "      <td>1392</td>\n",
              "      <td>2</td>\n",
              "    </tr>\n",
              "    <tr>\n",
              "      <th>9991</th>\n",
              "      <td>THU0063</td>\n",
              "      <td>Enroute Thule 14L Backpack MacBook 13 \"Green</td>\n",
              "      <td>Backpack with capacity of 14 liter compartment...</td>\n",
              "      <td>69.95</td>\n",
              "      <td>649.903</td>\n",
              "      <td>1</td>\n",
              "      <td>1392</td>\n",
              "      <td>2</td>\n",
              "    </tr>\n",
              "  </tbody>\n",
              "</table>\n",
              "<p>9992 rows × 8 columns</p>\n",
              "</div>"
            ],
            "text/plain": [
              "          sku                                           name  \\\n",
              "0     RAI0007              Silver Rain Design mStand Support   \n",
              "1     APP0023              Apple Mac Keyboard Keypad Spanish   \n",
              "2     APP0025               Mighty Mouse Apple Mouse for Mac   \n",
              "3     APP0072  Apple Dock to USB Cable iPhone and iPod white   \n",
              "4     KIN0007    Mac Memory Kingston 2GB 667MHz DDR2 SO-DIMM   \n",
              "...       ...                                            ...   \n",
              "9987  BEL0376        Belkin Travel Support Apple Watch Black   \n",
              "9988  THU0060   Enroute Thule 14L Backpack MacBook 13 \"Black   \n",
              "9989  THU0061    Enroute Thule 14L Backpack MacBook 13 \"Blue   \n",
              "9990  THU0062     Enroute Thule 14L Backpack MacBook 13 \"Red   \n",
              "9991  THU0063   Enroute Thule 14L Backpack MacBook 13 \"Green   \n",
              "\n",
              "                                                   desc  price promo_price  \\\n",
              "0          Aluminum support compatible with all MacBook  59.99     499.899   \n",
              "1             USB ultrathin keyboard Apple Mac Spanish.     59     589.996   \n",
              "2                                mouse Apple USB cable.     59     569.898   \n",
              "3                 IPhone dock and USB Cable Apple iPod.     25     229.997   \n",
              "4     2GB RAM Mac mini and iMac (2006/07) MacBook Pr...  34.99       31.99   \n",
              "...                                                 ...    ...         ...   \n",
              "9987  compact and portable stand vertically or horiz...  29.99     269.903   \n",
              "9988  Backpack with capacity of 14 liter compartment...  69.95     649.903   \n",
              "9989  Backpack with capacity of 14 liter compartment...  69.95     649.903   \n",
              "9990  Backpack with capacity of 14 liter compartment...  69.95     649.903   \n",
              "9991  Backpack with capacity of 14 liter compartment...  69.95     649.903   \n",
              "\n",
              "      in_stock      type  decimal_count  \n",
              "0            1      8696              2  \n",
              "1            0  13855401              0  \n",
              "2            0      1387              0  \n",
              "3            0      1230              0  \n",
              "4            1      1364              2  \n",
              "...        ...       ...            ...  \n",
              "9987         1     12282              2  \n",
              "9988         1      1392              2  \n",
              "9989         1      1392              2  \n",
              "9990         0      1392              2  \n",
              "9991         1      1392              2  \n",
              "\n",
              "[9992 rows x 8 columns]"
            ]
          },
          "execution_count": 72,
          "metadata": {},
          "output_type": "execute_result"
        }
      ],
      "source": [
        "# Dropping rows with three decimal numbers in the 'price' column\n",
        "products_df = products_df[~mask_3_decimal_count].reset_index(drop=True)\n",
        "products_df"
      ]
    },
    {
      "cell_type": "code",
      "execution_count": 73,
      "metadata": {},
      "outputs": [
        {
          "data": {
            "application/vnd.microsoft.datawrangler.viewer.v0+json": {
              "columns": [
                {
                  "name": "price",
                  "rawType": "int64",
                  "type": "integer"
                },
                {
                  "name": "count",
                  "rawType": "int64",
                  "type": "integer"
                }
              ],
              "ref": "4fa7870e-6582-4a3d-b16b-a7453e2500ac",
              "rows": [
                [
                  "1",
                  "6777"
                ],
                [
                  "0",
                  "3215"
                ]
              ],
              "shape": {
                "columns": 1,
                "rows": 2
              }
            },
            "text/plain": [
              "price\n",
              "1    6777\n",
              "0    3215\n",
              "Name: count, dtype: int64"
            ]
          },
          "execution_count": 73,
          "metadata": {},
          "output_type": "execute_result"
        }
      ],
      "source": [
        "# CHECK: Count the number of decimal points in the unit_price\n",
        "products_df['price'].str.count(\"\\\\.\").value_counts()"
      ]
    },
    {
      "cell_type": "code",
      "execution_count": 74,
      "metadata": {},
      "outputs": [
        {
          "data": {
            "application/vnd.microsoft.datawrangler.viewer.v0+json": {
              "columns": [
                {
                  "name": "decimal_count",
                  "rawType": "int64",
                  "type": "integer"
                },
                {
                  "name": "count",
                  "rawType": "int64",
                  "type": "integer"
                }
              ],
              "ref": "fec39555-6b1d-47f8-a14b-41b7a33f8ea5",
              "rows": [
                [
                  "2",
                  "6271"
                ],
                [
                  "0",
                  "3215"
                ],
                [
                  "1",
                  "506"
                ]
              ],
              "shape": {
                "columns": 1,
                "rows": 3
              }
            },
            "text/plain": [
              "decimal_count\n",
              "2    6271\n",
              "0    3215\n",
              "1     506\n",
              "Name: count, dtype: int64"
            ]
          },
          "execution_count": 74,
          "metadata": {},
          "output_type": "execute_result"
        }
      ],
      "source": [
        "# CHECK: Count the number of decimal places in the unit_price\n",
        "products_df['decimal_count'].value_counts()"
      ]
    },
    {
      "cell_type": "code",
      "execution_count": 75,
      "metadata": {},
      "outputs": [],
      "source": [
        "# Removing 'decimal_count' column\n",
        "products_df = products_df.drop(columns=['decimal_count'])"
      ]
    },
    {
      "cell_type": "code",
      "execution_count": 76,
      "metadata": {},
      "outputs": [],
      "source": [
        "# Converting unit_price type to numeric\n",
        "products_df[\"price\"] = pd.to_numeric(products_df[\"price\"])"
      ]
    },
    {
      "cell_type": "markdown",
      "metadata": {},
      "source": [
        "Price column correctly converted to numeric!!!"
      ]
    },
    {
      "cell_type": "code",
      "execution_count": 77,
      "metadata": {},
      "outputs": [
        {
          "name": "stdout",
          "output_type": "stream",
          "text": [
            "<class 'pandas.core.frame.DataFrame'>\n",
            "RangeIndex: 9992 entries, 0 to 9991\n",
            "Data columns (total 7 columns):\n",
            " #   Column       Non-Null Count  Dtype  \n",
            "---  ------       --------------  -----  \n",
            " 0   sku          9992 non-null   object \n",
            " 1   name         9992 non-null   object \n",
            " 2   desc         9986 non-null   object \n",
            " 3   price        9992 non-null   float64\n",
            " 4   promo_price  9992 non-null   object \n",
            " 5   in_stock     9992 non-null   int64  \n",
            " 6   type         9946 non-null   object \n",
            "dtypes: float64(1), int64(1), object(5)\n",
            "memory usage: 546.6+ KB\n"
          ]
        }
      ],
      "source": [
        "products_df.info()"
      ]
    },
    {
      "cell_type": "code",
      "execution_count": 78,
      "metadata": {},
      "outputs": [
        {
          "name": "stdout",
          "output_type": "stream",
          "text": [
            "<class 'pandas.core.frame.DataFrame'>\n",
            "RangeIndex: 286643 entries, 0 to 286642\n",
            "Data columns (total 7 columns):\n",
            " #   Column            Non-Null Count   Dtype         \n",
            "---  ------            --------------   -----         \n",
            " 0   id                286643 non-null  int64         \n",
            " 1   id_order          286643 non-null  int64         \n",
            " 2   product_id        286643 non-null  int64         \n",
            " 3   product_quantity  286643 non-null  int64         \n",
            " 4   sku               286643 non-null  object        \n",
            " 5   unit_price        286643 non-null  float64       \n",
            " 6   date              286643 non-null  datetime64[ns]\n",
            "dtypes: datetime64[ns](1), float64(1), int64(4), object(1)\n",
            "memory usage: 15.3+ MB\n"
          ]
        }
      ],
      "source": [
        "orderlines_df.info()"
      ]
    },
    {
      "cell_type": "code",
      "execution_count": 79,
      "metadata": {},
      "outputs": [
        {
          "data": {
            "application/vnd.microsoft.datawrangler.viewer.v0+json": {
              "columns": [
                {
                  "name": "index",
                  "rawType": "int64",
                  "type": "integer"
                },
                {
                  "name": "id_order",
                  "rawType": "int64",
                  "type": "integer"
                },
                {
                  "name": "reason",
                  "rawType": "object",
                  "type": "string"
                }
              ],
              "ref": "e610e009-9079-4607-b4bb-7b0b9e02ba16",
              "rows": [
                [
                  "0",
                  "427314",
                  "Missing column \"total_paid\" in orders_df dataset"
                ],
                [
                  "1",
                  "427314",
                  "Missing column \"total_paid\" in orders_df dataset"
                ],
                [
                  "2",
                  "431655",
                  "Missing column \"total_paid\" in orders_df dataset"
                ],
                [
                  "3",
                  "447411",
                  "Missing column \"total_paid\" in orders_df dataset"
                ],
                [
                  "4",
                  "448966",
                  "Missing column \"total_paid\" in orders_df dataset"
                ],
                [
                  "5",
                  "449596",
                  "Missing column \"total_paid\" in orders_df dataset"
                ],
                [
                  "6",
                  "300843",
                  "Missing column 'price' in products_df dataset"
                ],
                [
                  "7",
                  "302872",
                  "Missing column 'price' in products_df dataset"
                ],
                [
                  "8",
                  "303274",
                  "Missing column 'price' in products_df dataset"
                ],
                [
                  "9",
                  "303363",
                  "Missing column 'price' in products_df dataset"
                ],
                [
                  "10",
                  "303577",
                  "Missing column 'price' in products_df dataset"
                ],
                [
                  "11",
                  "298651",
                  "Missing column 'price' in products_df dataset"
                ],
                [
                  "12",
                  "304155",
                  "Missing column 'price' in products_df dataset"
                ],
                [
                  "13",
                  "304358",
                  "Missing column 'price' in products_df dataset"
                ],
                [
                  "14",
                  "306270",
                  "Missing column 'price' in products_df dataset"
                ],
                [
                  "15",
                  "306743",
                  "Missing column 'price' in products_df dataset"
                ],
                [
                  "16",
                  "306780",
                  "Missing column 'price' in products_df dataset"
                ],
                [
                  "17",
                  "306907",
                  "Missing column 'price' in products_df dataset"
                ],
                [
                  "18",
                  "306926",
                  "Missing column 'price' in products_df dataset"
                ],
                [
                  "19",
                  "304691",
                  "Missing column 'price' in products_df dataset"
                ],
                [
                  "20",
                  "308724",
                  "Missing column 'price' in products_df dataset"
                ],
                [
                  "21",
                  "309082",
                  "Missing column 'price' in products_df dataset"
                ],
                [
                  "22",
                  "309932",
                  "Missing column 'price' in products_df dataset"
                ],
                [
                  "23",
                  "310584",
                  "Missing column 'price' in products_df dataset"
                ],
                [
                  "24",
                  "312536",
                  "Missing column 'price' in products_df dataset"
                ],
                [
                  "25",
                  "313589",
                  "Missing column 'price' in products_df dataset"
                ],
                [
                  "26",
                  "313726",
                  "Missing column 'price' in products_df dataset"
                ],
                [
                  "27",
                  "315613",
                  "Missing column 'price' in products_df dataset"
                ],
                [
                  "28",
                  "316249",
                  "Missing column 'price' in products_df dataset"
                ],
                [
                  "29",
                  "316890",
                  "Missing column 'price' in products_df dataset"
                ],
                [
                  "30",
                  "319018",
                  "Missing column 'price' in products_df dataset"
                ],
                [
                  "31",
                  "319335",
                  "Missing column 'price' in products_df dataset"
                ],
                [
                  "32",
                  "319388",
                  "Missing column 'price' in products_df dataset"
                ],
                [
                  "33",
                  "320777",
                  "Missing column 'price' in products_df dataset"
                ],
                [
                  "34",
                  "321622",
                  "Missing column 'price' in products_df dataset"
                ],
                [
                  "35",
                  "321991",
                  "Missing column 'price' in products_df dataset"
                ],
                [
                  "36",
                  "323339",
                  "Missing column 'price' in products_df dataset"
                ],
                [
                  "37",
                  "323823",
                  "Missing column 'price' in products_df dataset"
                ],
                [
                  "38",
                  "324310",
                  "Missing column 'price' in products_df dataset"
                ],
                [
                  "39",
                  "324667",
                  "Missing column 'price' in products_df dataset"
                ],
                [
                  "40",
                  "326872",
                  "Missing column 'price' in products_df dataset"
                ],
                [
                  "41",
                  "326880",
                  "Missing column 'price' in products_df dataset"
                ],
                [
                  "42",
                  "326957",
                  "Missing column 'price' in products_df dataset"
                ],
                [
                  "43",
                  "329937",
                  "Missing column 'price' in products_df dataset"
                ],
                [
                  "44",
                  "331110",
                  "Missing column 'price' in products_df dataset"
                ],
                [
                  "45",
                  "331124",
                  "Missing column 'price' in products_df dataset"
                ],
                [
                  "46",
                  "332671",
                  "Missing column 'price' in products_df dataset"
                ],
                [
                  "47",
                  "332942",
                  "Missing column 'price' in products_df dataset"
                ],
                [
                  "48",
                  "332942",
                  "Missing column 'price' in products_df dataset"
                ],
                [
                  "49",
                  "333300",
                  "Missing column 'price' in products_df dataset"
                ]
              ],
              "shape": {
                "columns": 2,
                "rows": 7340
              }
            },
            "text/html": [
              "<div>\n",
              "<style scoped>\n",
              "    .dataframe tbody tr th:only-of-type {\n",
              "        vertical-align: middle;\n",
              "    }\n",
              "\n",
              "    .dataframe tbody tr th {\n",
              "        vertical-align: top;\n",
              "    }\n",
              "\n",
              "    .dataframe thead th {\n",
              "        text-align: right;\n",
              "    }\n",
              "</style>\n",
              "<table border=\"1\" class=\"dataframe\">\n",
              "  <thead>\n",
              "    <tr style=\"text-align: right;\">\n",
              "      <th></th>\n",
              "      <th>id_order</th>\n",
              "      <th>reason</th>\n",
              "    </tr>\n",
              "  </thead>\n",
              "  <tbody>\n",
              "    <tr>\n",
              "      <th>0</th>\n",
              "      <td>427314</td>\n",
              "      <td>Missing column \"total_paid\" in orders_df dataset</td>\n",
              "    </tr>\n",
              "    <tr>\n",
              "      <th>1</th>\n",
              "      <td>427314</td>\n",
              "      <td>Missing column \"total_paid\" in orders_df dataset</td>\n",
              "    </tr>\n",
              "    <tr>\n",
              "      <th>2</th>\n",
              "      <td>431655</td>\n",
              "      <td>Missing column \"total_paid\" in orders_df dataset</td>\n",
              "    </tr>\n",
              "    <tr>\n",
              "      <th>3</th>\n",
              "      <td>447411</td>\n",
              "      <td>Missing column \"total_paid\" in orders_df dataset</td>\n",
              "    </tr>\n",
              "    <tr>\n",
              "      <th>4</th>\n",
              "      <td>448966</td>\n",
              "      <td>Missing column \"total_paid\" in orders_df dataset</td>\n",
              "    </tr>\n",
              "    <tr>\n",
              "      <th>...</th>\n",
              "      <td>...</td>\n",
              "      <td>...</td>\n",
              "    </tr>\n",
              "    <tr>\n",
              "      <th>7335</th>\n",
              "      <td>527147</td>\n",
              "      <td>Corrupted decimal places in column 'price' in ...</td>\n",
              "    </tr>\n",
              "    <tr>\n",
              "      <th>7336</th>\n",
              "      <td>527170</td>\n",
              "      <td>Corrupted decimal places in column 'price' in ...</td>\n",
              "    </tr>\n",
              "    <tr>\n",
              "      <th>7337</th>\n",
              "      <td>527191</td>\n",
              "      <td>Corrupted decimal places in column 'price' in ...</td>\n",
              "    </tr>\n",
              "    <tr>\n",
              "      <th>7338</th>\n",
              "      <td>527367</td>\n",
              "      <td>Corrupted decimal places in column 'price' in ...</td>\n",
              "    </tr>\n",
              "    <tr>\n",
              "      <th>7339</th>\n",
              "      <td>527367</td>\n",
              "      <td>Corrupted decimal places in column 'price' in ...</td>\n",
              "    </tr>\n",
              "  </tbody>\n",
              "</table>\n",
              "<p>7340 rows × 2 columns</p>\n",
              "</div>"
            ],
            "text/plain": [
              "      id_order                                             reason\n",
              "0       427314   Missing column \"total_paid\" in orders_df dataset\n",
              "1       427314   Missing column \"total_paid\" in orders_df dataset\n",
              "2       431655   Missing column \"total_paid\" in orders_df dataset\n",
              "3       447411   Missing column \"total_paid\" in orders_df dataset\n",
              "4       448966   Missing column \"total_paid\" in orders_df dataset\n",
              "...        ...                                                ...\n",
              "7335    527147  Corrupted decimal places in column 'price' in ...\n",
              "7336    527170  Corrupted decimal places in column 'price' in ...\n",
              "7337    527191  Corrupted decimal places in column 'price' in ...\n",
              "7338    527367  Corrupted decimal places in column 'price' in ...\n",
              "7339    527367  Corrupted decimal places in column 'price' in ...\n",
              "\n",
              "[7340 rows x 2 columns]"
            ]
          },
          "execution_count": 79,
          "metadata": {},
          "output_type": "execute_result"
        }
      ],
      "source": [
        "# Concatenating drop id's dataframes\n",
        "\n",
        "# Append to master log\n",
        "dropped_ids_df = pd.concat([dropped_ids_missing_orders_total_paid_df, dropped_ids_missing_sku_prices_df, dropped_ids_mult_dots_sku_prices_df, dropped_ids_3_decimal_sku_prices_df], ignore_index=True)\n",
        "\n",
        "dropped_ids_df"
      ]
    },
    {
      "cell_type": "code",
      "execution_count": 80,
      "metadata": {},
      "outputs": [
        {
          "data": {
            "application/vnd.microsoft.datawrangler.viewer.v0+json": {
              "columns": [
                {
                  "name": "index",
                  "rawType": "int64",
                  "type": "integer"
                },
                {
                  "name": "id_order",
                  "rawType": "int64",
                  "type": "integer"
                },
                {
                  "name": "reason",
                  "rawType": "object",
                  "type": "string"
                }
              ],
              "ref": "9c6e4285-975b-48a4-9c9a-7591a024a755",
              "rows": [
                [
                  "0",
                  "427314",
                  "Missing column \"total_paid\" in orders_df dataset"
                ],
                [
                  "2",
                  "431655",
                  "Missing column \"total_paid\" in orders_df dataset"
                ],
                [
                  "3",
                  "447411",
                  "Missing column \"total_paid\" in orders_df dataset"
                ],
                [
                  "4",
                  "448966",
                  "Missing column \"total_paid\" in orders_df dataset"
                ],
                [
                  "5",
                  "449596",
                  "Missing column \"total_paid\" in orders_df dataset"
                ],
                [
                  "6",
                  "300843",
                  "Missing column 'price' in products_df dataset"
                ],
                [
                  "7",
                  "302872",
                  "Missing column 'price' in products_df dataset"
                ],
                [
                  "8",
                  "303274",
                  "Missing column 'price' in products_df dataset"
                ],
                [
                  "9",
                  "303363",
                  "Missing column 'price' in products_df dataset"
                ],
                [
                  "10",
                  "303577",
                  "Missing column 'price' in products_df dataset"
                ],
                [
                  "11",
                  "298651",
                  "Missing column 'price' in products_df dataset"
                ],
                [
                  "12",
                  "304155",
                  "Missing column 'price' in products_df dataset"
                ],
                [
                  "13",
                  "304358",
                  "Missing column 'price' in products_df dataset"
                ],
                [
                  "14",
                  "306270",
                  "Missing column 'price' in products_df dataset"
                ],
                [
                  "15",
                  "306743",
                  "Missing column 'price' in products_df dataset"
                ],
                [
                  "16",
                  "306780",
                  "Missing column 'price' in products_df dataset"
                ],
                [
                  "17",
                  "306907",
                  "Missing column 'price' in products_df dataset"
                ],
                [
                  "18",
                  "306926",
                  "Missing column 'price' in products_df dataset"
                ],
                [
                  "19",
                  "304691",
                  "Missing column 'price' in products_df dataset"
                ],
                [
                  "20",
                  "308724",
                  "Missing column 'price' in products_df dataset"
                ],
                [
                  "21",
                  "309082",
                  "Missing column 'price' in products_df dataset"
                ],
                [
                  "22",
                  "309932",
                  "Missing column 'price' in products_df dataset"
                ],
                [
                  "23",
                  "310584",
                  "Missing column 'price' in products_df dataset"
                ],
                [
                  "24",
                  "312536",
                  "Missing column 'price' in products_df dataset"
                ],
                [
                  "25",
                  "313589",
                  "Missing column 'price' in products_df dataset"
                ],
                [
                  "26",
                  "313726",
                  "Missing column 'price' in products_df dataset"
                ],
                [
                  "27",
                  "315613",
                  "Missing column 'price' in products_df dataset"
                ],
                [
                  "28",
                  "316249",
                  "Missing column 'price' in products_df dataset"
                ],
                [
                  "29",
                  "316890",
                  "Missing column 'price' in products_df dataset"
                ],
                [
                  "30",
                  "319018",
                  "Missing column 'price' in products_df dataset"
                ],
                [
                  "31",
                  "319335",
                  "Missing column 'price' in products_df dataset"
                ],
                [
                  "32",
                  "319388",
                  "Missing column 'price' in products_df dataset"
                ],
                [
                  "33",
                  "320777",
                  "Missing column 'price' in products_df dataset"
                ],
                [
                  "34",
                  "321622",
                  "Missing column 'price' in products_df dataset"
                ],
                [
                  "35",
                  "321991",
                  "Missing column 'price' in products_df dataset"
                ],
                [
                  "36",
                  "323339",
                  "Missing column 'price' in products_df dataset"
                ],
                [
                  "37",
                  "323823",
                  "Missing column 'price' in products_df dataset"
                ],
                [
                  "38",
                  "324310",
                  "Missing column 'price' in products_df dataset"
                ],
                [
                  "39",
                  "324667",
                  "Missing column 'price' in products_df dataset"
                ],
                [
                  "40",
                  "326872",
                  "Missing column 'price' in products_df dataset"
                ],
                [
                  "41",
                  "326880",
                  "Missing column 'price' in products_df dataset"
                ],
                [
                  "42",
                  "326957",
                  "Missing column 'price' in products_df dataset"
                ],
                [
                  "43",
                  "329937",
                  "Missing column 'price' in products_df dataset"
                ],
                [
                  "44",
                  "331110",
                  "Missing column 'price' in products_df dataset"
                ],
                [
                  "45",
                  "331124",
                  "Missing column 'price' in products_df dataset"
                ],
                [
                  "46",
                  "332671",
                  "Missing column 'price' in products_df dataset"
                ],
                [
                  "47",
                  "332942",
                  "Missing column 'price' in products_df dataset"
                ],
                [
                  "49",
                  "333300",
                  "Missing column 'price' in products_df dataset"
                ],
                [
                  "51",
                  "333934",
                  "Missing column 'price' in products_df dataset"
                ],
                [
                  "52",
                  "334586",
                  "Missing column 'price' in products_df dataset"
                ]
              ],
              "shape": {
                "columns": 2,
                "rows": 7252
              }
            },
            "text/html": [
              "<div>\n",
              "<style scoped>\n",
              "    .dataframe tbody tr th:only-of-type {\n",
              "        vertical-align: middle;\n",
              "    }\n",
              "\n",
              "    .dataframe tbody tr th {\n",
              "        vertical-align: top;\n",
              "    }\n",
              "\n",
              "    .dataframe thead th {\n",
              "        text-align: right;\n",
              "    }\n",
              "</style>\n",
              "<table border=\"1\" class=\"dataframe\">\n",
              "  <thead>\n",
              "    <tr style=\"text-align: right;\">\n",
              "      <th></th>\n",
              "      <th>id_order</th>\n",
              "      <th>reason</th>\n",
              "    </tr>\n",
              "  </thead>\n",
              "  <tbody>\n",
              "    <tr>\n",
              "      <th>0</th>\n",
              "      <td>427314</td>\n",
              "      <td>Missing column \"total_paid\" in orders_df dataset</td>\n",
              "    </tr>\n",
              "    <tr>\n",
              "      <th>2</th>\n",
              "      <td>431655</td>\n",
              "      <td>Missing column \"total_paid\" in orders_df dataset</td>\n",
              "    </tr>\n",
              "    <tr>\n",
              "      <th>3</th>\n",
              "      <td>447411</td>\n",
              "      <td>Missing column \"total_paid\" in orders_df dataset</td>\n",
              "    </tr>\n",
              "    <tr>\n",
              "      <th>4</th>\n",
              "      <td>448966</td>\n",
              "      <td>Missing column \"total_paid\" in orders_df dataset</td>\n",
              "    </tr>\n",
              "    <tr>\n",
              "      <th>5</th>\n",
              "      <td>449596</td>\n",
              "      <td>Missing column \"total_paid\" in orders_df dataset</td>\n",
              "    </tr>\n",
              "    <tr>\n",
              "      <th>...</th>\n",
              "      <td>...</td>\n",
              "      <td>...</td>\n",
              "    </tr>\n",
              "    <tr>\n",
              "      <th>7334</th>\n",
              "      <td>526833</td>\n",
              "      <td>Corrupted decimal places in column 'price' in ...</td>\n",
              "    </tr>\n",
              "    <tr>\n",
              "      <th>7335</th>\n",
              "      <td>527147</td>\n",
              "      <td>Corrupted decimal places in column 'price' in ...</td>\n",
              "    </tr>\n",
              "    <tr>\n",
              "      <th>7336</th>\n",
              "      <td>527170</td>\n",
              "      <td>Corrupted decimal places in column 'price' in ...</td>\n",
              "    </tr>\n",
              "    <tr>\n",
              "      <th>7337</th>\n",
              "      <td>527191</td>\n",
              "      <td>Corrupted decimal places in column 'price' in ...</td>\n",
              "    </tr>\n",
              "    <tr>\n",
              "      <th>7338</th>\n",
              "      <td>527367</td>\n",
              "      <td>Corrupted decimal places in column 'price' in ...</td>\n",
              "    </tr>\n",
              "  </tbody>\n",
              "</table>\n",
              "<p>7252 rows × 2 columns</p>\n",
              "</div>"
            ],
            "text/plain": [
              "      id_order                                             reason\n",
              "0       427314   Missing column \"total_paid\" in orders_df dataset\n",
              "2       431655   Missing column \"total_paid\" in orders_df dataset\n",
              "3       447411   Missing column \"total_paid\" in orders_df dataset\n",
              "4       448966   Missing column \"total_paid\" in orders_df dataset\n",
              "5       449596   Missing column \"total_paid\" in orders_df dataset\n",
              "...        ...                                                ...\n",
              "7334    526833  Corrupted decimal places in column 'price' in ...\n",
              "7335    527147  Corrupted decimal places in column 'price' in ...\n",
              "7336    527170  Corrupted decimal places in column 'price' in ...\n",
              "7337    527191  Corrupted decimal places in column 'price' in ...\n",
              "7338    527367  Corrupted decimal places in column 'price' in ...\n",
              "\n",
              "[7252 rows x 2 columns]"
            ]
          },
          "execution_count": 80,
          "metadata": {},
          "output_type": "execute_result"
        }
      ],
      "source": [
        "# Drop duplicates\n",
        "dropped_ids_df = dropped_ids_df.drop_duplicates()\n",
        "dropped_ids_df"
      ]
    },
    {
      "cell_type": "code",
      "execution_count": 81,
      "metadata": {},
      "outputs": [
        {
          "name": "stdout",
          "output_type": "stream",
          "text": [
            "3.49% of the orders in the orderlines DataFrame were dropped\n"
          ]
        }
      ],
      "source": [
        "# Find the percentage of dropped orders\n",
        "percent_dropped = (100 * dropped_ids_df.shape[0] / (dropped_ids_df.shape[0] + orderlines_df.id_order.nunique()))\n",
        "print(f\"{percent_dropped:.2f}% of the orders in the orderlines DataFrame were dropped\")"
      ]
    },
    {
      "cell_type": "markdown",
      "metadata": {},
      "source": [
        "### Consistency Check:\n",
        "Remove from 'orders_df' the orders that were dropped from orderlines_df."
      ]
    },
    {
      "cell_type": "code",
      "execution_count": 82,
      "metadata": {},
      "outputs": [
        {
          "name": "stdout",
          "output_type": "stream",
          "text": [
            "<class 'pandas.core.frame.DataFrame'>\n",
            "Index: 226904 entries, 0 to 226908\n",
            "Data columns (total 4 columns):\n",
            " #   Column        Non-Null Count   Dtype         \n",
            "---  ------        --------------   -----         \n",
            " 0   order_id      226904 non-null  int64         \n",
            " 1   created_date  226904 non-null  datetime64[ns]\n",
            " 2   total_paid    226904 non-null  float64       \n",
            " 3   state         226904 non-null  object        \n",
            "dtypes: datetime64[ns](1), float64(1), int64(1), object(1)\n",
            "memory usage: 8.7+ MB\n"
          ]
        }
      ],
      "source": [
        "orders_df.info()"
      ]
    },
    {
      "cell_type": "code",
      "execution_count": 83,
      "metadata": {},
      "outputs": [],
      "source": [
        "mask = orders_df['order_id'].isin(dropped_ids_df['id_order'])"
      ]
    },
    {
      "cell_type": "code",
      "execution_count": 84,
      "metadata": {},
      "outputs": [
        {
          "data": {
            "application/vnd.microsoft.datawrangler.viewer.v0+json": {
              "columns": [
                {
                  "name": "index",
                  "rawType": "int64",
                  "type": "integer"
                },
                {
                  "name": "order_id",
                  "rawType": "int64",
                  "type": "integer"
                },
                {
                  "name": "created_date",
                  "rawType": "datetime64[ns]",
                  "type": "datetime"
                },
                {
                  "name": "total_paid",
                  "rawType": "float64",
                  "type": "float"
                },
                {
                  "name": "state",
                  "rawType": "object",
                  "type": "string"
                }
              ],
              "ref": "e5a813bb-da79-4327-914b-13f31550b2c8",
              "rows": [
                [
                  "9",
                  "246018",
                  "2017-02-13 23:02:57",
                  "211.95",
                  "Completed"
                ],
                [
                  "15",
                  "251688",
                  "2017-11-24 23:57:07",
                  "505.76",
                  "Completed"
                ],
                [
                  "54",
                  "265954",
                  "2017-10-02 15:18:15",
                  "127.02",
                  "Completed"
                ],
                [
                  "84",
                  "278926",
                  "2017-11-23 11:06:39",
                  "795.85",
                  "Completed"
                ],
                [
                  "235",
                  "299576",
                  "2017-01-01 06:51:23",
                  "82.64",
                  "Shopping Basket"
                ],
                [
                  "347",
                  "299695",
                  "2017-01-01 13:27:15",
                  "90.99",
                  "Shopping Basket"
                ],
                [
                  "499",
                  "299860",
                  "2017-01-01 18:47:24",
                  "457.89",
                  "Completed"
                ],
                [
                  "520",
                  "299881",
                  "2017-01-01 19:36:01",
                  "56.38",
                  "Completed"
                ],
                [
                  "540",
                  "299902",
                  "2017-01-01 19:38:49",
                  "33.73",
                  "Completed"
                ],
                [
                  "563",
                  "299925",
                  "2017-01-01 20:03:56",
                  "122.97",
                  "Shopping Basket"
                ],
                [
                  "705",
                  "300079",
                  "2017-01-01 22:54:33",
                  "448.99",
                  "Shopping Basket"
                ],
                [
                  "785",
                  "300166",
                  "2017-01-02 00:36:58",
                  "29.98",
                  "Shopping Basket"
                ],
                [
                  "809",
                  "300191",
                  "2017-01-02 01:11:25",
                  "121.98",
                  "Shopping Basket"
                ],
                [
                  "820",
                  "300202",
                  "2017-01-02 01:31:40",
                  "10.99",
                  "Shopping Basket"
                ],
                [
                  "875",
                  "300259",
                  "2017-01-02 08:22:31",
                  "59.99",
                  "Shopping Basket"
                ],
                [
                  "899",
                  "300283",
                  "2017-01-02 09:25:21",
                  "236.95",
                  "Completed"
                ],
                [
                  "927",
                  "300311",
                  "2017-01-06 08:48:32",
                  "91.97",
                  "Completed"
                ],
                [
                  "972",
                  "300357",
                  "2017-01-02 10:51:26",
                  "96.99",
                  "Shopping Basket"
                ],
                [
                  "1005",
                  "300393",
                  "2017-01-02 11:25:00",
                  "23.99",
                  "Pending"
                ],
                [
                  "1170",
                  "300564",
                  "2017-01-02 13:50:49",
                  "519.99",
                  "Shopping Basket"
                ],
                [
                  "1226",
                  "300621",
                  "2017-01-02 15:05:13",
                  "24.99",
                  "Pending"
                ],
                [
                  "1236",
                  "300631",
                  "2017-01-02 15:11:57",
                  "429.0",
                  "Shopping Basket"
                ],
                [
                  "1272",
                  "300668",
                  "2017-01-02 15:53:43",
                  "8.9",
                  "Shopping Basket"
                ],
                [
                  "1283",
                  "300679",
                  "2017-01-02 16:05:33",
                  "178.98",
                  "Shopping Basket"
                ],
                [
                  "1314",
                  "300710",
                  "2017-01-02 16:33:12",
                  "115.99",
                  "Shopping Basket"
                ],
                [
                  "1440",
                  "300843",
                  "2017-01-02 18:45:40",
                  "9.99",
                  "Shopping Basket"
                ],
                [
                  "1488",
                  "300894",
                  "2017-01-02 19:31:36",
                  "45.98",
                  "Pending"
                ],
                [
                  "1626",
                  "301035",
                  "2017-01-02 21:43:05",
                  "105.98",
                  "Shopping Basket"
                ],
                [
                  "1634",
                  "301043",
                  "2017-01-02 21:49:10",
                  "86.99",
                  "Completed"
                ],
                [
                  "1690",
                  "301102",
                  "2017-01-02 22:50:11",
                  "136.87",
                  "Completed"
                ],
                [
                  "1696",
                  "301109",
                  "2017-01-02 22:49:44",
                  "42.97",
                  "Shopping Basket"
                ],
                [
                  "1727",
                  "301142",
                  "2017-01-02 23:19:35",
                  "19.99",
                  "Shopping Basket"
                ],
                [
                  "1741",
                  "301156",
                  "2017-01-02 23:35:23",
                  "19.99",
                  "Shopping Basket"
                ],
                [
                  "1803",
                  "301221",
                  "2017-01-03 00:30:20",
                  "25.98",
                  "Shopping Basket"
                ],
                [
                  "1857",
                  "301279",
                  "2017-01-03 06:09:45",
                  "629.99",
                  "Place Order"
                ],
                [
                  "1868",
                  "301290",
                  "2017-01-03 07:59:29",
                  "19.99",
                  "Shopping Basket"
                ],
                [
                  "1884",
                  "301307",
                  "2017-01-03 08:56:49",
                  "11.98",
                  "Completed"
                ],
                [
                  "1966",
                  "301395",
                  "2017-01-03 11:26:58",
                  "198.97",
                  "Completed"
                ],
                [
                  "1981",
                  "301410",
                  "2017-01-03 11:03:44",
                  "25.98",
                  "Place Order"
                ],
                [
                  "2050",
                  "301480",
                  "2017-01-03 12:05:38",
                  "124.99",
                  "Completed"
                ],
                [
                  "2093",
                  "301528",
                  "2017-01-03 12:42:37",
                  "96.99",
                  "Completed"
                ],
                [
                  "2160",
                  "301598",
                  "2017-01-03 13:38:11",
                  "47.98",
                  "Cancelled"
                ],
                [
                  "2232",
                  "301673",
                  "2017-01-03 14:33:43",
                  "508.98",
                  "Shopping Basket"
                ],
                [
                  "2249",
                  "301692",
                  "2017-01-03 14:57:15",
                  "629.99",
                  "Shopping Basket"
                ],
                [
                  "2263",
                  "301708",
                  "2017-01-03 15:09:06",
                  "42.99",
                  "Shopping Basket"
                ],
                [
                  "2387",
                  "301836",
                  "2017-01-03 17:25:40",
                  "10.99",
                  "Shopping Basket"
                ],
                [
                  "2421",
                  "301872",
                  "2017-01-03 18:13:03",
                  "232.99",
                  "Shopping Basket"
                ],
                [
                  "2447",
                  "301898",
                  "2017-01-03 18:59:30",
                  "59.99",
                  "Pending"
                ],
                [
                  "2463",
                  "301919",
                  "2017-01-03 19:17:36",
                  "220.98",
                  "Completed"
                ],
                [
                  "2482",
                  "301938",
                  "2017-01-03 19:30:22",
                  "297.94",
                  "Shopping Basket"
                ]
              ],
              "shape": {
                "columns": 4,
                "rows": 7123
              }
            },
            "text/html": [
              "<div>\n",
              "<style scoped>\n",
              "    .dataframe tbody tr th:only-of-type {\n",
              "        vertical-align: middle;\n",
              "    }\n",
              "\n",
              "    .dataframe tbody tr th {\n",
              "        vertical-align: top;\n",
              "    }\n",
              "\n",
              "    .dataframe thead th {\n",
              "        text-align: right;\n",
              "    }\n",
              "</style>\n",
              "<table border=\"1\" class=\"dataframe\">\n",
              "  <thead>\n",
              "    <tr style=\"text-align: right;\">\n",
              "      <th></th>\n",
              "      <th>order_id</th>\n",
              "      <th>created_date</th>\n",
              "      <th>total_paid</th>\n",
              "      <th>state</th>\n",
              "    </tr>\n",
              "  </thead>\n",
              "  <tbody>\n",
              "    <tr>\n",
              "      <th>9</th>\n",
              "      <td>246018</td>\n",
              "      <td>2017-02-13 23:02:57</td>\n",
              "      <td>211.95</td>\n",
              "      <td>Completed</td>\n",
              "    </tr>\n",
              "    <tr>\n",
              "      <th>15</th>\n",
              "      <td>251688</td>\n",
              "      <td>2017-11-24 23:57:07</td>\n",
              "      <td>505.76</td>\n",
              "      <td>Completed</td>\n",
              "    </tr>\n",
              "    <tr>\n",
              "      <th>54</th>\n",
              "      <td>265954</td>\n",
              "      <td>2017-10-02 15:18:15</td>\n",
              "      <td>127.02</td>\n",
              "      <td>Completed</td>\n",
              "    </tr>\n",
              "    <tr>\n",
              "      <th>84</th>\n",
              "      <td>278926</td>\n",
              "      <td>2017-11-23 11:06:39</td>\n",
              "      <td>795.85</td>\n",
              "      <td>Completed</td>\n",
              "    </tr>\n",
              "    <tr>\n",
              "      <th>235</th>\n",
              "      <td>299576</td>\n",
              "      <td>2017-01-01 06:51:23</td>\n",
              "      <td>82.64</td>\n",
              "      <td>Shopping Basket</td>\n",
              "    </tr>\n",
              "    <tr>\n",
              "      <th>...</th>\n",
              "      <td>...</td>\n",
              "      <td>...</td>\n",
              "      <td>...</td>\n",
              "      <td>...</td>\n",
              "    </tr>\n",
              "    <tr>\n",
              "      <th>226698</th>\n",
              "      <td>527191</td>\n",
              "      <td>2018-03-14 12:19:19</td>\n",
              "      <td>368.50</td>\n",
              "      <td>Shopping Basket</td>\n",
              "    </tr>\n",
              "    <tr>\n",
              "      <th>226793</th>\n",
              "      <td>527286</td>\n",
              "      <td>2018-03-14 12:55:14</td>\n",
              "      <td>1165.99</td>\n",
              "      <td>Place Order</td>\n",
              "    </tr>\n",
              "    <tr>\n",
              "      <th>226849</th>\n",
              "      <td>527342</td>\n",
              "      <td>2018-03-14 13:24:51</td>\n",
              "      <td>1335.99</td>\n",
              "      <td>Place Order</td>\n",
              "    </tr>\n",
              "    <tr>\n",
              "      <th>226871</th>\n",
              "      <td>527364</td>\n",
              "      <td>2018-03-14 13:36:13</td>\n",
              "      <td>1329.00</td>\n",
              "      <td>Shopping Basket</td>\n",
              "    </tr>\n",
              "    <tr>\n",
              "      <th>226874</th>\n",
              "      <td>527367</td>\n",
              "      <td>2018-03-14 13:39:34</td>\n",
              "      <td>129.89</td>\n",
              "      <td>Place Order</td>\n",
              "    </tr>\n",
              "  </tbody>\n",
              "</table>\n",
              "<p>7123 rows × 4 columns</p>\n",
              "</div>"
            ],
            "text/plain": [
              "        order_id        created_date  total_paid            state\n",
              "9         246018 2017-02-13 23:02:57      211.95        Completed\n",
              "15        251688 2017-11-24 23:57:07      505.76        Completed\n",
              "54        265954 2017-10-02 15:18:15      127.02        Completed\n",
              "84        278926 2017-11-23 11:06:39      795.85        Completed\n",
              "235       299576 2017-01-01 06:51:23       82.64  Shopping Basket\n",
              "...          ...                 ...         ...              ...\n",
              "226698    527191 2018-03-14 12:19:19      368.50  Shopping Basket\n",
              "226793    527286 2018-03-14 12:55:14     1165.99      Place Order\n",
              "226849    527342 2018-03-14 13:24:51     1335.99      Place Order\n",
              "226871    527364 2018-03-14 13:36:13     1329.00  Shopping Basket\n",
              "226874    527367 2018-03-14 13:39:34      129.89      Place Order\n",
              "\n",
              "[7123 rows x 4 columns]"
            ]
          },
          "execution_count": 84,
          "metadata": {},
          "output_type": "execute_result"
        }
      ],
      "source": [
        "orders_df.loc[mask,:]"
      ]
    },
    {
      "cell_type": "markdown",
      "metadata": {},
      "source": [
        "7123 orders need to be removed from orders_df."
      ]
    },
    {
      "cell_type": "code",
      "execution_count": 85,
      "metadata": {},
      "outputs": [
        {
          "data": {
            "application/vnd.microsoft.datawrangler.viewer.v0+json": {
              "columns": [
                {
                  "name": "index",
                  "rawType": "int64",
                  "type": "integer"
                },
                {
                  "name": "order_id",
                  "rawType": "int64",
                  "type": "integer"
                },
                {
                  "name": "created_date",
                  "rawType": "datetime64[ns]",
                  "type": "datetime"
                },
                {
                  "name": "total_paid",
                  "rawType": "float64",
                  "type": "float"
                },
                {
                  "name": "state",
                  "rawType": "object",
                  "type": "string"
                }
              ],
              "ref": "63c50d92-d155-4bf7-b14a-a3090b28300c",
              "rows": [
                [
                  "0",
                  "241319",
                  "2017-01-02 13:35:40",
                  "44.99",
                  "Cancelled"
                ],
                [
                  "1",
                  "241423",
                  "2017-11-06 13:10:02",
                  "136.15",
                  "Completed"
                ],
                [
                  "2",
                  "242832",
                  "2017-12-31 17:40:03",
                  "15.76",
                  "Completed"
                ],
                [
                  "3",
                  "243330",
                  "2017-02-16 10:59:38",
                  "84.98",
                  "Completed"
                ],
                [
                  "4",
                  "243784",
                  "2017-11-24 13:35:19",
                  "157.86",
                  "Cancelled"
                ],
                [
                  "5",
                  "245275",
                  "2017-06-28 11:35:37",
                  "149.0",
                  "Completed"
                ],
                [
                  "6",
                  "245595",
                  "2017-01-21 12:52:47",
                  "112.97",
                  "Completed"
                ],
                [
                  "7",
                  "245851",
                  "2017-04-04 20:58:21",
                  "79.99",
                  "Pending"
                ],
                [
                  "8",
                  "245941",
                  "2017-01-01 10:32:23",
                  "183.52",
                  "Completed"
                ],
                [
                  "9",
                  "246405",
                  "2017-11-24 10:01:27",
                  "407.96",
                  "Completed"
                ],
                [
                  "10",
                  "247524",
                  "2018-01-09 14:21:34",
                  "167.98",
                  "Completed"
                ],
                [
                  "11",
                  "247643",
                  "2017-05-26 11:50:35",
                  "153.54",
                  "Completed"
                ],
                [
                  "12",
                  "250275",
                  "2017-11-19 22:34:54",
                  "54.99",
                  "Completed"
                ],
                [
                  "13",
                  "251302",
                  "2017-05-10 12:27:33",
                  "140.99",
                  "Completed"
                ],
                [
                  "14",
                  "251969",
                  "2017-11-21 21:04:12",
                  "610.07",
                  "Completed"
                ],
                [
                  "15",
                  "252371",
                  "2017-02-09 12:31:57",
                  "27.98",
                  "Pending"
                ],
                [
                  "16",
                  "253220",
                  "2017-10-04 19:37:10",
                  "1610.0",
                  "Completed"
                ],
                [
                  "17",
                  "253306",
                  "2017-10-04 14:14:45",
                  "497.68",
                  "Completed"
                ],
                [
                  "18",
                  "253307",
                  "2017-09-30 06:11:10",
                  "292.04",
                  "Completed"
                ],
                [
                  "19",
                  "254301",
                  "2017-01-08 13:10:53",
                  "35.91",
                  "Completed"
                ],
                [
                  "20",
                  "254341",
                  "2017-07-31 10:25:35",
                  "34.98",
                  "Completed"
                ],
                [
                  "21",
                  "254441",
                  "2017-05-09 14:00:45",
                  "56.98",
                  "Completed"
                ],
                [
                  "22",
                  "254537",
                  "2017-05-23 19:58:30",
                  "102.97",
                  "Pending"
                ],
                [
                  "23",
                  "254816",
                  "2017-01-12 15:57:20",
                  "283.83",
                  "Completed"
                ],
                [
                  "24",
                  "256158",
                  "2017-08-05 19:51:20",
                  "386.18",
                  "Completed"
                ],
                [
                  "25",
                  "256434",
                  "2018-02-26 07:32:21",
                  "39.99",
                  "Pending"
                ],
                [
                  "26",
                  "256679",
                  "2017-11-26 10:43:04",
                  "20.58",
                  "Completed"
                ],
                [
                  "27",
                  "256799",
                  "2018-02-16 09:44:42",
                  "20.97",
                  "Completed"
                ],
                [
                  "28",
                  "257280",
                  "2017-12-20 14:49:52",
                  "260.0",
                  "Completed"
                ],
                [
                  "29",
                  "257847",
                  "2017-11-23 23:46:54",
                  "1367.11",
                  "Completed"
                ],
                [
                  "30",
                  "258087",
                  "2017-02-28 19:15:24",
                  "84.73",
                  "Pending"
                ],
                [
                  "31",
                  "258155",
                  "2018-01-22 18:51:50",
                  "40.76",
                  "Completed"
                ],
                [
                  "32",
                  "258530",
                  "2017-08-30 10:54:18",
                  "7.78",
                  "Completed"
                ],
                [
                  "33",
                  "258985",
                  "2017-07-31 12:52:38",
                  "2264.6",
                  "Completed"
                ],
                [
                  "34",
                  "259192",
                  "2017-11-09 11:15:51",
                  "195.74",
                  "Completed"
                ],
                [
                  "35",
                  "259283",
                  "2017-12-22 09:19:28",
                  "24.98",
                  "Completed"
                ],
                [
                  "36",
                  "259359",
                  "2017-04-27 17:59:43",
                  "159.99",
                  "Pending"
                ],
                [
                  "37",
                  "259638",
                  "2017-03-02 20:12:59",
                  "387.6",
                  "Pending"
                ],
                [
                  "38",
                  "259668",
                  "2017-10-06 22:06:58",
                  "1132.33",
                  "Completed"
                ],
                [
                  "39",
                  "259672",
                  "2017-02-22 19:09:49",
                  "322.99",
                  "Pending"
                ],
                [
                  "40",
                  "260615",
                  "2017-01-10 18:59:49",
                  "225.16",
                  "Completed"
                ],
                [
                  "41",
                  "261289",
                  "2017-06-21 08:21:20",
                  "192.98",
                  "Completed"
                ],
                [
                  "42",
                  "261656",
                  "2017-08-24 19:28:24",
                  "44.98",
                  "Completed"
                ],
                [
                  "43",
                  "261978",
                  "2017-01-10 00:19:44",
                  "109.98",
                  "Completed"
                ],
                [
                  "44",
                  "262016",
                  "2017-08-18 01:05:38",
                  "3109.57",
                  "Completed"
                ],
                [
                  "45",
                  "262236",
                  "2017-06-05 10:02:29",
                  "122.97",
                  "Completed"
                ],
                [
                  "46",
                  "263733",
                  "2017-02-06 13:06:34",
                  "372.98",
                  "Completed"
                ],
                [
                  "47",
                  "263738",
                  "2017-08-16 17:05:25",
                  "80.96",
                  "Completed"
                ],
                [
                  "48",
                  "263996",
                  "2017-02-20 09:44:55",
                  "156.98",
                  "Completed"
                ],
                [
                  "49",
                  "264244",
                  "2018-01-29 15:33:06",
                  "141.97",
                  "Completed"
                ]
              ],
              "shape": {
                "columns": 4,
                "rows": 219781
              }
            },
            "text/html": [
              "<div>\n",
              "<style scoped>\n",
              "    .dataframe tbody tr th:only-of-type {\n",
              "        vertical-align: middle;\n",
              "    }\n",
              "\n",
              "    .dataframe tbody tr th {\n",
              "        vertical-align: top;\n",
              "    }\n",
              "\n",
              "    .dataframe thead th {\n",
              "        text-align: right;\n",
              "    }\n",
              "</style>\n",
              "<table border=\"1\" class=\"dataframe\">\n",
              "  <thead>\n",
              "    <tr style=\"text-align: right;\">\n",
              "      <th></th>\n",
              "      <th>order_id</th>\n",
              "      <th>created_date</th>\n",
              "      <th>total_paid</th>\n",
              "      <th>state</th>\n",
              "    </tr>\n",
              "  </thead>\n",
              "  <tbody>\n",
              "    <tr>\n",
              "      <th>0</th>\n",
              "      <td>241319</td>\n",
              "      <td>2017-01-02 13:35:40</td>\n",
              "      <td>44.99</td>\n",
              "      <td>Cancelled</td>\n",
              "    </tr>\n",
              "    <tr>\n",
              "      <th>1</th>\n",
              "      <td>241423</td>\n",
              "      <td>2017-11-06 13:10:02</td>\n",
              "      <td>136.15</td>\n",
              "      <td>Completed</td>\n",
              "    </tr>\n",
              "    <tr>\n",
              "      <th>2</th>\n",
              "      <td>242832</td>\n",
              "      <td>2017-12-31 17:40:03</td>\n",
              "      <td>15.76</td>\n",
              "      <td>Completed</td>\n",
              "    </tr>\n",
              "    <tr>\n",
              "      <th>3</th>\n",
              "      <td>243330</td>\n",
              "      <td>2017-02-16 10:59:38</td>\n",
              "      <td>84.98</td>\n",
              "      <td>Completed</td>\n",
              "    </tr>\n",
              "    <tr>\n",
              "      <th>4</th>\n",
              "      <td>243784</td>\n",
              "      <td>2017-11-24 13:35:19</td>\n",
              "      <td>157.86</td>\n",
              "      <td>Cancelled</td>\n",
              "    </tr>\n",
              "    <tr>\n",
              "      <th>...</th>\n",
              "      <td>...</td>\n",
              "      <td>...</td>\n",
              "      <td>...</td>\n",
              "      <td>...</td>\n",
              "    </tr>\n",
              "    <tr>\n",
              "      <th>219776</th>\n",
              "      <td>527397</td>\n",
              "      <td>2018-03-14 13:56:38</td>\n",
              "      <td>42.99</td>\n",
              "      <td>Place Order</td>\n",
              "    </tr>\n",
              "    <tr>\n",
              "      <th>219777</th>\n",
              "      <td>527398</td>\n",
              "      <td>2018-03-14 13:57:25</td>\n",
              "      <td>42.99</td>\n",
              "      <td>Shopping Basket</td>\n",
              "    </tr>\n",
              "    <tr>\n",
              "      <th>219778</th>\n",
              "      <td>527399</td>\n",
              "      <td>2018-03-14 13:57:34</td>\n",
              "      <td>141.58</td>\n",
              "      <td>Shopping Basket</td>\n",
              "    </tr>\n",
              "    <tr>\n",
              "      <th>219779</th>\n",
              "      <td>527400</td>\n",
              "      <td>2018-03-14 13:57:41</td>\n",
              "      <td>19.98</td>\n",
              "      <td>Shopping Basket</td>\n",
              "    </tr>\n",
              "    <tr>\n",
              "      <th>219780</th>\n",
              "      <td>527401</td>\n",
              "      <td>2018-03-14 13:58:36</td>\n",
              "      <td>18.98</td>\n",
              "      <td>Place Order</td>\n",
              "    </tr>\n",
              "  </tbody>\n",
              "</table>\n",
              "<p>219781 rows × 4 columns</p>\n",
              "</div>"
            ],
            "text/plain": [
              "        order_id        created_date  total_paid            state\n",
              "0         241319 2017-01-02 13:35:40       44.99        Cancelled\n",
              "1         241423 2017-11-06 13:10:02      136.15        Completed\n",
              "2         242832 2017-12-31 17:40:03       15.76        Completed\n",
              "3         243330 2017-02-16 10:59:38       84.98        Completed\n",
              "4         243784 2017-11-24 13:35:19      157.86        Cancelled\n",
              "...          ...                 ...         ...              ...\n",
              "219776    527397 2018-03-14 13:56:38       42.99      Place Order\n",
              "219777    527398 2018-03-14 13:57:25       42.99  Shopping Basket\n",
              "219778    527399 2018-03-14 13:57:34      141.58  Shopping Basket\n",
              "219779    527400 2018-03-14 13:57:41       19.98  Shopping Basket\n",
              "219780    527401 2018-03-14 13:58:36       18.98      Place Order\n",
              "\n",
              "[219781 rows x 4 columns]"
            ]
          },
          "execution_count": 85,
          "metadata": {},
          "output_type": "execute_result"
        }
      ],
      "source": [
        "orders_df = orders_df[~mask].reset_index(drop=True)\n",
        "orders_df"
      ]
    },
    {
      "cell_type": "markdown",
      "metadata": {},
      "source": [
        "About 3% of the orders were dropped from orders_df."
      ]
    },
    {
      "cell_type": "markdown",
      "metadata": {},
      "source": [
        "# Exporting Cleaned CSV Files"
      ]
    },
    {
      "cell_type": "code",
      "execution_count": null,
      "metadata": {},
      "outputs": [],
      "source": [
        "orders_df.to_csv(\"3_Data_Cleaning/data/orders_df_cleaned.csv\", index=False)\n",
        "orderlines_df.to_csv(\"3_Data_Cleaning/data/orderlines_df_cleaned.csv\", index=False)\n",
        "products_df.to_csv(\"3_Data_Cleaning/data/products_df_cleaned.csv\", index=False)\n"
      ]
    },
    {
      "cell_type": "code",
      "execution_count": 86,
      "metadata": {},
      "outputs": [],
      "source": [
        "dropped_ids_df.to_csv(\"3_Data_Cleaning/data/dropped_ids_df.csv\", index=False)"
      ]
    },
    {
      "cell_type": "code",
      "execution_count": null,
      "metadata": {},
      "outputs": [],
      "source": [
        "from google.colab import files\n",
        "\n",
        "#orders_df.to_csv(\"orders_df_cleaned.csv\", index=False)\n",
        "#files.download(\"orders_df_cleaned.csv\")\n",
        "\n",
        "#orderlines_df.to_csv(\"orderlines_df_cleaned.csv\", index=False)\n",
        "#files.download(\"orderlines_df_cleaned.csv\")\n",
        "\n",
        "#products_df.to_csv(\"products_df_cleaned.csv\", index=False)\n",
        "#files.download(\"products_df_cleaned.csv\")"
      ]
    }
  ],
  "metadata": {
    "colab": {
      "provenance": []
    },
    "kernelspec": {
      "display_name": "wbs-bootcamp-py3.12 (3.12.1)",
      "language": "python",
      "name": "python3"
    },
    "language_info": {
      "codemirror_mode": {
        "name": "ipython",
        "version": 3
      },
      "file_extension": ".py",
      "mimetype": "text/x-python",
      "name": "python",
      "nbconvert_exporter": "python",
      "pygments_lexer": "ipython3",
      "version": "3.12.1"
    }
  },
  "nbformat": 4,
  "nbformat_minor": 0
}
